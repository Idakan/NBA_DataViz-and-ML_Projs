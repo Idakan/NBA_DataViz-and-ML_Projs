{
 "cells": [
  {
   "cell_type": "markdown",
   "metadata": {},
   "source": [
    "## Imports"
   ]
  },
  {
   "cell_type": "code",
   "execution_count": 1,
   "metadata": {
    "executionInfo": {
     "elapsed": 1125,
     "status": "ok",
     "timestamp": 1691098053160,
     "user": {
      "displayName": "Yash -Nakadi",
      "userId": "07877057732487521410"
     },
     "user_tz": 240
    },
    "id": "PhCQLMcZznr0"
   },
   "outputs": [],
   "source": [
    "# Data manipulation\n",
    "import pandas as pd\n",
    "import numpy as np\n",
    "\n",
    "# Web requests and parsing\n",
    "import requests\n",
    "from urllib.request import urlopen\n",
    "from bs4 import BeautifulSoup\n",
    "\n",
    "# Image processing\n",
    "from PIL import Image\n",
    "from skimage import io\n",
    "\n",
    "# Regular expressions and collections\n",
    "import re\n",
    "from collections import Counter, defaultdict\n",
    "\n",
    "# NBA API\n",
    "import nba_api\n",
    "from nba_api.stats.static import teams, players\n",
    "from nba_api.stats.library.parameters import SeasonAll, Season, SeasonType\n",
    "from nba_api.stats.endpoints import (\n",
    "    playergamelog, \n",
    "    teamgamelog, \n",
    "    teamdashlineups, \n",
    "    leaguelineupviz, \n",
    "    leaguegamefinder, \n",
    "    commonplayerinfo, \n",
    "    shotchartdetail, \n",
    "    boxscoreadvancedv3, \n",
    "    playbyplay, \n",
    "    drafthistory\n",
    ")\n",
    "from nba_api.stats.endpoints.synergyplaytypes import LeagueID\n",
    "from nba_api.stats.endpoints.shotchartlineupdetail import ConferenceNullable\n",
    "\n",
    "# Visualization\n",
    "import matplotlib.pyplot as plt\n",
    "from matplotlib.offsetbox import OffsetImage, AnnotationBbox\n",
    "import seaborn as sns\n",
    "import plotly.express as px\n",
    "import plotly.graph_objects as go\n",
    "from plotly.subplots import make_subplots\n",
    "\n",
    "# Machine Learning\n",
    "from sklearn.linear_model import LogisticRegression, LinearRegression\n",
    "from sklearn.metrics import accuracy_score, recall_score, precision_score, classification_report\n",
    "from sklearn.ensemble import RandomForestClassifier\n",
    "from sklearn.model_selection import train_test_split, KFold, RandomizedSearchCV, cross_val_score\n",
    "from sklearn.preprocessing import StandardScaler\n",
    "from sklearn.decomposition import PCA\n",
    "import xgboost as xgb\n",
    "\n",
    "# Pretty printing\n",
    "import pprint\n",
    "pp = pprint.PrettyPrinter(indent=4)\n"
   ]
  },
  {
   "cell_type": "markdown",
   "metadata": {},
   "source": [
    "## Create dictionaries and helper functions"
   ]
  },
  {
   "cell_type": "code",
   "execution_count": 2,
   "metadata": {
    "colab": {
     "base_uri": "https://localhost:8080/",
     "height": 1000
    },
    "executionInfo": {
     "elapsed": 307,
     "status": "ok",
     "timestamp": 1691098068532,
     "user": {
      "displayName": "Yash -Nakadi",
      "userId": "07877057732487521410"
     },
     "user_tz": 240
    },
    "id": "U6NvjFoX0SrP",
    "outputId": "ea62e20a-bde8-454c-d325-21e5eb461931"
   },
   "outputs": [],
   "source": [
    "# Select the dictionary for the Pacers, which contains their team ID\n",
    "player_dict = players.get_players()\n",
    "nba_teams = teams.get_teams()\n",
    "player_info = pd.DataFrame.from_dict(player_dict)\n",
    "team_info = pd.DataFrame.from_dict(nba_teams)\n",
    "player_dict = player_info[['id','full_name']].set_index('full_name').to_dict()['id']\n",
    "team_dict = team_info[['id','abbreviation']].set_index('abbreviation').to_dict()['id']\n",
    "full_name_dict = team_info.set_index('abbreviation').to_dict()['full_name']\n",
    "full_name_dict['NOH'] = 'New Orleans Pelicans'"
   ]
  },
  {
   "cell_type": "markdown",
   "metadata": {},
   "source": [
    "## Lineup Ideas: Find best lineups, determine best lineups for individual players"
   ]
  },
  {
   "cell_type": "markdown",
   "metadata": {},
   "source": [
    "### Create & Save Lineup DataFrame + Helper Function"
   ]
  },
  {
   "cell_type": "code",
   "execution_count": 11,
   "metadata": {},
   "outputs": [],
   "source": [
    "def reorder_lineup(x):\n",
    "    return '-'.join(sorted([a for a in x.split('-') if a.strip()]))\n",
    "\n",
    "url = \"https://api.pbpstats.com/get-lineup-player-stats/nba\"\n",
    "lineup_size = 5\n"
   ]
  },
  {
   "cell_type": "code",
   "execution_count": null,
   "metadata": {},
   "outputs": [],
   "source": [
    "seasons = ['2012-13','2013-14','2014-15','2015-16','2016-17','2017-18','2018-19','2021-22','2022-23','2023-24']\n",
    "season_type = 'Regular Season'\n",
    "all_lineups_list = []\n",
    "team = 'GSW'\n",
    "team_id = team_dict[team]\n",
    "minimum_mins_played = 1000\n",
    "season = '2022-23'\n",
    "\n",
    "\n",
    "for season in seasons:\n",
    "   print(season)\n",
    "   warriors_lineup_df = teamdashlineups.TeamDashLineups(team_id=team_id,group_quantity=lineup_size,season=season,\n",
    "                                                        season_type_all_star=season_type)\\\n",
    "            .get_data_frames()[1][['GROUP_SET', 'GROUP_ID', 'GROUP_NAME', 'MIN',\n",
    "         'FGM', 'FGA', 'FTM', 'FTA', 'OREB', 'DREB', 'AST', 'TOV', 'STL', 'BLK']]\n",
    "   lineups = list(set(warriors_lineup_df['GROUP_ID']))\n",
    "   print(lineups)\n",
    "   for lineup in lineups:\n",
    "      params = {\n",
    "         \"LineupId\": reorder_lineup(lineup), # lineup ids are hyphen separated player ids sorted as strings\n",
    "         \"Season\": season,\n",
    "         \"SeasonType\": season_type,\n",
    "         \"Minutes\":minimum_mins_played\n",
    "      }\n",
    "      response = requests.get(url, params=params)\n",
    "      print(params)\n",
    "      print(response)\n",
    "      \n",
    "      response_json = response.json()\n",
    "      lineup_stats = response_json['single_row_table_data']\n",
    "      if 'FG3M' not in lineup_stats.keys():\n",
    "         lineup_stats['FG3M'] = 0\n",
    "      if 'FG2M' not in lineup_stats.keys():\n",
    "         lineup_stats['FG2M'] = 0\n",
    "      if 'FG3A' not in lineup_stats.keys():\n",
    "         lineup_stats['FG3A'] = 0\n",
    "         lineup_stats['FG3M'] = 0\n",
    "      if 'FG2A' not in lineup_stats.keys():\n",
    "         lineup_stats['FG2M'] = 0\n",
    "         lineup_stats['FG2A'] = 0\n",
    "      if 'FTA' not in lineup_stats.keys():\n",
    "         lineup_stats['FTA'] = 0\n",
    "         lineup_stats['FTM'] = 0\n",
    "      if 'FTM' not in lineup_stats.keys():\n",
    "         lineup_stats['FTM'] = 0\n",
    "      if 'OpponentPoints' not in lineup_stats.keys():\n",
    "         lineup_stats['OpponentPoints'] = 0\n",
    "      if 'Points' not in lineup_stats.keys():\n",
    "         lineup_stats['Points'] = 0\n",
    "         lineup_stats['TsPct'] = 0.0\n",
    "      if 'TsPct' not in lineup_stats.keys():\n",
    "         lineup_stats['TsPct'] = 0.0\n",
    "      if 'ShortName' not in lineup_stats.keys():\n",
    "          continue\n",
    "      elif 'Minutes' not in lineup_stats.keys():\n",
    "          continue\n",
    "      elif 'DefPoss' not in lineup_stats.keys():\n",
    "          continue\n",
    "      elif 'OffPoss' not in lineup_stats.keys():\n",
    "          continue\n",
    "      elif 'Minutes' in lineup_stats.keys() and lineup_stats['Minutes'] < minimum_mins_played:\n",
    "          continue\n",
    "      else:\n",
    "         lineup_df = pd.DataFrame([lineup_stats])[[\"Name\", 'OffPoss', 'DefPoss', \"Minutes\", 'Points', 'OpponentPoints', 'FG2M', 'FG2A', 'FG3M', 'FG3A', 'TsPct','FTA']]\n",
    "         lineup_df = lineup_df.rename(columns={'Name':'Lineup','Points':'Team Points','FG2M': 'Team FG2M', 'FG2A':'Team FG2A', 'FG3M':'Team FG3M', 'FG3A':'Team FG3A', 'TsPct':'Team TsPct','FTA':'Team FTA'})\n",
    "         lineup_df['Season'] = season\n",
    "         lineup_df['Team'] = team\n",
    "         player_stats = response_json['multi_row_table_data']\n",
    "         for player_stat in player_stats:\n",
    "            if not set(['Points','TsPct']).issubset(player_stat.keys()):\n",
    "                  player_stat['Points'] = 0\n",
    "                  player_stat['TsPct'] = 0.0\n",
    "            if 'FG3A' not in player_stat.keys():\n",
    "               player_stat['FG3A'] = 0\n",
    "               player_stat['FG3M'] = 0\n",
    "            if 'FG2A' not in player_stat.keys():\n",
    "               player_stat['FG2M'] = 0\n",
    "               player_stat['FG2A'] = 0\n",
    "            if 'FTA' not in player_stat.keys():\n",
    "               player_stat['FTA'] = 0\n",
    "            if 'OpponentPoints' not in player_stat.keys():\n",
    "                  player_stat['OpponentPoints'] = 0\n",
    "            if 'Minutes' not in player_stat.keys():\n",
    "               player_stat['Minutes'] = 0\n",
    "            if 'OffPoss' not in player_stat.keys():\n",
    "                  player_stat['OffPoss'] = 0\n",
    "            if 'DefPoss' not in player_stat.keys():\n",
    "                  player_stat['DefPoss'] = 0\n",
    "            player_df = pd.DataFrame([player_stat])[['Name', 'EntityId', 'Minutes', 'OffPoss', 'DefPoss', 'Points', 'OpponentPoints', 'TsPct','FG2A','FG3A','FTA']]\n",
    "            all_lineups_list.append(player_df.merge(lineup_df,on=['Minutes','OffPoss','DefPoss','OpponentPoints']))"
   ]
  },
  {
   "cell_type": "code",
   "execution_count": 9,
   "metadata": {},
   "outputs": [],
   "source": [
    "all_lineups_df = pd.concat(all_lineups_list).reset_index(drop=True)\n",
    "all_lineups_df['PtsPer75'] = all_lineups_df['Points'] * 75 / all_lineups_df['OffPoss']\n",
    "all_lineups_df['FGA'] = all_lineups_df['FG2A'] + all_lineups_df['FG3A']\n",
    "all_lineups_df['Team FGA'] = all_lineups_df['Team FG2A'] + all_lineups_df['Team FG3A']\n",
    "all_lineups_df.to_csv(f'{team} Lineup Data ({season_type}).csv')"
   ]
  },
  {
   "cell_type": "markdown",
   "metadata": {},
   "source": [
    "### Initialize Players + Team"
   ]
  },
  {
   "cell_type": "code",
   "execution_count": 10,
   "metadata": {},
   "outputs": [],
   "source": [
    "team = 'UTA'\n",
    "key_player = 'Donovan Mitchell'\n",
    "star_player = 'Rudy Gobert'\n",
    "role_player = 'Michael Porter Jr.'\n",
    "all_lineups_df_reg_season = pd.read_csv(f'{team} Lineup Data (Regular Season).csv')\n",
    "all_lineups_df_reg_season['Season Type'] = 'Regular Season'\n",
    "all_lineups_df_playoffs = pd.read_csv(f'{team} Lineup Data (Playoffs).csv')\n",
    "all_lineups_df_playoffs['Season Type'] = 'Playoffs'\n",
    "\n"
   ]
  },
  {
   "cell_type": "markdown",
   "metadata": {},
   "source": [
    "### Track Player Production in Same Lineup across multiple years"
   ]
  },
  {
   "cell_type": "code",
   "execution_count": 9,
   "metadata": {},
   "outputs": [
    {
     "name": "stderr",
     "output_type": "stream",
     "text": [
      "C:\\Users\\ynakadi\\AppData\\Local\\Packages\\PythonSoftwareFoundation.Python.3.10_qbz5n2kfra8p0\\LocalCache\\local-packages\\Python310\\site-packages\\numpy\\core\\fromnumeric.py:84: FutureWarning: The behavior of DataFrame.sum with axis=None is deprecated, in a future version this will reduce over both axes and return a scalar. To retain the old behavior, pass axis=0 (or do not pass axis)\n",
      "  return reduction(axis=axis, out=out, **passkwargs)\n",
      "C:\\Users\\ynakadi\\AppData\\Local\\Packages\\PythonSoftwareFoundation.Python.3.10_qbz5n2kfra8p0\\LocalCache\\local-packages\\Python310\\site-packages\\numpy\\core\\fromnumeric.py:84: FutureWarning: The behavior of DataFrame.sum with axis=None is deprecated, in a future version this will reduce over both axes and return a scalar. To retain the old behavior, pass axis=0 (or do not pass axis)\n",
      "  return reduction(axis=axis, out=out, **passkwargs)\n"
     ]
    }
   ],
   "source": [
    "all_lineups_df_comb = all_lineups_df_reg_season[all_lineups_df_reg_season['Name']==key_player][['Lineup','OffPoss','Minutes','Points','FGA','FTA']].groupby('Lineup').sum().reset_index().sort_values(by='Minutes')\n",
    "all_lineups_df_comb[star_player] = all_lineups_df_comb['Lineup'].apply(lambda x: 1 if star_player in x else 0)\n",
    "all_lineups_df_comb[role_player] = all_lineups_df_comb['Lineup'].apply(lambda x: 1 if role_player in x else 0)\n",
    "no_stars_df = all_lineups_df_comb[(all_lineups_df_comb[star_player] == 0)&(all_lineups_df_comb[role_player] == 0)][['Lineup','OffPoss','Minutes','Points','FGA','FTA']]\n",
    "two_legends_df = all_lineups_df_comb[(all_lineups_df_comb[star_player] == 1)&(all_lineups_df_comb[role_player] == 0)][['Lineup','OffPoss','Minutes','Points','FGA','FTA']]\n",
    "two_shooters_df = all_lineups_df_comb[(all_lineups_df_comb[star_player] == 0)&(all_lineups_df_comb[role_player] == 1)][['Lineup','OffPoss','Minutes','Points','FGA','FTA']]\n",
    "everyone_df = all_lineups_df_comb[(all_lineups_df_comb[star_player] == 1)&(all_lineups_df_comb[role_player] == 1)][['Lineup','OffPoss','Minutes','Points','FGA','FTA']]\n",
    "ns_mins = np.sum(no_stars_df)['Minutes']\n",
    "jk_mins = np.sum(two_shooters_df)['Minutes']\n",
    "js_mins = np.sum(two_legends_df['Minutes'])\n",
    "e_mins = np.sum(everyone_df['Minutes'])"
   ]
  },
  {
   "cell_type": "code",
   "execution_count": 10,
   "metadata": {},
   "outputs": [
    {
     "name": "stdout",
     "output_type": "stream",
     "text": [
      "Points Per 75 without Michael Porter Jr. or Anthony Davis (3222 Minutes Played):\n",
      "30.95\n",
      "TS%:\n",
      "61.26\n",
      "\n",
      "\n",
      "Points Per 75 with just Michael Porter Jr. (0 Minutes Played):\n",
      "nan\n",
      "TS%:\n",
      "nan\n",
      "\n",
      "\n",
      "Points Per 75 with just Anthony Davis (4512 Minutes Played):\n",
      "24.54\n",
      "TS%:\n",
      "58.62\n",
      "\n",
      "\n",
      "Points Per 75 with everyone (0 Minutes Played):\n",
      "nan\n",
      "TS%:\n",
      "nan\n",
      "\n",
      "\n"
     ]
    },
    {
     "name": "stderr",
     "output_type": "stream",
     "text": [
      "C:\\Users\\ynakadi\\AppData\\Local\\Packages\\PythonSoftwareFoundation.Python.3.10_qbz5n2kfra8p0\\LocalCache\\local-packages\\Python310\\site-packages\\numpy\\core\\fromnumeric.py:84: FutureWarning: The behavior of DataFrame.sum with axis=None is deprecated, in a future version this will reduce over both axes and return a scalar. To retain the old behavior, pass axis=0 (or do not pass axis)\n",
      "  return reduction(axis=axis, out=out, **passkwargs)\n",
      "C:\\Users\\ynakadi\\AppData\\Local\\Packages\\PythonSoftwareFoundation.Python.3.10_qbz5n2kfra8p0\\LocalCache\\local-packages\\Python310\\site-packages\\numpy\\core\\fromnumeric.py:84: FutureWarning: The behavior of DataFrame.sum with axis=None is deprecated, in a future version this will reduce over both axes and return a scalar. To retain the old behavior, pass axis=0 (or do not pass axis)\n",
      "  return reduction(axis=axis, out=out, **passkwargs)\n",
      "C:\\Users\\ynakadi\\AppData\\Local\\Packages\\PythonSoftwareFoundation.Python.3.10_qbz5n2kfra8p0\\LocalCache\\local-packages\\Python310\\site-packages\\numpy\\core\\fromnumeric.py:84: FutureWarning: The behavior of DataFrame.sum with axis=None is deprecated, in a future version this will reduce over both axes and return a scalar. To retain the old behavior, pass axis=0 (or do not pass axis)\n",
      "  return reduction(axis=axis, out=out, **passkwargs)\n",
      "C:\\Users\\ynakadi\\AppData\\Local\\Packages\\PythonSoftwareFoundation.Python.3.10_qbz5n2kfra8p0\\LocalCache\\local-packages\\Python310\\site-packages\\numpy\\core\\fromnumeric.py:84: FutureWarning: The behavior of DataFrame.sum with axis=None is deprecated, in a future version this will reduce over both axes and return a scalar. To retain the old behavior, pass axis=0 (or do not pass axis)\n",
      "  return reduction(axis=axis, out=out, **passkwargs)\n",
      "C:\\Users\\ynakadi\\AppData\\Local\\Packages\\PythonSoftwareFoundation.Python.3.10_qbz5n2kfra8p0\\LocalCache\\local-packages\\Python310\\site-packages\\numpy\\core\\fromnumeric.py:84: FutureWarning: The behavior of DataFrame.sum with axis=None is deprecated, in a future version this will reduce over both axes and return a scalar. To retain the old behavior, pass axis=0 (or do not pass axis)\n",
      "  return reduction(axis=axis, out=out, **passkwargs)\n",
      "C:\\Users\\ynakadi\\AppData\\Local\\Packages\\PythonSoftwareFoundation.Python.3.10_qbz5n2kfra8p0\\LocalCache\\local-packages\\Python310\\site-packages\\numpy\\core\\fromnumeric.py:84: FutureWarning: The behavior of DataFrame.sum with axis=None is deprecated, in a future version this will reduce over both axes and return a scalar. To retain the old behavior, pass axis=0 (or do not pass axis)\n",
      "  return reduction(axis=axis, out=out, **passkwargs)\n",
      "C:\\Users\\ynakadi\\AppData\\Local\\Packages\\PythonSoftwareFoundation.Python.3.10_qbz5n2kfra8p0\\LocalCache\\local-packages\\Python310\\site-packages\\numpy\\core\\fromnumeric.py:84: FutureWarning: The behavior of DataFrame.sum with axis=None is deprecated, in a future version this will reduce over both axes and return a scalar. To retain the old behavior, pass axis=0 (or do not pass axis)\n",
      "  return reduction(axis=axis, out=out, **passkwargs)\n",
      "C:\\Users\\ynakadi\\AppData\\Local\\Temp\\ipykernel_22744\\4211491234.py:7: RuntimeWarning: invalid value encountered in scalar divide\n",
      "  print(round(np.sum(two_shooters_df)['Points'] * 75/ np.sum(two_shooters_df)['OffPoss'],2))\n",
      "C:\\Users\\ynakadi\\AppData\\Local\\Packages\\PythonSoftwareFoundation.Python.3.10_qbz5n2kfra8p0\\LocalCache\\local-packages\\Python310\\site-packages\\numpy\\core\\fromnumeric.py:84: FutureWarning: The behavior of DataFrame.sum with axis=None is deprecated, in a future version this will reduce over both axes and return a scalar. To retain the old behavior, pass axis=0 (or do not pass axis)\n",
      "  return reduction(axis=axis, out=out, **passkwargs)\n",
      "C:\\Users\\ynakadi\\AppData\\Local\\Packages\\PythonSoftwareFoundation.Python.3.10_qbz5n2kfra8p0\\LocalCache\\local-packages\\Python310\\site-packages\\numpy\\core\\fromnumeric.py:84: FutureWarning: The behavior of DataFrame.sum with axis=None is deprecated, in a future version this will reduce over both axes and return a scalar. To retain the old behavior, pass axis=0 (or do not pass axis)\n",
      "  return reduction(axis=axis, out=out, **passkwargs)\n",
      "C:\\Users\\ynakadi\\AppData\\Local\\Packages\\PythonSoftwareFoundation.Python.3.10_qbz5n2kfra8p0\\LocalCache\\local-packages\\Python310\\site-packages\\numpy\\core\\fromnumeric.py:84: FutureWarning: The behavior of DataFrame.sum with axis=None is deprecated, in a future version this will reduce over both axes and return a scalar. To retain the old behavior, pass axis=0 (or do not pass axis)\n",
      "  return reduction(axis=axis, out=out, **passkwargs)\n",
      "C:\\Users\\ynakadi\\AppData\\Local\\Temp\\ipykernel_22744\\4211491234.py:9: RuntimeWarning: invalid value encountered in scalar divide\n",
      "  print(round(np.sum(two_shooters_df)['Points'] * 100 / (2 * (np.sum(two_shooters_df)['FGA'] + 0.44 * np.sum(two_shooters_df)['FTA'])),2))\n",
      "C:\\Users\\ynakadi\\AppData\\Local\\Packages\\PythonSoftwareFoundation.Python.3.10_qbz5n2kfra8p0\\LocalCache\\local-packages\\Python310\\site-packages\\numpy\\core\\fromnumeric.py:84: FutureWarning: The behavior of DataFrame.sum with axis=None is deprecated, in a future version this will reduce over both axes and return a scalar. To retain the old behavior, pass axis=0 (or do not pass axis)\n",
      "  return reduction(axis=axis, out=out, **passkwargs)\n",
      "C:\\Users\\ynakadi\\AppData\\Local\\Packages\\PythonSoftwareFoundation.Python.3.10_qbz5n2kfra8p0\\LocalCache\\local-packages\\Python310\\site-packages\\numpy\\core\\fromnumeric.py:84: FutureWarning: The behavior of DataFrame.sum with axis=None is deprecated, in a future version this will reduce over both axes and return a scalar. To retain the old behavior, pass axis=0 (or do not pass axis)\n",
      "  return reduction(axis=axis, out=out, **passkwargs)\n",
      "C:\\Users\\ynakadi\\AppData\\Local\\Packages\\PythonSoftwareFoundation.Python.3.10_qbz5n2kfra8p0\\LocalCache\\local-packages\\Python310\\site-packages\\numpy\\core\\fromnumeric.py:84: FutureWarning: The behavior of DataFrame.sum with axis=None is deprecated, in a future version this will reduce over both axes and return a scalar. To retain the old behavior, pass axis=0 (or do not pass axis)\n",
      "  return reduction(axis=axis, out=out, **passkwargs)\n",
      "C:\\Users\\ynakadi\\AppData\\Local\\Packages\\PythonSoftwareFoundation.Python.3.10_qbz5n2kfra8p0\\LocalCache\\local-packages\\Python310\\site-packages\\numpy\\core\\fromnumeric.py:84: FutureWarning: The behavior of DataFrame.sum with axis=None is deprecated, in a future version this will reduce over both axes and return a scalar. To retain the old behavior, pass axis=0 (or do not pass axis)\n",
      "  return reduction(axis=axis, out=out, **passkwargs)\n",
      "C:\\Users\\ynakadi\\AppData\\Local\\Packages\\PythonSoftwareFoundation.Python.3.10_qbz5n2kfra8p0\\LocalCache\\local-packages\\Python310\\site-packages\\numpy\\core\\fromnumeric.py:84: FutureWarning: The behavior of DataFrame.sum with axis=None is deprecated, in a future version this will reduce over both axes and return a scalar. To retain the old behavior, pass axis=0 (or do not pass axis)\n",
      "  return reduction(axis=axis, out=out, **passkwargs)\n",
      "C:\\Users\\ynakadi\\AppData\\Local\\Packages\\PythonSoftwareFoundation.Python.3.10_qbz5n2kfra8p0\\LocalCache\\local-packages\\Python310\\site-packages\\numpy\\core\\fromnumeric.py:84: FutureWarning: The behavior of DataFrame.sum with axis=None is deprecated, in a future version this will reduce over both axes and return a scalar. To retain the old behavior, pass axis=0 (or do not pass axis)\n",
      "  return reduction(axis=axis, out=out, **passkwargs)\n",
      "C:\\Users\\ynakadi\\AppData\\Local\\Packages\\PythonSoftwareFoundation.Python.3.10_qbz5n2kfra8p0\\LocalCache\\local-packages\\Python310\\site-packages\\numpy\\core\\fromnumeric.py:84: FutureWarning: The behavior of DataFrame.sum with axis=None is deprecated, in a future version this will reduce over both axes and return a scalar. To retain the old behavior, pass axis=0 (or do not pass axis)\n",
      "  return reduction(axis=axis, out=out, **passkwargs)\n",
      "C:\\Users\\ynakadi\\AppData\\Local\\Temp\\ipykernel_22744\\4211491234.py:17: RuntimeWarning: invalid value encountered in scalar divide\n",
      "  print(round(np.sum(everyone_df)['Points'] * 75/ np.sum(everyone_df)['OffPoss'],2))\n",
      "C:\\Users\\ynakadi\\AppData\\Local\\Packages\\PythonSoftwareFoundation.Python.3.10_qbz5n2kfra8p0\\LocalCache\\local-packages\\Python310\\site-packages\\numpy\\core\\fromnumeric.py:84: FutureWarning: The behavior of DataFrame.sum with axis=None is deprecated, in a future version this will reduce over both axes and return a scalar. To retain the old behavior, pass axis=0 (or do not pass axis)\n",
      "  return reduction(axis=axis, out=out, **passkwargs)\n",
      "C:\\Users\\ynakadi\\AppData\\Local\\Packages\\PythonSoftwareFoundation.Python.3.10_qbz5n2kfra8p0\\LocalCache\\local-packages\\Python310\\site-packages\\numpy\\core\\fromnumeric.py:84: FutureWarning: The behavior of DataFrame.sum with axis=None is deprecated, in a future version this will reduce over both axes and return a scalar. To retain the old behavior, pass axis=0 (or do not pass axis)\n",
      "  return reduction(axis=axis, out=out, **passkwargs)\n",
      "C:\\Users\\ynakadi\\AppData\\Local\\Packages\\PythonSoftwareFoundation.Python.3.10_qbz5n2kfra8p0\\LocalCache\\local-packages\\Python310\\site-packages\\numpy\\core\\fromnumeric.py:84: FutureWarning: The behavior of DataFrame.sum with axis=None is deprecated, in a future version this will reduce over both axes and return a scalar. To retain the old behavior, pass axis=0 (or do not pass axis)\n",
      "  return reduction(axis=axis, out=out, **passkwargs)\n",
      "C:\\Users\\ynakadi\\AppData\\Local\\Temp\\ipykernel_22744\\4211491234.py:19: RuntimeWarning: invalid value encountered in scalar divide\n",
      "  print(round(np.sum(everyone_df)['Points'] * 100 / (2 * (np.sum(everyone_df)['FGA'] + 0.44 * np.sum(everyone_df)['FTA'])), 2))\n"
     ]
    }
   ],
   "source": [
    "\n",
    "print(f'Points Per 75 without {role_player} or {star_player} ({ns_mins} Minutes Played):')\n",
    "print(round(np.sum(no_stars_df)['Points'] * 75/ np.sum(no_stars_df)['OffPoss'],2))\n",
    "print(\"TS%:\")\n",
    "print(round(np.sum(no_stars_df)['Points'] * 100 / (2 * (np.sum(no_stars_df)['FGA'] + 0.44 * np.sum(no_stars_df)['FTA'])),2))\n",
    "print('\\n')\n",
    "print(f'Points Per 75 with just {role_player} ({jk_mins} Minutes Played):')\n",
    "print(round(np.sum(two_shooters_df)['Points'] * 75/ np.sum(two_shooters_df)['OffPoss'],2))\n",
    "print(\"TS%:\")\n",
    "print(round(np.sum(two_shooters_df)['Points'] * 100 / (2 * (np.sum(two_shooters_df)['FGA'] + 0.44 * np.sum(two_shooters_df)['FTA'])),2))\n",
    "print('\\n')\n",
    "print(f'Points Per 75 with just {star_player} ({js_mins} Minutes Played):')\n",
    "print(round(np.sum(two_legends_df)['Points'] * 75/ np.sum(two_legends_df)['OffPoss'],2))\n",
    "print(\"TS%:\")\n",
    "print(round(np.sum(two_legends_df)['Points'] * 100 / (2 * (np.sum(two_legends_df)['FGA'] + 0.44 * np.sum(two_legends_df)['FTA'])),2))\n",
    "print('\\n')\n",
    "print(f'Points Per 75 with everyone ({e_mins} Minutes Played):')\n",
    "print(round(np.sum(everyone_df)['Points'] * 75/ np.sum(everyone_df)['OffPoss'],2))\n",
    "print(\"TS%:\")\n",
    "print(round(np.sum(everyone_df)['Points'] * 100 / (2 * (np.sum(everyone_df)['FGA'] + 0.44 * np.sum(everyone_df)['FTA'])), 2))\n",
    "print('\\n')"
   ]
  },
  {
   "cell_type": "markdown",
   "metadata": {},
   "source": [
    "### Player Production Lineups for the Same Year"
   ]
  },
  {
   "cell_type": "code",
   "execution_count": 11,
   "metadata": {},
   "outputs": [
    {
     "name": "stderr",
     "output_type": "stream",
     "text": [
      "C:\\Users\\ynakadi\\AppData\\Local\\Temp\\ipykernel_22744\\2086704192.py:2: SettingWithCopyWarning: \n",
      "A value is trying to be set on a copy of a slice from a DataFrame.\n",
      "Try using .loc[row_indexer,col_indexer] = value instead\n",
      "\n",
      "See the caveats in the documentation: https://pandas.pydata.org/pandas-docs/stable/user_guide/indexing.html#returning-a-view-versus-a-copy\n",
      "  all_lineups_df_comb[key_player] = all_lineups_df_comb['Lineup'].apply(lambda x: 1 if key_player in x else 0)\n",
      "C:\\Users\\ynakadi\\AppData\\Local\\Temp\\ipykernel_22744\\2086704192.py:3: SettingWithCopyWarning: \n",
      "A value is trying to be set on a copy of a slice from a DataFrame.\n",
      "Try using .loc[row_indexer,col_indexer] = value instead\n",
      "\n",
      "See the caveats in the documentation: https://pandas.pydata.org/pandas-docs/stable/user_guide/indexing.html#returning-a-view-versus-a-copy\n",
      "  all_lineups_df_comb[star_player] = all_lineups_df_comb['Lineup'].apply(lambda x: 1 if star_player in x else 0)\n",
      "C:\\Users\\ynakadi\\AppData\\Local\\Packages\\PythonSoftwareFoundation.Python.3.10_qbz5n2kfra8p0\\LocalCache\\local-packages\\Python310\\site-packages\\plotly\\express\\_core.py:1992: FutureWarning: When grouping with a length-1 list-like, you will need to pass a length-1 tuple to get_group in a future version of pandas. Pass `(name,)` instead of `name` to silence this warning.\n",
      "  sf: grouped.get_group(s if len(s) > 1 else s[0])\n"
     ]
    },
    {
     "data": {
      "application/vnd.plotly.v1+json": {
       "config": {
        "plotlyServerURL": "https://plot.ly"
       },
       "data": [
        {
         "customdata": [
          [
           56.07,
           170,
           "No Key Players"
          ],
          [
           37.62,
           90,
           "No Key Players"
          ],
          [
           52.08,
           215,
           "No Key Players"
          ]
         ],
         "hovertemplate": "PtsPer75=%{y}<br>TS%=%{customdata[0]}<br>Minutes=%{customdata[1]}<extra></extra>",
         "legendgroup": "No Key Players",
         "line": {
          "color": "#636efa",
          "dash": "solid"
         },
         "marker": {
          "symbol": "circle"
         },
         "mode": "lines",
         "name": "No Key Players",
         "orientation": "v",
         "showlegend": true,
         "type": "scatter",
         "x": [
          "2019-20",
          "2020-21",
          "2022-23"
         ],
         "xaxis": "x",
         "y": [
          14.59,
          11.45,
          15.17
         ],
         "yaxis": "y"
        },
        {
         "customdata": [
          [
           76.28,
           197,
           "One Star Player (Davis)"
          ],
          [
           64.67,
           34,
           "One Star Player (Davis)"
          ],
          [
           63.82,
           105,
           "One Star Player (Davis)"
          ],
          [
           69.44,
           35,
           "One Star Player (Davis)"
          ]
         ],
         "hovertemplate": "PtsPer75=%{y}<br>TS%=%{customdata[0]}<br>Minutes=%{customdata[1]}<extra></extra>",
         "legendgroup": "One Star Player (Davis)",
         "line": {
          "color": "#EF553B",
          "dash": "solid"
         },
         "marker": {
          "symbol": "circle"
         },
         "mode": "lines",
         "name": "One Star Player (Davis)",
         "orientation": "v",
         "showlegend": true,
         "type": "scatter",
         "x": [
          "2019-20",
          "2020-21",
          "2022-23",
          "2023-24"
         ],
         "xaxis": "x",
         "y": [
          34.54,
          31.52,
          29.39,
          31.85
         ],
         "yaxis": "y"
        },
        {
         "customdata": [
          [
           72.07,
           184,
           "One Star Player (James)"
          ],
          [
           59.48,
           106,
           "One Star Player (James)"
          ],
          [
           61.88,
           115,
           "One Star Player (James)"
          ],
          [
           61.32,
           30,
           "One Star Player (James)"
          ]
         ],
         "hovertemplate": "PtsPer75=%{y}<br>TS%=%{customdata[0]}<br>Minutes=%{customdata[1]}<extra></extra>",
         "legendgroup": "One Star Player (James)",
         "line": {
          "color": "#00cc96",
          "dash": "solid"
         },
         "marker": {
          "symbol": "circle"
         },
         "mode": "lines",
         "name": "One Star Player (James)",
         "orientation": "v",
         "showlegend": true,
         "type": "scatter",
         "x": [
          "2019-20",
          "2020-21",
          "2022-23",
          "2023-24"
         ],
         "xaxis": "x",
         "y": [
          30.58,
          27.27,
          23.48,
          34.82
         ],
         "yaxis": "y"
        },
        {
         "customdata": [
          [
           71.7,
           558,
           "Both Stars (Davis)"
          ],
          [
           59.4,
           107,
           "Both Stars (Davis)"
          ],
          [
           65.83,
           496,
           "Both Stars (Davis)"
          ],
          [
           70.43,
           170,
           "Both Stars (Davis)"
          ]
         ],
         "hovertemplate": "PtsPer75=%{y}<br>TS%=%{customdata[0]}<br>Minutes=%{customdata[1]}<extra></extra>",
         "legendgroup": "Both Stars (Davis)",
         "line": {
          "color": "#ab63fa",
          "dash": "solid"
         },
         "marker": {
          "symbol": "circle"
         },
         "mode": "lines",
         "name": "Both Stars (Davis)",
         "orientation": "v",
         "showlegend": true,
         "type": "scatter",
         "x": [
          "2019-20",
          "2020-21",
          "2022-23",
          "2023-24"
         ],
         "xaxis": "x",
         "y": [
          26.51,
          21.43,
          20.18,
          23.74
         ],
         "yaxis": "y"
        },
        {
         "customdata": [
          [
           68.77,
           558,
           "Both Stars (James)"
          ],
          [
           64.73,
           107,
           "Both Stars (James)"
          ],
          [
           62.05,
           496,
           "Both Stars (James)"
          ],
          [
           67.19,
           170,
           "Both Stars (James)"
          ]
         ],
         "hovertemplate": "PtsPer75=%{y}<br>TS%=%{customdata[0]}<br>Minutes=%{customdata[1]}<extra></extra>",
         "legendgroup": "Both Stars (James)",
         "line": {
          "color": "#FFA15A",
          "dash": "solid"
         },
         "marker": {
          "symbol": "circle"
         },
         "mode": "lines",
         "name": "Both Stars (James)",
         "orientation": "v",
         "showlegend": true,
         "type": "scatter",
         "x": [
          "2019-20",
          "2020-21",
          "2022-23",
          "2023-24"
         ],
         "xaxis": "x",
         "y": [
          27.65,
          23.28,
          23.44,
          24.41
         ],
         "yaxis": "y"
        }
       ],
       "layout": {
        "legend": {
         "title": {
          "text": "Designation"
         },
         "tracegroupgap": 0
        },
        "template": {
         "data": {
          "bar": [
           {
            "error_x": {
             "color": "#2a3f5f"
            },
            "error_y": {
             "color": "#2a3f5f"
            },
            "marker": {
             "line": {
              "color": "#E5ECF6",
              "width": 0.5
             },
             "pattern": {
              "fillmode": "overlay",
              "size": 10,
              "solidity": 0.2
             }
            },
            "type": "bar"
           }
          ],
          "barpolar": [
           {
            "marker": {
             "line": {
              "color": "#E5ECF6",
              "width": 0.5
             },
             "pattern": {
              "fillmode": "overlay",
              "size": 10,
              "solidity": 0.2
             }
            },
            "type": "barpolar"
           }
          ],
          "carpet": [
           {
            "aaxis": {
             "endlinecolor": "#2a3f5f",
             "gridcolor": "white",
             "linecolor": "white",
             "minorgridcolor": "white",
             "startlinecolor": "#2a3f5f"
            },
            "baxis": {
             "endlinecolor": "#2a3f5f",
             "gridcolor": "white",
             "linecolor": "white",
             "minorgridcolor": "white",
             "startlinecolor": "#2a3f5f"
            },
            "type": "carpet"
           }
          ],
          "choropleth": [
           {
            "colorbar": {
             "outlinewidth": 0,
             "ticks": ""
            },
            "type": "choropleth"
           }
          ],
          "contour": [
           {
            "colorbar": {
             "outlinewidth": 0,
             "ticks": ""
            },
            "colorscale": [
             [
              0,
              "#0d0887"
             ],
             [
              0.1111111111111111,
              "#46039f"
             ],
             [
              0.2222222222222222,
              "#7201a8"
             ],
             [
              0.3333333333333333,
              "#9c179e"
             ],
             [
              0.4444444444444444,
              "#bd3786"
             ],
             [
              0.5555555555555556,
              "#d8576b"
             ],
             [
              0.6666666666666666,
              "#ed7953"
             ],
             [
              0.7777777777777778,
              "#fb9f3a"
             ],
             [
              0.8888888888888888,
              "#fdca26"
             ],
             [
              1,
              "#f0f921"
             ]
            ],
            "type": "contour"
           }
          ],
          "contourcarpet": [
           {
            "colorbar": {
             "outlinewidth": 0,
             "ticks": ""
            },
            "type": "contourcarpet"
           }
          ],
          "heatmap": [
           {
            "colorbar": {
             "outlinewidth": 0,
             "ticks": ""
            },
            "colorscale": [
             [
              0,
              "#0d0887"
             ],
             [
              0.1111111111111111,
              "#46039f"
             ],
             [
              0.2222222222222222,
              "#7201a8"
             ],
             [
              0.3333333333333333,
              "#9c179e"
             ],
             [
              0.4444444444444444,
              "#bd3786"
             ],
             [
              0.5555555555555556,
              "#d8576b"
             ],
             [
              0.6666666666666666,
              "#ed7953"
             ],
             [
              0.7777777777777778,
              "#fb9f3a"
             ],
             [
              0.8888888888888888,
              "#fdca26"
             ],
             [
              1,
              "#f0f921"
             ]
            ],
            "type": "heatmap"
           }
          ],
          "heatmapgl": [
           {
            "colorbar": {
             "outlinewidth": 0,
             "ticks": ""
            },
            "colorscale": [
             [
              0,
              "#0d0887"
             ],
             [
              0.1111111111111111,
              "#46039f"
             ],
             [
              0.2222222222222222,
              "#7201a8"
             ],
             [
              0.3333333333333333,
              "#9c179e"
             ],
             [
              0.4444444444444444,
              "#bd3786"
             ],
             [
              0.5555555555555556,
              "#d8576b"
             ],
             [
              0.6666666666666666,
              "#ed7953"
             ],
             [
              0.7777777777777778,
              "#fb9f3a"
             ],
             [
              0.8888888888888888,
              "#fdca26"
             ],
             [
              1,
              "#f0f921"
             ]
            ],
            "type": "heatmapgl"
           }
          ],
          "histogram": [
           {
            "marker": {
             "pattern": {
              "fillmode": "overlay",
              "size": 10,
              "solidity": 0.2
             }
            },
            "type": "histogram"
           }
          ],
          "histogram2d": [
           {
            "colorbar": {
             "outlinewidth": 0,
             "ticks": ""
            },
            "colorscale": [
             [
              0,
              "#0d0887"
             ],
             [
              0.1111111111111111,
              "#46039f"
             ],
             [
              0.2222222222222222,
              "#7201a8"
             ],
             [
              0.3333333333333333,
              "#9c179e"
             ],
             [
              0.4444444444444444,
              "#bd3786"
             ],
             [
              0.5555555555555556,
              "#d8576b"
             ],
             [
              0.6666666666666666,
              "#ed7953"
             ],
             [
              0.7777777777777778,
              "#fb9f3a"
             ],
             [
              0.8888888888888888,
              "#fdca26"
             ],
             [
              1,
              "#f0f921"
             ]
            ],
            "type": "histogram2d"
           }
          ],
          "histogram2dcontour": [
           {
            "colorbar": {
             "outlinewidth": 0,
             "ticks": ""
            },
            "colorscale": [
             [
              0,
              "#0d0887"
             ],
             [
              0.1111111111111111,
              "#46039f"
             ],
             [
              0.2222222222222222,
              "#7201a8"
             ],
             [
              0.3333333333333333,
              "#9c179e"
             ],
             [
              0.4444444444444444,
              "#bd3786"
             ],
             [
              0.5555555555555556,
              "#d8576b"
             ],
             [
              0.6666666666666666,
              "#ed7953"
             ],
             [
              0.7777777777777778,
              "#fb9f3a"
             ],
             [
              0.8888888888888888,
              "#fdca26"
             ],
             [
              1,
              "#f0f921"
             ]
            ],
            "type": "histogram2dcontour"
           }
          ],
          "mesh3d": [
           {
            "colorbar": {
             "outlinewidth": 0,
             "ticks": ""
            },
            "type": "mesh3d"
           }
          ],
          "parcoords": [
           {
            "line": {
             "colorbar": {
              "outlinewidth": 0,
              "ticks": ""
             }
            },
            "type": "parcoords"
           }
          ],
          "pie": [
           {
            "automargin": true,
            "type": "pie"
           }
          ],
          "scatter": [
           {
            "fillpattern": {
             "fillmode": "overlay",
             "size": 10,
             "solidity": 0.2
            },
            "type": "scatter"
           }
          ],
          "scatter3d": [
           {
            "line": {
             "colorbar": {
              "outlinewidth": 0,
              "ticks": ""
             }
            },
            "marker": {
             "colorbar": {
              "outlinewidth": 0,
              "ticks": ""
             }
            },
            "type": "scatter3d"
           }
          ],
          "scattercarpet": [
           {
            "marker": {
             "colorbar": {
              "outlinewidth": 0,
              "ticks": ""
             }
            },
            "type": "scattercarpet"
           }
          ],
          "scattergeo": [
           {
            "marker": {
             "colorbar": {
              "outlinewidth": 0,
              "ticks": ""
             }
            },
            "type": "scattergeo"
           }
          ],
          "scattergl": [
           {
            "marker": {
             "colorbar": {
              "outlinewidth": 0,
              "ticks": ""
             }
            },
            "type": "scattergl"
           }
          ],
          "scattermapbox": [
           {
            "marker": {
             "colorbar": {
              "outlinewidth": 0,
              "ticks": ""
             }
            },
            "type": "scattermapbox"
           }
          ],
          "scatterpolar": [
           {
            "marker": {
             "colorbar": {
              "outlinewidth": 0,
              "ticks": ""
             }
            },
            "type": "scatterpolar"
           }
          ],
          "scatterpolargl": [
           {
            "marker": {
             "colorbar": {
              "outlinewidth": 0,
              "ticks": ""
             }
            },
            "type": "scatterpolargl"
           }
          ],
          "scatterternary": [
           {
            "marker": {
             "colorbar": {
              "outlinewidth": 0,
              "ticks": ""
             }
            },
            "type": "scatterternary"
           }
          ],
          "surface": [
           {
            "colorbar": {
             "outlinewidth": 0,
             "ticks": ""
            },
            "colorscale": [
             [
              0,
              "#0d0887"
             ],
             [
              0.1111111111111111,
              "#46039f"
             ],
             [
              0.2222222222222222,
              "#7201a8"
             ],
             [
              0.3333333333333333,
              "#9c179e"
             ],
             [
              0.4444444444444444,
              "#bd3786"
             ],
             [
              0.5555555555555556,
              "#d8576b"
             ],
             [
              0.6666666666666666,
              "#ed7953"
             ],
             [
              0.7777777777777778,
              "#fb9f3a"
             ],
             [
              0.8888888888888888,
              "#fdca26"
             ],
             [
              1,
              "#f0f921"
             ]
            ],
            "type": "surface"
           }
          ],
          "table": [
           {
            "cells": {
             "fill": {
              "color": "#EBF0F8"
             },
             "line": {
              "color": "white"
             }
            },
            "header": {
             "fill": {
              "color": "#C8D4E3"
             },
             "line": {
              "color": "white"
             }
            },
            "type": "table"
           }
          ]
         },
         "layout": {
          "annotationdefaults": {
           "arrowcolor": "#2a3f5f",
           "arrowhead": 0,
           "arrowwidth": 1
          },
          "autotypenumbers": "strict",
          "coloraxis": {
           "colorbar": {
            "outlinewidth": 0,
            "ticks": ""
           }
          },
          "colorscale": {
           "diverging": [
            [
             0,
             "#8e0152"
            ],
            [
             0.1,
             "#c51b7d"
            ],
            [
             0.2,
             "#de77ae"
            ],
            [
             0.3,
             "#f1b6da"
            ],
            [
             0.4,
             "#fde0ef"
            ],
            [
             0.5,
             "#f7f7f7"
            ],
            [
             0.6,
             "#e6f5d0"
            ],
            [
             0.7,
             "#b8e186"
            ],
            [
             0.8,
             "#7fbc41"
            ],
            [
             0.9,
             "#4d9221"
            ],
            [
             1,
             "#276419"
            ]
           ],
           "sequential": [
            [
             0,
             "#0d0887"
            ],
            [
             0.1111111111111111,
             "#46039f"
            ],
            [
             0.2222222222222222,
             "#7201a8"
            ],
            [
             0.3333333333333333,
             "#9c179e"
            ],
            [
             0.4444444444444444,
             "#bd3786"
            ],
            [
             0.5555555555555556,
             "#d8576b"
            ],
            [
             0.6666666666666666,
             "#ed7953"
            ],
            [
             0.7777777777777778,
             "#fb9f3a"
            ],
            [
             0.8888888888888888,
             "#fdca26"
            ],
            [
             1,
             "#f0f921"
            ]
           ],
           "sequentialminus": [
            [
             0,
             "#0d0887"
            ],
            [
             0.1111111111111111,
             "#46039f"
            ],
            [
             0.2222222222222222,
             "#7201a8"
            ],
            [
             0.3333333333333333,
             "#9c179e"
            ],
            [
             0.4444444444444444,
             "#bd3786"
            ],
            [
             0.5555555555555556,
             "#d8576b"
            ],
            [
             0.6666666666666666,
             "#ed7953"
            ],
            [
             0.7777777777777778,
             "#fb9f3a"
            ],
            [
             0.8888888888888888,
             "#fdca26"
            ],
            [
             1,
             "#f0f921"
            ]
           ]
          },
          "colorway": [
           "#636efa",
           "#EF553B",
           "#00cc96",
           "#ab63fa",
           "#FFA15A",
           "#19d3f3",
           "#FF6692",
           "#B6E880",
           "#FF97FF",
           "#FECB52"
          ],
          "font": {
           "color": "#2a3f5f"
          },
          "geo": {
           "bgcolor": "white",
           "lakecolor": "white",
           "landcolor": "#E5ECF6",
           "showlakes": true,
           "showland": true,
           "subunitcolor": "white"
          },
          "hoverlabel": {
           "align": "left"
          },
          "hovermode": "closest",
          "mapbox": {
           "style": "light"
          },
          "paper_bgcolor": "white",
          "plot_bgcolor": "#E5ECF6",
          "polar": {
           "angularaxis": {
            "gridcolor": "white",
            "linecolor": "white",
            "ticks": ""
           },
           "bgcolor": "#E5ECF6",
           "radialaxis": {
            "gridcolor": "white",
            "linecolor": "white",
            "ticks": ""
           }
          },
          "scene": {
           "xaxis": {
            "backgroundcolor": "#E5ECF6",
            "gridcolor": "white",
            "gridwidth": 2,
            "linecolor": "white",
            "showbackground": true,
            "ticks": "",
            "zerolinecolor": "white"
           },
           "yaxis": {
            "backgroundcolor": "#E5ECF6",
            "gridcolor": "white",
            "gridwidth": 2,
            "linecolor": "white",
            "showbackground": true,
            "ticks": "",
            "zerolinecolor": "white"
           },
           "zaxis": {
            "backgroundcolor": "#E5ECF6",
            "gridcolor": "white",
            "gridwidth": 2,
            "linecolor": "white",
            "showbackground": true,
            "ticks": "",
            "zerolinecolor": "white"
           }
          },
          "shapedefaults": {
           "line": {
            "color": "#2a3f5f"
           }
          },
          "ternary": {
           "aaxis": {
            "gridcolor": "white",
            "linecolor": "white",
            "ticks": ""
           },
           "baxis": {
            "gridcolor": "white",
            "linecolor": "white",
            "ticks": ""
           },
           "bgcolor": "#E5ECF6",
           "caxis": {
            "gridcolor": "white",
            "linecolor": "white",
            "ticks": ""
           }
          },
          "title": {
           "x": 0.05
          },
          "xaxis": {
           "automargin": true,
           "gridcolor": "white",
           "linecolor": "white",
           "ticks": "",
           "title": {
            "standoff": 15
           },
           "zerolinecolor": "white",
           "zerolinewidth": 2
          },
          "yaxis": {
           "automargin": true,
           "gridcolor": "white",
           "linecolor": "white",
           "ticks": "",
           "title": {
            "standoff": 15
           },
           "zerolinecolor": "white",
           "zerolinewidth": 2
          }
         }
        },
        "title": {
         "text": "Production of LeBron James in Lineups"
        },
        "xaxis": {
         "anchor": "y",
         "domain": [
          0,
          1
         ],
         "title": {
          "text": "Season"
         }
        },
        "yaxis": {
         "anchor": "x",
         "domain": [
          0,
          1
         ],
         "title": {
          "text": "PtsPer75"
         }
        }
       }
      }
     },
     "metadata": {},
     "output_type": "display_data"
    }
   ],
   "source": [
    "all_lineups_df_comb = all_lineups_df_playoffs[['Lineup','OffPoss','DefPoss','Minutes','Points','Team Points','OpponentPoints','FGA','FTA','Season','Name']]\n",
    "all_lineups_df_comb[key_player] = all_lineups_df_comb['Lineup'].apply(lambda x: 1 if key_player in x else 0)\n",
    "all_lineups_df_comb[star_player] = all_lineups_df_comb['Lineup'].apply(lambda x: 1 if star_player in x else 0)\n",
    "\n",
    "no_stars_df = all_lineups_df_comb[(all_lineups_df_comb[star_player] == 0)&(all_lineups_df_comb[key_player] == 0)][['OffPoss','Minutes','Points','FGA','FTA','Season']].groupby('Season').sum().reset_index()\n",
    "no_stars_df['PtsPer75'] = round(no_stars_df['Points'] * 75/ no_stars_df['OffPoss'],2)\n",
    "no_stars_df['TS%'] = round(no_stars_df['Points'] * 100 / (2 * no_stars_df['FGA'] + 0.44 * no_stars_df['FTA']),2)\n",
    "no_stars_df['Designation'] = 'No Key Players'\n",
    "\n",
    "one_star_df = all_lineups_df_comb[(all_lineups_df_comb[star_player]  + all_lineups_df_comb[key_player] == 1)][['OffPoss','Minutes','Points','FGA','FTA','Season','Name']].groupby(['Season','Name']).sum().reset_index()\n",
    "one_star_df = one_star_df[one_star_df['Name'].isin([star_player,key_player])]\n",
    "one_star_df['PtsPer75'] = round(one_star_df['Points'] * 75/ one_star_df['OffPoss'],2)\n",
    "one_star_df['TS%'] = round(one_star_df['Points'] * 100 / (2 * one_star_df['FGA'] + 0.44 * one_star_df['FTA']),2)\n",
    "one_star_df['Designation'] = 'One Star Player ' +  '(' + one_star_df['Name'].apply(lambda x: x.split()[-1]) + ')'\n",
    "\n",
    "two_stars_df = all_lineups_df_comb[(all_lineups_df_comb[star_player]  + all_lineups_df_comb[key_player] == 2)][['OffPoss','Minutes','Points','FGA','FTA','Season','Name']].groupby(['Season','Name']).sum().reset_index()\n",
    "two_stars_df = two_stars_df[two_stars_df['Name'].isin([star_player,key_player])]\n",
    "two_stars_df['PtsPer75'] = round(two_stars_df['Points'] * 75/ two_stars_df['OffPoss'],2)\n",
    "two_stars_df['TS%'] = round(two_stars_df['Points'] * 100 / (2 * two_stars_df['FGA'] + 0.44 * two_stars_df['FTA']),2)\n",
    "two_stars_df['Designation'] = 'Both Stars ' + '(' + two_stars_df['Name'].apply(lambda x: x.split()[-1]) + ')'\n",
    "\n",
    "\n",
    "comb_df = pd.concat([no_stars_df,one_star_df,two_stars_df]).reset_index(drop=True)\n",
    "\n",
    "fig2 = px.line(comb_df, x = 'Season', y = 'PtsPer75',color = 'Designation',title=f'Production of {key_player} in Lineups',\n",
    "        hover_data={'TS%':True, 'Minutes':True,'Designation':False,'Season':False})\n",
    "fig2.show()\n"
   ]
  },
  {
   "cell_type": "markdown",
   "metadata": {},
   "source": [
    "### Reg Season vs Playoffs"
   ]
  },
  {
   "cell_type": "code",
   "execution_count": 12,
   "metadata": {},
   "outputs": [
    {
     "name": "stderr",
     "output_type": "stream",
     "text": [
      "C:\\Users\\ynakadi\\AppData\\Local\\Packages\\PythonSoftwareFoundation.Python.3.10_qbz5n2kfra8p0\\LocalCache\\local-packages\\Python310\\site-packages\\plotly\\express\\_core.py:1992: FutureWarning:\n",
      "\n",
      "When grouping with a length-1 list-like, you will need to pass a length-1 tuple to get_group in a future version of pandas. Pass `(name,)` instead of `name` to silence this warning.\n",
      "\n"
     ]
    },
    {
     "data": {
      "application/vnd.plotly.v1+json": {
       "config": {
        "plotlyServerURL": "https://plot.ly"
       },
       "data": [
        {
         "customdata": [
          [
           60.5,
           1074,
           "One Star Player (Mitchell)",
           -9.04,
           4.35
          ],
          [
           51.33,
           401,
           "One Star Player (Mitchell)",
           -3.58,
           -0.77
          ],
          [
           59.64,
           579,
           "One Star Player (Mitchell)",
           37.96,
           14.36
          ],
          [
           59.51,
           707,
           "One Star Player (Mitchell)",
           9.14,
           11.48
          ],
          [
           61.47,
           1029,
           "One Star Player (Mitchell)",
           -0.07,
           1.38
          ]
         ],
         "hovertemplate": "Season=%{x}<br>PtsPer75=%{y}<br>TS%=%{customdata[0]}<br>Minutes=%{customdata[1]}<br>TS% Playoffs Difference=%{customdata[3]}<br>PtsPer75 Playoffs Difference=%{customdata[4]}<extra></extra>",
         "legendgroup": "One Star Player (Mitchell)",
         "line": {
          "color": "#636efa",
          "dash": "solid"
         },
         "marker": {
          "symbol": "circle"
         },
         "mode": "lines",
         "name": "One Star Player (Mitchell)",
         "orientation": "v",
         "showlegend": true,
         "type": "scatter",
         "x": [
          "2017-18",
          "2018-19",
          "2019-20",
          "2020-21",
          "2021-22"
         ],
         "xaxis": "x",
         "y": [
          24.68,
          24.1,
          28.03,
          27,
          29.16
         ],
         "yaxis": "y"
        },
        {
         "customdata": [
          [
           73.48,
           307,
           "One Star Player (Gobert)",
           25.86,
           9.95
          ],
          [
           77.34,
           360,
           "One Star Player (Gobert)",
           22.66,
           -8.38
          ],
          [
           78.99,
           553,
           "One Star Player (Gobert)",
           -1.98,
           9.76
          ],
          [
           76.91,
           1124,
           "One Star Player (Gobert)",
           -0.49,
           -3.59
          ],
          [
           80.68,
           914,
           "One Star Player (Gobert)",
           23.94,
           6.63
          ]
         ],
         "hovertemplate": "Season=%{x}<br>PtsPer75=%{y}<br>TS%=%{customdata[0]}<br>Minutes=%{customdata[1]}<br>TS% Playoffs Difference=%{customdata[3]}<br>PtsPer75 Playoffs Difference=%{customdata[4]}<extra></extra>",
         "legendgroup": "One Star Player (Gobert)",
         "line": {
          "color": "#EF553B",
          "dash": "solid"
         },
         "marker": {
          "symbol": "circle"
         },
         "mode": "lines",
         "name": "One Star Player (Gobert)",
         "orientation": "v",
         "showlegend": true,
         "type": "scatter",
         "x": [
          "2017-18",
          "2018-19",
          "2019-20",
          "2020-21",
          "2021-22"
         ],
         "xaxis": "x",
         "y": [
          16.14,
          19.49,
          17.32,
          18.12,
          20.22
         ],
         "yaxis": "y"
        },
        {
         "customdata": [
          [
           54.88,
           1407,
           "Both Stars (Mitchell)",
           -3.07,
           0.54
          ],
          [
           57.73,
           2147,
           "Both Stars (Mitchell)",
           -17.14,
           -8.06
          ],
          [
           58.3,
           1766,
           "Both Stars (Mitchell)",
           15.15,
           12.61
          ],
          [
           61.16,
           1050,
           "Both Stars (Mitchell)",
           0.95,
           3.57
          ],
          [
           58.57,
           1183,
           "Both Stars (Mitchell)",
           -9.87,
           -4.01
          ]
         ],
         "hovertemplate": "Season=%{x}<br>PtsPer75=%{y}<br>TS%=%{customdata[0]}<br>Minutes=%{customdata[1]}<br>TS% Playoffs Difference=%{customdata[3]}<br>PtsPer75 Playoffs Difference=%{customdata[4]}<extra></extra>",
         "legendgroup": "Both Stars (Mitchell)",
         "line": {
          "color": "#00cc96",
          "dash": "solid"
         },
         "marker": {
          "symbol": "circle"
         },
         "mode": "lines",
         "name": "Both Stars (Mitchell)",
         "orientation": "v",
         "showlegend": true,
         "type": "scatter",
         "x": [
          "2017-18",
          "2018-19",
          "2019-20",
          "2020-21",
          "2021-22"
         ],
         "xaxis": "x",
         "y": [
          22.44,
          25.77,
          24.73,
          30.19,
          27.51
         ],
         "yaxis": "y"
        },
        {
         "customdata": [
          [
           73.24,
           1407,
           "Both Stars (Gobert)",
           -0.96,
           -2.16
          ],
          [
           77.56,
           2147,
           "Both Stars (Gobert)",
           -2.45,
           -4.35
          ],
          [
           79.41,
           1766,
           "Both Stars (Gobert)",
           -8.27,
           0.86
          ],
          [
           76.32,
           1050,
           "Both Stars (Gobert)",
           12.71,
           1.73
          ],
          [
           89.6,
           1183,
           "Both Stars (Gobert)",
           -15,
           -5.34
          ]
         ],
         "hovertemplate": "Season=%{x}<br>PtsPer75=%{y}<br>TS%=%{customdata[0]}<br>Minutes=%{customdata[1]}<br>TS% Playoffs Difference=%{customdata[3]}<br>PtsPer75 Playoffs Difference=%{customdata[4]}<extra></extra>",
         "legendgroup": "Both Stars (Gobert)",
         "line": {
          "color": "#ab63fa",
          "dash": "solid"
         },
         "marker": {
          "symbol": "circle"
         },
         "mode": "lines",
         "name": "Both Stars (Gobert)",
         "orientation": "v",
         "showlegend": true,
         "type": "scatter",
         "x": [
          "2017-18",
          "2018-19",
          "2019-20",
          "2020-21",
          "2021-22"
         ],
         "xaxis": "x",
         "y": [
          15.16,
          17.91,
          15.75,
          15.53,
          16.7
         ],
         "yaxis": "y"
        }
       ],
       "layout": {
        "legend": {
         "title": {
          "text": "Designation"
         },
         "tracegroupgap": 0
        },
        "template": {
         "data": {
          "bar": [
           {
            "error_x": {
             "color": "#2a3f5f"
            },
            "error_y": {
             "color": "#2a3f5f"
            },
            "marker": {
             "line": {
              "color": "#E5ECF6",
              "width": 0.5
             },
             "pattern": {
              "fillmode": "overlay",
              "size": 10,
              "solidity": 0.2
             }
            },
            "type": "bar"
           }
          ],
          "barpolar": [
           {
            "marker": {
             "line": {
              "color": "#E5ECF6",
              "width": 0.5
             },
             "pattern": {
              "fillmode": "overlay",
              "size": 10,
              "solidity": 0.2
             }
            },
            "type": "barpolar"
           }
          ],
          "carpet": [
           {
            "aaxis": {
             "endlinecolor": "#2a3f5f",
             "gridcolor": "white",
             "linecolor": "white",
             "minorgridcolor": "white",
             "startlinecolor": "#2a3f5f"
            },
            "baxis": {
             "endlinecolor": "#2a3f5f",
             "gridcolor": "white",
             "linecolor": "white",
             "minorgridcolor": "white",
             "startlinecolor": "#2a3f5f"
            },
            "type": "carpet"
           }
          ],
          "choropleth": [
           {
            "colorbar": {
             "outlinewidth": 0,
             "ticks": ""
            },
            "type": "choropleth"
           }
          ],
          "contour": [
           {
            "colorbar": {
             "outlinewidth": 0,
             "ticks": ""
            },
            "colorscale": [
             [
              0,
              "#0d0887"
             ],
             [
              0.1111111111111111,
              "#46039f"
             ],
             [
              0.2222222222222222,
              "#7201a8"
             ],
             [
              0.3333333333333333,
              "#9c179e"
             ],
             [
              0.4444444444444444,
              "#bd3786"
             ],
             [
              0.5555555555555556,
              "#d8576b"
             ],
             [
              0.6666666666666666,
              "#ed7953"
             ],
             [
              0.7777777777777778,
              "#fb9f3a"
             ],
             [
              0.8888888888888888,
              "#fdca26"
             ],
             [
              1,
              "#f0f921"
             ]
            ],
            "type": "contour"
           }
          ],
          "contourcarpet": [
           {
            "colorbar": {
             "outlinewidth": 0,
             "ticks": ""
            },
            "type": "contourcarpet"
           }
          ],
          "heatmap": [
           {
            "colorbar": {
             "outlinewidth": 0,
             "ticks": ""
            },
            "colorscale": [
             [
              0,
              "#0d0887"
             ],
             [
              0.1111111111111111,
              "#46039f"
             ],
             [
              0.2222222222222222,
              "#7201a8"
             ],
             [
              0.3333333333333333,
              "#9c179e"
             ],
             [
              0.4444444444444444,
              "#bd3786"
             ],
             [
              0.5555555555555556,
              "#d8576b"
             ],
             [
              0.6666666666666666,
              "#ed7953"
             ],
             [
              0.7777777777777778,
              "#fb9f3a"
             ],
             [
              0.8888888888888888,
              "#fdca26"
             ],
             [
              1,
              "#f0f921"
             ]
            ],
            "type": "heatmap"
           }
          ],
          "heatmapgl": [
           {
            "colorbar": {
             "outlinewidth": 0,
             "ticks": ""
            },
            "colorscale": [
             [
              0,
              "#0d0887"
             ],
             [
              0.1111111111111111,
              "#46039f"
             ],
             [
              0.2222222222222222,
              "#7201a8"
             ],
             [
              0.3333333333333333,
              "#9c179e"
             ],
             [
              0.4444444444444444,
              "#bd3786"
             ],
             [
              0.5555555555555556,
              "#d8576b"
             ],
             [
              0.6666666666666666,
              "#ed7953"
             ],
             [
              0.7777777777777778,
              "#fb9f3a"
             ],
             [
              0.8888888888888888,
              "#fdca26"
             ],
             [
              1,
              "#f0f921"
             ]
            ],
            "type": "heatmapgl"
           }
          ],
          "histogram": [
           {
            "marker": {
             "pattern": {
              "fillmode": "overlay",
              "size": 10,
              "solidity": 0.2
             }
            },
            "type": "histogram"
           }
          ],
          "histogram2d": [
           {
            "colorbar": {
             "outlinewidth": 0,
             "ticks": ""
            },
            "colorscale": [
             [
              0,
              "#0d0887"
             ],
             [
              0.1111111111111111,
              "#46039f"
             ],
             [
              0.2222222222222222,
              "#7201a8"
             ],
             [
              0.3333333333333333,
              "#9c179e"
             ],
             [
              0.4444444444444444,
              "#bd3786"
             ],
             [
              0.5555555555555556,
              "#d8576b"
             ],
             [
              0.6666666666666666,
              "#ed7953"
             ],
             [
              0.7777777777777778,
              "#fb9f3a"
             ],
             [
              0.8888888888888888,
              "#fdca26"
             ],
             [
              1,
              "#f0f921"
             ]
            ],
            "type": "histogram2d"
           }
          ],
          "histogram2dcontour": [
           {
            "colorbar": {
             "outlinewidth": 0,
             "ticks": ""
            },
            "colorscale": [
             [
              0,
              "#0d0887"
             ],
             [
              0.1111111111111111,
              "#46039f"
             ],
             [
              0.2222222222222222,
              "#7201a8"
             ],
             [
              0.3333333333333333,
              "#9c179e"
             ],
             [
              0.4444444444444444,
              "#bd3786"
             ],
             [
              0.5555555555555556,
              "#d8576b"
             ],
             [
              0.6666666666666666,
              "#ed7953"
             ],
             [
              0.7777777777777778,
              "#fb9f3a"
             ],
             [
              0.8888888888888888,
              "#fdca26"
             ],
             [
              1,
              "#f0f921"
             ]
            ],
            "type": "histogram2dcontour"
           }
          ],
          "mesh3d": [
           {
            "colorbar": {
             "outlinewidth": 0,
             "ticks": ""
            },
            "type": "mesh3d"
           }
          ],
          "parcoords": [
           {
            "line": {
             "colorbar": {
              "outlinewidth": 0,
              "ticks": ""
             }
            },
            "type": "parcoords"
           }
          ],
          "pie": [
           {
            "automargin": true,
            "type": "pie"
           }
          ],
          "scatter": [
           {
            "fillpattern": {
             "fillmode": "overlay",
             "size": 10,
             "solidity": 0.2
            },
            "type": "scatter"
           }
          ],
          "scatter3d": [
           {
            "line": {
             "colorbar": {
              "outlinewidth": 0,
              "ticks": ""
             }
            },
            "marker": {
             "colorbar": {
              "outlinewidth": 0,
              "ticks": ""
             }
            },
            "type": "scatter3d"
           }
          ],
          "scattercarpet": [
           {
            "marker": {
             "colorbar": {
              "outlinewidth": 0,
              "ticks": ""
             }
            },
            "type": "scattercarpet"
           }
          ],
          "scattergeo": [
           {
            "marker": {
             "colorbar": {
              "outlinewidth": 0,
              "ticks": ""
             }
            },
            "type": "scattergeo"
           }
          ],
          "scattergl": [
           {
            "marker": {
             "colorbar": {
              "outlinewidth": 0,
              "ticks": ""
             }
            },
            "type": "scattergl"
           }
          ],
          "scattermapbox": [
           {
            "marker": {
             "colorbar": {
              "outlinewidth": 0,
              "ticks": ""
             }
            },
            "type": "scattermapbox"
           }
          ],
          "scatterpolar": [
           {
            "marker": {
             "colorbar": {
              "outlinewidth": 0,
              "ticks": ""
             }
            },
            "type": "scatterpolar"
           }
          ],
          "scatterpolargl": [
           {
            "marker": {
             "colorbar": {
              "outlinewidth": 0,
              "ticks": ""
             }
            },
            "type": "scatterpolargl"
           }
          ],
          "scatterternary": [
           {
            "marker": {
             "colorbar": {
              "outlinewidth": 0,
              "ticks": ""
             }
            },
            "type": "scatterternary"
           }
          ],
          "surface": [
           {
            "colorbar": {
             "outlinewidth": 0,
             "ticks": ""
            },
            "colorscale": [
             [
              0,
              "#0d0887"
             ],
             [
              0.1111111111111111,
              "#46039f"
             ],
             [
              0.2222222222222222,
              "#7201a8"
             ],
             [
              0.3333333333333333,
              "#9c179e"
             ],
             [
              0.4444444444444444,
              "#bd3786"
             ],
             [
              0.5555555555555556,
              "#d8576b"
             ],
             [
              0.6666666666666666,
              "#ed7953"
             ],
             [
              0.7777777777777778,
              "#fb9f3a"
             ],
             [
              0.8888888888888888,
              "#fdca26"
             ],
             [
              1,
              "#f0f921"
             ]
            ],
            "type": "surface"
           }
          ],
          "table": [
           {
            "cells": {
             "fill": {
              "color": "#EBF0F8"
             },
             "line": {
              "color": "white"
             }
            },
            "header": {
             "fill": {
              "color": "#C8D4E3"
             },
             "line": {
              "color": "white"
             }
            },
            "type": "table"
           }
          ]
         },
         "layout": {
          "annotationdefaults": {
           "arrowcolor": "#2a3f5f",
           "arrowhead": 0,
           "arrowwidth": 1
          },
          "autotypenumbers": "strict",
          "coloraxis": {
           "colorbar": {
            "outlinewidth": 0,
            "ticks": ""
           }
          },
          "colorscale": {
           "diverging": [
            [
             0,
             "#8e0152"
            ],
            [
             0.1,
             "#c51b7d"
            ],
            [
             0.2,
             "#de77ae"
            ],
            [
             0.3,
             "#f1b6da"
            ],
            [
             0.4,
             "#fde0ef"
            ],
            [
             0.5,
             "#f7f7f7"
            ],
            [
             0.6,
             "#e6f5d0"
            ],
            [
             0.7,
             "#b8e186"
            ],
            [
             0.8,
             "#7fbc41"
            ],
            [
             0.9,
             "#4d9221"
            ],
            [
             1,
             "#276419"
            ]
           ],
           "sequential": [
            [
             0,
             "#0d0887"
            ],
            [
             0.1111111111111111,
             "#46039f"
            ],
            [
             0.2222222222222222,
             "#7201a8"
            ],
            [
             0.3333333333333333,
             "#9c179e"
            ],
            [
             0.4444444444444444,
             "#bd3786"
            ],
            [
             0.5555555555555556,
             "#d8576b"
            ],
            [
             0.6666666666666666,
             "#ed7953"
            ],
            [
             0.7777777777777778,
             "#fb9f3a"
            ],
            [
             0.8888888888888888,
             "#fdca26"
            ],
            [
             1,
             "#f0f921"
            ]
           ],
           "sequentialminus": [
            [
             0,
             "#0d0887"
            ],
            [
             0.1111111111111111,
             "#46039f"
            ],
            [
             0.2222222222222222,
             "#7201a8"
            ],
            [
             0.3333333333333333,
             "#9c179e"
            ],
            [
             0.4444444444444444,
             "#bd3786"
            ],
            [
             0.5555555555555556,
             "#d8576b"
            ],
            [
             0.6666666666666666,
             "#ed7953"
            ],
            [
             0.7777777777777778,
             "#fb9f3a"
            ],
            [
             0.8888888888888888,
             "#fdca26"
            ],
            [
             1,
             "#f0f921"
            ]
           ]
          },
          "colorway": [
           "#636efa",
           "#EF553B",
           "#00cc96",
           "#ab63fa",
           "#FFA15A",
           "#19d3f3",
           "#FF6692",
           "#B6E880",
           "#FF97FF",
           "#FECB52"
          ],
          "font": {
           "color": "#2a3f5f"
          },
          "geo": {
           "bgcolor": "white",
           "lakecolor": "white",
           "landcolor": "#E5ECF6",
           "showlakes": true,
           "showland": true,
           "subunitcolor": "white"
          },
          "hoverlabel": {
           "align": "left"
          },
          "hovermode": "closest",
          "mapbox": {
           "style": "light"
          },
          "paper_bgcolor": "white",
          "plot_bgcolor": "#E5ECF6",
          "polar": {
           "angularaxis": {
            "gridcolor": "white",
            "linecolor": "white",
            "ticks": ""
           },
           "bgcolor": "#E5ECF6",
           "radialaxis": {
            "gridcolor": "white",
            "linecolor": "white",
            "ticks": ""
           }
          },
          "scene": {
           "xaxis": {
            "backgroundcolor": "#E5ECF6",
            "gridcolor": "white",
            "gridwidth": 2,
            "linecolor": "white",
            "showbackground": true,
            "ticks": "",
            "zerolinecolor": "white"
           },
           "yaxis": {
            "backgroundcolor": "#E5ECF6",
            "gridcolor": "white",
            "gridwidth": 2,
            "linecolor": "white",
            "showbackground": true,
            "ticks": "",
            "zerolinecolor": "white"
           },
           "zaxis": {
            "backgroundcolor": "#E5ECF6",
            "gridcolor": "white",
            "gridwidth": 2,
            "linecolor": "white",
            "showbackground": true,
            "ticks": "",
            "zerolinecolor": "white"
           }
          },
          "shapedefaults": {
           "line": {
            "color": "#2a3f5f"
           }
          },
          "ternary": {
           "aaxis": {
            "gridcolor": "white",
            "linecolor": "white",
            "ticks": ""
           },
           "baxis": {
            "gridcolor": "white",
            "linecolor": "white",
            "ticks": ""
           },
           "bgcolor": "#E5ECF6",
           "caxis": {
            "gridcolor": "white",
            "linecolor": "white",
            "ticks": ""
           }
          },
          "title": {
           "x": 0.05
          },
          "xaxis": {
           "automargin": true,
           "gridcolor": "white",
           "linecolor": "white",
           "ticks": "",
           "title": {
            "standoff": 15
           },
           "zerolinecolor": "white",
           "zerolinewidth": 2
          },
          "yaxis": {
           "automargin": true,
           "gridcolor": "white",
           "linecolor": "white",
           "ticks": "",
           "title": {
            "standoff": 15
           },
           "zerolinecolor": "white",
           "zerolinewidth": 2
          }
         }
        },
        "title": {
         "text": "Production of Jazz Stars in Lineups (Donovan Mitchell, Rudy Gobert)"
        },
        "xaxis": {
         "anchor": "y",
         "domain": [
          0,
          1
         ],
         "title": {
          "text": "Season"
         }
        },
        "yaxis": {
         "anchor": "x",
         "domain": [
          0,
          1
         ],
         "title": {
          "text": "PtsPer75"
         }
        }
       }
      }
     },
     "metadata": {},
     "output_type": "display_data"
    }
   ],
   "source": [
    "all_lineups_df_comb = pd.concat([all_lineups_df_reg_season,all_lineups_df_playoffs])\n",
    "all_lineups_df_comb = all_lineups_df_comb[['Lineup','OffPoss','DefPoss','Minutes','Points','Team Points','OpponentPoints','FGA','FTA','Season','Name','Season Type']]\n",
    "all_lineups_df_comb[key_player] = all_lineups_df_comb['Lineup'].apply(lambda x: 1 if key_player in x else 0)\n",
    "all_lineups_df_comb[star_player] = all_lineups_df_comb['Lineup'].apply(lambda x: 1 if star_player in x else 0)\n",
    "\n",
    "# no_stars_df = all_lineups_df_comb[(all_lineups_df_comb[star_player] == 0)&(all_lineups_df_comb[key_player] == 0)][['OffPoss','Minutes','Points','FGA','FTA','Season','Season Type']].groupby(['Season','Season Type']).sum().reset_index()\n",
    "# no_stars_df['PtsPer75'] = round(no_stars_df['Points'] * 75/ no_stars_df['OffPoss'],2)\n",
    "# no_stars_df['TS%'] = round(no_stars_df['Points'] * 100 / (2 * no_stars_df['FGA'] + 0.44 * no_stars_df['FTA']),2)\n",
    "# no_stars_df['Designation'] = 'No Key Players'\n",
    "# no_stars_df_reg, no_stars_df_post = no_stars_df[no_stars_df['Season Type'] == 'Regular Season'], no_stars_df[no_stars_df['Season Type'] == 'Playoffs']\n",
    "# no_stars_df_post = no_stars_df_post.rename(columns={'TS%':\"Playoffs TS%\",'PtsPer75':'Playoffs PtsPer75'})\n",
    "# no_stars_df_comb = no_stars_df_reg.merge(no_stars_df_post[['Season','Playoffs TS%','Playoffs PtsPer75']],on='Season')\n",
    "# no_stars_df_comb['TS% Playoffs Difference'] = round(no_stars_df_comb['Playoffs TS%'] - no_stars_df_comb['TS%'],2)\n",
    "# no_stars_df_comb['PtsPer75 Playoffs Difference'] = (no_stars_df_comb['Playoffs PtsPer75'] - no_stars_df_comb['PtsPer75']).round(2)\n",
    "\n",
    "\n",
    "one_star_df = all_lineups_df_comb[(all_lineups_df_comb[star_player]  + all_lineups_df_comb[key_player] == 1)][['OffPoss','Minutes','Points','FGA','FTA','Season','Name','Season Type']].groupby(['Season','Name','Season Type']).sum().reset_index()\n",
    "one_star_df = one_star_df[one_star_df['Name'].isin([star_player,key_player])]\n",
    "one_star_df['PtsPer75'] = round(one_star_df['Points'] * 75/ one_star_df['OffPoss'],2)\n",
    "one_star_df['TS%'] = round(one_star_df['Points'] * 100 / (2 * one_star_df['FGA'] + 0.44 * one_star_df['FTA']),2)\n",
    "one_star_df['Designation'] = 'One Star Player ' +  '(' + one_star_df['Name'].apply(lambda x: x.split()[-1]) + ')'\n",
    "one_star_df_reg, one_star_df_post = one_star_df[one_star_df['Season Type'] == 'Regular Season'], one_star_df[one_star_df['Season Type'] == 'Playoffs']\n",
    "one_star_df_post = one_star_df_post.rename(columns={'TS%':\"Playoffs TS%\",'PtsPer75':'Playoffs PtsPer75'})\n",
    "one_star_df_comb = one_star_df_reg.merge(one_star_df_post[['Season','Name','Playoffs TS%','Playoffs PtsPer75']],on=['Season','Name'])\n",
    "one_star_df_comb['TS% Playoffs Difference'] = round(one_star_df_comb['Playoffs TS%'] - one_star_df_comb['TS%'],2)\n",
    "one_star_df_comb['PtsPer75 Playoffs Difference'] = round(one_star_df_comb['Playoffs PtsPer75'] - one_star_df_comb['PtsPer75'],2)\n",
    "\n",
    "two_stars_df = all_lineups_df_comb[(all_lineups_df_comb[star_player]  + all_lineups_df_comb[key_player] == 2)][['OffPoss','Minutes','Points','FGA','FTA','Season','Name','Season Type']].groupby(['Season','Name','Season Type']).sum().reset_index()\n",
    "two_stars_df = two_stars_df[two_stars_df['Name'].isin([star_player,key_player])]\n",
    "two_stars_df['PtsPer75'] = round(two_stars_df['Points'] * 75/ two_stars_df['OffPoss'],2)\n",
    "two_stars_df['TS%'] = round(two_stars_df['Points'] * 100 / (2 * two_stars_df['FGA'] + 0.44 * two_stars_df['FTA']),2)\n",
    "two_stars_df['Designation'] = 'Both Stars ' + '(' + two_stars_df['Name'].apply(lambda x: x.split()[-1]) + ')'\n",
    "two_stars_df_reg, two_stars_df_post = two_stars_df[two_stars_df['Season Type'] == 'Regular Season'], two_stars_df[two_stars_df['Season Type'] == 'Playoffs']\n",
    "two_stars_df_post = two_stars_df_post.rename(columns={'TS%':\"Playoffs TS%\",'PtsPer75':'Playoffs PtsPer75'})\n",
    "two_stars_df_comb = two_stars_df_reg.merge(two_stars_df_post[['Season','Name','Playoffs TS%','Playoffs PtsPer75']],on=['Season','Name'])\n",
    "two_stars_df_comb['TS% Playoffs Difference'] = round(two_stars_df_comb['Playoffs TS%'] - two_stars_df_comb['TS%'],2)\n",
    "two_stars_df_comb['PtsPer75 Playoffs Difference'] = round(two_stars_df_comb['Playoffs PtsPer75'] - two_stars_df_comb['PtsPer75'],2)\n",
    "\n",
    "\n",
    "\n",
    "comb_df = pd.concat([one_star_df_comb,two_stars_df_comb]).reset_index(drop=True)\n",
    "\n",
    "fig2 = px.line(comb_df, x = 'Season', y = 'PtsPer75',color = 'Designation',title=f'Production of Jazz Stars in Lineups (Donovan Mitchell, Rudy Gobert)',\n",
    "        hover_data={'TS%':True, 'Minutes':True,'Designation':False,'Season':True,'TS% Playoffs Difference':True,'PtsPer75 Playoffs Difference':True})\n",
    "fig2.show()"
   ]
  },
  {
   "cell_type": "code",
   "execution_count": 13,
   "metadata": {},
   "outputs": [],
   "source": [
    "fig2.write_html(\"file.html\")"
   ]
  },
  {
   "cell_type": "markdown",
   "metadata": {},
   "source": [
    "NBA Podcast (Wharton Moneyball) Notes \n",
    "- Seth Stephens-Davidowitz: Who Makes the NBA?, Everybody Lies\n",
    "- Idea: normalize for height\n",
    "    - Each inch doubles your chances of joining the nba (7 footers have a 1/7 chance, general population)\n",
    "- Idea: MJ is 9th best height-adjusted player\n",
    "    - Muggsy Boges is #1 all time, Chris Paul is #1 among active players\n",
    "- Idea: negative relation between height and athletic abilities/certain skills\n",
    "    - Intuition: you don't have to be as good\n",
    "- Idea: FT% as proxy for clutch shooting (clutch is <= 5 mins remaining in game)\n",
    "    - Other shots tend to be low probability\n",
    "    - Typically players' FT% decreased by 1%\n",
    "    - Influenced primarily by height\n",
    "- Is clutchness multidimensional or singular\n",
    "- Coaching:\n",
    "    - NBA Coaches make the biggest difference\n",
    "    - Best ideas are in blogs\n",
    "        - How good player was before playing for the coach compared to now\n",
    "        - Also adjust for age\n",
    "- Fixed effect model on how often player passes ball when driving to basket\n",
    "- PLayers have incentive to solely score: great coaches get players to be more passive "
   ]
  },
  {
   "cell_type": "markdown",
   "metadata": {},
   "source": [
    "## Game by Game Data (Basic Team Stats, ORTG, think of other ideas)"
   ]
  },
  {
   "cell_type": "markdown",
   "metadata": {},
   "source": [
    "### Create Dataframe (if necessary)"
   ]
  },
  {
   "cell_type": "code",
   "execution_count": 90,
   "metadata": {
    "colab": {
     "base_uri": "https://localhost:8080/"
    },
    "executionInfo": {
     "elapsed": 3251,
     "status": "ok",
     "timestamp": 1691098644035,
     "user": {
      "displayName": "Yash -Nakadi",
      "userId": "07877057732487521410"
     },
     "user_tz": 240
    },
    "id": "4slqsBJAUUuf",
    "outputId": "1226b0c5-d759-4405-f0f6-b4ef97191be5"
   },
   "outputs": [
    {
     "name": "stdout",
     "output_type": "stream",
     "text": [
      "2012-13\n",
      "2013-14\n",
      "2014-15\n",
      "2015-16\n",
      "2016-17\n",
      "2017-18\n",
      "2018-19\n",
      "2019-20\n",
      "2020-21\n",
      "2021-22\n",
      "2022-23\n",
      "2023-24\n"
     ]
    }
   ],
   "source": [
    "dfs = []\n",
    "def get_opponent(stri):\n",
    "  if '@' in stri:\n",
    "    return stri.replace(' ','').split('@')[1]\n",
    "  else:\n",
    "    return stri.replace(' ','').split('.')[1]\n",
    "\n",
    "def get_location(stri):\n",
    "  if '@' in stri:\n",
    "    return 0\n",
    "  else:\n",
    "    return 1\n",
    "start_year = 2012\n",
    "end_year = 2024\n",
    "for season in [str(x) + '-' + str(x + 1)[2:] for x in range(start_year,end_year)]:\n",
    "    print(season)\n",
    "    east_games = leaguegamefinder.LeagueGameFinder(\n",
    "                              league_id_nullable=LeagueID.nba,\n",
    "                              vs_conference_nullable=ConferenceNullable.east,\n",
    "                              season_nullable=season)\n",
    "\n",
    "    west_games = leaguegamefinder.LeagueGameFinder(\n",
    "                              league_id_nullable=LeagueID.nba,\n",
    "                              vs_conference_nullable=ConferenceNullable.west,\n",
    "                              season_nullable=season\n",
    "                              )\n",
    "\n",
    "    # Eastern Conference\n",
    "    east_games_dict = east_games.get_normalized_dict()\n",
    "    east_games = east_games_dict['LeagueGameFinderResults']\n",
    "    east_games_df = pd.DataFrame.from_dict(east_games)\n",
    "    east_games_df['Opponent Conference'] = 'East'\n",
    "    \n",
    "    # Western Conference\n",
    "    west_games_dict = west_games.get_normalized_dict()\n",
    "    west_games = west_games_dict['LeagueGameFinderResults']\n",
    "    west_games_df = pd.DataFrame.from_dict(west_games)\n",
    "    west_games_df['Opponent Conference'] = 'West'\n",
    "    \n",
    "    # Combine them\n",
    "    comb_df = pd.concat([east_games_df, west_games_df]).reset_index(drop=True)\n",
    "    \n",
    "    # Extract Relevant Data\n",
    "    comb_df['GAME_DATE'] = pd.to_datetime(comb_df['GAME_DATE'])\n",
    "    comb_df['GAME_TYPE'] = comb_df['GAME_ID'].apply(lambda x: x[2])\n",
    "    comb_df['SEASON'] = season\n",
    "    \n",
    "    #Filter out preseason, all-star games\n",
    "    comb_df = comb_df[(comb_df['TEAM_ABBREVIATION'].isin(full_name_dict.keys())) & ((comb_df[\"GAME_TYPE\"] != '1') & (comb_df['GAME_TYPE'] != '3'))]\n",
    "    comb_df['PTS Allowed'] = comb_df['PTS'] - comb_df['PLUS_MINUS']\n",
    "    comb_df['Opponent'] = comb_df['MATCHUP'].apply(lambda x: get_opponent(x))\n",
    "    comb_df['At Home'] = comb_df['MATCHUP'].apply(lambda x: get_location(x))\n",
    "    dfs.append(comb_df)\n",
    "game_by_game_df = pd.concat(dfs)\n",
    "game_by_game_df['Win'] = game_by_game_df['WL'].apply(lambda x: 1 if x == 'W' else 0)"
   ]
  },
  {
   "cell_type": "code",
   "execution_count": 91,
   "metadata": {},
   "outputs": [],
   "source": [
    "key_cols = ['TEAM_ABBREVIATION', 'GAME_ID','GAME_DATE', 'PTS', 'PTS Allowed', 'FGM', 'FGA', 'FG_PCT',\n",
    "       'FG3M', 'FG3A', 'FG3_PCT', 'FTM', 'FTA', 'FT_PCT', 'OREB', 'DREB',\n",
    "       'AST', 'STL', 'BLK', 'TOV', 'PF', 'Win']\n",
    "game_by_game_opps_df = game_by_game_df[key_cols]\n",
    "game_by_game_opps_df = game_by_game_opps_df.add_prefix(\"Opponent \")\n",
    "combined_df = game_by_game_df.merge(game_by_game_opps_df,right_on=['Opponent TEAM_ABBREVIATION','Opponent GAME_ID', 'Opponent GAME_DATE'],\n",
    "                           left_on=['Opponent','GAME_ID','GAME_DATE'])\n",
    "combined_df = combined_df.drop(['Opponent TEAM_ABBREVIATION', 'Opponent GAME_ID',\n",
    "       'Opponent GAME_DATE','PLUS_MINUS','TEAM_ID','TEAM_NAME','WL','MIN'],axis=1)"
   ]
  },
  {
   "cell_type": "code",
   "execution_count": 92,
   "metadata": {},
   "outputs": [],
   "source": [
    "combined_df.to_csv('game_by_game.csv', index=False)"
   ]
  },
  {
   "cell_type": "markdown",
   "metadata": {},
   "source": [
    "### Import DataFrame"
   ]
  },
  {
   "cell_type": "code",
   "execution_count": 2,
   "metadata": {},
   "outputs": [],
   "source": [
    "game_by_game_df = pd.read_csv('game_by_game.csv',converters={'GAME_ID': str})"
   ]
  },
  {
   "cell_type": "code",
   "execution_count": 56,
   "metadata": {},
   "outputs": [
    {
     "data": {
      "text/plain": [
       "Index(['SEASON_ID', 'TEAM_ABBREVIATION', 'GAME_ID', 'GAME_DATE', 'MATCHUP',\n",
       "       'PTS', 'FGM', 'FGA', 'FG_PCT', 'FG3M', 'FG3A', 'FG3_PCT', 'FTM', 'FTA',\n",
       "       'FT_PCT', 'OREB', 'DREB', 'REB', 'AST', 'STL', 'BLK', 'TOV', 'PF',\n",
       "       'Opponent Conference', 'GAME_TYPE', 'SEASON', 'PTS Allowed', 'Opponent',\n",
       "       'At Home', 'Win', 'Opponent PTS', 'Opponent PTS Allowed',\n",
       "       'Opponent FGM', 'Opponent FGA', 'Opponent FG_PCT', 'Opponent FG3M',\n",
       "       'Opponent FG3A', 'Opponent FG3_PCT', 'Opponent FTM', 'Opponent FTA',\n",
       "       'Opponent FT_PCT', 'Opponent OREB', 'Opponent DREB', 'Opponent AST',\n",
       "       'Opponent STL', 'Opponent BLK', 'Opponent TOV', 'Opponent PF',\n",
       "       'Opponent Win'],\n",
       "      dtype='object')"
      ]
     },
     "execution_count": 56,
     "metadata": {},
     "output_type": "execute_result"
    }
   ],
   "source": [
    "game_by_game_df.columns"
   ]
  },
  {
   "cell_type": "markdown",
   "metadata": {},
   "source": [
    "### Add Features (maybe remove)"
   ]
  },
  {
   "cell_type": "code",
   "execution_count": 14,
   "metadata": {},
   "outputs": [],
   "source": [
    "off_rating_df = game_by_game_df[['SEASON','GAME_DATE','GAME_ID','GAME_TYPE','TEAM_ABBREVIATION','PTS','TOV','FGA','FGM','FTA','OREB','DREB']]\n",
    "\n",
    "team1_df = off_rating_df.sort_values(by='GAME_ID').reset_index(drop=True).iloc[::2]#[['GAME_ID','TEAM_ABBREVIATION','PTS','TOV','FGA','FGM','FTA','OREB','DREB']]\n",
    "team2_df = off_rating_df.sort_values(by='GAME_ID').reset_index(drop=True).iloc[1::2]\n",
    "\n",
    "comb1_df = team1_df.merge(team2_df.rename(columns={'TEAM_ABBREVIATION':'OPP TEAM_ABBREVIATION','PTS':'OPP PTS','TOV':'OPP TOV','FGA':'OPP FGA','FGM':'OPP FGM','FTA':'OPP FTA','OREB':'OPP OREB','DREB':'OPP DREB'}), on = 'GAME_ID')\n",
    "comb2_df = team2_df.merge(team1_df.rename(columns={'TEAM_ABBREVIATION':'OPP TEAM_ABBREVIATION','PTS':'OPP PTS','TOV':'OPP TOV','FGA':'OPP FGA','FGM':'OPP FGM','FTA':'OPP FTA','OREB':'OPP OREB','DREB':'OPP DREB'}), on = 'GAME_ID')\n",
    "new_stats_df = pd.concat([comb1_df,comb2_df]).sort_values(by='GAME_ID')\n",
    "new_stats_df = new_stats_df.drop(['SEASON_y','GAME_DATE_y','GAME_TYPE_y'],axis=1)\n",
    "new_stats_df = new_stats_df.rename(columns = {'SEASON_x' : 'SEASON', 'GAME_DATE_x' : 'GAME_DATE','GAME_TYPE_x':'GAME_TYPE'})"
   ]
  },
  {
   "cell_type": "code",
   "execution_count": 15,
   "metadata": {},
   "outputs": [],
   "source": [
    "# Pt 1: (Tm FGA + 0.4 * Tm FTA - 1.07 * (Tm ORB / (Tm ORB + Opp DRB)) * (Tm FGA - Tm FG) + Tm TOV)\n",
    "# Pt 2: (Opp FGA + 0.4 * Opp FTA - 1.07 * (Opp ORB / (Opp ORB + Tm DRB)) * (Opp FGA - Opp FG) + Opp TOV)\n",
    "def calc_possessions(row):\n",
    "    pt1 = (row['FGA'] + 0.4 * row['FTA'] - 1.07 * (row['OREB'] / (row['OREB'] + row['OPP DREB'])) * (row['FGA'] - row['FGM']) + row['TOV'])\n",
    "    pt2 = (row['OPP FGA'] + 0.4 * row['OPP FTA'] - 1.07 * (row['OPP OREB'] / (row['OPP OREB'] + row['DREB'])) * (row['OPP FGA'] - row['OPP FGM']) + row['OPP TOV'])\n",
    "    return (pt1 + pt2) * 0.5\n",
    "\n",
    "def calc_offrating(row):\n",
    "    pt1 = (row['FGA'] + 0.4 * row['FTA'] - 1.07 * (row['OREB'] / (row['OREB'] + row['OPP DREB'])) * (row['FGA'] - row['FGM']) + row['TOV'])\n",
    "    pt2 = (row['OPP FGA'] + 0.4 * row['OPP FTA'] - 1.07 * (row['OPP OREB'] / (row['OPP OREB'] + row['DREB'])) * (row['OPP FGA'] - row['OPP FGM']) + row['OPP TOV'])\n",
    "    return round(row['PTS'] * 200 / (pt1 + pt2),1)\n",
    "\n",
    "def calc_defrating(row):\n",
    "    pt1 = (row['FGA'] + 0.4 * row['FTA'] - 1.07 * (row['OREB'] / (row['OREB'] + row['OPP DREB'])) * (row['FGA'] - row['FGM']) + row['TOV'])\n",
    "    pt2 = (row['OPP FGA'] + 0.4 * row['OPP FTA'] - 1.07 * (row['OPP OREB'] / (row['OPP OREB'] + row['DREB'])) * (row['OPP FGA'] - row['OPP FGM']) + row['OPP TOV'])\n",
    "    return row['OPP PTS'] * 200 / (pt1 + pt2)\n",
    "\n",
    "new_stats_df['NUM POSSESSIONS'] = new_stats_df.apply(lambda row: calc_possessions(row), axis = 1)\n",
    "new_stats_df['OFF RATING'] = 100 * new_stats_df['PTS'] / new_stats_df['NUM POSSESSIONS']\n",
    "new_stats_df['DEF RATING'] = 100 * new_stats_df['OPP PTS'] / new_stats_df['NUM POSSESSIONS']\n",
    "new_stats_df['NET RATING'] = new_stats_df['OFF RATING'] - new_stats_df['DEF RATING']"
   ]
  },
  {
   "cell_type": "code",
   "execution_count": 17,
   "metadata": {},
   "outputs": [
    {
     "data": {
      "text/html": [
       "<div>\n",
       "<style scoped>\n",
       "    .dataframe tbody tr th:only-of-type {\n",
       "        vertical-align: middle;\n",
       "    }\n",
       "\n",
       "    .dataframe tbody tr th {\n",
       "        vertical-align: top;\n",
       "    }\n",
       "\n",
       "    .dataframe thead th {\n",
       "        text-align: right;\n",
       "    }\n",
       "</style>\n",
       "<table border=\"1\" class=\"dataframe\">\n",
       "  <thead>\n",
       "    <tr style=\"text-align: right;\">\n",
       "      <th></th>\n",
       "      <th>SEASON</th>\n",
       "      <th>GAME_DATE</th>\n",
       "      <th>GAME_ID</th>\n",
       "      <th>GAME_TYPE</th>\n",
       "      <th>TEAM_ABBREVIATION</th>\n",
       "      <th>PTS</th>\n",
       "      <th>TOV</th>\n",
       "      <th>FGA</th>\n",
       "      <th>FGM</th>\n",
       "      <th>FTA</th>\n",
       "      <th>...</th>\n",
       "      <th>OPP TOV</th>\n",
       "      <th>OPP FGA</th>\n",
       "      <th>OPP FGM</th>\n",
       "      <th>OPP FTA</th>\n",
       "      <th>OPP OREB</th>\n",
       "      <th>OPP DREB</th>\n",
       "      <th>NUM POSSESSIONS</th>\n",
       "      <th>OFF RATING</th>\n",
       "      <th>DEF RATING</th>\n",
       "      <th>NET RATING</th>\n",
       "    </tr>\n",
       "  </thead>\n",
       "  <tbody>\n",
       "    <tr>\n",
       "      <th>13371</th>\n",
       "      <td>2017-18</td>\n",
       "      <td>2018-04-15</td>\n",
       "      <td>0041700141</td>\n",
       "      <td>4</td>\n",
       "      <td>MIN</td>\n",
       "      <td>101</td>\n",
       "      <td>13</td>\n",
       "      <td>80</td>\n",
       "      <td>35</td>\n",
       "      <td>28</td>\n",
       "      <td>...</td>\n",
       "      <td>11</td>\n",
       "      <td>83</td>\n",
       "      <td>39</td>\n",
       "      <td>23</td>\n",
       "      <td>8</td>\n",
       "      <td>29</td>\n",
       "      <td>92.799375</td>\n",
       "      <td>108.836940</td>\n",
       "      <td>112.069720</td>\n",
       "      <td>-3.232780</td>\n",
       "    </tr>\n",
       "    <tr>\n",
       "      <th>13372</th>\n",
       "      <td>2017-18</td>\n",
       "      <td>2018-04-18</td>\n",
       "      <td>0041700142</td>\n",
       "      <td>4</td>\n",
       "      <td>MIN</td>\n",
       "      <td>82</td>\n",
       "      <td>16</td>\n",
       "      <td>80</td>\n",
       "      <td>31</td>\n",
       "      <td>21</td>\n",
       "      <td>...</td>\n",
       "      <td>9</td>\n",
       "      <td>96</td>\n",
       "      <td>35</td>\n",
       "      <td>21</td>\n",
       "      <td>12</td>\n",
       "      <td>42</td>\n",
       "      <td>97.153460</td>\n",
       "      <td>84.402553</td>\n",
       "      <td>104.988541</td>\n",
       "      <td>-20.585988</td>\n",
       "    </tr>\n",
       "    <tr>\n",
       "      <th>13373</th>\n",
       "      <td>2017-18</td>\n",
       "      <td>2018-04-21</td>\n",
       "      <td>0041700143</td>\n",
       "      <td>4</td>\n",
       "      <td>MIN</td>\n",
       "      <td>121</td>\n",
       "      <td>7</td>\n",
       "      <td>90</td>\n",
       "      <td>45</td>\n",
       "      <td>22</td>\n",
       "      <td>...</td>\n",
       "      <td>10</td>\n",
       "      <td>81</td>\n",
       "      <td>37</td>\n",
       "      <td>25</td>\n",
       "      <td>7</td>\n",
       "      <td>32</td>\n",
       "      <td>94.465500</td>\n",
       "      <td>128.089091</td>\n",
       "      <td>111.151690</td>\n",
       "      <td>16.937400</td>\n",
       "    </tr>\n",
       "    <tr>\n",
       "      <th>13374</th>\n",
       "      <td>2017-18</td>\n",
       "      <td>2018-04-23</td>\n",
       "      <td>0041700144</td>\n",
       "      <td>4</td>\n",
       "      <td>MIN</td>\n",
       "      <td>100</td>\n",
       "      <td>16</td>\n",
       "      <td>84</td>\n",
       "      <td>39</td>\n",
       "      <td>23</td>\n",
       "      <td>...</td>\n",
       "      <td>6</td>\n",
       "      <td>92</td>\n",
       "      <td>40</td>\n",
       "      <td>26</td>\n",
       "      <td>10</td>\n",
       "      <td>36</td>\n",
       "      <td>97.770471</td>\n",
       "      <td>102.280371</td>\n",
       "      <td>121.713641</td>\n",
       "      <td>-19.433270</td>\n",
       "    </tr>\n",
       "    <tr>\n",
       "      <th>13375</th>\n",
       "      <td>2017-18</td>\n",
       "      <td>2018-04-25</td>\n",
       "      <td>0041700145</td>\n",
       "      <td>4</td>\n",
       "      <td>MIN</td>\n",
       "      <td>104</td>\n",
       "      <td>8</td>\n",
       "      <td>79</td>\n",
       "      <td>40</td>\n",
       "      <td>20</td>\n",
       "      <td>...</td>\n",
       "      <td>4</td>\n",
       "      <td>88</td>\n",
       "      <td>45</td>\n",
       "      <td>19</td>\n",
       "      <td>8</td>\n",
       "      <td>32</td>\n",
       "      <td>89.991625</td>\n",
       "      <td>115.566310</td>\n",
       "      <td>135.568171</td>\n",
       "      <td>-20.001861</td>\n",
       "    </tr>\n",
       "    <tr>\n",
       "      <th>13704</th>\n",
       "      <td>2021-22</td>\n",
       "      <td>2022-04-16</td>\n",
       "      <td>0042100151</td>\n",
       "      <td>4</td>\n",
       "      <td>MIN</td>\n",
       "      <td>130</td>\n",
       "      <td>18</td>\n",
       "      <td>90</td>\n",
       "      <td>45</td>\n",
       "      <td>27</td>\n",
       "      <td>...</td>\n",
       "      <td>12</td>\n",
       "      <td>86</td>\n",
       "      <td>39</td>\n",
       "      <td>43</td>\n",
       "      <td>8</td>\n",
       "      <td>27</td>\n",
       "      <td>105.352782</td>\n",
       "      <td>123.394939</td>\n",
       "      <td>111.055445</td>\n",
       "      <td>12.339494</td>\n",
       "    </tr>\n",
       "    <tr>\n",
       "      <th>13705</th>\n",
       "      <td>2021-22</td>\n",
       "      <td>2022-04-19</td>\n",
       "      <td>0042100152</td>\n",
       "      <td>4</td>\n",
       "      <td>MIN</td>\n",
       "      <td>96</td>\n",
       "      <td>19</td>\n",
       "      <td>76</td>\n",
       "      <td>30</td>\n",
       "      <td>28</td>\n",
       "      <td>...</td>\n",
       "      <td>9</td>\n",
       "      <td>92</td>\n",
       "      <td>44</td>\n",
       "      <td>32</td>\n",
       "      <td>14</td>\n",
       "      <td>34</td>\n",
       "      <td>100.219074</td>\n",
       "      <td>95.790149</td>\n",
       "      <td>123.728942</td>\n",
       "      <td>-27.938793</td>\n",
       "    </tr>\n",
       "    <tr>\n",
       "      <th>13706</th>\n",
       "      <td>2021-22</td>\n",
       "      <td>2022-04-21</td>\n",
       "      <td>0042100153</td>\n",
       "      <td>4</td>\n",
       "      <td>MIN</td>\n",
       "      <td>95</td>\n",
       "      <td>16</td>\n",
       "      <td>85</td>\n",
       "      <td>33</td>\n",
       "      <td>23</td>\n",
       "      <td>...</td>\n",
       "      <td>18</td>\n",
       "      <td>83</td>\n",
       "      <td>35</td>\n",
       "      <td>31</td>\n",
       "      <td>13</td>\n",
       "      <td>35</td>\n",
       "      <td>98.690879</td>\n",
       "      <td>96.260162</td>\n",
       "      <td>105.379546</td>\n",
       "      <td>-9.119384</td>\n",
       "    </tr>\n",
       "    <tr>\n",
       "      <th>13707</th>\n",
       "      <td>2021-22</td>\n",
       "      <td>2022-04-23</td>\n",
       "      <td>0042100154</td>\n",
       "      <td>4</td>\n",
       "      <td>MIN</td>\n",
       "      <td>119</td>\n",
       "      <td>15</td>\n",
       "      <td>74</td>\n",
       "      <td>35</td>\n",
       "      <td>40</td>\n",
       "      <td>...</td>\n",
       "      <td>17</td>\n",
       "      <td>86</td>\n",
       "      <td>42</td>\n",
       "      <td>25</td>\n",
       "      <td>6</td>\n",
       "      <td>33</td>\n",
       "      <td>101.635882</td>\n",
       "      <td>117.084633</td>\n",
       "      <td>116.100729</td>\n",
       "      <td>0.983904</td>\n",
       "    </tr>\n",
       "    <tr>\n",
       "      <th>13708</th>\n",
       "      <td>2021-22</td>\n",
       "      <td>2022-04-26</td>\n",
       "      <td>0042100155</td>\n",
       "      <td>4</td>\n",
       "      <td>MIN</td>\n",
       "      <td>109</td>\n",
       "      <td>22</td>\n",
       "      <td>83</td>\n",
       "      <td>37</td>\n",
       "      <td>24</td>\n",
       "      <td>...</td>\n",
       "      <td>16</td>\n",
       "      <td>94</td>\n",
       "      <td>39</td>\n",
       "      <td>39</td>\n",
       "      <td>18</td>\n",
       "      <td>35</td>\n",
       "      <td>106.690203</td>\n",
       "      <td>102.164957</td>\n",
       "      <td>104.039543</td>\n",
       "      <td>-1.874586</td>\n",
       "    </tr>\n",
       "    <tr>\n",
       "      <th>13709</th>\n",
       "      <td>2021-22</td>\n",
       "      <td>2022-04-29</td>\n",
       "      <td>0042100156</td>\n",
       "      <td>4</td>\n",
       "      <td>MIN</td>\n",
       "      <td>106</td>\n",
       "      <td>11</td>\n",
       "      <td>84</td>\n",
       "      <td>38</td>\n",
       "      <td>26</td>\n",
       "      <td>...</td>\n",
       "      <td>18</td>\n",
       "      <td>86</td>\n",
       "      <td>40</td>\n",
       "      <td>24</td>\n",
       "      <td>16</td>\n",
       "      <td>39</td>\n",
       "      <td>97.840794</td>\n",
       "      <td>108.339268</td>\n",
       "      <td>116.515816</td>\n",
       "      <td>-8.176548</td>\n",
       "    </tr>\n",
       "    <tr>\n",
       "      <th>13785</th>\n",
       "      <td>2022-23</td>\n",
       "      <td>2023-04-16</td>\n",
       "      <td>0042200141</td>\n",
       "      <td>4</td>\n",
       "      <td>MIN</td>\n",
       "      <td>80</td>\n",
       "      <td>11</td>\n",
       "      <td>81</td>\n",
       "      <td>30</td>\n",
       "      <td>16</td>\n",
       "      <td>...</td>\n",
       "      <td>10</td>\n",
       "      <td>90</td>\n",
       "      <td>41</td>\n",
       "      <td>17</td>\n",
       "      <td>11</td>\n",
       "      <td>43</td>\n",
       "      <td>93.204062</td>\n",
       "      <td>85.833168</td>\n",
       "      <td>116.947692</td>\n",
       "      <td>-31.114524</td>\n",
       "    </tr>\n",
       "    <tr>\n",
       "      <th>13786</th>\n",
       "      <td>2022-23</td>\n",
       "      <td>2023-04-19</td>\n",
       "      <td>0042200142</td>\n",
       "      <td>4</td>\n",
       "      <td>MIN</td>\n",
       "      <td>113</td>\n",
       "      <td>13</td>\n",
       "      <td>79</td>\n",
       "      <td>40</td>\n",
       "      <td>23</td>\n",
       "      <td>...</td>\n",
       "      <td>10</td>\n",
       "      <td>85</td>\n",
       "      <td>46</td>\n",
       "      <td>25</td>\n",
       "      <td>9</td>\n",
       "      <td>27</td>\n",
       "      <td>92.518464</td>\n",
       "      <td>122.137782</td>\n",
       "      <td>131.865570</td>\n",
       "      <td>-9.727788</td>\n",
       "    </tr>\n",
       "    <tr>\n",
       "      <th>13787</th>\n",
       "      <td>2022-23</td>\n",
       "      <td>2023-04-21</td>\n",
       "      <td>0042200143</td>\n",
       "      <td>4</td>\n",
       "      <td>MIN</td>\n",
       "      <td>111</td>\n",
       "      <td>13</td>\n",
       "      <td>79</td>\n",
       "      <td>36</td>\n",
       "      <td>35</td>\n",
       "      <td>...</td>\n",
       "      <td>14</td>\n",
       "      <td>84</td>\n",
       "      <td>48</td>\n",
       "      <td>13</td>\n",
       "      <td>5</td>\n",
       "      <td>35</td>\n",
       "      <td>98.126963</td>\n",
       "      <td>113.118756</td>\n",
       "      <td>122.290547</td>\n",
       "      <td>-9.171791</td>\n",
       "    </tr>\n",
       "    <tr>\n",
       "      <th>13788</th>\n",
       "      <td>2022-23</td>\n",
       "      <td>2023-04-23</td>\n",
       "      <td>0042200144</td>\n",
       "      <td>4</td>\n",
       "      <td>MIN</td>\n",
       "      <td>114</td>\n",
       "      <td>11</td>\n",
       "      <td>93</td>\n",
       "      <td>42</td>\n",
       "      <td>22</td>\n",
       "      <td>...</td>\n",
       "      <td>11</td>\n",
       "      <td>95</td>\n",
       "      <td>42</td>\n",
       "      <td>18</td>\n",
       "      <td>10</td>\n",
       "      <td>37</td>\n",
       "      <td>99.477021</td>\n",
       "      <td>114.599330</td>\n",
       "      <td>108.567786</td>\n",
       "      <td>6.031544</td>\n",
       "    </tr>\n",
       "    <tr>\n",
       "      <th>13789</th>\n",
       "      <td>2022-23</td>\n",
       "      <td>2023-04-25</td>\n",
       "      <td>0042200145</td>\n",
       "      <td>4</td>\n",
       "      <td>MIN</td>\n",
       "      <td>109</td>\n",
       "      <td>14</td>\n",
       "      <td>81</td>\n",
       "      <td>41</td>\n",
       "      <td>25</td>\n",
       "      <td>...</td>\n",
       "      <td>12</td>\n",
       "      <td>85</td>\n",
       "      <td>34</td>\n",
       "      <td>36</td>\n",
       "      <td>16</td>\n",
       "      <td>31</td>\n",
       "      <td>94.715256</td>\n",
       "      <td>115.081777</td>\n",
       "      <td>118.249165</td>\n",
       "      <td>-3.167388</td>\n",
       "    </tr>\n",
       "  </tbody>\n",
       "</table>\n",
       "<p>16 rows × 24 columns</p>\n",
       "</div>"
      ],
      "text/plain": [
       "        SEASON   GAME_DATE     GAME_ID  GAME_TYPE TEAM_ABBREVIATION  PTS  TOV  \\\n",
       "13371  2017-18  2018-04-15  0041700141          4               MIN  101   13   \n",
       "13372  2017-18  2018-04-18  0041700142          4               MIN   82   16   \n",
       "13373  2017-18  2018-04-21  0041700143          4               MIN  121    7   \n",
       "13374  2017-18  2018-04-23  0041700144          4               MIN  100   16   \n",
       "13375  2017-18  2018-04-25  0041700145          4               MIN  104    8   \n",
       "13704  2021-22  2022-04-16  0042100151          4               MIN  130   18   \n",
       "13705  2021-22  2022-04-19  0042100152          4               MIN   96   19   \n",
       "13706  2021-22  2022-04-21  0042100153          4               MIN   95   16   \n",
       "13707  2021-22  2022-04-23  0042100154          4               MIN  119   15   \n",
       "13708  2021-22  2022-04-26  0042100155          4               MIN  109   22   \n",
       "13709  2021-22  2022-04-29  0042100156          4               MIN  106   11   \n",
       "13785  2022-23  2023-04-16  0042200141          4               MIN   80   11   \n",
       "13786  2022-23  2023-04-19  0042200142          4               MIN  113   13   \n",
       "13787  2022-23  2023-04-21  0042200143          4               MIN  111   13   \n",
       "13788  2022-23  2023-04-23  0042200144          4               MIN  114   11   \n",
       "13789  2022-23  2023-04-25  0042200145          4               MIN  109   14   \n",
       "\n",
       "       FGA  FGM  FTA  ...  OPP TOV  OPP FGA OPP FGM  OPP FTA  OPP OREB  \\\n",
       "13371   80   35   28  ...       11       83      39       23         8   \n",
       "13372   80   31   21  ...        9       96      35       21        12   \n",
       "13373   90   45   22  ...       10       81      37       25         7   \n",
       "13374   84   39   23  ...        6       92      40       26        10   \n",
       "13375   79   40   20  ...        4       88      45       19         8   \n",
       "13704   90   45   27  ...       12       86      39       43         8   \n",
       "13705   76   30   28  ...        9       92      44       32        14   \n",
       "13706   85   33   23  ...       18       83      35       31        13   \n",
       "13707   74   35   40  ...       17       86      42       25         6   \n",
       "13708   83   37   24  ...       16       94      39       39        18   \n",
       "13709   84   38   26  ...       18       86      40       24        16   \n",
       "13785   81   30   16  ...       10       90      41       17        11   \n",
       "13786   79   40   23  ...       10       85      46       25         9   \n",
       "13787   79   36   35  ...       14       84      48       13         5   \n",
       "13788   93   42   22  ...       11       95      42       18        10   \n",
       "13789   81   41   25  ...       12       85      34       36        16   \n",
       "\n",
       "       OPP DREB  NUM POSSESSIONS  OFF RATING  DEF RATING  NET RATING  \n",
       "13371        29        92.799375  108.836940  112.069720   -3.232780  \n",
       "13372        42        97.153460   84.402553  104.988541  -20.585988  \n",
       "13373        32        94.465500  128.089091  111.151690   16.937400  \n",
       "13374        36        97.770471  102.280371  121.713641  -19.433270  \n",
       "13375        32        89.991625  115.566310  135.568171  -20.001861  \n",
       "13704        27       105.352782  123.394939  111.055445   12.339494  \n",
       "13705        34       100.219074   95.790149  123.728942  -27.938793  \n",
       "13706        35        98.690879   96.260162  105.379546   -9.119384  \n",
       "13707        33       101.635882  117.084633  116.100729    0.983904  \n",
       "13708        35       106.690203  102.164957  104.039543   -1.874586  \n",
       "13709        39        97.840794  108.339268  116.515816   -8.176548  \n",
       "13785        43        93.204062   85.833168  116.947692  -31.114524  \n",
       "13786        27        92.518464  122.137782  131.865570   -9.727788  \n",
       "13787        35        98.126963  113.118756  122.290547   -9.171791  \n",
       "13788        37        99.477021  114.599330  108.567786    6.031544  \n",
       "13789        31        94.715256  115.081777  118.249165   -3.167388  \n",
       "\n",
       "[16 rows x 24 columns]"
      ]
     },
     "execution_count": 17,
     "metadata": {},
     "output_type": "execute_result"
    }
   ],
   "source": [
    "new_stats_df[(new_stats_df['GAME_TYPE']==4)&(new_stats_df['GAME_DATE']<'2025-01-01')&(new_stats_df['TEAM_ABBREVIATION']=='MIN')]"
   ]
  },
  {
   "cell_type": "code",
   "execution_count": 18,
   "metadata": {},
   "outputs": [
    {
     "data": {
      "text/html": [
       "<div>\n",
       "<style scoped>\n",
       "    .dataframe tbody tr th:only-of-type {\n",
       "        vertical-align: middle;\n",
       "    }\n",
       "\n",
       "    .dataframe tbody tr th {\n",
       "        vertical-align: top;\n",
       "    }\n",
       "\n",
       "    .dataframe thead th {\n",
       "        text-align: right;\n",
       "    }\n",
       "</style>\n",
       "<table border=\"1\" class=\"dataframe\">\n",
       "  <thead>\n",
       "    <tr style=\"text-align: right;\">\n",
       "      <th></th>\n",
       "      <th>PTS</th>\n",
       "      <th>OPP PTS</th>\n",
       "      <th>NUM POSSESSIONS</th>\n",
       "      <th>OFF RATING</th>\n",
       "      <th>DEF RATING</th>\n",
       "      <th>NET RATING</th>\n",
       "    </tr>\n",
       "    <tr>\n",
       "      <th>TEAM</th>\n",
       "      <th></th>\n",
       "      <th></th>\n",
       "      <th></th>\n",
       "      <th></th>\n",
       "      <th></th>\n",
       "      <th></th>\n",
       "    </tr>\n",
       "  </thead>\n",
       "  <tbody>\n",
       "    <tr>\n",
       "      <th>DEN 2022-23</th>\n",
       "      <td>9495</td>\n",
       "      <td>9222</td>\n",
       "      <td>8024.116694</td>\n",
       "      <td>118.3</td>\n",
       "      <td>114.9</td>\n",
       "      <td>3.4</td>\n",
       "    </tr>\n",
       "    <tr>\n",
       "      <th>POR 2020-21</th>\n",
       "      <td>8360</td>\n",
       "      <td>8231</td>\n",
       "      <td>7068.430953</td>\n",
       "      <td>118.3</td>\n",
       "      <td>116.4</td>\n",
       "      <td>1.9</td>\n",
       "    </tr>\n",
       "    <tr>\n",
       "      <th>LAC 2020-21</th>\n",
       "      <td>8209</td>\n",
       "      <td>7764</td>\n",
       "      <td>6934.288319</td>\n",
       "      <td>118.4</td>\n",
       "      <td>112.0</td>\n",
       "      <td>6.4</td>\n",
       "    </tr>\n",
       "    <tr>\n",
       "      <th>UTA 2020-21</th>\n",
       "      <td>8382</td>\n",
       "      <td>7716</td>\n",
       "      <td>7081.034552</td>\n",
       "      <td>118.4</td>\n",
       "      <td>109.0</td>\n",
       "      <td>9.4</td>\n",
       "    </tr>\n",
       "    <tr>\n",
       "      <th>GSW 2023-24</th>\n",
       "      <td>8063</td>\n",
       "      <td>7941</td>\n",
       "      <td>6794.982815</td>\n",
       "      <td>118.7</td>\n",
       "      <td>116.9</td>\n",
       "      <td>1.8</td>\n",
       "    </tr>\n",
       "    <tr>\n",
       "      <th>ATL 2023-24</th>\n",
       "      <td>8095</td>\n",
       "      <td>8232</td>\n",
       "      <td>6822.229274</td>\n",
       "      <td>118.7</td>\n",
       "      <td>120.7</td>\n",
       "      <td>-2.0</td>\n",
       "    </tr>\n",
       "    <tr>\n",
       "      <th>NOP 2023-24</th>\n",
       "      <td>7886</td>\n",
       "      <td>7528</td>\n",
       "      <td>6637.716895</td>\n",
       "      <td>118.8</td>\n",
       "      <td>113.4</td>\n",
       "      <td>5.4</td>\n",
       "    </tr>\n",
       "    <tr>\n",
       "      <th>PHX 2023-24</th>\n",
       "      <td>8067</td>\n",
       "      <td>7893</td>\n",
       "      <td>6791.678227</td>\n",
       "      <td>118.8</td>\n",
       "      <td>116.2</td>\n",
       "      <td>2.6</td>\n",
       "    </tr>\n",
       "    <tr>\n",
       "      <th>BOS 2022-23</th>\n",
       "      <td>9671</td>\n",
       "      <td>9136</td>\n",
       "      <td>8141.908019</td>\n",
       "      <td>118.8</td>\n",
       "      <td>112.2</td>\n",
       "      <td>6.6</td>\n",
       "    </tr>\n",
       "    <tr>\n",
       "      <th>NYK 2022-23</th>\n",
       "      <td>9514</td>\n",
       "      <td>9274</td>\n",
       "      <td>8007.075056</td>\n",
       "      <td>118.8</td>\n",
       "      <td>115.8</td>\n",
       "      <td>3.0</td>\n",
       "    </tr>\n",
       "    <tr>\n",
       "      <th>PHI 2022-23</th>\n",
       "      <td>9448</td>\n",
       "      <td>9094</td>\n",
       "      <td>7955.006215</td>\n",
       "      <td>118.8</td>\n",
       "      <td>114.3</td>\n",
       "      <td>4.5</td>\n",
       "    </tr>\n",
       "    <tr>\n",
       "      <th>BKN 2020-21</th>\n",
       "      <td>8537</td>\n",
       "      <td>8213</td>\n",
       "      <td>7180.690201</td>\n",
       "      <td>118.9</td>\n",
       "      <td>114.4</td>\n",
       "      <td>4.5</td>\n",
       "    </tr>\n",
       "    <tr>\n",
       "      <th>DAL 2023-24</th>\n",
       "      <td>8192</td>\n",
       "      <td>8096</td>\n",
       "      <td>6875.136044</td>\n",
       "      <td>119.2</td>\n",
       "      <td>117.8</td>\n",
       "      <td>1.4</td>\n",
       "    </tr>\n",
       "    <tr>\n",
       "      <th>DEN 2023-24</th>\n",
       "      <td>7913</td>\n",
       "      <td>7606</td>\n",
       "      <td>6633.628785</td>\n",
       "      <td>119.3</td>\n",
       "      <td>114.7</td>\n",
       "      <td>4.6</td>\n",
       "    </tr>\n",
       "    <tr>\n",
       "      <th>SAC 2022-23</th>\n",
       "      <td>9898</td>\n",
       "      <td>9681</td>\n",
       "      <td>8247.960572</td>\n",
       "      <td>120.0</td>\n",
       "      <td>117.4</td>\n",
       "      <td>2.6</td>\n",
       "    </tr>\n",
       "    <tr>\n",
       "      <th>MIL 2023-24</th>\n",
       "      <td>8327</td>\n",
       "      <td>8097</td>\n",
       "      <td>6919.963707</td>\n",
       "      <td>120.3</td>\n",
       "      <td>117.0</td>\n",
       "      <td>3.3</td>\n",
       "    </tr>\n",
       "    <tr>\n",
       "      <th>LAC 2023-24</th>\n",
       "      <td>7920</td>\n",
       "      <td>7648</td>\n",
       "      <td>6571.567403</td>\n",
       "      <td>120.5</td>\n",
       "      <td>116.4</td>\n",
       "      <td>4.1</td>\n",
       "    </tr>\n",
       "    <tr>\n",
       "      <th>IND 2023-24</th>\n",
       "      <td>8597</td>\n",
       "      <td>8448</td>\n",
       "      <td>7098.644856</td>\n",
       "      <td>121.1</td>\n",
       "      <td>119.0</td>\n",
       "      <td>2.1</td>\n",
       "    </tr>\n",
       "    <tr>\n",
       "      <th>OKC 2023-24</th>\n",
       "      <td>8208</td>\n",
       "      <td>7684</td>\n",
       "      <td>6772.597837</td>\n",
       "      <td>121.2</td>\n",
       "      <td>113.5</td>\n",
       "      <td>7.7</td>\n",
       "    </tr>\n",
       "    <tr>\n",
       "      <th>BOS 2023-24</th>\n",
       "      <td>8349</td>\n",
       "      <td>7554</td>\n",
       "      <td>6733.010125</td>\n",
       "      <td>124.0</td>\n",
       "      <td>112.2</td>\n",
       "      <td>11.8</td>\n",
       "    </tr>\n",
       "  </tbody>\n",
       "</table>\n",
       "</div>"
      ],
      "text/plain": [
       "              PTS  OPP PTS  NUM POSSESSIONS  OFF RATING  DEF RATING  \\\n",
       "TEAM                                                                  \n",
       "DEN 2022-23  9495     9222      8024.116694       118.3       114.9   \n",
       "POR 2020-21  8360     8231      7068.430953       118.3       116.4   \n",
       "LAC 2020-21  8209     7764      6934.288319       118.4       112.0   \n",
       "UTA 2020-21  8382     7716      7081.034552       118.4       109.0   \n",
       "GSW 2023-24  8063     7941      6794.982815       118.7       116.9   \n",
       "ATL 2023-24  8095     8232      6822.229274       118.7       120.7   \n",
       "NOP 2023-24  7886     7528      6637.716895       118.8       113.4   \n",
       "PHX 2023-24  8067     7893      6791.678227       118.8       116.2   \n",
       "BOS 2022-23  9671     9136      8141.908019       118.8       112.2   \n",
       "NYK 2022-23  9514     9274      8007.075056       118.8       115.8   \n",
       "PHI 2022-23  9448     9094      7955.006215       118.8       114.3   \n",
       "BKN 2020-21  8537     8213      7180.690201       118.9       114.4   \n",
       "DAL 2023-24  8192     8096      6875.136044       119.2       117.8   \n",
       "DEN 2023-24  7913     7606      6633.628785       119.3       114.7   \n",
       "SAC 2022-23  9898     9681      8247.960572       120.0       117.4   \n",
       "MIL 2023-24  8327     8097      6919.963707       120.3       117.0   \n",
       "LAC 2023-24  7920     7648      6571.567403       120.5       116.4   \n",
       "IND 2023-24  8597     8448      7098.644856       121.1       119.0   \n",
       "OKC 2023-24  8208     7684      6772.597837       121.2       113.5   \n",
       "BOS 2023-24  8349     7554      6733.010125       124.0       112.2   \n",
       "\n",
       "             NET RATING  \n",
       "TEAM                     \n",
       "DEN 2022-23         3.4  \n",
       "POR 2020-21         1.9  \n",
       "LAC 2020-21         6.4  \n",
       "UTA 2020-21         9.4  \n",
       "GSW 2023-24         1.8  \n",
       "ATL 2023-24        -2.0  \n",
       "NOP 2023-24         5.4  \n",
       "PHX 2023-24         2.6  \n",
       "BOS 2022-23         6.6  \n",
       "NYK 2022-23         3.0  \n",
       "PHI 2022-23         4.5  \n",
       "BKN 2020-21         4.5  \n",
       "DAL 2023-24         1.4  \n",
       "DEN 2023-24         4.6  \n",
       "SAC 2022-23         2.6  \n",
       "MIL 2023-24         3.3  \n",
       "LAC 2023-24         4.1  \n",
       "IND 2023-24         2.1  \n",
       "OKC 2023-24         7.7  \n",
       "BOS 2023-24        11.8  "
      ]
     },
     "execution_count": 18,
     "metadata": {},
     "output_type": "execute_result"
    }
   ],
   "source": [
    "new_stats_reg_df = new_stats_df[new_stats_df['GAME_TYPE'] == 2][['SEASON','TEAM_ABBREVIATION','PTS','OPP PTS','NUM POSSESSIONS']]\n",
    "new_stats_reg_df['TEAM'] = new_stats_reg_df['TEAM_ABBREVIATION'] + ' ' + new_stats_reg_df['SEASON']\n",
    "season_stats_df = new_stats_reg_df[['TEAM','PTS','OPP PTS','NUM POSSESSIONS']].groupby('TEAM').sum()\n",
    "season_stats_df['OFF RATING'] = round(100 * season_stats_df['PTS'] / season_stats_df['NUM POSSESSIONS'],1)\n",
    "season_stats_df['DEF RATING'] = round(100 * season_stats_df['OPP PTS'] / season_stats_df['NUM POSSESSIONS'],1)\n",
    "season_stats_df['NET RATING'] = season_stats_df['OFF RATING'] - season_stats_df['DEF RATING']\n",
    "season_stats_df.sort_values(by='OFF RATING').tail(20)"
   ]
  },
  {
   "cell_type": "code",
   "execution_count": 19,
   "metadata": {},
   "outputs": [
    {
     "data": {
      "text/html": [
       "<div>\n",
       "<style scoped>\n",
       "    .dataframe tbody tr th:only-of-type {\n",
       "        vertical-align: middle;\n",
       "    }\n",
       "\n",
       "    .dataframe tbody tr th {\n",
       "        vertical-align: top;\n",
       "    }\n",
       "\n",
       "    .dataframe thead th {\n",
       "        text-align: right;\n",
       "    }\n",
       "</style>\n",
       "<table border=\"1\" class=\"dataframe\">\n",
       "  <thead>\n",
       "    <tr style=\"text-align: right;\">\n",
       "      <th></th>\n",
       "      <th>OFF RATING</th>\n",
       "      <th>DEF RATING</th>\n",
       "      <th>NET RATING</th>\n",
       "    </tr>\n",
       "    <tr>\n",
       "      <th>TEAM</th>\n",
       "      <th></th>\n",
       "      <th></th>\n",
       "      <th></th>\n",
       "    </tr>\n",
       "  </thead>\n",
       "  <tbody>\n",
       "    <tr>\n",
       "      <th>UTA 2019-20</th>\n",
       "      <td>123.4</td>\n",
       "      <td>119.2</td>\n",
       "      <td>4.2</td>\n",
       "    </tr>\n",
       "    <tr>\n",
       "      <th>UTA 2020-21</th>\n",
       "      <td>122.6</td>\n",
       "      <td>123.9</td>\n",
       "      <td>-1.3</td>\n",
       "    </tr>\n",
       "    <tr>\n",
       "      <th>POR 2020-21</th>\n",
       "      <td>122.2</td>\n",
       "      <td>123.2</td>\n",
       "      <td>-1.0</td>\n",
       "    </tr>\n",
       "    <tr>\n",
       "      <th>LAC 2020-21</th>\n",
       "      <td>121.6</td>\n",
       "      <td>117.2</td>\n",
       "      <td>4.4</td>\n",
       "    </tr>\n",
       "    <tr>\n",
       "      <th>CLE 2016-17</th>\n",
       "      <td>120.9</td>\n",
       "      <td>112.5</td>\n",
       "      <td>8.4</td>\n",
       "    </tr>\n",
       "    <tr>\n",
       "      <th>DEN 2022-23</th>\n",
       "      <td>120.3</td>\n",
       "      <td>111.5</td>\n",
       "      <td>8.8</td>\n",
       "    </tr>\n",
       "    <tr>\n",
       "      <th>GSW 2016-17</th>\n",
       "      <td>119.3</td>\n",
       "      <td>106.0</td>\n",
       "      <td>13.4</td>\n",
       "    </tr>\n",
       "    <tr>\n",
       "      <th>NOP 2021-22</th>\n",
       "      <td>118.5</td>\n",
       "      <td>120.1</td>\n",
       "      <td>-1.6</td>\n",
       "    </tr>\n",
       "    <tr>\n",
       "      <th>BOS 2022-23</th>\n",
       "      <td>118.2</td>\n",
       "      <td>114.6</td>\n",
       "      <td>3.6</td>\n",
       "    </tr>\n",
       "    <tr>\n",
       "      <th>BOS 2020-21</th>\n",
       "      <td>118.2</td>\n",
       "      <td>130.0</td>\n",
       "      <td>-11.7</td>\n",
       "    </tr>\n",
       "    <tr>\n",
       "      <th>LAC 2022-23</th>\n",
       "      <td>117.9</td>\n",
       "      <td>124.6</td>\n",
       "      <td>-6.7</td>\n",
       "    </tr>\n",
       "    <tr>\n",
       "      <th>PHX 2022-23</th>\n",
       "      <td>117.8</td>\n",
       "      <td>120.1</td>\n",
       "      <td>-2.3</td>\n",
       "    </tr>\n",
       "    <tr>\n",
       "      <th>BKN 2020-21</th>\n",
       "      <td>117.3</td>\n",
       "      <td>110.6</td>\n",
       "      <td>6.7</td>\n",
       "    </tr>\n",
       "    <tr>\n",
       "      <th>LAL 2019-20</th>\n",
       "      <td>117.2</td>\n",
       "      <td>110.0</td>\n",
       "      <td>7.2</td>\n",
       "    </tr>\n",
       "    <tr>\n",
       "      <th>BKN 2021-22</th>\n",
       "      <td>117.1</td>\n",
       "      <td>122.1</td>\n",
       "      <td>-4.9</td>\n",
       "    </tr>\n",
       "    <tr>\n",
       "      <th>DEN 2020-21</th>\n",
       "      <td>117.1</td>\n",
       "      <td>122.9</td>\n",
       "      <td>-5.9</td>\n",
       "    </tr>\n",
       "    <tr>\n",
       "      <th>DAL 2020-21</th>\n",
       "      <td>116.7</td>\n",
       "      <td>122.3</td>\n",
       "      <td>-5.6</td>\n",
       "    </tr>\n",
       "    <tr>\n",
       "      <th>PHI 2020-21</th>\n",
       "      <td>116.7</td>\n",
       "      <td>109.0</td>\n",
       "      <td>7.7</td>\n",
       "    </tr>\n",
       "    <tr>\n",
       "      <th>CLE 2015-16</th>\n",
       "      <td>116.5</td>\n",
       "      <td>107.2</td>\n",
       "      <td>9.3</td>\n",
       "    </tr>\n",
       "    <tr>\n",
       "      <th>PHX 2021-22</th>\n",
       "      <td>116.4</td>\n",
       "      <td>117.6</td>\n",
       "      <td>-1.3</td>\n",
       "    </tr>\n",
       "  </tbody>\n",
       "</table>\n",
       "</div>"
      ],
      "text/plain": [
       "             OFF RATING  DEF RATING  NET RATING\n",
       "TEAM                                           \n",
       "UTA 2019-20       123.4       119.2         4.2\n",
       "UTA 2020-21       122.6       123.9        -1.3\n",
       "POR 2020-21       122.2       123.2        -1.0\n",
       "LAC 2020-21       121.6       117.2         4.4\n",
       "CLE 2016-17       120.9       112.5         8.4\n",
       "DEN 2022-23       120.3       111.5         8.8\n",
       "GSW 2016-17       119.3       106.0        13.4\n",
       "NOP 2021-22       118.5       120.1        -1.6\n",
       "BOS 2022-23       118.2       114.6         3.6\n",
       "BOS 2020-21       118.2       130.0       -11.7\n",
       "LAC 2022-23       117.9       124.6        -6.7\n",
       "PHX 2022-23       117.8       120.1        -2.3\n",
       "BKN 2020-21       117.3       110.6         6.7\n",
       "LAL 2019-20       117.2       110.0         7.2\n",
       "BKN 2021-22       117.1       122.1        -4.9\n",
       "DEN 2020-21       117.1       122.9        -5.9\n",
       "DAL 2020-21       116.7       122.3        -5.6\n",
       "PHI 2020-21       116.7       109.0         7.7\n",
       "CLE 2015-16       116.5       107.2         9.3\n",
       "PHX 2021-22       116.4       117.6        -1.3"
      ]
     },
     "execution_count": 19,
     "metadata": {},
     "output_type": "execute_result"
    }
   ],
   "source": [
    "new_stats_reg_df = new_stats_df[new_stats_df['GAME_TYPE'] == 4][['SEASON','TEAM_ABBREVIATION','OFF RATING','DEF RATING','NET RATING']]\n",
    "new_stats_reg_df['TEAM'] = new_stats_reg_df['TEAM_ABBREVIATION'] + ' ' + new_stats_reg_df['SEASON']\n",
    "season_stats_df = new_stats_reg_df[['TEAM','OFF RATING','DEF RATING','NET RATING']].groupby('TEAM').mean().round(1)\n",
    "\n",
    "season_stats_df.sort_values(by = 'OFF RATING',ascending=False).head(20)"
   ]
  },
  {
   "cell_type": "code",
   "execution_count": 20,
   "metadata": {
    "colab": {
     "base_uri": "https://localhost:8080/",
     "height": 1000
    },
    "executionInfo": {
     "elapsed": 777,
     "status": "ok",
     "timestamp": 1691098740189,
     "user": {
      "displayName": "Yash -Nakadi",
      "userId": "07877057732487521410"
     },
     "user_tz": 240
    },
    "id": "Il_7R2FZDXv7",
    "outputId": "443fe89e-7bb5-4f33-e533-c9694637de72"
   },
   "outputs": [
    {
     "name": "stderr",
     "output_type": "stream",
     "text": [
      "C:\\Users\\ynakadi\\AppData\\Local\\Temp\\ipykernel_23284\\2916166130.py:11: FutureWarning: The provided callable <function sum at 0x000001DF9E8AC5E0> is currently using SeriesGroupBy.sum. In a future version of pandas, the provided callable will be used directly. To keep current behavior pass the string \"sum\" instead.\n",
      "  graph_df = post_games[['TEAM_ABBREVIATION','PLUS_MINUS','SEASON','Win']].groupby(by=['TEAM_ABBREVIATION','SEASON']).agg(Wins=('Win', np.sum),Plus_Minus =('PLUS_MINUS', np.mean)).reset_index()\n",
      "C:\\Users\\ynakadi\\AppData\\Local\\Temp\\ipykernel_23284\\2916166130.py:11: FutureWarning: The provided callable <function mean at 0x000001DF9E8AD510> is currently using SeriesGroupBy.mean. In a future version of pandas, the provided callable will be used directly. To keep current behavior pass the string \"mean\" instead.\n",
      "  graph_df = post_games[['TEAM_ABBREVIATION','PLUS_MINUS','SEASON','Win']].groupby(by=['TEAM_ABBREVIATION','SEASON']).agg(Wins=('Win', np.sum),Plus_Minus =('PLUS_MINUS', np.mean)).reset_index()\n",
      "C:\\Users\\ynakadi\\AppData\\Local\\Packages\\PythonSoftwareFoundation.Python.3.10_qbz5n2kfra8p0\\LocalCache\\local-packages\\Python310\\site-packages\\plotly\\express\\_core.py:1992: FutureWarning: When grouping with a length-1 list-like, you will need to pass a length-1 tuple to get_group in a future version of pandas. Pass `(name,)` instead of `name` to silence this warning.\n",
      "  sf: grouped.get_group(s if len(s) > 1 else s[0])\n"
     ]
    },
    {
     "data": {
      "application/vnd.plotly.v1+json": {
       "config": {
        "plotlyServerURL": "https://plot.ly"
       },
       "data": [
        {
         "hovertemplate": "TEAM_ABBREVIATION=IND<br>Wins=%{x}<br>Plus_Minus=%{y}<br>Team=%{text}<extra></extra>",
         "legendgroup": "IND",
         "marker": {
          "color": "#636efa",
          "symbol": "circle"
         },
         "mode": "markers+text",
         "name": "IND",
         "orientation": "v",
         "showlegend": true,
         "text": [
          "IND 2016-17",
          "IND 2018-19",
          "IND 2019-20",
          "IND 2023-24",
          "IND 2020-21",
          "IND 2015-16",
          "IND 2017-18",
          "IND 2013-14"
         ],
         "textposition": "top center",
         "type": "scatter",
         "x": [
          0,
          0,
          0,
          0,
          1,
          3,
          3,
          10
         ],
         "xaxis": "x",
         "y": [
          -4,
          -7.5,
          -10.5,
          -14,
          0,
          1.4285714285714286,
          5.714285714285714,
          -1
         ],
         "yaxis": "y"
        },
        {
         "hovertemplate": "TEAM_ABBREVIATION=NOP<br>Wins=%{x}<br>Plus_Minus=%{y}<br>Team=%{text}<extra></extra>",
         "legendgroup": "NOP",
         "marker": {
          "color": "#EF553B",
          "symbol": "circle"
         },
         "mode": "markers+text",
         "name": "NOP",
         "orientation": "v",
         "showlegend": true,
         "text": [
          "NOP 2014-15",
          "NOP 2022-23",
          "NOP 2021-22",
          "NOP 2017-18"
         ],
         "textposition": "top center",
         "type": "scatter",
         "x": [
          0,
          0,
          4,
          5
         ],
         "xaxis": "x",
         "y": [
          -8,
          -5,
          0.625,
          -0.7777777777777778
         ],
         "yaxis": "y"
        },
        {
         "hovertemplate": "TEAM_ABBREVIATION=MIA<br>Wins=%{x}<br>Plus_Minus=%{y}<br>Team=%{text}<extra></extra>",
         "legendgroup": "MIA",
         "marker": {
          "color": "#00cc96",
          "symbol": "circle"
         },
         "mode": "markers+text",
         "name": "MIA",
         "orientation": "v",
         "showlegend": true,
         "text": [
          "MIA 2020-21",
          "MIA 2017-18",
          "MIA 2015-16",
          "MIA 2021-22",
          "MIA 2013-14",
          "MIA 2022-23",
          "MIA 2019-20"
         ],
         "textposition": "top center",
         "type": "scatter",
         "x": [
          0,
          1,
          7,
          11,
          13,
          14,
          14
         ],
         "xaxis": "x",
         "y": [
          -20.5,
          -10.8,
          3.142857142857143,
          3.8333333333333335,
          1.75,
          1.4,
          2
         ],
         "yaxis": "y"
        },
        {
         "hovertemplate": "TEAM_ABBREVIATION=CHA<br>Wins=%{x}<br>Plus_Minus=%{y}<br>Team=%{text}<extra></extra>",
         "legendgroup": "CHA",
         "marker": {
          "color": "#ab63fa",
          "symbol": "circle"
         },
         "mode": "markers+text",
         "name": "CHA",
         "orientation": "v",
         "showlegend": true,
         "text": [
          "CHA 2021-22",
          "CHA 2020-21",
          "CHA 2013-14",
          "CHA 2015-16"
         ],
         "textposition": "top center",
         "type": "scatter",
         "x": [
          0,
          0,
          0,
          3
         ],
         "xaxis": "x",
         "y": [
          -29,
          -27,
          -9.75,
          -8.857142857142858
         ],
         "yaxis": "y"
        },
        {
         "hovertemplate": "TEAM_ABBREVIATION=MEM<br>Wins=%{x}<br>Plus_Minus=%{y}<br>Team=%{text}<extra></extra>",
         "legendgroup": "MEM",
         "marker": {
          "color": "#FFA15A",
          "symbol": "circle"
         },
         "mode": "markers+text",
         "name": "MEM",
         "orientation": "v",
         "showlegend": true,
         "text": [
          "MEM 2019-20",
          "MEM 2015-16",
          "MEM 2022-23",
          "MEM 2016-17",
          "MEM 2020-21",
          "MEM 2013-14",
          "MEM 2021-22",
          "MEM 2014-15"
         ],
         "textposition": "top center",
         "type": "scatter",
         "x": [
          0,
          0,
          2,
          2,
          3,
          3,
          6,
          6
         ],
         "xaxis": "x",
         "y": [
          -4,
          -22,
          -7.5,
          -8.333333333333334,
          -4.714285714285714,
          -5.257142857142857,
          2.4166666666666665,
          -1.2727272727272727
         ],
         "yaxis": "y"
        },
        {
         "hovertemplate": "TEAM_ABBREVIATION=DET<br>Wins=%{x}<br>Plus_Minus=%{y}<br>Team=%{text}<extra></extra>",
         "legendgroup": "DET",
         "marker": {
          "color": "#19d3f3",
          "symbol": "circle"
         },
         "mode": "markers+text",
         "name": "DET",
         "orientation": "v",
         "showlegend": true,
         "text": [
          "DET 2015-16",
          "DET 2018-19"
         ],
         "textposition": "top center",
         "type": "scatter",
         "x": [
          0,
          0
         ],
         "xaxis": "x",
         "y": [
          -8.5,
          -23.75
         ],
         "yaxis": "y"
        },
        {
         "hovertemplate": "TEAM_ABBREVIATION=PHI<br>Wins=%{x}<br>Plus_Minus=%{y}<br>Team=%{text}<extra></extra>",
         "legendgroup": "PHI",
         "marker": {
          "color": "#FF6692",
          "symbol": "circle"
         },
         "mode": "markers+text",
         "name": "PHI",
         "orientation": "v",
         "showlegend": true,
         "text": [
          "PHI 2019-20",
          "PHI 2017-18",
          "PHI 2021-22",
          "PHI 2022-23",
          "PHI 2018-19",
          "PHI 2020-21"
         ],
         "textposition": "top center",
         "type": "scatter",
         "x": [
          0,
          5,
          6,
          7,
          7,
          7
         ],
         "xaxis": "x",
         "y": [
          -11.75,
          3.9,
          0.3333333333333333,
          -1.5454545454545454,
          3,
          7.5
         ],
         "yaxis": "y"
        },
        {
         "hovertemplate": "TEAM_ABBREVIATION=POR<br>Wins=%{x}<br>Plus_Minus=%{y}<br>Team=%{text}<extra></extra>",
         "legendgroup": "POR",
         "marker": {
          "color": "#B6E880",
          "symbol": "circle"
         },
         "mode": "markers+text",
         "name": "POR",
         "orientation": "v",
         "showlegend": true,
         "text": [
          "POR 2016-17",
          "POR 2017-18",
          "POR 2014-15",
          "POR 2020-21",
          "POR 2019-20",
          "POR 2013-14",
          "POR 2015-16",
          "POR 2018-19"
         ],
         "textposition": "top center",
         "type": "scatter",
         "x": [
          0,
          0,
          1,
          2,
          2,
          5,
          5,
          8
         ],
         "xaxis": "x",
         "y": [
          -18,
          -9,
          -6.8,
          -1.3333333333333333,
          -8.166666666666666,
          -6.2727272727272725,
          -2.5454545454545454,
          -1.375
         ],
         "yaxis": "y"
        },
        {
         "hovertemplate": "TEAM_ABBREVIATION=BKN<br>Wins=%{x}<br>Plus_Minus=%{y}<br>Team=%{text}<extra></extra>",
         "legendgroup": "BKN",
         "marker": {
          "color": "#FF97FF",
          "symbol": "circle"
         },
         "mode": "markers+text",
         "name": "BKN",
         "orientation": "v",
         "showlegend": true,
         "text": [
          "BKN 2022-23",
          "BKN 2019-20",
          "BKN 2018-19",
          "BKN 2021-22",
          "BKN 2014-15",
          "BKN 2013-14",
          "BKN 2020-21"
         ],
         "textposition": "top center",
         "type": "scatter",
         "x": [
          0,
          0,
          1,
          1,
          2,
          5,
          7
         ],
         "xaxis": "x",
         "y": [
          -11.25,
          -20.5,
          -11,
          -2.2,
          -5.5,
          -1.3333333333333333,
          6.333333333333333
         ],
         "yaxis": "y"
        },
        {
         "hovertemplate": "TEAM_ABBREVIATION=TOR<br>Wins=%{x}<br>Plus_Minus=%{y}<br>Team=%{text}<extra></extra>",
         "legendgroup": "TOR",
         "marker": {
          "color": "#FECB52",
          "symbol": "circle"
         },
         "mode": "markers+text",
         "name": "TOR",
         "orientation": "v",
         "showlegend": true,
         "text": [
          "TOR 2022-23",
          "TOR 2014-15",
          "TOR 2021-22",
          "TOR 2013-14",
          "TOR 2016-17",
          "TOR 2017-18",
          "TOR 2019-20",
          "TOR 2015-16",
          "TOR 2018-19"
         ],
         "textposition": "top center",
         "type": "scatter",
         "x": [
          0,
          0,
          2,
          3,
          4,
          4,
          7,
          10,
          16
         ],
         "xaxis": "x",
         "y": [
          -4,
          -14,
          -8.333333333333334,
          -1.5714285714285714,
          -5.7,
          -4.4,
          4.090909090909091,
          -4.25,
          5.458333333333333
         ],
         "yaxis": "y"
        },
        {
         "hovertemplate": "TEAM_ABBREVIATION=BOS<br>Wins=%{x}<br>Plus_Minus=%{y}<br>Team=%{text}<extra></extra>",
         "legendgroup": "BOS",
         "marker": {
          "color": "#636efa",
          "symbol": "circle"
         },
         "mode": "markers+text",
         "name": "BOS",
         "orientation": "v",
         "showlegend": true,
         "text": [
          "BOS 2014-15",
          "BOS 2015-16",
          "BOS 2020-21",
          "BOS 2018-19",
          "BOS 2016-17",
          "BOS 2019-20",
          "BOS 2017-18",
          "BOS 2022-23",
          "BOS 2021-22"
         ],
         "textposition": "top center",
         "type": "scatter",
         "x": [
          0,
          2,
          2,
          5,
          9,
          10,
          11,
          11,
          14
         ],
         "xaxis": "x",
         "y": [
          -9.25,
          -6.666666666666667,
          -6.333333333333333,
          -1.4444444444444444,
          -2.888888888888889,
          4.988235294117647,
          0.8947368421052632,
          3.35,
          3.5833333333333335
         ],
         "yaxis": "y"
        },
        {
         "hovertemplate": "TEAM_ABBREVIATION=SAS<br>Wins=%{x}<br>Plus_Minus=%{y}<br>Team=%{text}<extra></extra>",
         "legendgroup": "SAS",
         "marker": {
          "color": "#EF553B",
          "symbol": "circle"
         },
         "mode": "markers+text",
         "name": "SAS",
         "orientation": "v",
         "showlegend": true,
         "text": [
          "SAS 2020-21",
          "SAS 2021-22",
          "SAS 2017-18",
          "SAS 2014-15",
          "SAS 2018-19",
          "SAS 2015-16",
          "SAS 2016-17",
          "SAS 2013-14"
         ],
         "textposition": "top center",
         "type": "scatter",
         "x": [
          0,
          0,
          1,
          3,
          3,
          6,
          8,
          16
         ],
         "xaxis": "x",
         "y": [
          -4,
          -10,
          -8.8,
          0.42857142857142855,
          -1.8571428571428572,
          9.1,
          1,
          9.304347826086957
         ],
         "yaxis": "y"
        },
        {
         "hovertemplate": "TEAM_ABBREVIATION=GSW<br>Wins=%{x}<br>Plus_Minus=%{y}<br>Team=%{text}<extra></extra>",
         "legendgroup": "GSW",
         "marker": {
          "color": "#00cc96",
          "symbol": "circle"
         },
         "mode": "markers+text",
         "name": "GSW",
         "orientation": "v",
         "showlegend": true,
         "text": [
          "GSW 2020-21",
          "GSW 2013-14",
          "GSW 2022-23",
          "GSW 2018-19",
          "GSW 2015-16",
          "GSW 2017-18",
          "GSW 2014-15",
          "GSW 2021-22",
          "GSW 2016-17"
         ],
         "textposition": "top center",
         "type": "scatter",
         "x": [
          0,
          3,
          6,
          14,
          15,
          16,
          16,
          16,
          16
         ],
         "xaxis": "x",
         "y": [
          -4,
          -4.428571428571429,
          -0.15384615384615385,
          3.3636363636363638,
          4.375,
          10,
          7.809523809523809,
          5.045454545454546,
          13.647058823529411
         ],
         "yaxis": "y"
        },
        {
         "hovertemplate": "TEAM_ABBREVIATION=LAC<br>Wins=%{x}<br>Plus_Minus=%{y}<br>Team=%{text}<extra></extra>",
         "legendgroup": "LAC",
         "marker": {
          "color": "#ab63fa",
          "symbol": "circle"
         },
         "mode": "markers+text",
         "name": "LAC",
         "orientation": "v",
         "showlegend": true,
         "text": [
          "LAC 2021-22",
          "LAC 2022-23",
          "LAC 2015-16",
          "LAC 2018-19",
          "LAC 2016-17",
          "LAC 2013-14",
          "LAC 2014-15",
          "LAC 2019-20",
          "LAC 2020-21"
         ],
         "textposition": "top center",
         "type": "scatter",
         "x": [
          0,
          1,
          2,
          2,
          3,
          6,
          7,
          7,
          10
         ],
         "xaxis": "x",
         "y": [
          -4.5,
          -6.4,
          1,
          -9.833333333333334,
          -1.1428571428571428,
          2,
          1.3571428571428572,
          4.230769230769231,
          4.052631578947368
         ],
         "yaxis": "y"
        },
        {
         "hovertemplate": "TEAM_ABBREVIATION=CLE<br>Wins=%{x}<br>Plus_Minus=%{y}<br>Team=%{text}<extra></extra>",
         "legendgroup": "CLE",
         "marker": {
          "color": "#FFA15A",
          "symbol": "circle"
         },
         "mode": "markers+text",
         "name": "CLE",
         "orientation": "v",
         "showlegend": true,
         "text": [
          "CLE 2021-22",
          "CLE 2022-23",
          "CLE 2017-18",
          "CLE 2016-17",
          "CLE 2014-15",
          "CLE 2015-16"
         ],
         "textposition": "top center",
         "type": "scatter",
         "x": [
          0,
          1,
          12,
          13,
          14,
          16
         ],
         "xaxis": "x",
         "y": [
          -6.5,
          -5.4,
          -1.7272727272727273,
          7.833333333333333,
          4,
          8.619047619047619
         ],
         "yaxis": "y"
        },
        {
         "hovertemplate": "TEAM_ABBREVIATION=DEN<br>Wins=%{x}<br>Plus_Minus=%{y}<br>Team=%{text}<extra></extra>",
         "legendgroup": "DEN",
         "marker": {
          "color": "#19d3f3",
          "symbol": "circle"
         },
         "mode": "markers+text",
         "name": "DEN",
         "orientation": "v",
         "showlegend": true,
         "text": [
          "DEN 2021-22",
          "DEN 2020-21",
          "DEN 2018-19",
          "DEN 2019-20",
          "DEN 2022-23"
         ],
         "textposition": "top center",
         "type": "scatter",
         "x": [
          1,
          4,
          7,
          9,
          16
         ],
         "xaxis": "x",
         "y": [
          -8,
          -5.5,
          1.8571428571428572,
          -2.263157894736842,
          8.3
         ],
         "yaxis": "y"
        },
        {
         "hovertemplate": "TEAM_ABBREVIATION=MIL<br>Wins=%{x}<br>Plus_Minus=%{y}<br>Team=%{text}<extra></extra>",
         "legendgroup": "MIL",
         "marker": {
          "color": "#FF6692",
          "symbol": "circle"
         },
         "mode": "markers+text",
         "name": "MIL",
         "orientation": "v",
         "showlegend": true,
         "text": [
          "MIL 2022-23",
          "MIL 2016-17",
          "MIL 2014-15",
          "MIL 2017-18",
          "MIL 2019-20",
          "MIL 2021-22",
          "MIL 2018-19",
          "MIL 2020-21"
         ],
         "textposition": "top center",
         "type": "scatter",
         "x": [
          1,
          2,
          2,
          3,
          5,
          7,
          10,
          16
         ],
         "xaxis": "x",
         "y": [
          -5.2,
          -0.6666666666666666,
          -12.333333333333334,
          -0.5714285714285714,
          1.2,
          1.5,
          8.8,
          5.130434782608695
         ],
         "yaxis": "y"
        },
        {
         "hovertemplate": "TEAM_ABBREVIATION=DAL<br>Wins=%{x}<br>Plus_Minus=%{y}<br>Team=%{text}<extra></extra>",
         "legendgroup": "DAL",
         "marker": {
          "color": "#B6E880",
          "symbol": "circle"
         },
         "mode": "markers+text",
         "name": "DAL",
         "orientation": "v",
         "showlegend": true,
         "text": [
          "DAL 2015-16",
          "DAL 2014-15",
          "DAL 2019-20",
          "DAL 2013-14",
          "DAL 2020-21",
          "DAL 2021-22"
         ],
         "textposition": "top center",
         "type": "scatter",
         "x": [
          1,
          1,
          2,
          3,
          3,
          9
         ],
         "xaxis": "x",
         "y": [
          -18.2,
          -4.2,
          -9.666666666666666,
          -2,
          -5.142857142857143,
          0.7222222222222222
         ],
         "yaxis": "y"
        },
        {
         "hovertemplate": "TEAM_ABBREVIATION=MIN<br>Wins=%{x}<br>Plus_Minus=%{y}<br>Team=%{text}<extra></extra>",
         "legendgroup": "MIN",
         "marker": {
          "color": "#FF97FF",
          "symbol": "circle"
         },
         "mode": "markers+text",
         "name": "MIN",
         "orientation": "v",
         "showlegend": true,
         "text": [
          "MIN 2017-18",
          "MIN 2022-23",
          "MIN 2021-22"
         ],
         "textposition": "top center",
         "type": "scatter",
         "x": [
          1,
          2,
          3
         ],
         "xaxis": "x",
         "y": [
          -8.8,
          -3.5714285714285716,
          -4
         ],
         "yaxis": "y"
        },
        {
         "hovertemplate": "TEAM_ABBREVIATION=HOU<br>Wins=%{x}<br>Plus_Minus=%{y}<br>Team=%{text}<extra></extra>",
         "legendgroup": "HOU",
         "marker": {
          "color": "#FECB52",
          "symbol": "circle"
         },
         "mode": "markers+text",
         "name": "HOU",
         "orientation": "v",
         "showlegend": true,
         "text": [
          "HOU 2015-16",
          "HOU 2013-14",
          "HOU 2019-20",
          "HOU 2016-17",
          "HOU 2018-19",
          "HOU 2014-15",
          "HOU 2017-18"
         ],
         "textposition": "top center",
         "type": "scatter",
         "x": [
          1,
          2,
          5,
          6,
          6,
          9,
          11
         ],
         "xaxis": "x",
         "y": [
          -18.8,
          0.3333333333333333,
          0.7333333333333331,
          1.1818181818181819,
          3.1818181818181817,
          -2.4705882352941178,
          1.8235294117647058
         ],
         "yaxis": "y"
        },
        {
         "hovertemplate": "TEAM_ABBREVIATION=LAL<br>Wins=%{x}<br>Plus_Minus=%{y}<br>Team=%{text}<extra></extra>",
         "legendgroup": "LAL",
         "marker": {
          "color": "#636efa",
          "symbol": "circle"
         },
         "mode": "markers+text",
         "name": "LAL",
         "orientation": "v",
         "showlegend": true,
         "text": [
          "LAL 2023-24",
          "LAL 2020-21",
          "LAL 2022-23",
          "LAL 2019-20"
         ],
         "textposition": "top center",
         "type": "scatter",
         "x": [
          1,
          3,
          9,
          16
         ],
         "xaxis": "x",
         "y": [
          14,
          -5.142857142857143,
          2.588235294117647,
          6.857142857142857
         ],
         "yaxis": "y"
        },
        {
         "hovertemplate": "TEAM_ABBREVIATION=CHI<br>Wins=%{x}<br>Plus_Minus=%{y}<br>Team=%{text}<extra></extra>",
         "legendgroup": "CHI",
         "marker": {
          "color": "#EF553B",
          "symbol": "circle"
         },
         "mode": "markers+text",
         "name": "CHI",
         "orientation": "v",
         "showlegend": true,
         "text": [
          "CHI 2022-23",
          "CHI 2013-14",
          "CHI 2021-22",
          "CHI 2016-17",
          "CHI 2014-15"
         ],
         "textposition": "top center",
         "type": "scatter",
         "x": [
          1,
          1,
          1,
          2,
          6
         ],
         "xaxis": "x",
         "y": [
          -3.5,
          -4.6,
          -14.6,
          -6.833333333333333,
          3.4166666666666665
         ],
         "yaxis": "y"
        },
        {
         "hovertemplate": "TEAM_ABBREVIATION=UTA<br>Wins=%{x}<br>Plus_Minus=%{y}<br>Team=%{text}<extra></extra>",
         "legendgroup": "UTA",
         "marker": {
          "color": "#00cc96",
          "symbol": "circle"
         },
         "mode": "markers+text",
         "name": "UTA",
         "orientation": "v",
         "showlegend": true,
         "text": [
          "UTA 2018-19",
          "UTA 2021-22",
          "UTA 2019-20",
          "UTA 2016-17",
          "UTA 2017-18",
          "UTA 2020-21"
         ],
         "textposition": "top center",
         "type": "scatter",
         "x": [
          1,
          2,
          3,
          4,
          5,
          6
         ],
         "xaxis": "x",
         "y": [
          -9.2,
          -5.666666666666667,
          3.4285714285714284,
          -4.7272727272727275,
          -2.1818181818181817,
          -0.8181818181818182
         ],
         "yaxis": "y"
        },
        {
         "hovertemplate": "TEAM_ABBREVIATION=ORL<br>Wins=%{x}<br>Plus_Minus=%{y}<br>Team=%{text}<extra></extra>",
         "legendgroup": "ORL",
         "marker": {
          "color": "#ab63fa",
          "symbol": "circle"
         },
         "mode": "markers+text",
         "name": "ORL",
         "orientation": "v",
         "showlegend": true,
         "text": [
          "ORL 2019-20",
          "ORL 2018-19"
         ],
         "textposition": "top center",
         "type": "scatter",
         "x": [
          1,
          1
         ],
         "xaxis": "x",
         "y": [
          -9.2,
          -14.4
         ],
         "yaxis": "y"
        },
        {
         "hovertemplate": "TEAM_ABBREVIATION=OKC<br>Wins=%{x}<br>Plus_Minus=%{y}<br>Team=%{text}<extra></extra>",
         "legendgroup": "OKC",
         "marker": {
          "color": "#FFA15A",
          "symbol": "circle"
         },
         "mode": "markers+text",
         "name": "OKC",
         "orientation": "v",
         "showlegend": true,
         "text": [
          "OKC 2022-23",
          "OKC 2018-19",
          "OKC 2016-17",
          "OKC 2017-18",
          "OKC 2019-20",
          "OKC 2013-14",
          "OKC 2015-16"
         ],
         "textposition": "top center",
         "type": "scatter",
         "x": [
          1,
          1,
          1,
          2,
          3,
          10,
          11
         ],
         "xaxis": "x",
         "y": [
          -9.8,
          -7,
          -8.6,
          -4.333333333333333,
          -6.428571428571429,
          -1.0526315789473684,
          5.277777777777778
         ],
         "yaxis": "y"
        },
        {
         "hovertemplate": "TEAM_ABBREVIATION=NYK<br>Wins=%{x}<br>Plus_Minus=%{y}<br>Team=%{text}<extra></extra>",
         "legendgroup": "NYK",
         "marker": {
          "color": "#19d3f3",
          "symbol": "circle"
         },
         "mode": "markers+text",
         "name": "NYK",
         "orientation": "v",
         "showlegend": true,
         "text": [
          "NYK 2020-21",
          "NYK 2022-23"
         ],
         "textposition": "top center",
         "type": "scatter",
         "x": [
          1,
          6
         ],
         "xaxis": "x",
         "y": [
          -7,
          0.36363636363636365
         ],
         "yaxis": "y"
        },
        {
         "hovertemplate": "TEAM_ABBREVIATION=WAS<br>Wins=%{x}<br>Plus_Minus=%{y}<br>Team=%{text}<extra></extra>",
         "legendgroup": "WAS",
         "marker": {
          "color": "#FF6692",
          "symbol": "circle"
         },
         "mode": "markers+text",
         "name": "WAS",
         "orientation": "v",
         "showlegend": true,
         "text": [
          "WAS 2017-18",
          "WAS 2020-21",
          "WAS 2013-14",
          "WAS 2014-15",
          "WAS 2016-17"
         ],
         "textposition": "top center",
         "type": "scatter",
         "x": [
          2,
          2,
          6,
          6,
          7
         ],
         "xaxis": "x",
         "y": [
          -2,
          -9.771428571428572,
          0.9090909090909091,
          3.9,
          0
         ],
         "yaxis": "y"
        },
        {
         "hovertemplate": "TEAM_ABBREVIATION=ATL<br>Wins=%{x}<br>Plus_Minus=%{y}<br>Team=%{text}<extra></extra>",
         "legendgroup": "ATL",
         "marker": {
          "color": "#B6E880",
          "symbol": "circle"
         },
         "mode": "markers+text",
         "name": "ATL",
         "orientation": "v",
         "showlegend": true,
         "text": [
          "ATL 2016-17",
          "ATL 2013-14",
          "ATL 2022-23",
          "ATL 2021-22",
          "ATL 2015-16",
          "ATL 2014-15",
          "ATL 2020-21"
         ],
         "textposition": "top center",
         "type": "scatter",
         "x": [
          2,
          3,
          3,
          3,
          4,
          8,
          10
         ],
         "xaxis": "x",
         "y": [
          -1.1666666666666667,
          -1,
          -3,
          -3.5714285714285716,
          -1,
          -0.1875,
          -1.5
         ],
         "yaxis": "y"
        },
        {
         "hovertemplate": "TEAM_ABBREVIATION=SAC<br>Wins=%{x}<br>Plus_Minus=%{y}<br>Team=%{text}<extra></extra>",
         "legendgroup": "SAC",
         "marker": {
          "color": "#FF97FF",
          "symbol": "circle"
         },
         "mode": "markers+text",
         "name": "SAC",
         "orientation": "v",
         "showlegend": true,
         "text": [
          "SAC 2022-23"
         ],
         "textposition": "top center",
         "type": "scatter",
         "x": [
          3
         ],
         "xaxis": "x",
         "y": [
          -2.142857142857143
         ],
         "yaxis": "y"
        },
        {
         "hovertemplate": "TEAM_ABBREVIATION=PHX<br>Wins=%{x}<br>Plus_Minus=%{y}<br>Team=%{text}<extra></extra>",
         "legendgroup": "PHX",
         "marker": {
          "color": "#FECB52",
          "symbol": "circle"
         },
         "mode": "markers+text",
         "name": "PHX",
         "orientation": "v",
         "showlegend": true,
         "text": [
          "PHX 2022-23",
          "PHX 2021-22",
          "PHX 2020-21"
         ],
         "textposition": "top center",
         "type": "scatter",
         "x": [
          6,
          7,
          14
         ],
         "xaxis": "x",
         "y": [
          -2.272727272727273,
          -1,
          4.454545454545454
         ],
         "yaxis": "y"
        }
       ],
       "layout": {
        "legend": {
         "title": {
          "text": "TEAM_ABBREVIATION"
         },
         "tracegroupgap": 0
        },
        "margin": {
         "t": 60
        },
        "template": {
         "data": {
          "bar": [
           {
            "error_x": {
             "color": "#2a3f5f"
            },
            "error_y": {
             "color": "#2a3f5f"
            },
            "marker": {
             "line": {
              "color": "#E5ECF6",
              "width": 0.5
             },
             "pattern": {
              "fillmode": "overlay",
              "size": 10,
              "solidity": 0.2
             }
            },
            "type": "bar"
           }
          ],
          "barpolar": [
           {
            "marker": {
             "line": {
              "color": "#E5ECF6",
              "width": 0.5
             },
             "pattern": {
              "fillmode": "overlay",
              "size": 10,
              "solidity": 0.2
             }
            },
            "type": "barpolar"
           }
          ],
          "carpet": [
           {
            "aaxis": {
             "endlinecolor": "#2a3f5f",
             "gridcolor": "white",
             "linecolor": "white",
             "minorgridcolor": "white",
             "startlinecolor": "#2a3f5f"
            },
            "baxis": {
             "endlinecolor": "#2a3f5f",
             "gridcolor": "white",
             "linecolor": "white",
             "minorgridcolor": "white",
             "startlinecolor": "#2a3f5f"
            },
            "type": "carpet"
           }
          ],
          "choropleth": [
           {
            "colorbar": {
             "outlinewidth": 0,
             "ticks": ""
            },
            "type": "choropleth"
           }
          ],
          "contour": [
           {
            "colorbar": {
             "outlinewidth": 0,
             "ticks": ""
            },
            "colorscale": [
             [
              0,
              "#0d0887"
             ],
             [
              0.1111111111111111,
              "#46039f"
             ],
             [
              0.2222222222222222,
              "#7201a8"
             ],
             [
              0.3333333333333333,
              "#9c179e"
             ],
             [
              0.4444444444444444,
              "#bd3786"
             ],
             [
              0.5555555555555556,
              "#d8576b"
             ],
             [
              0.6666666666666666,
              "#ed7953"
             ],
             [
              0.7777777777777778,
              "#fb9f3a"
             ],
             [
              0.8888888888888888,
              "#fdca26"
             ],
             [
              1,
              "#f0f921"
             ]
            ],
            "type": "contour"
           }
          ],
          "contourcarpet": [
           {
            "colorbar": {
             "outlinewidth": 0,
             "ticks": ""
            },
            "type": "contourcarpet"
           }
          ],
          "heatmap": [
           {
            "colorbar": {
             "outlinewidth": 0,
             "ticks": ""
            },
            "colorscale": [
             [
              0,
              "#0d0887"
             ],
             [
              0.1111111111111111,
              "#46039f"
             ],
             [
              0.2222222222222222,
              "#7201a8"
             ],
             [
              0.3333333333333333,
              "#9c179e"
             ],
             [
              0.4444444444444444,
              "#bd3786"
             ],
             [
              0.5555555555555556,
              "#d8576b"
             ],
             [
              0.6666666666666666,
              "#ed7953"
             ],
             [
              0.7777777777777778,
              "#fb9f3a"
             ],
             [
              0.8888888888888888,
              "#fdca26"
             ],
             [
              1,
              "#f0f921"
             ]
            ],
            "type": "heatmap"
           }
          ],
          "heatmapgl": [
           {
            "colorbar": {
             "outlinewidth": 0,
             "ticks": ""
            },
            "colorscale": [
             [
              0,
              "#0d0887"
             ],
             [
              0.1111111111111111,
              "#46039f"
             ],
             [
              0.2222222222222222,
              "#7201a8"
             ],
             [
              0.3333333333333333,
              "#9c179e"
             ],
             [
              0.4444444444444444,
              "#bd3786"
             ],
             [
              0.5555555555555556,
              "#d8576b"
             ],
             [
              0.6666666666666666,
              "#ed7953"
             ],
             [
              0.7777777777777778,
              "#fb9f3a"
             ],
             [
              0.8888888888888888,
              "#fdca26"
             ],
             [
              1,
              "#f0f921"
             ]
            ],
            "type": "heatmapgl"
           }
          ],
          "histogram": [
           {
            "marker": {
             "pattern": {
              "fillmode": "overlay",
              "size": 10,
              "solidity": 0.2
             }
            },
            "type": "histogram"
           }
          ],
          "histogram2d": [
           {
            "colorbar": {
             "outlinewidth": 0,
             "ticks": ""
            },
            "colorscale": [
             [
              0,
              "#0d0887"
             ],
             [
              0.1111111111111111,
              "#46039f"
             ],
             [
              0.2222222222222222,
              "#7201a8"
             ],
             [
              0.3333333333333333,
              "#9c179e"
             ],
             [
              0.4444444444444444,
              "#bd3786"
             ],
             [
              0.5555555555555556,
              "#d8576b"
             ],
             [
              0.6666666666666666,
              "#ed7953"
             ],
             [
              0.7777777777777778,
              "#fb9f3a"
             ],
             [
              0.8888888888888888,
              "#fdca26"
             ],
             [
              1,
              "#f0f921"
             ]
            ],
            "type": "histogram2d"
           }
          ],
          "histogram2dcontour": [
           {
            "colorbar": {
             "outlinewidth": 0,
             "ticks": ""
            },
            "colorscale": [
             [
              0,
              "#0d0887"
             ],
             [
              0.1111111111111111,
              "#46039f"
             ],
             [
              0.2222222222222222,
              "#7201a8"
             ],
             [
              0.3333333333333333,
              "#9c179e"
             ],
             [
              0.4444444444444444,
              "#bd3786"
             ],
             [
              0.5555555555555556,
              "#d8576b"
             ],
             [
              0.6666666666666666,
              "#ed7953"
             ],
             [
              0.7777777777777778,
              "#fb9f3a"
             ],
             [
              0.8888888888888888,
              "#fdca26"
             ],
             [
              1,
              "#f0f921"
             ]
            ],
            "type": "histogram2dcontour"
           }
          ],
          "mesh3d": [
           {
            "colorbar": {
             "outlinewidth": 0,
             "ticks": ""
            },
            "type": "mesh3d"
           }
          ],
          "parcoords": [
           {
            "line": {
             "colorbar": {
              "outlinewidth": 0,
              "ticks": ""
             }
            },
            "type": "parcoords"
           }
          ],
          "pie": [
           {
            "automargin": true,
            "type": "pie"
           }
          ],
          "scatter": [
           {
            "fillpattern": {
             "fillmode": "overlay",
             "size": 10,
             "solidity": 0.2
            },
            "type": "scatter"
           }
          ],
          "scatter3d": [
           {
            "line": {
             "colorbar": {
              "outlinewidth": 0,
              "ticks": ""
             }
            },
            "marker": {
             "colorbar": {
              "outlinewidth": 0,
              "ticks": ""
             }
            },
            "type": "scatter3d"
           }
          ],
          "scattercarpet": [
           {
            "marker": {
             "colorbar": {
              "outlinewidth": 0,
              "ticks": ""
             }
            },
            "type": "scattercarpet"
           }
          ],
          "scattergeo": [
           {
            "marker": {
             "colorbar": {
              "outlinewidth": 0,
              "ticks": ""
             }
            },
            "type": "scattergeo"
           }
          ],
          "scattergl": [
           {
            "marker": {
             "colorbar": {
              "outlinewidth": 0,
              "ticks": ""
             }
            },
            "type": "scattergl"
           }
          ],
          "scattermapbox": [
           {
            "marker": {
             "colorbar": {
              "outlinewidth": 0,
              "ticks": ""
             }
            },
            "type": "scattermapbox"
           }
          ],
          "scatterpolar": [
           {
            "marker": {
             "colorbar": {
              "outlinewidth": 0,
              "ticks": ""
             }
            },
            "type": "scatterpolar"
           }
          ],
          "scatterpolargl": [
           {
            "marker": {
             "colorbar": {
              "outlinewidth": 0,
              "ticks": ""
             }
            },
            "type": "scatterpolargl"
           }
          ],
          "scatterternary": [
           {
            "marker": {
             "colorbar": {
              "outlinewidth": 0,
              "ticks": ""
             }
            },
            "type": "scatterternary"
           }
          ],
          "surface": [
           {
            "colorbar": {
             "outlinewidth": 0,
             "ticks": ""
            },
            "colorscale": [
             [
              0,
              "#0d0887"
             ],
             [
              0.1111111111111111,
              "#46039f"
             ],
             [
              0.2222222222222222,
              "#7201a8"
             ],
             [
              0.3333333333333333,
              "#9c179e"
             ],
             [
              0.4444444444444444,
              "#bd3786"
             ],
             [
              0.5555555555555556,
              "#d8576b"
             ],
             [
              0.6666666666666666,
              "#ed7953"
             ],
             [
              0.7777777777777778,
              "#fb9f3a"
             ],
             [
              0.8888888888888888,
              "#fdca26"
             ],
             [
              1,
              "#f0f921"
             ]
            ],
            "type": "surface"
           }
          ],
          "table": [
           {
            "cells": {
             "fill": {
              "color": "#EBF0F8"
             },
             "line": {
              "color": "white"
             }
            },
            "header": {
             "fill": {
              "color": "#C8D4E3"
             },
             "line": {
              "color": "white"
             }
            },
            "type": "table"
           }
          ]
         },
         "layout": {
          "annotationdefaults": {
           "arrowcolor": "#2a3f5f",
           "arrowhead": 0,
           "arrowwidth": 1
          },
          "autotypenumbers": "strict",
          "coloraxis": {
           "colorbar": {
            "outlinewidth": 0,
            "ticks": ""
           }
          },
          "colorscale": {
           "diverging": [
            [
             0,
             "#8e0152"
            ],
            [
             0.1,
             "#c51b7d"
            ],
            [
             0.2,
             "#de77ae"
            ],
            [
             0.3,
             "#f1b6da"
            ],
            [
             0.4,
             "#fde0ef"
            ],
            [
             0.5,
             "#f7f7f7"
            ],
            [
             0.6,
             "#e6f5d0"
            ],
            [
             0.7,
             "#b8e186"
            ],
            [
             0.8,
             "#7fbc41"
            ],
            [
             0.9,
             "#4d9221"
            ],
            [
             1,
             "#276419"
            ]
           ],
           "sequential": [
            [
             0,
             "#0d0887"
            ],
            [
             0.1111111111111111,
             "#46039f"
            ],
            [
             0.2222222222222222,
             "#7201a8"
            ],
            [
             0.3333333333333333,
             "#9c179e"
            ],
            [
             0.4444444444444444,
             "#bd3786"
            ],
            [
             0.5555555555555556,
             "#d8576b"
            ],
            [
             0.6666666666666666,
             "#ed7953"
            ],
            [
             0.7777777777777778,
             "#fb9f3a"
            ],
            [
             0.8888888888888888,
             "#fdca26"
            ],
            [
             1,
             "#f0f921"
            ]
           ],
           "sequentialminus": [
            [
             0,
             "#0d0887"
            ],
            [
             0.1111111111111111,
             "#46039f"
            ],
            [
             0.2222222222222222,
             "#7201a8"
            ],
            [
             0.3333333333333333,
             "#9c179e"
            ],
            [
             0.4444444444444444,
             "#bd3786"
            ],
            [
             0.5555555555555556,
             "#d8576b"
            ],
            [
             0.6666666666666666,
             "#ed7953"
            ],
            [
             0.7777777777777778,
             "#fb9f3a"
            ],
            [
             0.8888888888888888,
             "#fdca26"
            ],
            [
             1,
             "#f0f921"
            ]
           ]
          },
          "colorway": [
           "#636efa",
           "#EF553B",
           "#00cc96",
           "#ab63fa",
           "#FFA15A",
           "#19d3f3",
           "#FF6692",
           "#B6E880",
           "#FF97FF",
           "#FECB52"
          ],
          "font": {
           "color": "#2a3f5f"
          },
          "geo": {
           "bgcolor": "white",
           "lakecolor": "white",
           "landcolor": "#E5ECF6",
           "showlakes": true,
           "showland": true,
           "subunitcolor": "white"
          },
          "hoverlabel": {
           "align": "left"
          },
          "hovermode": "closest",
          "mapbox": {
           "style": "light"
          },
          "paper_bgcolor": "white",
          "plot_bgcolor": "#E5ECF6",
          "polar": {
           "angularaxis": {
            "gridcolor": "white",
            "linecolor": "white",
            "ticks": ""
           },
           "bgcolor": "#E5ECF6",
           "radialaxis": {
            "gridcolor": "white",
            "linecolor": "white",
            "ticks": ""
           }
          },
          "scene": {
           "xaxis": {
            "backgroundcolor": "#E5ECF6",
            "gridcolor": "white",
            "gridwidth": 2,
            "linecolor": "white",
            "showbackground": true,
            "ticks": "",
            "zerolinecolor": "white"
           },
           "yaxis": {
            "backgroundcolor": "#E5ECF6",
            "gridcolor": "white",
            "gridwidth": 2,
            "linecolor": "white",
            "showbackground": true,
            "ticks": "",
            "zerolinecolor": "white"
           },
           "zaxis": {
            "backgroundcolor": "#E5ECF6",
            "gridcolor": "white",
            "gridwidth": 2,
            "linecolor": "white",
            "showbackground": true,
            "ticks": "",
            "zerolinecolor": "white"
           }
          },
          "shapedefaults": {
           "line": {
            "color": "#2a3f5f"
           }
          },
          "ternary": {
           "aaxis": {
            "gridcolor": "white",
            "linecolor": "white",
            "ticks": ""
           },
           "baxis": {
            "gridcolor": "white",
            "linecolor": "white",
            "ticks": ""
           },
           "bgcolor": "#E5ECF6",
           "caxis": {
            "gridcolor": "white",
            "linecolor": "white",
            "ticks": ""
           }
          },
          "title": {
           "x": 0.05
          },
          "xaxis": {
           "automargin": true,
           "gridcolor": "white",
           "linecolor": "white",
           "ticks": "",
           "title": {
            "standoff": 15
           },
           "zerolinecolor": "white",
           "zerolinewidth": 2
          },
          "yaxis": {
           "automargin": true,
           "gridcolor": "white",
           "linecolor": "white",
           "ticks": "",
           "title": {
            "standoff": 15
           },
           "zerolinecolor": "white",
           "zerolinewidth": 2
          }
         }
        },
        "xaxis": {
         "anchor": "y",
         "domain": [
          0,
          1
         ],
         "title": {
          "text": "Wins"
         }
        },
        "yaxis": {
         "anchor": "x",
         "domain": [
          0,
          1
         ],
         "title": {
          "text": "Plus_Minus"
         }
        }
       }
      }
     },
     "metadata": {},
     "output_type": "display_data"
    },
    {
     "name": "stderr",
     "output_type": "stream",
     "text": [
      "C:\\Users\\ynakadi\\AppData\\Local\\Packages\\PythonSoftwareFoundation.Python.3.10_qbz5n2kfra8p0\\LocalCache\\local-packages\\Python310\\site-packages\\plotly\\express\\_core.py:1992: FutureWarning:\n",
      "\n",
      "When grouping with a length-1 list-like, you will need to pass a length-1 tuple to get_group in a future version of pandas. Pass `(name,)` instead of `name` to silence this warning.\n",
      "\n"
     ]
    },
    {
     "data": {
      "application/vnd.plotly.v1+json": {
       "config": {
        "plotlyServerURL": "https://plot.ly"
       },
       "data": [
        {
         "hovertemplate": "TEAM_ABBREVIATION=ATL<br>PTS=%{x}<br>PTS Allowed=%{y}<br>Team=%{text}<extra></extra>",
         "legendgroup": "ATL",
         "marker": {
          "color": "#636efa",
          "symbol": "circle"
         },
         "mode": "markers+text",
         "name": "ATL",
         "orientation": "v",
         "showlegend": true,
         "text": [
          "ATL 2013-14",
          "ATL 2014-15",
          "ATL 2015-16",
          "ATL 2016-17",
          "ATL 2020-21",
          "ATL 2021-22",
          "ATL 2022-23"
         ],
         "textposition": "top center",
         "type": "scatter",
         "x": [
          92.42857142857143,
          98,
          100.1,
          105.5,
          106.27777777777777,
          103.71428571428571,
          115.85714285714286
         ],
         "xaxis": "x",
         "y": [
          93.42857142857143,
          98.1875,
          101.1,
          106.66666666666667,
          107.77777777777777,
          107.28571428571429,
          118.85714285714286
         ],
         "yaxis": "y"
        },
        {
         "hovertemplate": "TEAM_ABBREVIATION=BKN<br>PTS=%{x}<br>PTS Allowed=%{y}<br>Team=%{text}<extra></extra>",
         "legendgroup": "BKN",
         "marker": {
          "color": "#EF553B",
          "symbol": "circle"
         },
         "mode": "markers+text",
         "name": "BKN",
         "orientation": "v",
         "showlegend": true,
         "text": [
          "BKN 2013-14",
          "BKN 2014-15",
          "BKN 2018-19",
          "BKN 2019-20",
          "BKN 2020-21",
          "BKN 2021-22",
          "BKN 2022-23"
         ],
         "textposition": "top center",
         "type": "scatter",
         "x": [
          95.5,
          96.33333333333333,
          111.4,
          105.75,
          112.5,
          110.2,
          92.5
         ],
         "xaxis": "x",
         "y": [
          96.83333333333333,
          101.83333333333333,
          122.4,
          126.25,
          106.16666666666667,
          112.4,
          103.75
         ],
         "yaxis": "y"
        },
        {
         "hovertemplate": "TEAM_ABBREVIATION=BOS<br>PTS=%{x}<br>PTS Allowed=%{y}<br>Team=%{text}<extra></extra>",
         "legendgroup": "BOS",
         "marker": {
          "color": "#00cc96",
          "symbol": "circle"
         },
         "mode": "markers+text",
         "name": "BOS",
         "orientation": "v",
         "showlegend": true,
         "text": [
          "BOS 2014-15",
          "BOS 2015-16",
          "BOS 2016-17",
          "BOS 2017-18",
          "BOS 2018-19",
          "BOS 2019-20",
          "BOS 2020-21",
          "BOS 2021-22",
          "BOS 2022-23"
         ],
         "textposition": "top center",
         "type": "scatter",
         "x": [
          94.75,
          93.83333333333333,
          105.22222222222223,
          101.36842105263158,
          102.11111111111111,
          109.3529411764706,
          113.16666666666667,
          105.54166666666667,
          111.95
         ],
         "xaxis": "x",
         "y": [
          104,
          100.5,
          108.11111111111111,
          100.47368421052632,
          103.55555555555556,
          104.36470588235295,
          119.5,
          101.95833333333333,
          108.6
         ],
         "yaxis": "y"
        },
        {
         "hovertemplate": "TEAM_ABBREVIATION=CHA<br>PTS=%{x}<br>PTS Allowed=%{y}<br>Team=%{text}<extra></extra>",
         "legendgroup": "CHA",
         "marker": {
          "color": "#ab63fa",
          "symbol": "circle"
         },
         "mode": "markers+text",
         "name": "CHA",
         "orientation": "v",
         "showlegend": true,
         "text": [
          "CHA 2013-14",
          "CHA 2015-16",
          "CHA 2020-21",
          "CHA 2021-22"
         ],
         "textposition": "top center",
         "type": "scatter",
         "x": [
          92,
          90.28571428571429,
          117,
          103
         ],
         "xaxis": "x",
         "y": [
          101.75,
          99.14285714285714,
          144,
          132
         ],
         "yaxis": "y"
        },
        {
         "hovertemplate": "TEAM_ABBREVIATION=CHI<br>PTS=%{x}<br>PTS Allowed=%{y}<br>Team=%{text}<extra></extra>",
         "legendgroup": "CHI",
         "marker": {
          "color": "#FFA15A",
          "symbol": "circle"
         },
         "mode": "markers+text",
         "name": "CHI",
         "orientation": "v",
         "showlegend": true,
         "text": [
          "CHI 2013-14",
          "CHI 2014-15",
          "CHI 2016-17",
          "CHI 2021-22",
          "CHI 2022-23"
         ],
         "textposition": "top center",
         "type": "scatter",
         "x": [
          90,
          96,
          96.5,
          95.2,
          100
         ],
         "xaxis": "x",
         "y": [
          94.6,
          92.58333333333333,
          103.33333333333333,
          109.8,
          103.5
         ],
         "yaxis": "y"
        },
        {
         "hovertemplate": "TEAM_ABBREVIATION=CLE<br>PTS=%{x}<br>PTS Allowed=%{y}<br>Team=%{text}<extra></extra>",
         "legendgroup": "CLE",
         "marker": {
          "color": "#19d3f3",
          "symbol": "circle"
         },
         "mode": "markers+text",
         "name": "CLE",
         "orientation": "v",
         "showlegend": true,
         "text": [
          "CLE 2014-15",
          "CLE 2015-16",
          "CLE 2016-17",
          "CLE 2017-18",
          "CLE 2021-22",
          "CLE 2022-23"
         ],
         "textposition": "top center",
         "type": "scatter",
         "x": [
          99,
          104.76190476190476,
          116.22222222222223,
          101.13636363636364,
          104.5,
          94.2
         ],
         "xaxis": "x",
         "y": [
          95,
          96.14285714285714,
          108.38888888888889,
          102.86363636363636,
          111,
          99.6
         ],
         "yaxis": "y"
        },
        {
         "hovertemplate": "TEAM_ABBREVIATION=DAL<br>PTS=%{x}<br>PTS Allowed=%{y}<br>Team=%{text}<extra></extra>",
         "legendgroup": "DAL",
         "marker": {
          "color": "#FF6692",
          "symbol": "circle"
         },
         "mode": "markers+text",
         "name": "DAL",
         "orientation": "v",
         "showlegend": true,
         "text": [
          "DAL 2013-14",
          "DAL 2014-15",
          "DAL 2015-16",
          "DAL 2019-20",
          "DAL 2020-21",
          "DAL 2021-22"
         ],
         "textposition": "top center",
         "type": "scatter",
         "x": [
          101.14285714285714,
          110,
          93.8,
          117,
          106,
          106.33333333333333
         ],
         "xaxis": "x",
         "y": [
          103.14285714285714,
          114.2,
          112,
          126.66666666666667,
          111.14285714285714,
          105.61111111111111
         ],
         "yaxis": "y"
        },
        {
         "hovertemplate": "TEAM_ABBREVIATION=DEN<br>PTS=%{x}<br>PTS Allowed=%{y}<br>Team=%{text}<extra></extra>",
         "legendgroup": "DEN",
         "marker": {
          "color": "#B6E880",
          "symbol": "circle"
         },
         "mode": "markers+text",
         "name": "DEN",
         "orientation": "v",
         "showlegend": true,
         "text": [
          "DEN 2018-19",
          "DEN 2019-20",
          "DEN 2020-21",
          "DEN 2021-22",
          "DEN 2022-23"
         ],
         "textposition": "top center",
         "type": "scatter",
         "x": [
          109.14285714285714,
          107.42105263157895,
          114.8,
          110,
          113.45
         ],
         "xaxis": "x",
         "y": [
          107.28571428571429,
          109.6842105263158,
          120.3,
          118,
          105.15
         ],
         "yaxis": "y"
        },
        {
         "hovertemplate": "TEAM_ABBREVIATION=DET<br>PTS=%{x}<br>PTS Allowed=%{y}<br>Team=%{text}<extra></extra>",
         "legendgroup": "DET",
         "marker": {
          "color": "#FF97FF",
          "symbol": "circle"
         },
         "mode": "markers+text",
         "name": "DET",
         "orientation": "v",
         "showlegend": true,
         "text": [
          "DET 2015-16",
          "DET 2018-19"
         ],
         "textposition": "top center",
         "type": "scatter",
         "x": [
          95,
          98
         ],
         "xaxis": "x",
         "y": [
          103.5,
          121.75
         ],
         "yaxis": "y"
        },
        {
         "hovertemplate": "TEAM_ABBREVIATION=GSW<br>PTS=%{x}<br>PTS Allowed=%{y}<br>Team=%{text}<extra></extra>",
         "legendgroup": "GSW",
         "marker": {
          "color": "#FECB52",
          "symbol": "circle"
         },
         "mode": "markers+text",
         "name": "GSW",
         "orientation": "v",
         "showlegend": true,
         "text": [
          "GSW 2013-14",
          "GSW 2014-15",
          "GSW 2015-16",
          "GSW 2016-17",
          "GSW 2017-18",
          "GSW 2018-19",
          "GSW 2020-21",
          "GSW 2021-22",
          "GSW 2022-23"
         ],
         "textposition": "top center",
         "type": "scatter",
         "x": [
          106.42857142857143,
          103.28571428571429,
          107.70833333333333,
          119.29411764705883,
          110.42857142857143,
          114.13636363636364,
          106,
          111.86363636363636,
          113.07692307692308
         ],
         "xaxis": "x",
         "y": [
          110.85714285714286,
          95.47619047619048,
          103.33333333333333,
          105.6470588235294,
          100.42857142857143,
          110.77272727272727,
          110,
          106.81818181818181,
          113.23076923076923
         ],
         "yaxis": "y"
        },
        {
         "hovertemplate": "TEAM_ABBREVIATION=HOU<br>PTS=%{x}<br>PTS Allowed=%{y}<br>Team=%{text}<extra></extra>",
         "legendgroup": "HOU",
         "marker": {
          "color": "#636efa",
          "symbol": "circle"
         },
         "mode": "markers+text",
         "name": "HOU",
         "orientation": "v",
         "showlegend": true,
         "text": [
          "HOU 2013-14",
          "HOU 2014-15",
          "HOU 2015-16",
          "HOU 2016-17",
          "HOU 2017-18",
          "HOU 2018-19",
          "HOU 2019-20"
         ],
         "textposition": "top center",
         "type": "scatter",
         "x": [
          112,
          108.17647058823529,
          91.2,
          107.72727272727273,
          104.94117647058823,
          108.54545454545455,
          107.66666666666667
         ],
         "xaxis": "x",
         "y": [
          111.66666666666667,
          110.6470588235294,
          110,
          106.54545454545455,
          103.11764705882354,
          105.36363636363636,
          106.93333333333334
         ],
         "yaxis": "y"
        },
        {
         "hovertemplate": "TEAM_ABBREVIATION=IND<br>PTS=%{x}<br>PTS Allowed=%{y}<br>Team=%{text}<extra></extra>",
         "legendgroup": "IND",
         "marker": {
          "color": "#EF553B",
          "symbol": "circle"
         },
         "mode": "markers+text",
         "name": "IND",
         "orientation": "v",
         "showlegend": true,
         "text": [
          "IND 2013-14",
          "IND 2015-16",
          "IND 2016-17",
          "IND 2017-18",
          "IND 2018-19",
          "IND 2019-20",
          "IND 2020-21",
          "IND 2023-24"
         ],
         "textposition": "top center",
         "type": "scatter",
         "x": [
          91.57894736842105,
          93.71428571428571,
          108.75,
          100.57142857142857,
          91.75,
          100.75,
          129.5,
          109
         ],
         "xaxis": "x",
         "y": [
          92.57894736842105,
          92.28571428571429,
          112.75,
          94.85714285714286,
          99.25,
          111.25,
          129.5,
          123
         ],
         "yaxis": "y"
        },
        {
         "hovertemplate": "TEAM_ABBREVIATION=LAC<br>PTS=%{x}<br>PTS Allowed=%{y}<br>Team=%{text}<extra></extra>",
         "legendgroup": "LAC",
         "marker": {
          "color": "#00cc96",
          "symbol": "circle"
         },
         "mode": "markers+text",
         "name": "LAC",
         "orientation": "v",
         "showlegend": true,
         "text": [
          "LAC 2013-14",
          "LAC 2014-15",
          "LAC 2015-16",
          "LAC 2016-17",
          "LAC 2018-19",
          "LAC 2019-20",
          "LAC 2020-21",
          "LAC 2021-22",
          "LAC 2022-23"
         ],
         "textposition": "top center",
         "type": "scatter",
         "x": [
          108.76923076923077,
          107.78571428571429,
          98.33333333333333,
          97.71428571428571,
          114.66666666666667,
          114,
          111.57894736842105,
          102.5,
          115.6
         ],
         "xaxis": "x",
         "y": [
          106.76923076923077,
          106.42857142857143,
          97.33333333333333,
          98.85714285714286,
          124.5,
          109.76923076923077,
          107.52631578947368,
          107,
          122
         ],
         "yaxis": "y"
        },
        {
         "hovertemplate": "TEAM_ABBREVIATION=LAL<br>PTS=%{x}<br>PTS Allowed=%{y}<br>Team=%{text}<extra></extra>",
         "legendgroup": "LAL",
         "marker": {
          "color": "#ab63fa",
          "symbol": "circle"
         },
         "mode": "markers+text",
         "name": "LAL",
         "orientation": "v",
         "showlegend": true,
         "text": [
          "LAL 2019-20",
          "LAL 2020-21",
          "LAL 2022-23",
          "LAL 2023-24"
         ],
         "textposition": "top center",
         "type": "scatter",
         "x": [
          112.80952380952381,
          98.28571428571429,
          112.05882352941177,
          123
         ],
         "xaxis": "x",
         "y": [
          105.95238095238095,
          103.42857142857143,
          109.47058823529412,
          109
         ],
         "yaxis": "y"
        },
        {
         "hovertemplate": "TEAM_ABBREVIATION=MEM<br>PTS=%{x}<br>PTS Allowed=%{y}<br>Team=%{text}<extra></extra>",
         "legendgroup": "MEM",
         "marker": {
          "color": "#FFA15A",
          "symbol": "circle"
         },
         "mode": "markers+text",
         "name": "MEM",
         "orientation": "v",
         "showlegend": true,
         "text": [
          "MEM 2013-14",
          "MEM 2014-15",
          "MEM 2015-16",
          "MEM 2016-17",
          "MEM 2019-20",
          "MEM 2020-21",
          "MEM 2021-22",
          "MEM 2022-23"
         ],
         "textposition": "top center",
         "type": "scatter",
         "x": [
          96.71428571428571,
          94.72727272727273,
          81,
          96.33333333333333,
          122,
          113.14285714285714,
          112.5,
          104.66666666666667
         ],
         "xaxis": "x",
         "y": [
          101.97142857142856,
          96,
          103,
          104.66666666666667,
          126,
          117.85714285714286,
          110.08333333333333,
          112.16666666666667
         ],
         "yaxis": "y"
        },
        {
         "hovertemplate": "TEAM_ABBREVIATION=MIA<br>PTS=%{x}<br>PTS Allowed=%{y}<br>Team=%{text}<extra></extra>",
         "legendgroup": "MIA",
         "marker": {
          "color": "#19d3f3",
          "symbol": "circle"
         },
         "mode": "markers+text",
         "name": "MIA",
         "orientation": "v",
         "showlegend": true,
         "text": [
          "MIA 2013-14",
          "MIA 2015-16",
          "MIA 2017-18",
          "MIA 2019-20",
          "MIA 2020-21",
          "MIA 2021-22",
          "MIA 2022-23"
         ],
         "textposition": "top center",
         "type": "scatter",
         "x": [
          97.25,
          96.85714285714286,
          103.4,
          110,
          98,
          104.22222222222223,
          107.96
         ],
         "xaxis": "x",
         "y": [
          95.5,
          93.71428571428571,
          114.2,
          108,
          118.5,
          100.38888888888889,
          106.56
         ],
         "yaxis": "y"
        },
        {
         "hovertemplate": "TEAM_ABBREVIATION=MIL<br>PTS=%{x}<br>PTS Allowed=%{y}<br>Team=%{text}<extra></extra>",
         "legendgroup": "MIL",
         "marker": {
          "color": "#FF6692",
          "symbol": "circle"
         },
         "mode": "markers+text",
         "name": "MIL",
         "orientation": "v",
         "showlegend": true,
         "text": [
          "MIL 2014-15",
          "MIL 2016-17",
          "MIL 2017-18",
          "MIL 2018-19",
          "MIL 2019-20",
          "MIL 2020-21",
          "MIL 2021-22",
          "MIL 2022-23"
         ],
         "textposition": "top center",
         "type": "scatter",
         "x": [
          88.5,
          93.16666666666667,
          101.85714285714286,
          112.8,
          111.1,
          110.30434782608695,
          102.75,
          118.8
         ],
         "xaxis": "x",
         "y": [
          100.83333333333333,
          93.83333333333333,
          102.42857142857143,
          104,
          109.9,
          105.17391304347827,
          101.25,
          124
         ],
         "yaxis": "y"
        },
        {
         "hovertemplate": "TEAM_ABBREVIATION=MIN<br>PTS=%{x}<br>PTS Allowed=%{y}<br>Team=%{text}<extra></extra>",
         "legendgroup": "MIN",
         "marker": {
          "color": "#B6E880",
          "symbol": "circle"
         },
         "mode": "markers+text",
         "name": "MIN",
         "orientation": "v",
         "showlegend": true,
         "text": [
          "MIN 2017-18",
          "MIN 2021-22",
          "MIN 2022-23"
         ],
         "textposition": "top center",
         "type": "scatter",
         "x": [
          101.6,
          109.14285714285714,
          107
         ],
         "xaxis": "x",
         "y": [
          110.4,
          113.14285714285714,
          110.57142857142857
         ],
         "yaxis": "y"
        },
        {
         "hovertemplate": "TEAM_ABBREVIATION=NOP<br>PTS=%{x}<br>PTS Allowed=%{y}<br>Team=%{text}<extra></extra>",
         "legendgroup": "NOP",
         "marker": {
          "color": "#FF97FF",
          "symbol": "circle"
         },
         "mode": "markers+text",
         "name": "NOP",
         "orientation": "v",
         "showlegend": true,
         "text": [
          "NOP 2014-15",
          "NOP 2017-18",
          "NOP 2021-22",
          "NOP 2022-23"
         ],
         "textposition": "top center",
         "type": "scatter",
         "x": [
          100.75,
          110,
          109.625,
          118
         ],
         "xaxis": "x",
         "y": [
          108.75,
          110.77777777777777,
          109,
          123
         ],
         "yaxis": "y"
        },
        {
         "hovertemplate": "TEAM_ABBREVIATION=NYK<br>PTS=%{x}<br>PTS Allowed=%{y}<br>Team=%{text}<extra></extra>",
         "legendgroup": "NYK",
         "marker": {
          "color": "#FECB52",
          "symbol": "circle"
         },
         "mode": "markers+text",
         "name": "NYK",
         "orientation": "v",
         "showlegend": true,
         "text": [
          "NYK 2020-21",
          "NYK 2022-23"
         ],
         "textposition": "top center",
         "type": "scatter",
         "x": [
          97,
          100.0909090909091
         ],
         "xaxis": "x",
         "y": [
          104,
          99.72727272727273
         ],
         "yaxis": "y"
        },
        {
         "hovertemplate": "TEAM_ABBREVIATION=OKC<br>PTS=%{x}<br>PTS Allowed=%{y}<br>Team=%{text}<extra></extra>",
         "legendgroup": "OKC",
         "marker": {
          "color": "#636efa",
          "symbol": "circle"
         },
         "mode": "markers+text",
         "name": "OKC",
         "orientation": "v",
         "showlegend": true,
         "text": [
          "OKC 2013-14",
          "OKC 2015-16",
          "OKC 2016-17",
          "OKC 2017-18",
          "OKC 2018-19",
          "OKC 2019-20",
          "OKC 2022-23"
         ],
         "textposition": "top center",
         "type": "scatter",
         "x": [
          102.47368421052632,
          106.38888888888889,
          104.2,
          101.16666666666667,
          105.2,
          104,
          109
         ],
         "xaxis": "x",
         "y": [
          103.52631578947368,
          101.11111111111111,
          112.8,
          105.5,
          112.2,
          110.42857142857143,
          118.8
         ],
         "yaxis": "y"
        },
        {
         "hovertemplate": "TEAM_ABBREVIATION=ORL<br>PTS=%{x}<br>PTS Allowed=%{y}<br>Team=%{text}<extra></extra>",
         "legendgroup": "ORL",
         "marker": {
          "color": "#EF553B",
          "symbol": "circle"
         },
         "mode": "markers+text",
         "name": "ORL",
         "orientation": "v",
         "showlegend": true,
         "text": [
          "ORL 2018-19",
          "ORL 2019-20"
         ],
         "textposition": "top center",
         "type": "scatter",
         "x": [
          92,
          107
         ],
         "xaxis": "x",
         "y": [
          106.4,
          116.2
         ],
         "yaxis": "y"
        },
        {
         "hovertemplate": "TEAM_ABBREVIATION=PHI<br>PTS=%{x}<br>PTS Allowed=%{y}<br>Team=%{text}<extra></extra>",
         "legendgroup": "PHI",
         "marker": {
          "color": "#00cc96",
          "symbol": "circle"
         },
         "mode": "markers+text",
         "name": "PHI",
         "orientation": "v",
         "showlegend": true,
         "text": [
          "PHI 2017-18",
          "PHI 2018-19",
          "PHI 2019-20",
          "PHI 2020-21",
          "PHI 2021-22",
          "PHI 2022-23"
         ],
         "textposition": "top center",
         "type": "scatter",
         "x": [
          108.8,
          108.66666666666667,
          100.5,
          116.25,
          104.5,
          102.54545454545455
         ],
         "xaxis": "x",
         "y": [
          104.9,
          105.66666666666667,
          112.25,
          108.75,
          104.16666666666667,
          104.0909090909091
         ],
         "yaxis": "y"
        },
        {
         "hovertemplate": "TEAM_ABBREVIATION=PHX<br>PTS=%{x}<br>PTS Allowed=%{y}<br>Team=%{text}<extra></extra>",
         "legendgroup": "PHX",
         "marker": {
          "color": "#ab63fa",
          "symbol": "circle"
         },
         "mode": "markers+text",
         "name": "PHX",
         "orientation": "v",
         "showlegend": true,
         "text": [
          "PHX 2020-21",
          "PHX 2021-22",
          "PHX 2022-23"
         ],
         "textposition": "top center",
         "type": "scatter",
         "x": [
          109,
          107.61538461538461,
          114.18181818181819
         ],
         "xaxis": "x",
         "y": [
          104.54545454545455,
          108.61538461538461,
          116.45454545454545
         ],
         "yaxis": "y"
        },
        {
         "hovertemplate": "TEAM_ABBREVIATION=POR<br>PTS=%{x}<br>PTS Allowed=%{y}<br>Team=%{text}<extra></extra>",
         "legendgroup": "POR",
         "marker": {
          "color": "#FFA15A",
          "symbol": "circle"
         },
         "mode": "markers+text",
         "name": "POR",
         "orientation": "v",
         "showlegend": true,
         "text": [
          "POR 2013-14",
          "POR 2014-15",
          "POR 2015-16",
          "POR 2016-17",
          "POR 2017-18",
          "POR 2018-19",
          "POR 2019-20",
          "POR 2020-21"
         ],
         "textposition": "top center",
         "type": "scatter",
         "x": [
          104.27272727272727,
          93.8,
          105,
          101.5,
          105.5,
          109.6875,
          109.83333333333333,
          119.5
         ],
         "xaxis": "x",
         "y": [
          110.54545454545455,
          100.6,
          107.54545454545455,
          119.5,
          114.5,
          111.0625,
          118,
          120.83333333333333
         ],
         "yaxis": "y"
        },
        {
         "hovertemplate": "TEAM_ABBREVIATION=SAC<br>PTS=%{x}<br>PTS Allowed=%{y}<br>Team=%{text}<extra></extra>",
         "legendgroup": "SAC",
         "marker": {
          "color": "#19d3f3",
          "symbol": "circle"
         },
         "mode": "markers+text",
         "name": "SAC",
         "orientation": "v",
         "showlegend": true,
         "text": [
          "SAC 2022-23"
         ],
         "textposition": "top center",
         "type": "scatter",
         "x": [
          113.71428571428571
         ],
         "xaxis": "x",
         "y": [
          115.85714285714286
         ],
         "yaxis": "y"
        },
        {
         "hovertemplate": "TEAM_ABBREVIATION=SAS<br>PTS=%{x}<br>PTS Allowed=%{y}<br>Team=%{text}<extra></extra>",
         "legendgroup": "SAS",
         "marker": {
          "color": "#FF6692",
          "symbol": "circle"
         },
         "mode": "markers+text",
         "name": "SAS",
         "orientation": "v",
         "showlegend": true,
         "text": [
          "SAS 2013-14",
          "SAS 2014-15",
          "SAS 2015-16",
          "SAS 2016-17",
          "SAS 2017-18",
          "SAS 2018-19",
          "SAS 2020-21",
          "SAS 2021-22"
         ],
         "textposition": "top center",
         "type": "scatter",
         "x": [
          106.34782608695652,
          103.42857142857143,
          102,
          107.0625,
          96.8,
          103.28571428571429,
          96,
          103
         ],
         "xaxis": "x",
         "y": [
          97.04347826086956,
          103,
          92.9,
          106.0625,
          105.6,
          105.14285714285714,
          100,
          113
         ],
         "yaxis": "y"
        },
        {
         "hovertemplate": "TEAM_ABBREVIATION=TOR<br>PTS=%{x}<br>PTS Allowed=%{y}<br>Team=%{text}<extra></extra>",
         "legendgroup": "TOR",
         "marker": {
          "color": "#B6E880",
          "symbol": "circle"
         },
         "mode": "markers+text",
         "name": "TOR",
         "orientation": "v",
         "showlegend": true,
         "text": [
          "TOR 2013-14",
          "TOR 2014-15",
          "TOR 2015-16",
          "TOR 2016-17",
          "TOR 2017-18",
          "TOR 2018-19",
          "TOR 2019-20",
          "TOR 2021-22",
          "TOR 2022-23"
         ],
         "textposition": "top center",
         "type": "scatter",
         "x": [
          96.14285714285714,
          96.25,
          93.4,
          96.7,
          107.3,
          106.58333333333333,
          109.36363636363636,
          103.16666666666667,
          105
         ],
         "xaxis": "x",
         "y": [
          97.71428571428571,
          110.25,
          97.65,
          102.4,
          111.7,
          101.125,
          105.27272727272727,
          111.5,
          109
         ],
         "yaxis": "y"
        },
        {
         "hovertemplate": "TEAM_ABBREVIATION=UTA<br>PTS=%{x}<br>PTS Allowed=%{y}<br>Team=%{text}<extra></extra>",
         "legendgroup": "UTA",
         "marker": {
          "color": "#FF97FF",
          "symbol": "circle"
         },
         "mode": "markers+text",
         "name": "UTA",
         "orientation": "v",
         "showlegend": true,
         "text": [
          "UTA 2016-17",
          "UTA 2017-18",
          "UTA 2018-19",
          "UTA 2019-20",
          "UTA 2020-21",
          "UTA 2021-22"
         ],
         "textposition": "top center",
         "type": "scatter",
         "x": [
          97.81818181818181,
          102.36363636363636,
          97.8,
          113.42857142857143,
          116.9090909090909,
          99
         ],
         "xaxis": "x",
         "y": [
          102.54545454545455,
          104.54545454545455,
          107,
          110,
          117.72727272727273,
          104.66666666666667
         ],
         "yaxis": "y"
        },
        {
         "hovertemplate": "TEAM_ABBREVIATION=WAS<br>PTS=%{x}<br>PTS Allowed=%{y}<br>Team=%{text}<extra></extra>",
         "legendgroup": "WAS",
         "marker": {
          "color": "#FECB52",
          "symbol": "circle"
         },
         "mode": "markers+text",
         "name": "WAS",
         "orientation": "v",
         "showlegend": true,
         "text": [
          "WAS 2013-14",
          "WAS 2014-15",
          "WAS 2016-17",
          "WAS 2017-18",
          "WAS 2020-21"
         ],
         "textposition": "top center",
         "type": "scatter",
         "x": [
          90.36363636363636,
          101.1,
          108.07692307692308,
          107.16666666666667,
          113.14285714285714
         ],
         "xaxis": "x",
         "y": [
          89.45454545454545,
          97.2,
          108.07692307692308,
          109.16666666666667,
          122.91428571428571
         ],
         "yaxis": "y"
        }
       ],
       "layout": {
        "legend": {
         "title": {
          "text": "TEAM_ABBREVIATION"
         },
         "tracegroupgap": 0
        },
        "margin": {
         "t": 60
        },
        "template": {
         "data": {
          "bar": [
           {
            "error_x": {
             "color": "#2a3f5f"
            },
            "error_y": {
             "color": "#2a3f5f"
            },
            "marker": {
             "line": {
              "color": "#E5ECF6",
              "width": 0.5
             },
             "pattern": {
              "fillmode": "overlay",
              "size": 10,
              "solidity": 0.2
             }
            },
            "type": "bar"
           }
          ],
          "barpolar": [
           {
            "marker": {
             "line": {
              "color": "#E5ECF6",
              "width": 0.5
             },
             "pattern": {
              "fillmode": "overlay",
              "size": 10,
              "solidity": 0.2
             }
            },
            "type": "barpolar"
           }
          ],
          "carpet": [
           {
            "aaxis": {
             "endlinecolor": "#2a3f5f",
             "gridcolor": "white",
             "linecolor": "white",
             "minorgridcolor": "white",
             "startlinecolor": "#2a3f5f"
            },
            "baxis": {
             "endlinecolor": "#2a3f5f",
             "gridcolor": "white",
             "linecolor": "white",
             "minorgridcolor": "white",
             "startlinecolor": "#2a3f5f"
            },
            "type": "carpet"
           }
          ],
          "choropleth": [
           {
            "colorbar": {
             "outlinewidth": 0,
             "ticks": ""
            },
            "type": "choropleth"
           }
          ],
          "contour": [
           {
            "colorbar": {
             "outlinewidth": 0,
             "ticks": ""
            },
            "colorscale": [
             [
              0,
              "#0d0887"
             ],
             [
              0.1111111111111111,
              "#46039f"
             ],
             [
              0.2222222222222222,
              "#7201a8"
             ],
             [
              0.3333333333333333,
              "#9c179e"
             ],
             [
              0.4444444444444444,
              "#bd3786"
             ],
             [
              0.5555555555555556,
              "#d8576b"
             ],
             [
              0.6666666666666666,
              "#ed7953"
             ],
             [
              0.7777777777777778,
              "#fb9f3a"
             ],
             [
              0.8888888888888888,
              "#fdca26"
             ],
             [
              1,
              "#f0f921"
             ]
            ],
            "type": "contour"
           }
          ],
          "contourcarpet": [
           {
            "colorbar": {
             "outlinewidth": 0,
             "ticks": ""
            },
            "type": "contourcarpet"
           }
          ],
          "heatmap": [
           {
            "colorbar": {
             "outlinewidth": 0,
             "ticks": ""
            },
            "colorscale": [
             [
              0,
              "#0d0887"
             ],
             [
              0.1111111111111111,
              "#46039f"
             ],
             [
              0.2222222222222222,
              "#7201a8"
             ],
             [
              0.3333333333333333,
              "#9c179e"
             ],
             [
              0.4444444444444444,
              "#bd3786"
             ],
             [
              0.5555555555555556,
              "#d8576b"
             ],
             [
              0.6666666666666666,
              "#ed7953"
             ],
             [
              0.7777777777777778,
              "#fb9f3a"
             ],
             [
              0.8888888888888888,
              "#fdca26"
             ],
             [
              1,
              "#f0f921"
             ]
            ],
            "type": "heatmap"
           }
          ],
          "heatmapgl": [
           {
            "colorbar": {
             "outlinewidth": 0,
             "ticks": ""
            },
            "colorscale": [
             [
              0,
              "#0d0887"
             ],
             [
              0.1111111111111111,
              "#46039f"
             ],
             [
              0.2222222222222222,
              "#7201a8"
             ],
             [
              0.3333333333333333,
              "#9c179e"
             ],
             [
              0.4444444444444444,
              "#bd3786"
             ],
             [
              0.5555555555555556,
              "#d8576b"
             ],
             [
              0.6666666666666666,
              "#ed7953"
             ],
             [
              0.7777777777777778,
              "#fb9f3a"
             ],
             [
              0.8888888888888888,
              "#fdca26"
             ],
             [
              1,
              "#f0f921"
             ]
            ],
            "type": "heatmapgl"
           }
          ],
          "histogram": [
           {
            "marker": {
             "pattern": {
              "fillmode": "overlay",
              "size": 10,
              "solidity": 0.2
             }
            },
            "type": "histogram"
           }
          ],
          "histogram2d": [
           {
            "colorbar": {
             "outlinewidth": 0,
             "ticks": ""
            },
            "colorscale": [
             [
              0,
              "#0d0887"
             ],
             [
              0.1111111111111111,
              "#46039f"
             ],
             [
              0.2222222222222222,
              "#7201a8"
             ],
             [
              0.3333333333333333,
              "#9c179e"
             ],
             [
              0.4444444444444444,
              "#bd3786"
             ],
             [
              0.5555555555555556,
              "#d8576b"
             ],
             [
              0.6666666666666666,
              "#ed7953"
             ],
             [
              0.7777777777777778,
              "#fb9f3a"
             ],
             [
              0.8888888888888888,
              "#fdca26"
             ],
             [
              1,
              "#f0f921"
             ]
            ],
            "type": "histogram2d"
           }
          ],
          "histogram2dcontour": [
           {
            "colorbar": {
             "outlinewidth": 0,
             "ticks": ""
            },
            "colorscale": [
             [
              0,
              "#0d0887"
             ],
             [
              0.1111111111111111,
              "#46039f"
             ],
             [
              0.2222222222222222,
              "#7201a8"
             ],
             [
              0.3333333333333333,
              "#9c179e"
             ],
             [
              0.4444444444444444,
              "#bd3786"
             ],
             [
              0.5555555555555556,
              "#d8576b"
             ],
             [
              0.6666666666666666,
              "#ed7953"
             ],
             [
              0.7777777777777778,
              "#fb9f3a"
             ],
             [
              0.8888888888888888,
              "#fdca26"
             ],
             [
              1,
              "#f0f921"
             ]
            ],
            "type": "histogram2dcontour"
           }
          ],
          "mesh3d": [
           {
            "colorbar": {
             "outlinewidth": 0,
             "ticks": ""
            },
            "type": "mesh3d"
           }
          ],
          "parcoords": [
           {
            "line": {
             "colorbar": {
              "outlinewidth": 0,
              "ticks": ""
             }
            },
            "type": "parcoords"
           }
          ],
          "pie": [
           {
            "automargin": true,
            "type": "pie"
           }
          ],
          "scatter": [
           {
            "fillpattern": {
             "fillmode": "overlay",
             "size": 10,
             "solidity": 0.2
            },
            "type": "scatter"
           }
          ],
          "scatter3d": [
           {
            "line": {
             "colorbar": {
              "outlinewidth": 0,
              "ticks": ""
             }
            },
            "marker": {
             "colorbar": {
              "outlinewidth": 0,
              "ticks": ""
             }
            },
            "type": "scatter3d"
           }
          ],
          "scattercarpet": [
           {
            "marker": {
             "colorbar": {
              "outlinewidth": 0,
              "ticks": ""
             }
            },
            "type": "scattercarpet"
           }
          ],
          "scattergeo": [
           {
            "marker": {
             "colorbar": {
              "outlinewidth": 0,
              "ticks": ""
             }
            },
            "type": "scattergeo"
           }
          ],
          "scattergl": [
           {
            "marker": {
             "colorbar": {
              "outlinewidth": 0,
              "ticks": ""
             }
            },
            "type": "scattergl"
           }
          ],
          "scattermapbox": [
           {
            "marker": {
             "colorbar": {
              "outlinewidth": 0,
              "ticks": ""
             }
            },
            "type": "scattermapbox"
           }
          ],
          "scatterpolar": [
           {
            "marker": {
             "colorbar": {
              "outlinewidth": 0,
              "ticks": ""
             }
            },
            "type": "scatterpolar"
           }
          ],
          "scatterpolargl": [
           {
            "marker": {
             "colorbar": {
              "outlinewidth": 0,
              "ticks": ""
             }
            },
            "type": "scatterpolargl"
           }
          ],
          "scatterternary": [
           {
            "marker": {
             "colorbar": {
              "outlinewidth": 0,
              "ticks": ""
             }
            },
            "type": "scatterternary"
           }
          ],
          "surface": [
           {
            "colorbar": {
             "outlinewidth": 0,
             "ticks": ""
            },
            "colorscale": [
             [
              0,
              "#0d0887"
             ],
             [
              0.1111111111111111,
              "#46039f"
             ],
             [
              0.2222222222222222,
              "#7201a8"
             ],
             [
              0.3333333333333333,
              "#9c179e"
             ],
             [
              0.4444444444444444,
              "#bd3786"
             ],
             [
              0.5555555555555556,
              "#d8576b"
             ],
             [
              0.6666666666666666,
              "#ed7953"
             ],
             [
              0.7777777777777778,
              "#fb9f3a"
             ],
             [
              0.8888888888888888,
              "#fdca26"
             ],
             [
              1,
              "#f0f921"
             ]
            ],
            "type": "surface"
           }
          ],
          "table": [
           {
            "cells": {
             "fill": {
              "color": "#EBF0F8"
             },
             "line": {
              "color": "white"
             }
            },
            "header": {
             "fill": {
              "color": "#C8D4E3"
             },
             "line": {
              "color": "white"
             }
            },
            "type": "table"
           }
          ]
         },
         "layout": {
          "annotationdefaults": {
           "arrowcolor": "#2a3f5f",
           "arrowhead": 0,
           "arrowwidth": 1
          },
          "autotypenumbers": "strict",
          "coloraxis": {
           "colorbar": {
            "outlinewidth": 0,
            "ticks": ""
           }
          },
          "colorscale": {
           "diverging": [
            [
             0,
             "#8e0152"
            ],
            [
             0.1,
             "#c51b7d"
            ],
            [
             0.2,
             "#de77ae"
            ],
            [
             0.3,
             "#f1b6da"
            ],
            [
             0.4,
             "#fde0ef"
            ],
            [
             0.5,
             "#f7f7f7"
            ],
            [
             0.6,
             "#e6f5d0"
            ],
            [
             0.7,
             "#b8e186"
            ],
            [
             0.8,
             "#7fbc41"
            ],
            [
             0.9,
             "#4d9221"
            ],
            [
             1,
             "#276419"
            ]
           ],
           "sequential": [
            [
             0,
             "#0d0887"
            ],
            [
             0.1111111111111111,
             "#46039f"
            ],
            [
             0.2222222222222222,
             "#7201a8"
            ],
            [
             0.3333333333333333,
             "#9c179e"
            ],
            [
             0.4444444444444444,
             "#bd3786"
            ],
            [
             0.5555555555555556,
             "#d8576b"
            ],
            [
             0.6666666666666666,
             "#ed7953"
            ],
            [
             0.7777777777777778,
             "#fb9f3a"
            ],
            [
             0.8888888888888888,
             "#fdca26"
            ],
            [
             1,
             "#f0f921"
            ]
           ],
           "sequentialminus": [
            [
             0,
             "#0d0887"
            ],
            [
             0.1111111111111111,
             "#46039f"
            ],
            [
             0.2222222222222222,
             "#7201a8"
            ],
            [
             0.3333333333333333,
             "#9c179e"
            ],
            [
             0.4444444444444444,
             "#bd3786"
            ],
            [
             0.5555555555555556,
             "#d8576b"
            ],
            [
             0.6666666666666666,
             "#ed7953"
            ],
            [
             0.7777777777777778,
             "#fb9f3a"
            ],
            [
             0.8888888888888888,
             "#fdca26"
            ],
            [
             1,
             "#f0f921"
            ]
           ]
          },
          "colorway": [
           "#636efa",
           "#EF553B",
           "#00cc96",
           "#ab63fa",
           "#FFA15A",
           "#19d3f3",
           "#FF6692",
           "#B6E880",
           "#FF97FF",
           "#FECB52"
          ],
          "font": {
           "color": "#2a3f5f"
          },
          "geo": {
           "bgcolor": "white",
           "lakecolor": "white",
           "landcolor": "#E5ECF6",
           "showlakes": true,
           "showland": true,
           "subunitcolor": "white"
          },
          "hoverlabel": {
           "align": "left"
          },
          "hovermode": "closest",
          "mapbox": {
           "style": "light"
          },
          "paper_bgcolor": "white",
          "plot_bgcolor": "#E5ECF6",
          "polar": {
           "angularaxis": {
            "gridcolor": "white",
            "linecolor": "white",
            "ticks": ""
           },
           "bgcolor": "#E5ECF6",
           "radialaxis": {
            "gridcolor": "white",
            "linecolor": "white",
            "ticks": ""
           }
          },
          "scene": {
           "xaxis": {
            "backgroundcolor": "#E5ECF6",
            "gridcolor": "white",
            "gridwidth": 2,
            "linecolor": "white",
            "showbackground": true,
            "ticks": "",
            "zerolinecolor": "white"
           },
           "yaxis": {
            "backgroundcolor": "#E5ECF6",
            "gridcolor": "white",
            "gridwidth": 2,
            "linecolor": "white",
            "showbackground": true,
            "ticks": "",
            "zerolinecolor": "white"
           },
           "zaxis": {
            "backgroundcolor": "#E5ECF6",
            "gridcolor": "white",
            "gridwidth": 2,
            "linecolor": "white",
            "showbackground": true,
            "ticks": "",
            "zerolinecolor": "white"
           }
          },
          "shapedefaults": {
           "line": {
            "color": "#2a3f5f"
           }
          },
          "ternary": {
           "aaxis": {
            "gridcolor": "white",
            "linecolor": "white",
            "ticks": ""
           },
           "baxis": {
            "gridcolor": "white",
            "linecolor": "white",
            "ticks": ""
           },
           "bgcolor": "#E5ECF6",
           "caxis": {
            "gridcolor": "white",
            "linecolor": "white",
            "ticks": ""
           }
          },
          "title": {
           "x": 0.05
          },
          "xaxis": {
           "automargin": true,
           "gridcolor": "white",
           "linecolor": "white",
           "ticks": "",
           "title": {
            "standoff": 15
           },
           "zerolinecolor": "white",
           "zerolinewidth": 2
          },
          "yaxis": {
           "automargin": true,
           "gridcolor": "white",
           "linecolor": "white",
           "ticks": "",
           "title": {
            "standoff": 15
           },
           "zerolinecolor": "white",
           "zerolinewidth": 2
          }
         }
        },
        "xaxis": {
         "anchor": "y",
         "domain": [
          0,
          1
         ],
         "title": {
          "text": "PTS"
         }
        },
        "yaxis": {
         "anchor": "x",
         "autorange": "reversed",
         "domain": [
          0,
          1
         ],
         "title": {
          "text": "PTS Allowed"
         }
        }
       }
      }
     },
     "metadata": {},
     "output_type": "display_data"
    }
   ],
   "source": [
    "# Regular Season Games\n",
    "reg_games = game_by_game_df[game_by_game_df['GAME_TYPE'] == 2]\n",
    "game_by_game_df['Team'] = game_by_game_df['TEAM_ABBREVIATION'] + ' ' + game_by_game_df['SEASON']\n",
    "\n",
    "wins = game_by_game_df[['TEAM_ABBREVIATION','Win','SEASON','GAME_TYPE']].groupby(by=['TEAM_ABBREVIATION','SEASON','GAME_TYPE']).count().reset_index()\n",
    "\n",
    "# Playoff Games\n",
    "playoff_teams = game_by_game_df[game_by_game_df['GAME_TYPE'] >= 4]['Team']\n",
    "post_games = game_by_game_df[game_by_game_df['GAME_TYPE'] >= 4]\n",
    "\n",
    "graph_df = post_games[['TEAM_ABBREVIATION','PLUS_MINUS','SEASON','Win']].groupby(by=['TEAM_ABBREVIATION','SEASON']).agg(Wins=('Win', np.sum),Plus_Minus =('PLUS_MINUS', np.mean)).reset_index()\n",
    "graph_df['Team'] = graph_df['TEAM_ABBREVIATION'] + ' ' + graph_df['SEASON']\n",
    "graph_df = graph_df.sort_values(by='Wins',ascending=True)\n",
    "\n",
    "fig = px.scatter(graph_df[graph_df['Team'].isin(playoff_teams)], x = 'Wins', y = 'Plus_Minus', color = 'TEAM_ABBREVIATION', text=\"Team\")\n",
    "fig.update_traces(textposition='top center')\n",
    "fig.show()\n",
    "\n",
    "graph2_df = post_games[['TEAM_ABBREVIATION','PTS','SEASON','PTS Allowed']].groupby(by=['TEAM_ABBREVIATION','SEASON']).mean().reset_index()\n",
    "graph2_df['Team'] = graph2_df['TEAM_ABBREVIATION'] + ' ' + graph2_df['SEASON']\n",
    "fig2 = px.scatter(graph2_df[graph2_df['Team'].isin(playoff_teams)], x = 'PTS', y = 'PTS Allowed', color = 'TEAM_ABBREVIATION', text=\"Team\")\n",
    "fig2.update_traces(textposition='top center')\n",
    "fig2['layout']['yaxis']['autorange'] = \"reversed\"\n",
    "fig2.show()\n"
   ]
  },
  {
   "cell_type": "markdown",
   "metadata": {},
   "source": [
    "### Home Court Advantage?"
   ]
  },
  {
   "cell_type": "code",
   "execution_count": 41,
   "metadata": {},
   "outputs": [
    {
     "name": "stderr",
     "output_type": "stream",
     "text": [
      "C:\\Users\\ynakadi\\AppData\\Local\\Temp\\ipykernel_32836\\1846838543.py:4: DeprecationWarning: DataFrameGroupBy.apply operated on the grouping columns. This behavior is deprecated, and in a future version of pandas the grouping columns will be excluded from the operation. Either pass `include_groups=False` to exclude the groupings or explicitly select the grouping columns after groupby to silence this warning.\n",
      "  test_df['Cum Wins'] = test_df.groupby(['TEAM_ABBREVIATION','SEASON']).apply(lambda x:\n",
      "C:\\Users\\ynakadi\\AppData\\Local\\Temp\\ipykernel_32836\\1846838543.py:29: SettingWithCopyWarning: \n",
      "A value is trying to be set on a copy of a slice from a DataFrame.\n",
      "Try using .loc[row_indexer,col_indexer] = value instead\n",
      "\n",
      "See the caveats in the documentation: https://pandas.pydata.org/pandas-docs/stable/user_guide/indexing.html#returning-a-view-versus-a-copy\n",
      "  lines_df['Home Win%'] = ~(lines_df['At Home'] ^ lines_df['Win']) + 2\n"
     ]
    },
    {
     "data": {
      "text/plain": [
       "<AxesSubplot: xlabel='SEASON', ylabel='value'>"
      ]
     },
     "execution_count": 41,
     "metadata": {},
     "output_type": "execute_result"
    },
    {
     "data": {
      "image/png": "[encoded data removed]",
      "text/plain": [
       "<Figure size 432x288 with 1 Axes>"
      ]
     },
     "metadata": {
      "needs_background": "light"
     },
     "output_type": "display_data"
    }
   ],
   "source": [
    "test_df = game_by_game_df[game_by_game_df['SEASON_ID'] - 40000 < 0].sort_values(by=['TEAM_ABBREVIATION','GAME_DATE']).reset_index(drop=True)\n",
    "\n",
    "test_df = test_df[['GAME_ID','TEAM_ABBREVIATION','SEASON','At Home','Win','Opponent']]\n",
    "test_df['Cum Wins'] = test_df.groupby(['TEAM_ABBREVIATION','SEASON']).apply(lambda x:\n",
    "    x.Win.cumsum().shift(1)).reset_index(drop=True)\n",
    "test_df = test_df.fillna(0)\n",
    "test_df['Games so Far'] = test_df.groupby(['TEAM_ABBREVIATION','SEASON']).cumcount()\n",
    "test_df['Win Percentage'] = test_df['Cum Wins'] / test_df['Games so Far']\n",
    "\n",
    "test_df_opp = test_df\n",
    "test_df_opp = test_df_opp.add_prefix(\"Opponent \")\n",
    "full_df = test_df.merge(test_df_opp,right_on=['Opponent TEAM_ABBREVIATION','Opponent GAME_ID'],\n",
    "                           left_on=['Opponent','GAME_ID'])\n",
    "\n",
    "full_df = full_df.dropna()\n",
    "full_df['Opponent > 0.500'] = full_df['Opponent Win Percentage'].apply(lambda x: 1 if x >= 0.5 else 0)\n",
    "full_df['> 0.500'] = full_df['Win Percentage'].apply(lambda x: 1 if x >= 0.5 else 0)\n",
    "# full_df['Home Win'] = ~(full_df['At Home'] ^ full_df['Win']) + 2\n",
    "\n",
    "lines_df = full_df[['SEASON','GAME_ID','At Home', 'Win','Opponent > 0.500','> 0.500']]\n",
    "good_vs_good = lines_df[(lines_df['> 0.500'] == 1) & (lines_df['At Home'] == 1) &\n",
    "                        (lines_df['Opponent > 0.500'] == 1)][['SEASON','Win']].groupby('SEASON').mean()\n",
    "good_vs_bad = lines_df[(lines_df['> 0.500'] == 1) & (lines_df['At Home'] == 1) &\n",
    "                        (lines_df['Opponent > 0.500'] == 0)][['SEASON','Win']].groupby('SEASON').mean()\n",
    "bad_vs_good = lines_df[(lines_df['> 0.500'] == 0) & (lines_df['At Home'] == 1) &\n",
    "                        (lines_df['Opponent > 0.500'] == 1)][['SEASON','Win']].groupby('SEASON').mean()\n",
    "bad_vs_bad = lines_df[(lines_df['> 0.500'] == 0) & (lines_df['At Home'] == 1) &\n",
    "                        (lines_df['Opponent > 0.500'] == 0)][['SEASON','Win']].groupby('SEASON').mean()\n",
    "lines_df['Home Win%'] = ~(lines_df['At Home'] ^ lines_df['Win']) + 2\n",
    "avg = lines_df[['SEASON','Home Win%']].groupby('SEASON').mean()\n",
    "merge1 = pd.merge(good_vs_bad,good_vs_good,on='SEASON',suffixes=(\"% (Good vs Bad)\",\"% (Good vs Good)\"))\n",
    "merge2 = pd.merge(bad_vs_bad,bad_vs_good,on='SEASON',suffixes=(\"% (Bad vs Bad)\",\"% (Bad vs Good)\"))\n",
    "lines_df = avg.merge(merge1.merge(merge2,on='SEASON'),on='SEASON').melt(ignore_index=False)\n",
    "\n",
    "sns.lineplot(lines_df,x='SEASON',y='value',hue='variable')"
   ]
  },
  {
   "cell_type": "markdown",
   "metadata": {},
   "source": [
    "## Shot Chart Detail Ideas"
   ]
  },
  {
   "cell_type": "code",
   "execution_count": 4,
   "metadata": {
    "colab": {
     "base_uri": "https://localhost:8080/"
    },
    "executionInfo": {
     "elapsed": 79391,
     "status": "ok",
     "timestamp": 1691101659094,
     "user": {
      "displayName": "Yash -Nakadi",
      "userId": "07877057732487521410"
     },
     "user_tz": 240
    },
    "id": "ZqotA8vP433-",
    "outputId": "bf97ed58-d187-43b9-a847-3c390ec27082"
   },
   "outputs": [
    {
     "name": "stdout",
     "output_type": "stream",
     "text": [
      "203507\n",
      "{'headers': ['PLAYER_ID', 'PLAYER_NAME', 'TimeFrame', 'PTS', 'AST', 'REB', 'PIE'], 'data': [[203507, 'Giannis Antetokounmpo', '2023-24', 30.4, 6.5, 11.5, 0.197]]}\n",
      "{'TOR', 'CLE', 'UTA', 'SAS', 'HOU', 'MIA', 'PHI', 'BKN', 'SAC', 'POR', 'MIN', 'DEN', 'PHX', 'LAL', 'NOP', 'ORL', 'OKC', 'LAC', 'GSW', 'DET', 'CHI', 'IND', 'CHA', 'ATL', 'BOS', 'NYK', 'MEM', 'WAS', 'DAL'}\n"
     ]
    },
    {
     "ename": "KeyboardInterrupt",
     "evalue": "",
     "output_type": "error",
     "traceback": [
      "\u001b[1;31m---------------------------------------------------------------------------\u001b[0m",
      "\u001b[1;31mKeyboardInterrupt\u001b[0m                         Traceback (most recent call last)",
      "Input \u001b[1;32mIn [4]\u001b[0m, in \u001b[0;36m<module>\u001b[1;34m\u001b[0m\n\u001b[0;32m     31\u001b[0m shot_df[[\u001b[38;5;124m'\u001b[39m\u001b[38;5;124mPLAYER_ID\u001b[39m\u001b[38;5;124m'\u001b[39m,\u001b[38;5;124m'\u001b[39m\u001b[38;5;124mOpponent\u001b[39m\u001b[38;5;124m'\u001b[39m,\u001b[38;5;124m'\u001b[39m\u001b[38;5;124mShot\u001b[39m\u001b[38;5;124m'\u001b[39m,\u001b[38;5;124m'\u001b[39m\u001b[38;5;124mSHOT_MADE_FLAG\u001b[39m\u001b[38;5;124m'\u001b[39m]]\\\n\u001b[0;32m     32\u001b[0m     \u001b[38;5;241m.\u001b[39mgroupby([\u001b[38;5;124m'\u001b[39m\u001b[38;5;124mPLAYER_ID\u001b[39m\u001b[38;5;124m'\u001b[39m,\u001b[38;5;124m'\u001b[39m\u001b[38;5;124mOpponent\u001b[39m\u001b[38;5;124m'\u001b[39m,\u001b[38;5;124m'\u001b[39m\u001b[38;5;124mShot\u001b[39m\u001b[38;5;124m'\u001b[39m])\u001b[38;5;241m.\u001b[39magg({\u001b[38;5;124m'\u001b[39m\u001b[38;5;124mSHOT_MADE_FLAG\u001b[39m\u001b[38;5;124m'\u001b[39m:[\u001b[38;5;124m'\u001b[39m\u001b[38;5;124mcount\u001b[39m\u001b[38;5;124m'\u001b[39m,\u001b[38;5;124m'\u001b[39m\u001b[38;5;124mmean\u001b[39m\u001b[38;5;124m'\u001b[39m]})\n\u001b[0;32m     33\u001b[0m \u001b[38;5;66;03m# # Get specific player shot chart\u001b[39;00m\n\u001b[0;32m     34\u001b[0m \u001b[38;5;66;03m# player_made_df = shot_df[(shot_df['SHOT_MADE_FLAG']==1) & (shot_df['PLAYER_ID']==player_num)]\u001b[39;00m\n\u001b[0;32m     35\u001b[0m \u001b[38;5;66;03m# player_missed_df = shot_df[(shot_df['SHOT_MADE_FLAG']==0) & (shot_df['PLAYER_ID']==player_num)]\u001b[39;00m\n\u001b[1;32m   (...)\u001b[0m\n\u001b[0;32m     39\u001b[0m \u001b[38;5;66;03m# rest_of_team_missed_df = shot_df[(shot_df['SHOT_MADE_FLAG']==0) & (shot_df['PLAYER_ID']!=player_num)]\u001b[39;00m\n\u001b[0;32m     40\u001b[0m \u001b[38;5;66;03m# giannis_df = shot_df[(shot_df['PLAYER_ID']==player_num)]\u001b[39;00m\n\u001b[1;32m---> 42\u001b[0m bucks_games \u001b[38;5;241m=\u001b[39m pd\u001b[38;5;241m.\u001b[39mconcat([boxscoreadvancedv3\u001b[38;5;241m.\u001b[39mBoxScoreAdvancedV3(game_id \u001b[38;5;241m=\u001b[39m game)\u001b[38;5;241m.\u001b[39mget_data_frames()[\u001b[38;5;241m0\u001b[39m] \u001b[38;5;28;01mfor\u001b[39;00m game \u001b[38;5;129;01min\u001b[39;00m \u001b[38;5;28mset\u001b[39m(bucks_df[\u001b[38;5;124m'\u001b[39m\u001b[38;5;124mGAME_ID\u001b[39m\u001b[38;5;124m'\u001b[39m])])\n",
      "Input \u001b[1;32mIn [4]\u001b[0m, in \u001b[0;36m<listcomp>\u001b[1;34m(.0)\u001b[0m\n\u001b[0;32m     31\u001b[0m shot_df[[\u001b[38;5;124m'\u001b[39m\u001b[38;5;124mPLAYER_ID\u001b[39m\u001b[38;5;124m'\u001b[39m,\u001b[38;5;124m'\u001b[39m\u001b[38;5;124mOpponent\u001b[39m\u001b[38;5;124m'\u001b[39m,\u001b[38;5;124m'\u001b[39m\u001b[38;5;124mShot\u001b[39m\u001b[38;5;124m'\u001b[39m,\u001b[38;5;124m'\u001b[39m\u001b[38;5;124mSHOT_MADE_FLAG\u001b[39m\u001b[38;5;124m'\u001b[39m]]\\\n\u001b[0;32m     32\u001b[0m     \u001b[38;5;241m.\u001b[39mgroupby([\u001b[38;5;124m'\u001b[39m\u001b[38;5;124mPLAYER_ID\u001b[39m\u001b[38;5;124m'\u001b[39m,\u001b[38;5;124m'\u001b[39m\u001b[38;5;124mOpponent\u001b[39m\u001b[38;5;124m'\u001b[39m,\u001b[38;5;124m'\u001b[39m\u001b[38;5;124mShot\u001b[39m\u001b[38;5;124m'\u001b[39m])\u001b[38;5;241m.\u001b[39magg({\u001b[38;5;124m'\u001b[39m\u001b[38;5;124mSHOT_MADE_FLAG\u001b[39m\u001b[38;5;124m'\u001b[39m:[\u001b[38;5;124m'\u001b[39m\u001b[38;5;124mcount\u001b[39m\u001b[38;5;124m'\u001b[39m,\u001b[38;5;124m'\u001b[39m\u001b[38;5;124mmean\u001b[39m\u001b[38;5;124m'\u001b[39m]})\n\u001b[0;32m     33\u001b[0m \u001b[38;5;66;03m# # Get specific player shot chart\u001b[39;00m\n\u001b[0;32m     34\u001b[0m \u001b[38;5;66;03m# player_made_df = shot_df[(shot_df['SHOT_MADE_FLAG']==1) & (shot_df['PLAYER_ID']==player_num)]\u001b[39;00m\n\u001b[0;32m     35\u001b[0m \u001b[38;5;66;03m# player_missed_df = shot_df[(shot_df['SHOT_MADE_FLAG']==0) & (shot_df['PLAYER_ID']==player_num)]\u001b[39;00m\n\u001b[1;32m   (...)\u001b[0m\n\u001b[0;32m     39\u001b[0m \u001b[38;5;66;03m# rest_of_team_missed_df = shot_df[(shot_df['SHOT_MADE_FLAG']==0) & (shot_df['PLAYER_ID']!=player_num)]\u001b[39;00m\n\u001b[0;32m     40\u001b[0m \u001b[38;5;66;03m# giannis_df = shot_df[(shot_df['PLAYER_ID']==player_num)]\u001b[39;00m\n\u001b[1;32m---> 42\u001b[0m bucks_games \u001b[38;5;241m=\u001b[39m pd\u001b[38;5;241m.\u001b[39mconcat([\u001b[43mboxscoreadvancedv3\u001b[49m\u001b[38;5;241;43m.\u001b[39;49m\u001b[43mBoxScoreAdvancedV3\u001b[49m\u001b[43m(\u001b[49m\u001b[43mgame_id\u001b[49m\u001b[43m \u001b[49m\u001b[38;5;241;43m=\u001b[39;49m\u001b[43m \u001b[49m\u001b[43mgame\u001b[49m\u001b[43m)\u001b[49m\u001b[38;5;241m.\u001b[39mget_data_frames()[\u001b[38;5;241m0\u001b[39m] \u001b[38;5;28;01mfor\u001b[39;00m game \u001b[38;5;129;01min\u001b[39;00m \u001b[38;5;28mset\u001b[39m(bucks_df[\u001b[38;5;124m'\u001b[39m\u001b[38;5;124mGAME_ID\u001b[39m\u001b[38;5;124m'\u001b[39m])])\n",
      "File \u001b[1;32m~\\AppData\\Local\\Packages\\PythonSoftwareFoundation.Python.3.10_qbz5n2kfra8p0\\LocalCache\\local-packages\\Python310\\site-packages\\nba_api\\stats\\endpoints\\boxscoreadvancedv3.py:120\u001b[0m, in \u001b[0;36mBoxScoreAdvancedV3.__init__\u001b[1;34m(self, game_id, end_period, end_range, range_type, start_period, start_range, proxy, headers, timeout, get_request)\u001b[0m\n\u001b[0;32m    111\u001b[0m \u001b[38;5;28mself\u001b[39m\u001b[38;5;241m.\u001b[39mparameters \u001b[38;5;241m=\u001b[39m {\n\u001b[0;32m    112\u001b[0m     \u001b[38;5;124m\"\u001b[39m\u001b[38;5;124mGameID\u001b[39m\u001b[38;5;124m\"\u001b[39m: game_id,\n\u001b[0;32m    113\u001b[0m     \u001b[38;5;124m\"\u001b[39m\u001b[38;5;124mEndPeriod\u001b[39m\u001b[38;5;124m\"\u001b[39m: end_period,\n\u001b[1;32m   (...)\u001b[0m\n\u001b[0;32m    117\u001b[0m     \u001b[38;5;124m\"\u001b[39m\u001b[38;5;124mStartRange\u001b[39m\u001b[38;5;124m\"\u001b[39m: start_range,\n\u001b[0;32m    118\u001b[0m }\n\u001b[0;32m    119\u001b[0m \u001b[38;5;28;01mif\u001b[39;00m get_request:\n\u001b[1;32m--> 120\u001b[0m     \u001b[38;5;28;43mself\u001b[39;49m\u001b[38;5;241;43m.\u001b[39;49m\u001b[43mget_request\u001b[49m\u001b[43m(\u001b[49m\u001b[43m)\u001b[49m\n",
      "File \u001b[1;32m~\\AppData\\Local\\Packages\\PythonSoftwareFoundation.Python.3.10_qbz5n2kfra8p0\\LocalCache\\local-packages\\Python310\\site-packages\\nba_api\\stats\\endpoints\\boxscoreadvancedv3.py:123\u001b[0m, in \u001b[0;36mBoxScoreAdvancedV3.get_request\u001b[1;34m(self)\u001b[0m\n\u001b[0;32m    122\u001b[0m \u001b[38;5;28;01mdef\u001b[39;00m \u001b[38;5;21mget_request\u001b[39m(\u001b[38;5;28mself\u001b[39m):\n\u001b[1;32m--> 123\u001b[0m     \u001b[38;5;28mself\u001b[39m\u001b[38;5;241m.\u001b[39mnba_response \u001b[38;5;241m=\u001b[39m \u001b[43mNBAStatsHTTP\u001b[49m\u001b[43m(\u001b[49m\u001b[43m)\u001b[49m\u001b[38;5;241;43m.\u001b[39;49m\u001b[43msend_api_request\u001b[49m\u001b[43m(\u001b[49m\n\u001b[0;32m    124\u001b[0m \u001b[43m        \u001b[49m\u001b[43mendpoint\u001b[49m\u001b[38;5;241;43m=\u001b[39;49m\u001b[38;5;28;43mself\u001b[39;49m\u001b[38;5;241;43m.\u001b[39;49m\u001b[43mendpoint\u001b[49m\u001b[43m,\u001b[49m\n\u001b[0;32m    125\u001b[0m \u001b[43m        \u001b[49m\u001b[43mparameters\u001b[49m\u001b[38;5;241;43m=\u001b[39;49m\u001b[38;5;28;43mself\u001b[39;49m\u001b[38;5;241;43m.\u001b[39;49m\u001b[43mparameters\u001b[49m\u001b[43m,\u001b[49m\n\u001b[0;32m    126\u001b[0m \u001b[43m        \u001b[49m\u001b[43mproxy\u001b[49m\u001b[38;5;241;43m=\u001b[39;49m\u001b[38;5;28;43mself\u001b[39;49m\u001b[38;5;241;43m.\u001b[39;49m\u001b[43mproxy\u001b[49m\u001b[43m,\u001b[49m\n\u001b[0;32m    127\u001b[0m \u001b[43m        \u001b[49m\u001b[43mheaders\u001b[49m\u001b[38;5;241;43m=\u001b[39;49m\u001b[38;5;28;43mself\u001b[39;49m\u001b[38;5;241;43m.\u001b[39;49m\u001b[43mheaders\u001b[49m\u001b[43m,\u001b[49m\n\u001b[0;32m    128\u001b[0m \u001b[43m        \u001b[49m\u001b[43mtimeout\u001b[49m\u001b[38;5;241;43m=\u001b[39;49m\u001b[38;5;28;43mself\u001b[39;49m\u001b[38;5;241;43m.\u001b[39;49m\u001b[43mtimeout\u001b[49m\u001b[43m,\u001b[49m\n\u001b[0;32m    129\u001b[0m \u001b[43m    \u001b[49m\u001b[43m)\u001b[49m\n\u001b[0;32m    130\u001b[0m     \u001b[38;5;28mself\u001b[39m\u001b[38;5;241m.\u001b[39mload_response()\n",
      "File \u001b[1;32m~\\AppData\\Local\\Packages\\PythonSoftwareFoundation.Python.3.10_qbz5n2kfra8p0\\LocalCache\\local-packages\\Python310\\site-packages\\nba_api\\library\\http.py:146\u001b[0m, in \u001b[0;36mNBAHTTP.send_api_request\u001b[1;34m(self, endpoint, parameters, referer, proxy, headers, timeout, raise_exception_on_error)\u001b[0m\n\u001b[0;32m    143\u001b[0m         \u001b[38;5;28mprint\u001b[39m(\u001b[38;5;124m\"\u001b[39m\u001b[38;5;124mloading from file...\u001b[39m\u001b[38;5;124m\"\u001b[39m)\n\u001b[0;32m    145\u001b[0m \u001b[38;5;28;01mif\u001b[39;00m \u001b[38;5;129;01mnot\u001b[39;00m contents:\n\u001b[1;32m--> 146\u001b[0m     response \u001b[38;5;241m=\u001b[39m \u001b[43mrequests\u001b[49m\u001b[38;5;241;43m.\u001b[39;49m\u001b[43mget\u001b[49m\u001b[43m(\u001b[49m\n\u001b[0;32m    147\u001b[0m \u001b[43m        \u001b[49m\u001b[43murl\u001b[49m\u001b[38;5;241;43m=\u001b[39;49m\u001b[43mbase_url\u001b[49m\u001b[43m,\u001b[49m\n\u001b[0;32m    148\u001b[0m \u001b[43m        \u001b[49m\u001b[43mparams\u001b[49m\u001b[38;5;241;43m=\u001b[39;49m\u001b[43mparameters\u001b[49m\u001b[43m,\u001b[49m\n\u001b[0;32m    149\u001b[0m \u001b[43m        \u001b[49m\u001b[43mheaders\u001b[49m\u001b[38;5;241;43m=\u001b[39;49m\u001b[43mrequest_headers\u001b[49m\u001b[43m,\u001b[49m\n\u001b[0;32m    150\u001b[0m \u001b[43m        \u001b[49m\u001b[43mproxies\u001b[49m\u001b[38;5;241;43m=\u001b[39;49m\u001b[43mproxies\u001b[49m\u001b[43m,\u001b[49m\n\u001b[0;32m    151\u001b[0m \u001b[43m        \u001b[49m\u001b[43mtimeout\u001b[49m\u001b[38;5;241;43m=\u001b[39;49m\u001b[43mtimeout\u001b[49m\u001b[43m,\u001b[49m\n\u001b[0;32m    152\u001b[0m \u001b[43m    \u001b[49m\u001b[43m)\u001b[49m\n\u001b[0;32m    153\u001b[0m     url \u001b[38;5;241m=\u001b[39m response\u001b[38;5;241m.\u001b[39murl\n\u001b[0;32m    154\u001b[0m     status_code \u001b[38;5;241m=\u001b[39m response\u001b[38;5;241m.\u001b[39mstatus_code\n",
      "File \u001b[1;32m~\\AppData\\Local\\Packages\\PythonSoftwareFoundation.Python.3.10_qbz5n2kfra8p0\\LocalCache\\local-packages\\Python310\\site-packages\\requests\\api.py:73\u001b[0m, in \u001b[0;36mget\u001b[1;34m(url, params, **kwargs)\u001b[0m\n\u001b[0;32m     62\u001b[0m \u001b[38;5;28;01mdef\u001b[39;00m \u001b[38;5;21mget\u001b[39m(url, params\u001b[38;5;241m=\u001b[39m\u001b[38;5;28;01mNone\u001b[39;00m, \u001b[38;5;241m*\u001b[39m\u001b[38;5;241m*\u001b[39mkwargs):\n\u001b[0;32m     63\u001b[0m     \u001b[38;5;124mr\u001b[39m\u001b[38;5;124;03m\"\"\"Sends a GET request.\u001b[39;00m\n\u001b[0;32m     64\u001b[0m \n\u001b[0;32m     65\u001b[0m \u001b[38;5;124;03m    :param url: URL for the new :class:`Request` object.\u001b[39;00m\n\u001b[1;32m   (...)\u001b[0m\n\u001b[0;32m     70\u001b[0m \u001b[38;5;124;03m    :rtype: requests.Response\u001b[39;00m\n\u001b[0;32m     71\u001b[0m \u001b[38;5;124;03m    \"\"\"\u001b[39;00m\n\u001b[1;32m---> 73\u001b[0m     \u001b[38;5;28;01mreturn\u001b[39;00m request(\u001b[38;5;124m\"\u001b[39m\u001b[38;5;124mget\u001b[39m\u001b[38;5;124m\"\u001b[39m, url, params\u001b[38;5;241m=\u001b[39mparams, \u001b[38;5;241m*\u001b[39m\u001b[38;5;241m*\u001b[39mkwargs)\n",
      "File \u001b[1;32m~\\AppData\\Local\\Packages\\PythonSoftwareFoundation.Python.3.10_qbz5n2kfra8p0\\LocalCache\\local-packages\\Python310\\site-packages\\requests\\api.py:59\u001b[0m, in \u001b[0;36mrequest\u001b[1;34m(method, url, **kwargs)\u001b[0m\n\u001b[0;32m     55\u001b[0m \u001b[38;5;66;03m# By using the 'with' statement we are sure the session is closed, thus we\u001b[39;00m\n\u001b[0;32m     56\u001b[0m \u001b[38;5;66;03m# avoid leaving sockets open which can trigger a ResourceWarning in some\u001b[39;00m\n\u001b[0;32m     57\u001b[0m \u001b[38;5;66;03m# cases, and look like a memory leak in others.\u001b[39;00m\n\u001b[0;32m     58\u001b[0m \u001b[38;5;28;01mwith\u001b[39;00m sessions\u001b[38;5;241m.\u001b[39mSession() \u001b[38;5;28;01mas\u001b[39;00m session:\n\u001b[1;32m---> 59\u001b[0m     \u001b[38;5;28;01mreturn\u001b[39;00m session\u001b[38;5;241m.\u001b[39mrequest(method\u001b[38;5;241m=\u001b[39mmethod, url\u001b[38;5;241m=\u001b[39murl, \u001b[38;5;241m*\u001b[39m\u001b[38;5;241m*\u001b[39mkwargs)\n",
      "File \u001b[1;32m~\\AppData\\Local\\Packages\\PythonSoftwareFoundation.Python.3.10_qbz5n2kfra8p0\\LocalCache\\local-packages\\Python310\\site-packages\\requests\\sessions.py:589\u001b[0m, in \u001b[0;36mSession.request\u001b[1;34m(self, method, url, params, data, headers, cookies, files, auth, timeout, allow_redirects, proxies, hooks, stream, verify, cert, json)\u001b[0m\n\u001b[0;32m    584\u001b[0m send_kwargs \u001b[38;5;241m=\u001b[39m {\n\u001b[0;32m    585\u001b[0m     \u001b[38;5;124m\"\u001b[39m\u001b[38;5;124mtimeout\u001b[39m\u001b[38;5;124m\"\u001b[39m: timeout,\n\u001b[0;32m    586\u001b[0m     \u001b[38;5;124m\"\u001b[39m\u001b[38;5;124mallow_redirects\u001b[39m\u001b[38;5;124m\"\u001b[39m: allow_redirects,\n\u001b[0;32m    587\u001b[0m }\n\u001b[0;32m    588\u001b[0m send_kwargs\u001b[38;5;241m.\u001b[39mupdate(settings)\n\u001b[1;32m--> 589\u001b[0m resp \u001b[38;5;241m=\u001b[39m \u001b[38;5;28mself\u001b[39m\u001b[38;5;241m.\u001b[39msend(prep, \u001b[38;5;241m*\u001b[39m\u001b[38;5;241m*\u001b[39msend_kwargs)\n\u001b[0;32m    591\u001b[0m \u001b[38;5;28;01mreturn\u001b[39;00m resp\n",
      "File \u001b[1;32m~\\AppData\\Local\\Packages\\PythonSoftwareFoundation.Python.3.10_qbz5n2kfra8p0\\LocalCache\\local-packages\\Python310\\site-packages\\requests\\sessions.py:703\u001b[0m, in \u001b[0;36mSession.send\u001b[1;34m(self, request, **kwargs)\u001b[0m\n\u001b[0;32m    700\u001b[0m start \u001b[38;5;241m=\u001b[39m preferred_clock()\n\u001b[0;32m    702\u001b[0m \u001b[38;5;66;03m# Send the request\u001b[39;00m\n\u001b[1;32m--> 703\u001b[0m r \u001b[38;5;241m=\u001b[39m adapter\u001b[38;5;241m.\u001b[39msend(request, \u001b[38;5;241m*\u001b[39m\u001b[38;5;241m*\u001b[39mkwargs)\n\u001b[0;32m    705\u001b[0m \u001b[38;5;66;03m# Total elapsed time of the request (approximately)\u001b[39;00m\n\u001b[0;32m    706\u001b[0m elapsed \u001b[38;5;241m=\u001b[39m preferred_clock() \u001b[38;5;241m-\u001b[39m start\n",
      "File \u001b[1;32m~\\AppData\\Local\\Packages\\PythonSoftwareFoundation.Python.3.10_qbz5n2kfra8p0\\LocalCache\\local-packages\\Python310\\site-packages\\requests\\adapters.py:486\u001b[0m, in \u001b[0;36mHTTPAdapter.send\u001b[1;34m(self, request, stream, timeout, verify, cert, proxies)\u001b[0m\n\u001b[0;32m    483\u001b[0m     timeout \u001b[38;5;241m=\u001b[39m TimeoutSauce(connect\u001b[38;5;241m=\u001b[39mtimeout, read\u001b[38;5;241m=\u001b[39mtimeout)\n\u001b[0;32m    485\u001b[0m \u001b[38;5;28;01mtry\u001b[39;00m:\n\u001b[1;32m--> 486\u001b[0m     resp \u001b[38;5;241m=\u001b[39m \u001b[43mconn\u001b[49m\u001b[38;5;241;43m.\u001b[39;49m\u001b[43murlopen\u001b[49m\u001b[43m(\u001b[49m\n\u001b[0;32m    487\u001b[0m \u001b[43m        \u001b[49m\u001b[43mmethod\u001b[49m\u001b[38;5;241;43m=\u001b[39;49m\u001b[43mrequest\u001b[49m\u001b[38;5;241;43m.\u001b[39;49m\u001b[43mmethod\u001b[49m\u001b[43m,\u001b[49m\n\u001b[0;32m    488\u001b[0m \u001b[43m        \u001b[49m\u001b[43murl\u001b[49m\u001b[38;5;241;43m=\u001b[39;49m\u001b[43murl\u001b[49m\u001b[43m,\u001b[49m\n\u001b[0;32m    489\u001b[0m \u001b[43m        \u001b[49m\u001b[43mbody\u001b[49m\u001b[38;5;241;43m=\u001b[39;49m\u001b[43mrequest\u001b[49m\u001b[38;5;241;43m.\u001b[39;49m\u001b[43mbody\u001b[49m\u001b[43m,\u001b[49m\n\u001b[0;32m    490\u001b[0m \u001b[43m        \u001b[49m\u001b[43mheaders\u001b[49m\u001b[38;5;241;43m=\u001b[39;49m\u001b[43mrequest\u001b[49m\u001b[38;5;241;43m.\u001b[39;49m\u001b[43mheaders\u001b[49m\u001b[43m,\u001b[49m\n\u001b[0;32m    491\u001b[0m \u001b[43m        \u001b[49m\u001b[43mredirect\u001b[49m\u001b[38;5;241;43m=\u001b[39;49m\u001b[38;5;28;43;01mFalse\u001b[39;49;00m\u001b[43m,\u001b[49m\n\u001b[0;32m    492\u001b[0m \u001b[43m        \u001b[49m\u001b[43massert_same_host\u001b[49m\u001b[38;5;241;43m=\u001b[39;49m\u001b[38;5;28;43;01mFalse\u001b[39;49;00m\u001b[43m,\u001b[49m\n\u001b[0;32m    493\u001b[0m \u001b[43m        \u001b[49m\u001b[43mpreload_content\u001b[49m\u001b[38;5;241;43m=\u001b[39;49m\u001b[38;5;28;43;01mFalse\u001b[39;49;00m\u001b[43m,\u001b[49m\n\u001b[0;32m    494\u001b[0m \u001b[43m        \u001b[49m\u001b[43mdecode_content\u001b[49m\u001b[38;5;241;43m=\u001b[39;49m\u001b[38;5;28;43;01mFalse\u001b[39;49;00m\u001b[43m,\u001b[49m\n\u001b[0;32m    495\u001b[0m \u001b[43m        \u001b[49m\u001b[43mretries\u001b[49m\u001b[38;5;241;43m=\u001b[39;49m\u001b[38;5;28;43mself\u001b[39;49m\u001b[38;5;241;43m.\u001b[39;49m\u001b[43mmax_retries\u001b[49m\u001b[43m,\u001b[49m\n\u001b[0;32m    496\u001b[0m \u001b[43m        \u001b[49m\u001b[43mtimeout\u001b[49m\u001b[38;5;241;43m=\u001b[39;49m\u001b[43mtimeout\u001b[49m\u001b[43m,\u001b[49m\n\u001b[0;32m    497\u001b[0m \u001b[43m        \u001b[49m\u001b[43mchunked\u001b[49m\u001b[38;5;241;43m=\u001b[39;49m\u001b[43mchunked\u001b[49m\u001b[43m,\u001b[49m\n\u001b[0;32m    498\u001b[0m \u001b[43m    \u001b[49m\u001b[43m)\u001b[49m\n\u001b[0;32m    500\u001b[0m \u001b[38;5;28;01mexcept\u001b[39;00m (ProtocolError, \u001b[38;5;167;01mOSError\u001b[39;00m) \u001b[38;5;28;01mas\u001b[39;00m err:\n\u001b[0;32m    501\u001b[0m     \u001b[38;5;28;01mraise\u001b[39;00m \u001b[38;5;167;01mConnectionError\u001b[39;00m(err, request\u001b[38;5;241m=\u001b[39mrequest)\n",
      "File \u001b[1;32m~\\AppData\\Local\\Packages\\PythonSoftwareFoundation.Python.3.10_qbz5n2kfra8p0\\LocalCache\\local-packages\\Python310\\site-packages\\urllib3\\connectionpool.py:703\u001b[0m, in \u001b[0;36mHTTPConnectionPool.urlopen\u001b[1;34m(self, method, url, body, headers, retries, redirect, assert_same_host, timeout, pool_timeout, release_conn, chunked, body_pos, **response_kw)\u001b[0m\n\u001b[0;32m    700\u001b[0m     \u001b[38;5;28mself\u001b[39m\u001b[38;5;241m.\u001b[39m_prepare_proxy(conn)\n\u001b[0;32m    702\u001b[0m \u001b[38;5;66;03m# Make the request on the httplib connection object.\u001b[39;00m\n\u001b[1;32m--> 703\u001b[0m httplib_response \u001b[38;5;241m=\u001b[39m \u001b[38;5;28;43mself\u001b[39;49m\u001b[38;5;241;43m.\u001b[39;49m\u001b[43m_make_request\u001b[49m\u001b[43m(\u001b[49m\n\u001b[0;32m    704\u001b[0m \u001b[43m    \u001b[49m\u001b[43mconn\u001b[49m\u001b[43m,\u001b[49m\n\u001b[0;32m    705\u001b[0m \u001b[43m    \u001b[49m\u001b[43mmethod\u001b[49m\u001b[43m,\u001b[49m\n\u001b[0;32m    706\u001b[0m \u001b[43m    \u001b[49m\u001b[43murl\u001b[49m\u001b[43m,\u001b[49m\n\u001b[0;32m    707\u001b[0m \u001b[43m    \u001b[49m\u001b[43mtimeout\u001b[49m\u001b[38;5;241;43m=\u001b[39;49m\u001b[43mtimeout_obj\u001b[49m\u001b[43m,\u001b[49m\n\u001b[0;32m    708\u001b[0m \u001b[43m    \u001b[49m\u001b[43mbody\u001b[49m\u001b[38;5;241;43m=\u001b[39;49m\u001b[43mbody\u001b[49m\u001b[43m,\u001b[49m\n\u001b[0;32m    709\u001b[0m \u001b[43m    \u001b[49m\u001b[43mheaders\u001b[49m\u001b[38;5;241;43m=\u001b[39;49m\u001b[43mheaders\u001b[49m\u001b[43m,\u001b[49m\n\u001b[0;32m    710\u001b[0m \u001b[43m    \u001b[49m\u001b[43mchunked\u001b[49m\u001b[38;5;241;43m=\u001b[39;49m\u001b[43mchunked\u001b[49m\u001b[43m,\u001b[49m\n\u001b[0;32m    711\u001b[0m \u001b[43m\u001b[49m\u001b[43m)\u001b[49m\n\u001b[0;32m    713\u001b[0m \u001b[38;5;66;03m# If we're going to release the connection in ``finally:``, then\u001b[39;00m\n\u001b[0;32m    714\u001b[0m \u001b[38;5;66;03m# the response doesn't need to know about the connection. Otherwise\u001b[39;00m\n\u001b[0;32m    715\u001b[0m \u001b[38;5;66;03m# it will also try to release it and we'll have a double-release\u001b[39;00m\n\u001b[0;32m    716\u001b[0m \u001b[38;5;66;03m# mess.\u001b[39;00m\n\u001b[0;32m    717\u001b[0m response_conn \u001b[38;5;241m=\u001b[39m conn \u001b[38;5;28;01mif\u001b[39;00m \u001b[38;5;129;01mnot\u001b[39;00m release_conn \u001b[38;5;28;01melse\u001b[39;00m \u001b[38;5;28;01mNone\u001b[39;00m\n",
      "File \u001b[1;32m~\\AppData\\Local\\Packages\\PythonSoftwareFoundation.Python.3.10_qbz5n2kfra8p0\\LocalCache\\local-packages\\Python310\\site-packages\\urllib3\\connectionpool.py:449\u001b[0m, in \u001b[0;36mHTTPConnectionPool._make_request\u001b[1;34m(self, conn, method, url, timeout, chunked, **httplib_request_kw)\u001b[0m\n\u001b[0;32m    444\u001b[0m             httplib_response \u001b[38;5;241m=\u001b[39m conn\u001b[38;5;241m.\u001b[39mgetresponse()\n\u001b[0;32m    445\u001b[0m         \u001b[38;5;28;01mexcept\u001b[39;00m \u001b[38;5;167;01mBaseException\u001b[39;00m \u001b[38;5;28;01mas\u001b[39;00m e:\n\u001b[0;32m    446\u001b[0m             \u001b[38;5;66;03m# Remove the TypeError from the exception chain in\u001b[39;00m\n\u001b[0;32m    447\u001b[0m             \u001b[38;5;66;03m# Python 3 (including for exceptions like SystemExit).\u001b[39;00m\n\u001b[0;32m    448\u001b[0m             \u001b[38;5;66;03m# Otherwise it looks like a bug in the code.\u001b[39;00m\n\u001b[1;32m--> 449\u001b[0m             \u001b[43msix\u001b[49m\u001b[38;5;241;43m.\u001b[39;49m\u001b[43mraise_from\u001b[49m\u001b[43m(\u001b[49m\u001b[43me\u001b[49m\u001b[43m,\u001b[49m\u001b[43m \u001b[49m\u001b[38;5;28;43;01mNone\u001b[39;49;00m\u001b[43m)\u001b[49m\n\u001b[0;32m    450\u001b[0m \u001b[38;5;28;01mexcept\u001b[39;00m (SocketTimeout, BaseSSLError, SocketError) \u001b[38;5;28;01mas\u001b[39;00m e:\n\u001b[0;32m    451\u001b[0m     \u001b[38;5;28mself\u001b[39m\u001b[38;5;241m.\u001b[39m_raise_timeout(err\u001b[38;5;241m=\u001b[39me, url\u001b[38;5;241m=\u001b[39murl, timeout_value\u001b[38;5;241m=\u001b[39mread_timeout)\n",
      "File \u001b[1;32m<string>:3\u001b[0m, in \u001b[0;36mraise_from\u001b[1;34m(value, from_value)\u001b[0m\n",
      "File \u001b[1;32m~\\AppData\\Local\\Packages\\PythonSoftwareFoundation.Python.3.10_qbz5n2kfra8p0\\LocalCache\\local-packages\\Python310\\site-packages\\urllib3\\connectionpool.py:444\u001b[0m, in \u001b[0;36mHTTPConnectionPool._make_request\u001b[1;34m(self, conn, method, url, timeout, chunked, **httplib_request_kw)\u001b[0m\n\u001b[0;32m    441\u001b[0m \u001b[38;5;28;01mexcept\u001b[39;00m \u001b[38;5;167;01mTypeError\u001b[39;00m:\n\u001b[0;32m    442\u001b[0m     \u001b[38;5;66;03m# Python 3\u001b[39;00m\n\u001b[0;32m    443\u001b[0m     \u001b[38;5;28;01mtry\u001b[39;00m:\n\u001b[1;32m--> 444\u001b[0m         httplib_response \u001b[38;5;241m=\u001b[39m \u001b[43mconn\u001b[49m\u001b[38;5;241;43m.\u001b[39;49m\u001b[43mgetresponse\u001b[49m\u001b[43m(\u001b[49m\u001b[43m)\u001b[49m\n\u001b[0;32m    445\u001b[0m     \u001b[38;5;28;01mexcept\u001b[39;00m \u001b[38;5;167;01mBaseException\u001b[39;00m \u001b[38;5;28;01mas\u001b[39;00m e:\n\u001b[0;32m    446\u001b[0m         \u001b[38;5;66;03m# Remove the TypeError from the exception chain in\u001b[39;00m\n\u001b[0;32m    447\u001b[0m         \u001b[38;5;66;03m# Python 3 (including for exceptions like SystemExit).\u001b[39;00m\n\u001b[0;32m    448\u001b[0m         \u001b[38;5;66;03m# Otherwise it looks like a bug in the code.\u001b[39;00m\n\u001b[0;32m    449\u001b[0m         six\u001b[38;5;241m.\u001b[39mraise_from(e, \u001b[38;5;28;01mNone\u001b[39;00m)\n",
      "File \u001b[1;32mC:\\Program Files\\WindowsApps\\PythonSoftwareFoundation.Python.3.10_3.10.3056.0_x64__qbz5n2kfra8p0\\lib\\http\\client.py:1375\u001b[0m, in \u001b[0;36mHTTPConnection.getresponse\u001b[1;34m(self)\u001b[0m\n\u001b[0;32m   1373\u001b[0m \u001b[38;5;28;01mtry\u001b[39;00m:\n\u001b[0;32m   1374\u001b[0m     \u001b[38;5;28;01mtry\u001b[39;00m:\n\u001b[1;32m-> 1375\u001b[0m         \u001b[43mresponse\u001b[49m\u001b[38;5;241;43m.\u001b[39;49m\u001b[43mbegin\u001b[49m\u001b[43m(\u001b[49m\u001b[43m)\u001b[49m\n\u001b[0;32m   1376\u001b[0m     \u001b[38;5;28;01mexcept\u001b[39;00m \u001b[38;5;167;01mConnectionError\u001b[39;00m:\n\u001b[0;32m   1377\u001b[0m         \u001b[38;5;28mself\u001b[39m\u001b[38;5;241m.\u001b[39mclose()\n",
      "File \u001b[1;32mC:\\Program Files\\WindowsApps\\PythonSoftwareFoundation.Python.3.10_3.10.3056.0_x64__qbz5n2kfra8p0\\lib\\http\\client.py:318\u001b[0m, in \u001b[0;36mHTTPResponse.begin\u001b[1;34m(self)\u001b[0m\n\u001b[0;32m    316\u001b[0m \u001b[38;5;66;03m# read until we get a non-100 response\u001b[39;00m\n\u001b[0;32m    317\u001b[0m \u001b[38;5;28;01mwhile\u001b[39;00m \u001b[38;5;28;01mTrue\u001b[39;00m:\n\u001b[1;32m--> 318\u001b[0m     version, status, reason \u001b[38;5;241m=\u001b[39m \u001b[38;5;28;43mself\u001b[39;49m\u001b[38;5;241;43m.\u001b[39;49m\u001b[43m_read_status\u001b[49m\u001b[43m(\u001b[49m\u001b[43m)\u001b[49m\n\u001b[0;32m    319\u001b[0m     \u001b[38;5;28;01mif\u001b[39;00m status \u001b[38;5;241m!=\u001b[39m CONTINUE:\n\u001b[0;32m    320\u001b[0m         \u001b[38;5;28;01mbreak\u001b[39;00m\n",
      "File \u001b[1;32mC:\\Program Files\\WindowsApps\\PythonSoftwareFoundation.Python.3.10_3.10.3056.0_x64__qbz5n2kfra8p0\\lib\\http\\client.py:279\u001b[0m, in \u001b[0;36mHTTPResponse._read_status\u001b[1;34m(self)\u001b[0m\n\u001b[0;32m    278\u001b[0m \u001b[38;5;28;01mdef\u001b[39;00m \u001b[38;5;21m_read_status\u001b[39m(\u001b[38;5;28mself\u001b[39m):\n\u001b[1;32m--> 279\u001b[0m     line \u001b[38;5;241m=\u001b[39m \u001b[38;5;28mstr\u001b[39m(\u001b[38;5;28;43mself\u001b[39;49m\u001b[38;5;241;43m.\u001b[39;49m\u001b[43mfp\u001b[49m\u001b[38;5;241;43m.\u001b[39;49m\u001b[43mreadline\u001b[49m\u001b[43m(\u001b[49m\u001b[43m_MAXLINE\u001b[49m\u001b[43m \u001b[49m\u001b[38;5;241;43m+\u001b[39;49m\u001b[43m \u001b[49m\u001b[38;5;241;43m1\u001b[39;49m\u001b[43m)\u001b[49m, \u001b[38;5;124m\"\u001b[39m\u001b[38;5;124miso-8859-1\u001b[39m\u001b[38;5;124m\"\u001b[39m)\n\u001b[0;32m    280\u001b[0m     \u001b[38;5;28;01mif\u001b[39;00m \u001b[38;5;28mlen\u001b[39m(line) \u001b[38;5;241m>\u001b[39m _MAXLINE:\n\u001b[0;32m    281\u001b[0m         \u001b[38;5;28;01mraise\u001b[39;00m LineTooLong(\u001b[38;5;124m\"\u001b[39m\u001b[38;5;124mstatus line\u001b[39m\u001b[38;5;124m\"\u001b[39m)\n",
      "File \u001b[1;32mC:\\Program Files\\WindowsApps\\PythonSoftwareFoundation.Python.3.10_3.10.3056.0_x64__qbz5n2kfra8p0\\lib\\socket.py:705\u001b[0m, in \u001b[0;36mSocketIO.readinto\u001b[1;34m(self, b)\u001b[0m\n\u001b[0;32m    703\u001b[0m \u001b[38;5;28;01mwhile\u001b[39;00m \u001b[38;5;28;01mTrue\u001b[39;00m:\n\u001b[0;32m    704\u001b[0m     \u001b[38;5;28;01mtry\u001b[39;00m:\n\u001b[1;32m--> 705\u001b[0m         \u001b[38;5;28;01mreturn\u001b[39;00m \u001b[38;5;28;43mself\u001b[39;49m\u001b[38;5;241;43m.\u001b[39;49m\u001b[43m_sock\u001b[49m\u001b[38;5;241;43m.\u001b[39;49m\u001b[43mrecv_into\u001b[49m\u001b[43m(\u001b[49m\u001b[43mb\u001b[49m\u001b[43m)\u001b[49m\n\u001b[0;32m    706\u001b[0m     \u001b[38;5;28;01mexcept\u001b[39;00m timeout:\n\u001b[0;32m    707\u001b[0m         \u001b[38;5;28mself\u001b[39m\u001b[38;5;241m.\u001b[39m_timeout_occurred \u001b[38;5;241m=\u001b[39m \u001b[38;5;28;01mTrue\u001b[39;00m\n",
      "File \u001b[1;32mC:\\Program Files\\WindowsApps\\PythonSoftwareFoundation.Python.3.10_3.10.3056.0_x64__qbz5n2kfra8p0\\lib\\ssl.py:1274\u001b[0m, in \u001b[0;36mSSLSocket.recv_into\u001b[1;34m(self, buffer, nbytes, flags)\u001b[0m\n\u001b[0;32m   1270\u001b[0m     \u001b[38;5;28;01mif\u001b[39;00m flags \u001b[38;5;241m!=\u001b[39m \u001b[38;5;241m0\u001b[39m:\n\u001b[0;32m   1271\u001b[0m         \u001b[38;5;28;01mraise\u001b[39;00m \u001b[38;5;167;01mValueError\u001b[39;00m(\n\u001b[0;32m   1272\u001b[0m           \u001b[38;5;124m\"\u001b[39m\u001b[38;5;124mnon-zero flags not allowed in calls to recv_into() on \u001b[39m\u001b[38;5;132;01m%s\u001b[39;00m\u001b[38;5;124m\"\u001b[39m \u001b[38;5;241m%\u001b[39m\n\u001b[0;32m   1273\u001b[0m           \u001b[38;5;28mself\u001b[39m\u001b[38;5;241m.\u001b[39m\u001b[38;5;18m__class__\u001b[39m)\n\u001b[1;32m-> 1274\u001b[0m     \u001b[38;5;28;01mreturn\u001b[39;00m \u001b[38;5;28;43mself\u001b[39;49m\u001b[38;5;241;43m.\u001b[39;49m\u001b[43mread\u001b[49m\u001b[43m(\u001b[49m\u001b[43mnbytes\u001b[49m\u001b[43m,\u001b[49m\u001b[43m \u001b[49m\u001b[43mbuffer\u001b[49m\u001b[43m)\u001b[49m\n\u001b[0;32m   1275\u001b[0m \u001b[38;5;28;01melse\u001b[39;00m:\n\u001b[0;32m   1276\u001b[0m     \u001b[38;5;28;01mreturn\u001b[39;00m \u001b[38;5;28msuper\u001b[39m()\u001b[38;5;241m.\u001b[39mrecv_into(buffer, nbytes, flags)\n",
      "File \u001b[1;32mC:\\Program Files\\WindowsApps\\PythonSoftwareFoundation.Python.3.10_3.10.3056.0_x64__qbz5n2kfra8p0\\lib\\ssl.py:1130\u001b[0m, in \u001b[0;36mSSLSocket.read\u001b[1;34m(self, len, buffer)\u001b[0m\n\u001b[0;32m   1128\u001b[0m \u001b[38;5;28;01mtry\u001b[39;00m:\n\u001b[0;32m   1129\u001b[0m     \u001b[38;5;28;01mif\u001b[39;00m buffer \u001b[38;5;129;01mis\u001b[39;00m \u001b[38;5;129;01mnot\u001b[39;00m \u001b[38;5;28;01mNone\u001b[39;00m:\n\u001b[1;32m-> 1130\u001b[0m         \u001b[38;5;28;01mreturn\u001b[39;00m \u001b[38;5;28;43mself\u001b[39;49m\u001b[38;5;241;43m.\u001b[39;49m\u001b[43m_sslobj\u001b[49m\u001b[38;5;241;43m.\u001b[39;49m\u001b[43mread\u001b[49m\u001b[43m(\u001b[49m\u001b[38;5;28;43mlen\u001b[39;49m\u001b[43m,\u001b[49m\u001b[43m \u001b[49m\u001b[43mbuffer\u001b[49m\u001b[43m)\u001b[49m\n\u001b[0;32m   1131\u001b[0m     \u001b[38;5;28;01melse\u001b[39;00m:\n\u001b[0;32m   1132\u001b[0m         \u001b[38;5;28;01mreturn\u001b[39;00m \u001b[38;5;28mself\u001b[39m\u001b[38;5;241m.\u001b[39m_sslobj\u001b[38;5;241m.\u001b[39mread(\u001b[38;5;28mlen\u001b[39m)\n",
      "\u001b[1;31mKeyboardInterrupt\u001b[0m: "
     ]
    }
   ],
   "source": [
    "\n",
    "\n",
    "bucks_df = game_by_game_df[(game_by_game_df['TEAM_ABBREVIATION'] == 'MIL')&(game_by_game_df['SEASON']=='2022-23')]\n",
    "\n",
    "#player_details = [player for player in player_dict if player['full_name'] == 'Giannis Antetokounmpo'][0]\n",
    "\n",
    "\n",
    "player_num = player_dict['Giannis Antetokounmpo']\n",
    "print(player_num)\n",
    "\n",
    "player_info = commonplayerinfo.CommonPlayerInfo(player_id=player_num)\n",
    "player_stats = player_info.player_headline_stats.get_dict()\n",
    "print(player_stats)\n",
    "\n",
    "\n",
    "pd.options.display.max_seq_items = 100\n",
    "shot_chart = shotchartdetail.ShotChartDetail(\n",
    "player_id = 0,\n",
    "season_nullable='2021-22',\n",
    "season_type_all_star='Regular Season',\n",
    "team_id=team_dict['MIL'],\n",
    "context_measure_simple='FGA',)\n",
    "\n",
    "\n",
    "shot_df = shot_chart.shot_chart_detail.get_data_frame()\n",
    "shot_df['Opponent'] = shot_df['HTM'].apply(lambda x: x if x != 'MIL' else '') + shot_df['VTM'].apply(lambda x: x if x != 'MIL' else '')\n",
    "shot_df['Shot'] = shot_df['SHOT_ZONE_AREA'] + ' ' + shot_df['SHOT_ZONE_BASIC']\n",
    "# Columns: 'GAME_ID', 'GAME_EVENT_ID', 'PLAYER_ID', 'PLAYER_NAME', 'TEAM_ID', 'TEAM_NAME', 'PERIOD', \n",
    "# 'MINUTES_REMAINING', 'SECONDS_REMAINING', 'EVENT_TYPE', 'ACTION_TYPE', 'SHOT_TYPE', 'SHOT_ZONE_BASIC', \n",
    "# 'SHOT_ZONE_AREA', 'SHOT_ZONE_RANGE', 'SHOT_DISTANCE' 'LOC_X', 'LOC_Y', 'SHOT_ATTEMPTED_FLAG', 'SHOT_MADE_FLAG', \n",
    "# 'GAME_DATE', 'HTM', 'VTM'\n",
    "print(set(shot_df['Opponent']))\n",
    "shot_df[['PLAYER_ID','Opponent','Shot','SHOT_MADE_FLAG']]\\\n",
    "    .groupby(['PLAYER_ID','Opponent','Shot']).agg({'SHOT_MADE_FLAG':['count','mean']})\n",
    "# # Get specific player shot chart\n",
    "# player_made_df = shot_df[(shot_df['SHOT_MADE_FLAG']==1) & (shot_df['PLAYER_ID']==player_num)]\n",
    "# player_missed_df = shot_df[(shot_df['SHOT_MADE_FLAG']==0) & (shot_df['PLAYER_ID']==player_num)]\n",
    "\n",
    "# # Get rest of team shot chart\n",
    "# rest_of_team_made_df = shot_df[(shot_df['SHOT_MADE_FLAG']==1) & (shot_df['PLAYER_ID']!=player_num)]\n",
    "# rest_of_team_missed_df = shot_df[(shot_df['SHOT_MADE_FLAG']==0) & (shot_df['PLAYER_ID']!=player_num)]\n",
    "# giannis_df = shot_df[(shot_df['PLAYER_ID']==player_num)]\n",
    "\n",
    "bucks_games = pd.concat([boxscoreadvancedv3.BoxScoreAdvancedV3(game_id = game).get_data_frames()[0] for game in set(bucks_df['GAME_ID'])])\n",
    "# #bucks_games_pbp = pd.concat([playbyplay.PlayByPlay(game).get_data_frames()[0] for game in set(bucks_df['GAME_ID'])])\n",
    "# giannis_games = bucks_games[bucks_games['NICKNAME'] == 'Giannis']"
   ]
  },
  {
   "cell_type": "code",
   "execution_count": 24,
   "metadata": {},
   "outputs": [
    {
     "ename": "KeyError",
     "evalue": "\"['TEAM_ID'] not in index\"",
     "output_type": "error",
     "traceback": [
      "\u001b[1;31m---------------------------------------------------------------------------\u001b[0m",
      "\u001b[1;31mKeyError\u001b[0m                                  Traceback (most recent call last)",
      "Input \u001b[1;32mIn [24]\u001b[0m, in \u001b[0;36m<module>\u001b[1;34m\u001b[0m\n\u001b[0;32m      1\u001b[0m \u001b[38;5;66;03m# bucks_games[['gameId','personId','teamTricode','comment','minutes','offensiveRating', 'defensiveRating', 'netRating',\u001b[39;00m\n\u001b[0;32m      2\u001b[0m \u001b[38;5;66;03m#               'offensiveReboundPercentage', 'pace','possessions']]\u001b[39;00m\n\u001b[1;32m----> 4\u001b[0m x \u001b[38;5;241m=\u001b[39m \u001b[43mgame_by_game_df\u001b[49m\u001b[43m[\u001b[49m\u001b[43mgame_by_game_df\u001b[49m\u001b[43m[\u001b[49m\u001b[38;5;124;43m'\u001b[39;49m\u001b[38;5;124;43mTEAM_ABBREVIATION\u001b[39;49m\u001b[38;5;124;43m'\u001b[39;49m\u001b[43m]\u001b[49m\u001b[38;5;241;43m==\u001b[39;49m\u001b[38;5;124;43m'\u001b[39;49m\u001b[38;5;124;43mMIL\u001b[39;49m\u001b[38;5;124;43m'\u001b[39;49m\u001b[43m]\u001b[49m\u001b[38;5;241;43m.\u001b[39;49m\u001b[43msort_values\u001b[49m\u001b[43m(\u001b[49m\u001b[43mby\u001b[49m\u001b[38;5;241;43m=\u001b[39;49m\u001b[38;5;124;43m'\u001b[39;49m\u001b[38;5;124;43mGAME_DATE\u001b[39;49m\u001b[38;5;124;43m'\u001b[39;49m\u001b[43m)\u001b[49m\u001b[43m[\u001b[49m\u001b[43m[\u001b[49m\u001b[38;5;124;43m\"\u001b[39;49m\u001b[38;5;124;43mTEAM_ID\u001b[39;49m\u001b[38;5;124;43m\"\u001b[39;49m\u001b[43m,\u001b[49m\n\u001b[0;32m      5\u001b[0m \u001b[38;5;124;43m'\u001b[39;49m\u001b[38;5;124;43mTEAM_ABBREVIATION\u001b[39;49m\u001b[38;5;124;43m'\u001b[39;49m\u001b[43m,\u001b[49m\u001b[38;5;124;43m'\u001b[39;49m\u001b[38;5;124;43mGAME_ID\u001b[39;49m\u001b[38;5;124;43m'\u001b[39;49m\u001b[43m,\u001b[49m\u001b[38;5;124;43m'\u001b[39;49m\u001b[38;5;124;43mGAME_DATE\u001b[39;49m\u001b[38;5;124;43m'\u001b[39;49m\u001b[43m,\u001b[49m\u001b[38;5;124;43m'\u001b[39;49m\u001b[38;5;124;43mPTS\u001b[39;49m\u001b[38;5;124;43m'\u001b[39;49m\u001b[43m,\u001b[49m\u001b[38;5;124;43m'\u001b[39;49m\u001b[38;5;124;43mTOV\u001b[39;49m\u001b[38;5;124;43m'\u001b[39;49m\u001b[43m,\u001b[49m\u001b[38;5;124;43m'\u001b[39;49m\u001b[38;5;124;43mPF\u001b[39;49m\u001b[38;5;124;43m'\u001b[39;49m\u001b[43m,\u001b[49m\u001b[38;5;124;43m'\u001b[39;49m\u001b[38;5;124;43mPTS Allowed\u001b[39;49m\u001b[38;5;124;43m'\u001b[39;49m\u001b[43m,\u001b[49m\u001b[38;5;124;43m'\u001b[39;49m\u001b[38;5;124;43mAt Home\u001b[39;49m\u001b[38;5;124;43m'\u001b[39;49m\u001b[43m,\u001b[49m\n\u001b[0;32m      6\u001b[0m \u001b[38;5;124;43m'\u001b[39;49m\u001b[38;5;124;43mFGA\u001b[39;49m\u001b[38;5;124;43m'\u001b[39;49m\u001b[43m,\u001b[49m\u001b[38;5;124;43m'\u001b[39;49m\u001b[38;5;124;43mFG_PCT\u001b[39;49m\u001b[38;5;124;43m'\u001b[39;49m\u001b[43m,\u001b[49m\u001b[38;5;124;43m'\u001b[39;49m\u001b[38;5;124;43mFG3A\u001b[39;49m\u001b[38;5;124;43m'\u001b[39;49m\u001b[43m,\u001b[49m\u001b[43m \u001b[49m\u001b[38;5;124;43m'\u001b[39;49m\u001b[38;5;124;43mFG3_PCT\u001b[39;49m\u001b[38;5;124;43m'\u001b[39;49m\u001b[43m,\u001b[49m\u001b[43m \u001b[49m\u001b[38;5;124;43m'\u001b[39;49m\u001b[38;5;124;43mFTA\u001b[39;49m\u001b[38;5;124;43m'\u001b[39;49m\u001b[43m,\u001b[49m\u001b[43m \u001b[49m\u001b[38;5;124;43m'\u001b[39;49m\u001b[38;5;124;43mFT_PCT\u001b[39;49m\u001b[38;5;124;43m'\u001b[39;49m\u001b[43m,\u001b[49m\u001b[43m \u001b[49m\u001b[38;5;124;43m'\u001b[39;49m\u001b[38;5;124;43mOREB\u001b[39;49m\u001b[38;5;124;43m'\u001b[39;49m\u001b[43m,\u001b[49m\u001b[43m \u001b[49m\u001b[38;5;124;43m'\u001b[39;49m\u001b[38;5;124;43mDREB\u001b[39;49m\u001b[38;5;124;43m'\u001b[39;49m\u001b[43m,\u001b[49m\u001b[38;5;124;43m'\u001b[39;49m\u001b[38;5;124;43mAST\u001b[39;49m\u001b[38;5;124;43m'\u001b[39;49m\u001b[43m,\u001b[49m\u001b[43m \u001b[49m\u001b[38;5;124;43m'\u001b[39;49m\u001b[38;5;124;43mSTL\u001b[39;49m\u001b[38;5;124;43m'\u001b[39;49m\u001b[43m,\u001b[49m\u001b[43m \u001b[49m\u001b[38;5;124;43m'\u001b[39;49m\u001b[38;5;124;43mBLK\u001b[39;49m\u001b[38;5;124;43m'\u001b[39;49m\u001b[43m,\u001b[49m\u001b[38;5;124;43m'\u001b[39;49m\u001b[38;5;124;43mOpponent\u001b[39;49m\u001b[38;5;124;43m'\u001b[39;49m\u001b[43m,\u001b[49m\u001b[38;5;124;43m'\u001b[39;49m\u001b[38;5;124;43mWin\u001b[39;49m\u001b[38;5;124;43m'\u001b[39;49m\u001b[43m]\u001b[49m\u001b[43m]\u001b[49m\u001b[38;5;241m.\u001b[39mhead(\u001b[38;5;241m2\u001b[39m)\n",
      "File \u001b[1;32m~\\AppData\\Local\\Packages\\PythonSoftwareFoundation.Python.3.10_qbz5n2kfra8p0\\LocalCache\\local-packages\\Python310\\site-packages\\pandas\\core\\frame.py:4096\u001b[0m, in \u001b[0;36mDataFrame.__getitem__\u001b[1;34m(self, key)\u001b[0m\n\u001b[0;32m   4094\u001b[0m     \u001b[38;5;28;01mif\u001b[39;00m is_iterator(key):\n\u001b[0;32m   4095\u001b[0m         key \u001b[38;5;241m=\u001b[39m \u001b[38;5;28mlist\u001b[39m(key)\n\u001b[1;32m-> 4096\u001b[0m     indexer \u001b[38;5;241m=\u001b[39m \u001b[38;5;28;43mself\u001b[39;49m\u001b[38;5;241;43m.\u001b[39;49m\u001b[43mcolumns\u001b[49m\u001b[38;5;241;43m.\u001b[39;49m\u001b[43m_get_indexer_strict\u001b[49m\u001b[43m(\u001b[49m\u001b[43mkey\u001b[49m\u001b[43m,\u001b[49m\u001b[43m \u001b[49m\u001b[38;5;124;43m\"\u001b[39;49m\u001b[38;5;124;43mcolumns\u001b[39;49m\u001b[38;5;124;43m\"\u001b[39;49m\u001b[43m)\u001b[49m[\u001b[38;5;241m1\u001b[39m]\n\u001b[0;32m   4098\u001b[0m \u001b[38;5;66;03m# take() does not accept boolean indexers\u001b[39;00m\n\u001b[0;32m   4099\u001b[0m \u001b[38;5;28;01mif\u001b[39;00m \u001b[38;5;28mgetattr\u001b[39m(indexer, \u001b[38;5;124m\"\u001b[39m\u001b[38;5;124mdtype\u001b[39m\u001b[38;5;124m\"\u001b[39m, \u001b[38;5;28;01mNone\u001b[39;00m) \u001b[38;5;241m==\u001b[39m \u001b[38;5;28mbool\u001b[39m:\n",
      "File \u001b[1;32m~\\AppData\\Local\\Packages\\PythonSoftwareFoundation.Python.3.10_qbz5n2kfra8p0\\LocalCache\\local-packages\\Python310\\site-packages\\pandas\\core\\indexes\\base.py:6200\u001b[0m, in \u001b[0;36mIndex._get_indexer_strict\u001b[1;34m(self, key, axis_name)\u001b[0m\n\u001b[0;32m   6197\u001b[0m \u001b[38;5;28;01melse\u001b[39;00m:\n\u001b[0;32m   6198\u001b[0m     keyarr, indexer, new_indexer \u001b[38;5;241m=\u001b[39m \u001b[38;5;28mself\u001b[39m\u001b[38;5;241m.\u001b[39m_reindex_non_unique(keyarr)\n\u001b[1;32m-> 6200\u001b[0m \u001b[38;5;28;43mself\u001b[39;49m\u001b[38;5;241;43m.\u001b[39;49m\u001b[43m_raise_if_missing\u001b[49m\u001b[43m(\u001b[49m\u001b[43mkeyarr\u001b[49m\u001b[43m,\u001b[49m\u001b[43m \u001b[49m\u001b[43mindexer\u001b[49m\u001b[43m,\u001b[49m\u001b[43m \u001b[49m\u001b[43maxis_name\u001b[49m\u001b[43m)\u001b[49m\n\u001b[0;32m   6202\u001b[0m keyarr \u001b[38;5;241m=\u001b[39m \u001b[38;5;28mself\u001b[39m\u001b[38;5;241m.\u001b[39mtake(indexer)\n\u001b[0;32m   6203\u001b[0m \u001b[38;5;28;01mif\u001b[39;00m \u001b[38;5;28misinstance\u001b[39m(key, Index):\n\u001b[0;32m   6204\u001b[0m     \u001b[38;5;66;03m# GH 42790 - Preserve name from an Index\u001b[39;00m\n",
      "File \u001b[1;32m~\\AppData\\Local\\Packages\\PythonSoftwareFoundation.Python.3.10_qbz5n2kfra8p0\\LocalCache\\local-packages\\Python310\\site-packages\\pandas\\core\\indexes\\base.py:6252\u001b[0m, in \u001b[0;36mIndex._raise_if_missing\u001b[1;34m(self, key, indexer, axis_name)\u001b[0m\n\u001b[0;32m   6249\u001b[0m     \u001b[38;5;28;01mraise\u001b[39;00m \u001b[38;5;167;01mKeyError\u001b[39;00m(\u001b[38;5;124mf\u001b[39m\u001b[38;5;124m\"\u001b[39m\u001b[38;5;124mNone of [\u001b[39m\u001b[38;5;132;01m{\u001b[39;00mkey\u001b[38;5;132;01m}\u001b[39;00m\u001b[38;5;124m] are in the [\u001b[39m\u001b[38;5;132;01m{\u001b[39;00maxis_name\u001b[38;5;132;01m}\u001b[39;00m\u001b[38;5;124m]\u001b[39m\u001b[38;5;124m\"\u001b[39m)\n\u001b[0;32m   6251\u001b[0m not_found \u001b[38;5;241m=\u001b[39m \u001b[38;5;28mlist\u001b[39m(ensure_index(key)[missing_mask\u001b[38;5;241m.\u001b[39mnonzero()[\u001b[38;5;241m0\u001b[39m]]\u001b[38;5;241m.\u001b[39munique())\n\u001b[1;32m-> 6252\u001b[0m \u001b[38;5;28;01mraise\u001b[39;00m \u001b[38;5;167;01mKeyError\u001b[39;00m(\u001b[38;5;124mf\u001b[39m\u001b[38;5;124m\"\u001b[39m\u001b[38;5;132;01m{\u001b[39;00mnot_found\u001b[38;5;132;01m}\u001b[39;00m\u001b[38;5;124m not in index\u001b[39m\u001b[38;5;124m\"\u001b[39m)\n",
      "\u001b[1;31mKeyError\u001b[0m: \"['TEAM_ID'] not in index\""
     ]
    }
   ],
   "source": [
    "# bucks_games[['gameId','personId','teamTricode','comment','minutes','offensiveRating', 'defensiveRating', 'netRating',\n",
    "#               'offensiveReboundPercentage', 'pace','possessions']]\n",
    "\n",
    "x = game_by_game_df[game_by_game_df['TEAM_ABBREVIATION']=='MIL'].sort_values(by='GAME_DATE')[[\"TEAM_ID\",\n",
    "'TEAM_ABBREVIATION','GAME_ID','GAME_DATE','PTS','TOV','PF','PTS Allowed','At Home',\n",
    "'FGA','FG_PCT','FG3A', 'FG3_PCT', 'FTA', 'FT_PCT', 'OREB', 'DREB','AST', 'STL', 'BLK','Opponent','Win']].head(2)"
   ]
  },
  {
   "cell_type": "code",
   "execution_count": 74,
   "metadata": {},
   "outputs": [
    {
     "name": "stdout",
     "output_type": "stream",
     "text": [
      "1494\n",
      "10\n",
      "20\n",
      "30\n",
      "40\n",
      "50\n",
      "60\n",
      "70\n",
      "80\n",
      "90\n",
      "100\n",
      "110\n",
      "120\n",
      "130\n",
      "140\n",
      "150\n",
      "160\n",
      "170\n",
      "180\n",
      "190\n",
      "200\n",
      "210\n",
      "220\n",
      "230\n",
      "240\n",
      "250\n",
      "260\n",
      "270\n",
      "280\n",
      "290\n",
      "300\n",
      "310\n",
      "320\n",
      "330\n",
      "340\n",
      "350\n",
      "360\n",
      "370\n",
      "380\n",
      "390\n",
      "400\n",
      "410\n",
      "420\n",
      "430\n",
      "440\n",
      "450\n",
      "460\n",
      "470\n",
      "480\n",
      "490\n",
      "500\n",
      "510\n",
      "520\n",
      "530\n",
      "540\n",
      "550\n",
      "560\n",
      "570\n",
      "580\n",
      "590\n",
      "600\n",
      "610\n",
      "620\n",
      "630\n",
      "640\n",
      "650\n",
      "660\n",
      "670\n",
      "680\n",
      "690\n",
      "700\n",
      "710\n",
      "720\n",
      "730\n",
      "740\n",
      "750\n",
      "760\n",
      "770\n",
      "780\n",
      "790\n",
      "800\n",
      "810\n",
      "820\n",
      "830\n",
      "840\n",
      "850\n",
      "860\n",
      "870\n",
      "880\n",
      "890\n",
      "900\n",
      "910\n",
      "920\n",
      "930\n",
      "940\n",
      "950\n",
      "960\n",
      "970\n",
      "980\n",
      "990\n",
      "1000\n",
      "1010\n",
      "1020\n",
      "1030\n",
      "1040\n",
      "1050\n",
      "1060\n",
      "1070\n",
      "1080\n",
      "1090\n",
      "1100\n",
      "1110\n",
      "1120\n",
      "1130\n",
      "1140\n",
      "1150\n",
      "1160\n",
      "1170\n",
      "1180\n",
      "1190\n",
      "1200\n",
      "1210\n",
      "1220\n",
      "1230\n",
      "1240\n",
      "1250\n",
      "1260\n",
      "1270\n",
      "1280\n",
      "1290\n",
      "1300\n",
      "1310\n",
      "1320\n",
      "1330\n",
      "1340\n",
      "1350\n",
      "1360\n",
      "1370\n",
      "1380\n",
      "1390\n",
      "1400\n",
      "1410\n",
      "1420\n",
      "1430\n",
      "1440\n",
      "1450\n",
      "1460\n",
      "1470\n",
      "1480\n",
      "1490\n"
     ]
    }
   ],
   "source": [
    "rows = []\n",
    "incomplete_df = pd.read_csv('All Data CSVS/2021_22alldata.csv', converters={'GAME_ID':str})\n",
    "mil2012_df = game_by_game_df[(game_by_game_df['SEASON']=='2021-22')].sort_values(by='GAME_DATE')[[\n",
    "'TEAM_ABBREVIATION','GAME_ID','GAME_DATE','PTS','TOV','PF','At Home',\n",
    "'FGA','FGM','FG3A', 'FG3M', 'FTA', 'FTM', 'OREB', 'DREB','AST', 'STL', 'BLK','Opponent',\n",
    "'Opponent PTS', 'Opponent FGM', 'Opponent FGA',\n",
    "       'Opponent FG_PCT', 'Opponent FG3M', 'Opponent FG3A', 'Opponent FG3_PCT',\n",
    "       'Opponent FTM', 'Opponent FTA', 'Opponent FT_PCT', 'Opponent OREB',\n",
    "       'Opponent DREB', 'Opponent AST', 'Opponent STL', 'Opponent BLK',\n",
    "       'Opponent TOV', 'Opponent PF','SEASON','Opponent Win','Win']]\n",
    "\n",
    "mil2012_df = mil2012_df[~mil2012_df['GAME_ID'].isin(incomplete_df['GAME_ID'])]\n",
    "print(len(mil2012_df))\n",
    "\n",
    "count = 0\n",
    "for a, row in mil2012_df.iterrows():\n",
    "    count += 1\n",
    "    if count % 10 == 0:\n",
    "        print(count)\n",
    "    boxscore_df = boxscoreadvancedv3.BoxScoreAdvancedV3(game_id = row.GAME_ID).get_data_frames()[1]\n",
    "    boxscore_df = boxscore_df[['gameId', 'teamId', 'teamTricode','offensiveRating','defensiveRating','possessions','assistToTurnover','offensiveReboundPercentage', 'defensiveReboundPercentage']]\n",
    "    boxscore_team = boxscore_df[boxscore_df['teamTricode'] == row.TEAM_ABBREVIATION]\n",
    "    boxscore_opponent = boxscore_df[boxscore_df['teamTricode'] != row.TEAM_ABBREVIATION]\n",
    "    boxscore_opponent = boxscore_opponent.add_prefix(\"Opponent \")\n",
    "    row = pd.DataFrame(row).transpose()\n",
    "    row = row.merge(boxscore_team,left_on=['GAME_ID','TEAM_ABBREVIATION'],right_on=['gameId','teamTricode'])\n",
    "    row = row.merge(boxscore_opponent,left_on=['GAME_ID'],right_on=['Opponent gameId'])\n",
    "    rows.append(row)"
   ]
  },
  {
   "cell_type": "code",
   "execution_count": 75,
   "metadata": {},
   "outputs": [],
   "source": [
    "full_df = pd.concat(rows)\n",
    "full_df = full_df.drop(['gameId', 'teamId', 'teamTricode','Opponent gameId', 'Opponent teamId'],axis = 1)\n",
    "full_df = pd.concat([incomplete_df, full_df])"
   ]
  },
  {
   "cell_type": "code",
   "execution_count": 77,
   "metadata": {},
   "outputs": [
    {
     "data": {
      "text/html": [
       "<div>\n",
       "<style scoped>\n",
       "    .dataframe tbody tr th:only-of-type {\n",
       "        vertical-align: middle;\n",
       "    }\n",
       "\n",
       "    .dataframe tbody tr th {\n",
       "        vertical-align: top;\n",
       "    }\n",
       "\n",
       "    .dataframe thead th {\n",
       "        text-align: right;\n",
       "    }\n",
       "</style>\n",
       "<table border=\"1\" class=\"dataframe\">\n",
       "  <thead>\n",
       "    <tr style=\"text-align: right;\">\n",
       "      <th></th>\n",
       "      <th>index</th>\n",
       "      <th>Unnamed: 0.1</th>\n",
       "      <th>Unnamed: 0</th>\n",
       "      <th>TEAM_ABBREVIATION</th>\n",
       "      <th>GAME_ID</th>\n",
       "      <th>GAME_DATE</th>\n",
       "      <th>PTS</th>\n",
       "      <th>TOV</th>\n",
       "      <th>PF</th>\n",
       "      <th>At Home</th>\n",
       "      <th>...</th>\n",
       "      <th>assistToTurnover</th>\n",
       "      <th>offensiveReboundPercentage</th>\n",
       "      <th>defensiveReboundPercentage</th>\n",
       "      <th>Opponent teamTricode</th>\n",
       "      <th>Opponent offensiveRating</th>\n",
       "      <th>Opponent defensiveRating</th>\n",
       "      <th>Opponent possessions</th>\n",
       "      <th>Opponent assistToTurnover</th>\n",
       "      <th>Opponent offensiveReboundPercentage</th>\n",
       "      <th>Opponent defensiveReboundPercentage</th>\n",
       "    </tr>\n",
       "  </thead>\n",
       "  <tbody>\n",
       "    <tr>\n",
       "      <th>0</th>\n",
       "      <td>0</td>\n",
       "      <td>0.0</td>\n",
       "      <td>0.0</td>\n",
       "      <td>LAL</td>\n",
       "      <td>0022100002</td>\n",
       "      <td>2021-10-19</td>\n",
       "      <td>114</td>\n",
       "      <td>17</td>\n",
       "      <td>25</td>\n",
       "      <td>1</td>\n",
       "      <td>...</td>\n",
       "      <td>1.17</td>\n",
       "      <td>0.189</td>\n",
       "      <td>0.759</td>\n",
       "      <td>GSW</td>\n",
       "      <td>107.1</td>\n",
       "      <td>101.8</td>\n",
       "      <td>113.0</td>\n",
       "      <td>1.76</td>\n",
       "      <td>0.241</td>\n",
       "      <td>0.811</td>\n",
       "    </tr>\n",
       "    <tr>\n",
       "      <th>1</th>\n",
       "      <td>1</td>\n",
       "      <td>1.0</td>\n",
       "      <td>0.0</td>\n",
       "      <td>GSW</td>\n",
       "      <td>0022100002</td>\n",
       "      <td>2021-10-19</td>\n",
       "      <td>121</td>\n",
       "      <td>17</td>\n",
       "      <td>18</td>\n",
       "      <td>0</td>\n",
       "      <td>...</td>\n",
       "      <td>1.76</td>\n",
       "      <td>0.241</td>\n",
       "      <td>0.811</td>\n",
       "      <td>LAL</td>\n",
       "      <td>101.8</td>\n",
       "      <td>107.1</td>\n",
       "      <td>112.0</td>\n",
       "      <td>1.17</td>\n",
       "      <td>0.189</td>\n",
       "      <td>0.759</td>\n",
       "    </tr>\n",
       "    <tr>\n",
       "      <th>2</th>\n",
       "      <td>2</td>\n",
       "      <td>2.0</td>\n",
       "      <td>0.0</td>\n",
       "      <td>MIL</td>\n",
       "      <td>0022100001</td>\n",
       "      <td>2021-10-19</td>\n",
       "      <td>127</td>\n",
       "      <td>7</td>\n",
       "      <td>19</td>\n",
       "      <td>1</td>\n",
       "      <td>...</td>\n",
       "      <td>3.13</td>\n",
       "      <td>0.293</td>\n",
       "      <td>0.824</td>\n",
       "      <td>BKN</td>\n",
       "      <td>102.0</td>\n",
       "      <td>124.5</td>\n",
       "      <td>102.0</td>\n",
       "      <td>1.46</td>\n",
       "      <td>0.176</td>\n",
       "      <td>0.707</td>\n",
       "    </tr>\n",
       "    <tr>\n",
       "      <th>3</th>\n",
       "      <td>3</td>\n",
       "      <td>3.0</td>\n",
       "      <td>0.0</td>\n",
       "      <td>BKN</td>\n",
       "      <td>0022100001</td>\n",
       "      <td>2021-10-19</td>\n",
       "      <td>104</td>\n",
       "      <td>12</td>\n",
       "      <td>17</td>\n",
       "      <td>0</td>\n",
       "      <td>...</td>\n",
       "      <td>1.46</td>\n",
       "      <td>0.176</td>\n",
       "      <td>0.707</td>\n",
       "      <td>MIL</td>\n",
       "      <td>124.5</td>\n",
       "      <td>102.0</td>\n",
       "      <td>102.0</td>\n",
       "      <td>3.13</td>\n",
       "      <td>0.293</td>\n",
       "      <td>0.824</td>\n",
       "    </tr>\n",
       "    <tr>\n",
       "      <th>4</th>\n",
       "      <td>4</td>\n",
       "      <td>4.0</td>\n",
       "      <td>0.0</td>\n",
       "      <td>DEN</td>\n",
       "      <td>0022100012</td>\n",
       "      <td>2021-10-20</td>\n",
       "      <td>110</td>\n",
       "      <td>17</td>\n",
       "      <td>20</td>\n",
       "      <td>0</td>\n",
       "      <td>...</td>\n",
       "      <td>1.32</td>\n",
       "      <td>0.171</td>\n",
       "      <td>0.741</td>\n",
       "      <td>PHX</td>\n",
       "      <td>97.0</td>\n",
       "      <td>108.9</td>\n",
       "      <td>101.0</td>\n",
       "      <td>1.28</td>\n",
       "      <td>0.259</td>\n",
       "      <td>0.829</td>\n",
       "    </tr>\n",
       "    <tr>\n",
       "      <th>...</th>\n",
       "      <td>...</td>\n",
       "      <td>...</td>\n",
       "      <td>...</td>\n",
       "      <td>...</td>\n",
       "      <td>...</td>\n",
       "      <td>...</td>\n",
       "      <td>...</td>\n",
       "      <td>...</td>\n",
       "      <td>...</td>\n",
       "      <td>...</td>\n",
       "      <td>...</td>\n",
       "      <td>...</td>\n",
       "      <td>...</td>\n",
       "      <td>...</td>\n",
       "      <td>...</td>\n",
       "      <td>...</td>\n",
       "      <td>...</td>\n",
       "      <td>...</td>\n",
       "      <td>...</td>\n",
       "      <td>...</td>\n",
       "      <td>...</td>\n",
       "    </tr>\n",
       "    <tr>\n",
       "      <th>2629</th>\n",
       "      <td>0</td>\n",
       "      <td>NaN</td>\n",
       "      <td>NaN</td>\n",
       "      <td>GSW</td>\n",
       "      <td>0042100404</td>\n",
       "      <td>2022-06-10</td>\n",
       "      <td>107</td>\n",
       "      <td>16</td>\n",
       "      <td>21</td>\n",
       "      <td>0</td>\n",
       "      <td>...</td>\n",
       "      <td>1.25</td>\n",
       "      <td>0.385</td>\n",
       "      <td>0.736</td>\n",
       "      <td>BOS</td>\n",
       "      <td>101.0</td>\n",
       "      <td>111.5</td>\n",
       "      <td>96.0</td>\n",
       "      <td>1.38</td>\n",
       "      <td>0.264</td>\n",
       "      <td>0.615</td>\n",
       "    </tr>\n",
       "    <tr>\n",
       "      <th>2630</th>\n",
       "      <td>0</td>\n",
       "      <td>NaN</td>\n",
       "      <td>NaN</td>\n",
       "      <td>GSW</td>\n",
       "      <td>0042100405</td>\n",
       "      <td>2022-06-13</td>\n",
       "      <td>104</td>\n",
       "      <td>6</td>\n",
       "      <td>28</td>\n",
       "      <td>1</td>\n",
       "      <td>...</td>\n",
       "      <td>3.29</td>\n",
       "      <td>0.106</td>\n",
       "      <td>0.750</td>\n",
       "      <td>BOS</td>\n",
       "      <td>95.9</td>\n",
       "      <td>107.2</td>\n",
       "      <td>98.0</td>\n",
       "      <td>1.00</td>\n",
       "      <td>0.250</td>\n",
       "      <td>0.894</td>\n",
       "    </tr>\n",
       "    <tr>\n",
       "      <th>2631</th>\n",
       "      <td>0</td>\n",
       "      <td>NaN</td>\n",
       "      <td>NaN</td>\n",
       "      <td>BOS</td>\n",
       "      <td>0042100405</td>\n",
       "      <td>2022-06-13</td>\n",
       "      <td>94</td>\n",
       "      <td>18</td>\n",
       "      <td>16</td>\n",
       "      <td>0</td>\n",
       "      <td>...</td>\n",
       "      <td>1.00</td>\n",
       "      <td>0.250</td>\n",
       "      <td>0.894</td>\n",
       "      <td>GSW</td>\n",
       "      <td>107.2</td>\n",
       "      <td>95.9</td>\n",
       "      <td>97.0</td>\n",
       "      <td>3.29</td>\n",
       "      <td>0.106</td>\n",
       "      <td>0.750</td>\n",
       "    </tr>\n",
       "    <tr>\n",
       "      <th>2632</th>\n",
       "      <td>0</td>\n",
       "      <td>NaN</td>\n",
       "      <td>NaN</td>\n",
       "      <td>BOS</td>\n",
       "      <td>0042100406</td>\n",
       "      <td>2022-06-16</td>\n",
       "      <td>90</td>\n",
       "      <td>22</td>\n",
       "      <td>16</td>\n",
       "      <td>1</td>\n",
       "      <td>...</td>\n",
       "      <td>1.17</td>\n",
       "      <td>0.348</td>\n",
       "      <td>0.593</td>\n",
       "      <td>GSW</td>\n",
       "      <td>109.6</td>\n",
       "      <td>96.8</td>\n",
       "      <td>94.0</td>\n",
       "      <td>1.59</td>\n",
       "      <td>0.407</td>\n",
       "      <td>0.652</td>\n",
       "    </tr>\n",
       "    <tr>\n",
       "      <th>2633</th>\n",
       "      <td>0</td>\n",
       "      <td>NaN</td>\n",
       "      <td>NaN</td>\n",
       "      <td>GSW</td>\n",
       "      <td>0042100406</td>\n",
       "      <td>2022-06-16</td>\n",
       "      <td>103</td>\n",
       "      <td>15</td>\n",
       "      <td>20</td>\n",
       "      <td>0</td>\n",
       "      <td>...</td>\n",
       "      <td>1.59</td>\n",
       "      <td>0.407</td>\n",
       "      <td>0.652</td>\n",
       "      <td>BOS</td>\n",
       "      <td>96.8</td>\n",
       "      <td>109.6</td>\n",
       "      <td>93.0</td>\n",
       "      <td>1.17</td>\n",
       "      <td>0.348</td>\n",
       "      <td>0.593</td>\n",
       "    </tr>\n",
       "  </tbody>\n",
       "</table>\n",
       "<p>2634 rows × 55 columns</p>\n",
       "</div>"
      ],
      "text/plain": [
       "      index  Unnamed: 0.1  Unnamed: 0 TEAM_ABBREVIATION     GAME_ID  \\\n",
       "0         0           0.0         0.0               LAL  0022100002   \n",
       "1         1           1.0         0.0               GSW  0022100002   \n",
       "2         2           2.0         0.0               MIL  0022100001   \n",
       "3         3           3.0         0.0               BKN  0022100001   \n",
       "4         4           4.0         0.0               DEN  0022100012   \n",
       "...     ...           ...         ...               ...         ...   \n",
       "2629      0           NaN         NaN               GSW  0042100404   \n",
       "2630      0           NaN         NaN               GSW  0042100405   \n",
       "2631      0           NaN         NaN               BOS  0042100405   \n",
       "2632      0           NaN         NaN               BOS  0042100406   \n",
       "2633      0           NaN         NaN               GSW  0042100406   \n",
       "\n",
       "       GAME_DATE  PTS TOV  PF At Home  ... assistToTurnover  \\\n",
       "0     2021-10-19  114  17  25       1  ...             1.17   \n",
       "1     2021-10-19  121  17  18       0  ...             1.76   \n",
       "2     2021-10-19  127   7  19       1  ...             3.13   \n",
       "3     2021-10-19  104  12  17       0  ...             1.46   \n",
       "4     2021-10-20  110  17  20       0  ...             1.32   \n",
       "...          ...  ...  ..  ..     ...  ...              ...   \n",
       "2629  2022-06-10  107  16  21       0  ...             1.25   \n",
       "2630  2022-06-13  104   6  28       1  ...             3.29   \n",
       "2631  2022-06-13   94  18  16       0  ...             1.00   \n",
       "2632  2022-06-16   90  22  16       1  ...             1.17   \n",
       "2633  2022-06-16  103  15  20       0  ...             1.59   \n",
       "\n",
       "     offensiveReboundPercentage defensiveReboundPercentage  \\\n",
       "0                         0.189                      0.759   \n",
       "1                         0.241                      0.811   \n",
       "2                         0.293                      0.824   \n",
       "3                         0.176                      0.707   \n",
       "4                         0.171                      0.741   \n",
       "...                         ...                        ...   \n",
       "2629                      0.385                      0.736   \n",
       "2630                      0.106                      0.750   \n",
       "2631                      0.250                      0.894   \n",
       "2632                      0.348                      0.593   \n",
       "2633                      0.407                      0.652   \n",
       "\n",
       "     Opponent teamTricode Opponent offensiveRating Opponent defensiveRating  \\\n",
       "0                     GSW                    107.1                    101.8   \n",
       "1                     LAL                    101.8                    107.1   \n",
       "2                     BKN                    102.0                    124.5   \n",
       "3                     MIL                    124.5                    102.0   \n",
       "4                     PHX                     97.0                    108.9   \n",
       "...                   ...                      ...                      ...   \n",
       "2629                  BOS                    101.0                    111.5   \n",
       "2630                  BOS                     95.9                    107.2   \n",
       "2631                  GSW                    107.2                     95.9   \n",
       "2632                  GSW                    109.6                     96.8   \n",
       "2633                  BOS                     96.8                    109.6   \n",
       "\n",
       "     Opponent possessions Opponent assistToTurnover  \\\n",
       "0                   113.0                      1.76   \n",
       "1                   112.0                      1.17   \n",
       "2                   102.0                      1.46   \n",
       "3                   102.0                      3.13   \n",
       "4                   101.0                      1.28   \n",
       "...                   ...                       ...   \n",
       "2629                 96.0                      1.38   \n",
       "2630                 98.0                      1.00   \n",
       "2631                 97.0                      3.29   \n",
       "2632                 94.0                      1.59   \n",
       "2633                 93.0                      1.17   \n",
       "\n",
       "     Opponent offensiveReboundPercentage Opponent defensiveReboundPercentage  \n",
       "0                                  0.241                               0.811  \n",
       "1                                  0.189                               0.759  \n",
       "2                                  0.176                               0.707  \n",
       "3                                  0.293                               0.824  \n",
       "4                                  0.259                               0.829  \n",
       "...                                  ...                                 ...  \n",
       "2629                               0.264                               0.615  \n",
       "2630                               0.250                               0.894  \n",
       "2631                               0.106                               0.750  \n",
       "2632                               0.407                               0.652  \n",
       "2633                               0.348                               0.593  \n",
       "\n",
       "[2634 rows x 55 columns]"
      ]
     },
     "execution_count": 77,
     "metadata": {},
     "output_type": "execute_result"
    }
   ],
   "source": [
    "full_df.reset_index()"
   ]
  },
  {
   "cell_type": "code",
   "execution_count": 78,
   "metadata": {},
   "outputs": [],
   "source": [
    "full_df.to_csv('All Data CSVs/2021_22alldata.csv')"
   ]
  },
  {
   "cell_type": "code",
   "execution_count": 63,
   "metadata": {},
   "outputs": [
    {
     "data": {
      "text/plain": [
       "721"
      ]
     },
     "execution_count": 63,
     "metadata": {},
     "output_type": "execute_result"
    }
   ],
   "source": [
    "# Full data for: 2012_13, 2013-14, 2014-15, 2015-16, 2016-17, 2019-20, 2020-21, 2022-23, 2023-24\n",
    "full_df = pd.read_csv('All Data CSVs/2017_18alldata.csv')\n",
    "len(full_df)\n"
   ]
  },
  {
   "cell_type": "code",
   "execution_count": 86,
   "metadata": {},
   "outputs": [],
   "source": [
    "start_year = 2012\n",
    "end_year = 2024\n",
    "all_data_dfs = []\n",
    "for season in [str(x) + '_' + str(x + 1)[2:] for x in range(start_year,end_year)]:\n",
    "    all_data_dfs.append(pd.read_csv(f'All Data CSVs/{season}alldata.csv',converters={'GAME_ID':str}))"
   ]
  },
  {
   "cell_type": "code",
   "execution_count": 87,
   "metadata": {},
   "outputs": [],
   "source": [
    "all_data_df = pd.concat(all_data_dfs)"
   ]
  },
  {
   "cell_type": "code",
   "execution_count": 106,
   "metadata": {},
   "outputs": [],
   "source": [
    "key_cols = ['TEAM_ABBREVIATION', 'GAME_ID', 'GAME_DATE', 'PTS', 'TOV',\n",
    "       'PF', 'At Home', 'FGA', 'FGM', 'FG3A', 'FG3M', 'FTA', 'FTM', 'OREB',\n",
    "       'DREB', 'AST', 'STL', 'BLK', 'Opponent', 'Opponent PTS', 'Opponent FGM',\n",
    "       'Opponent FGA', 'Opponent FG_PCT', 'Opponent FG3M', 'Opponent FG3A',\n",
    "       'Opponent FG3_PCT', 'Opponent FTM', 'Opponent FTA', 'Opponent FT_PCT',\n",
    "       'Opponent OREB', 'Opponent DREB', 'Opponent AST', 'Opponent STL',\n",
    "       'Opponent BLK', 'Opponent TOV', 'Opponent PF', 'SEASON', 'Win',\n",
    "       'offensiveRating', 'defensiveRating', 'possessions', 'assistToTurnover',\n",
    "       'offensiveReboundPercentage', 'defensiveReboundPercentage',\n",
    "       'Opponent offensiveRating',\n",
    "       'Opponent defensiveRating', 'Opponent possessions',\n",
    "       'Opponent assistToTurnover', 'Opponent offensiveReboundPercentage',\n",
    "       'Opponent defensiveReboundPercentage', 'Opponent Win']\n",
    "all_data_df = all_data_df[key_cols]"
   ]
  },
  {
   "cell_type": "code",
   "execution_count": 107,
   "metadata": {},
   "outputs": [],
   "source": [
    "all_data_df.to_csv(\"All Data CSVs/AllData.csv\")"
   ]
  },
  {
   "cell_type": "markdown",
   "metadata": {},
   "source": [
    "## PBP Data (Lead Volatility Idea)"
   ]
  },
  {
   "cell_type": "markdown",
   "metadata": {},
   "source": [
    "### Create PBP Dataset"
   ]
  },
  {
   "cell_type": "code",
   "execution_count": 53,
   "metadata": {
    "id": "cuz_uw0TADHu"
   },
   "outputs": [
    {
     "name": "stdout",
     "output_type": "stream",
     "text": [
      "100\n",
      "200\n"
     ]
    },
    {
     "ename": "JSONDecodeError",
     "evalue": "Expecting value: line 1 column 1 (char 0)",
     "output_type": "error",
     "traceback": [
      "\u001b[1;31m---------------------------------------------------------------------------\u001b[0m",
      "\u001b[1;31mJSONDecodeError\u001b[0m                           Traceback (most recent call last)",
      "Input \u001b[1;32mIn [53]\u001b[0m, in \u001b[0;36m<module>\u001b[1;34m\u001b[0m\n\u001b[0;32m      9\u001b[0m \u001b[38;5;28;01mfor\u001b[39;00m game \u001b[38;5;129;01min\u001b[39;00m \u001b[38;5;28mlist\u001b[39m(\u001b[38;5;28mset\u001b[39m(game_by_game_df[\u001b[38;5;124m'\u001b[39m\u001b[38;5;124mGAME_ID\u001b[39m\u001b[38;5;124m'\u001b[39m]) \u001b[38;5;241m-\u001b[39m \u001b[38;5;28mset\u001b[39m(pbp_df[\u001b[38;5;124m'\u001b[39m\u001b[38;5;124mGAME_ID\u001b[39m\u001b[38;5;124m'\u001b[39m])):\n\u001b[0;32m     10\u001b[0m     df \u001b[38;5;241m=\u001b[39m pd\u001b[38;5;241m.\u001b[39mDataFrame()\n\u001b[1;32m---> 11\u001b[0m     temp_df \u001b[38;5;241m=\u001b[39m \u001b[43mplaybyplay\u001b[49m\u001b[38;5;241;43m.\u001b[39;49m\u001b[43mPlayByPlay\u001b[49m\u001b[43m(\u001b[49m\u001b[43mgame\u001b[49m\u001b[43m)\u001b[49m\u001b[38;5;241m.\u001b[39mget_data_frames()[\u001b[38;5;241m0\u001b[39m]\n\u001b[0;32m     12\u001b[0m     count \u001b[38;5;241m+\u001b[39m\u001b[38;5;241m=\u001b[39m \u001b[38;5;241m1\u001b[39m\n\u001b[0;32m     13\u001b[0m     \u001b[38;5;28;01mif\u001b[39;00m count \u001b[38;5;241m%\u001b[39m \u001b[38;5;241m100\u001b[39m  \u001b[38;5;241m==\u001b[39m \u001b[38;5;241m0\u001b[39m:\n",
      "File \u001b[1;32m~\\AppData\\Local\\Packages\\PythonSoftwareFoundation.Python.3.10_qbz5n2kfra8p0\\LocalCache\\local-packages\\Python310\\site-packages\\nba_api\\stats\\endpoints\\playbyplay.py:52\u001b[0m, in \u001b[0;36mPlayByPlay.__init__\u001b[1;34m(self, game_id, end_period, start_period, proxy, headers, timeout, get_request)\u001b[0m\n\u001b[0;32m     46\u001b[0m \u001b[38;5;28mself\u001b[39m\u001b[38;5;241m.\u001b[39mparameters \u001b[38;5;241m=\u001b[39m {\n\u001b[0;32m     47\u001b[0m     \u001b[38;5;124m\"\u001b[39m\u001b[38;5;124mGameID\u001b[39m\u001b[38;5;124m\"\u001b[39m: game_id,\n\u001b[0;32m     48\u001b[0m     \u001b[38;5;124m\"\u001b[39m\u001b[38;5;124mEndPeriod\u001b[39m\u001b[38;5;124m\"\u001b[39m: end_period,\n\u001b[0;32m     49\u001b[0m     \u001b[38;5;124m\"\u001b[39m\u001b[38;5;124mStartPeriod\u001b[39m\u001b[38;5;124m\"\u001b[39m: start_period,\n\u001b[0;32m     50\u001b[0m }\n\u001b[0;32m     51\u001b[0m \u001b[38;5;28;01mif\u001b[39;00m get_request:\n\u001b[1;32m---> 52\u001b[0m     \u001b[38;5;28;43mself\u001b[39;49m\u001b[38;5;241;43m.\u001b[39;49m\u001b[43mget_request\u001b[49m\u001b[43m(\u001b[49m\u001b[43m)\u001b[49m\n",
      "File \u001b[1;32m~\\AppData\\Local\\Packages\\PythonSoftwareFoundation.Python.3.10_qbz5n2kfra8p0\\LocalCache\\local-packages\\Python310\\site-packages\\nba_api\\stats\\endpoints\\playbyplay.py:62\u001b[0m, in \u001b[0;36mPlayByPlay.get_request\u001b[1;34m(self)\u001b[0m\n\u001b[0;32m     54\u001b[0m \u001b[38;5;28;01mdef\u001b[39;00m \u001b[38;5;21mget_request\u001b[39m(\u001b[38;5;28mself\u001b[39m):\n\u001b[0;32m     55\u001b[0m     \u001b[38;5;28mself\u001b[39m\u001b[38;5;241m.\u001b[39mnba_response \u001b[38;5;241m=\u001b[39m NBAStatsHTTP()\u001b[38;5;241m.\u001b[39msend_api_request(\n\u001b[0;32m     56\u001b[0m         endpoint\u001b[38;5;241m=\u001b[39m\u001b[38;5;28mself\u001b[39m\u001b[38;5;241m.\u001b[39mendpoint,\n\u001b[0;32m     57\u001b[0m         parameters\u001b[38;5;241m=\u001b[39m\u001b[38;5;28mself\u001b[39m\u001b[38;5;241m.\u001b[39mparameters,\n\u001b[1;32m   (...)\u001b[0m\n\u001b[0;32m     60\u001b[0m         timeout\u001b[38;5;241m=\u001b[39m\u001b[38;5;28mself\u001b[39m\u001b[38;5;241m.\u001b[39mtimeout,\n\u001b[0;32m     61\u001b[0m     )\n\u001b[1;32m---> 62\u001b[0m     \u001b[38;5;28;43mself\u001b[39;49m\u001b[38;5;241;43m.\u001b[39;49m\u001b[43mload_response\u001b[49m\u001b[43m(\u001b[49m\u001b[43m)\u001b[49m\n",
      "File \u001b[1;32m~\\AppData\\Local\\Packages\\PythonSoftwareFoundation.Python.3.10_qbz5n2kfra8p0\\LocalCache\\local-packages\\Python310\\site-packages\\nba_api\\stats\\endpoints\\playbyplay.py:65\u001b[0m, in \u001b[0;36mPlayByPlay.load_response\u001b[1;34m(self)\u001b[0m\n\u001b[0;32m     64\u001b[0m \u001b[38;5;28;01mdef\u001b[39;00m \u001b[38;5;21mload_response\u001b[39m(\u001b[38;5;28mself\u001b[39m):\n\u001b[1;32m---> 65\u001b[0m     data_sets \u001b[38;5;241m=\u001b[39m \u001b[38;5;28;43mself\u001b[39;49m\u001b[38;5;241;43m.\u001b[39;49m\u001b[43mnba_response\u001b[49m\u001b[38;5;241;43m.\u001b[39;49m\u001b[43mget_data_sets\u001b[49m\u001b[43m(\u001b[49m\u001b[43m)\u001b[49m\n\u001b[0;32m     66\u001b[0m     \u001b[38;5;28mself\u001b[39m\u001b[38;5;241m.\u001b[39mdata_sets \u001b[38;5;241m=\u001b[39m [\n\u001b[0;32m     67\u001b[0m         Endpoint\u001b[38;5;241m.\u001b[39mDataSet(data\u001b[38;5;241m=\u001b[39mdata_set)\n\u001b[0;32m     68\u001b[0m         \u001b[38;5;28;01mfor\u001b[39;00m data_set_name, data_set \u001b[38;5;129;01min\u001b[39;00m data_sets\u001b[38;5;241m.\u001b[39mitems()\n\u001b[0;32m     69\u001b[0m     ]\n\u001b[0;32m     70\u001b[0m     \u001b[38;5;28mself\u001b[39m\u001b[38;5;241m.\u001b[39mavailable_video \u001b[38;5;241m=\u001b[39m Endpoint\u001b[38;5;241m.\u001b[39mDataSet(data\u001b[38;5;241m=\u001b[39mdata_sets[\u001b[38;5;124m\"\u001b[39m\u001b[38;5;124mAvailableVideo\u001b[39m\u001b[38;5;124m\"\u001b[39m])\n",
      "File \u001b[1;32m~\\AppData\\Local\\Packages\\PythonSoftwareFoundation.Python.3.10_qbz5n2kfra8p0\\LocalCache\\local-packages\\Python310\\site-packages\\nba_api\\stats\\library\\http.py:122\u001b[0m, in \u001b[0;36mNBAStatsResponse.get_data_sets\u001b[1;34m(self, endpoint)\u001b[0m\n\u001b[0;32m    121\u001b[0m \u001b[38;5;28;01mdef\u001b[39;00m \u001b[38;5;21mget_data_sets\u001b[39m(\u001b[38;5;28mself\u001b[39m, endpoint\u001b[38;5;241m=\u001b[39m\u001b[38;5;28;01mNone\u001b[39;00m):\n\u001b[1;32m--> 122\u001b[0m     raw_dict \u001b[38;5;241m=\u001b[39m \u001b[38;5;28;43mself\u001b[39;49m\u001b[38;5;241;43m.\u001b[39;49m\u001b[43mget_dict\u001b[49m\u001b[43m(\u001b[49m\u001b[43m)\u001b[49m\n\u001b[0;32m    124\u001b[0m     \u001b[38;5;28;01mif\u001b[39;00m endpoint \u001b[38;5;129;01mis\u001b[39;00m \u001b[38;5;28;01mNone\u001b[39;00m:\n\u001b[0;32m    125\u001b[0m         \u001b[38;5;66;03m# Process Tabular Json\u001b[39;00m\n\u001b[0;32m    126\u001b[0m         \u001b[38;5;28;01mif\u001b[39;00m \u001b[38;5;124m\"\u001b[39m\u001b[38;5;124mresultSets\u001b[39m\u001b[38;5;124m\"\u001b[39m \u001b[38;5;129;01min\u001b[39;00m raw_dict:\n",
      "File \u001b[1;32m~\\AppData\\Local\\Packages\\PythonSoftwareFoundation.Python.3.10_qbz5n2kfra8p0\\LocalCache\\local-packages\\Python310\\site-packages\\nba_api\\library\\http.py:42\u001b[0m, in \u001b[0;36mNBAResponse.get_dict\u001b[1;34m(self)\u001b[0m\n\u001b[0;32m     41\u001b[0m \u001b[38;5;28;01mdef\u001b[39;00m \u001b[38;5;21mget_dict\u001b[39m(\u001b[38;5;28mself\u001b[39m):\n\u001b[1;32m---> 42\u001b[0m     \u001b[38;5;28;01mreturn\u001b[39;00m \u001b[43mjson\u001b[49m\u001b[38;5;241;43m.\u001b[39;49m\u001b[43mloads\u001b[49m\u001b[43m(\u001b[49m\u001b[38;5;28;43mself\u001b[39;49m\u001b[38;5;241;43m.\u001b[39;49m\u001b[43m_response\u001b[49m\u001b[43m)\u001b[49m\n",
      "File \u001b[1;32mC:\\Program Files\\WindowsApps\\PythonSoftwareFoundation.Python.3.10_3.10.3056.0_x64__qbz5n2kfra8p0\\lib\\json\\__init__.py:346\u001b[0m, in \u001b[0;36mloads\u001b[1;34m(s, cls, object_hook, parse_float, parse_int, parse_constant, object_pairs_hook, **kw)\u001b[0m\n\u001b[0;32m    341\u001b[0m     s \u001b[38;5;241m=\u001b[39m s\u001b[38;5;241m.\u001b[39mdecode(detect_encoding(s), \u001b[38;5;124m'\u001b[39m\u001b[38;5;124msurrogatepass\u001b[39m\u001b[38;5;124m'\u001b[39m)\n\u001b[0;32m    343\u001b[0m \u001b[38;5;28;01mif\u001b[39;00m (\u001b[38;5;28mcls\u001b[39m \u001b[38;5;129;01mis\u001b[39;00m \u001b[38;5;28;01mNone\u001b[39;00m \u001b[38;5;129;01mand\u001b[39;00m object_hook \u001b[38;5;129;01mis\u001b[39;00m \u001b[38;5;28;01mNone\u001b[39;00m \u001b[38;5;129;01mand\u001b[39;00m\n\u001b[0;32m    344\u001b[0m         parse_int \u001b[38;5;129;01mis\u001b[39;00m \u001b[38;5;28;01mNone\u001b[39;00m \u001b[38;5;129;01mand\u001b[39;00m parse_float \u001b[38;5;129;01mis\u001b[39;00m \u001b[38;5;28;01mNone\u001b[39;00m \u001b[38;5;129;01mand\u001b[39;00m\n\u001b[0;32m    345\u001b[0m         parse_constant \u001b[38;5;129;01mis\u001b[39;00m \u001b[38;5;28;01mNone\u001b[39;00m \u001b[38;5;129;01mand\u001b[39;00m object_pairs_hook \u001b[38;5;129;01mis\u001b[39;00m \u001b[38;5;28;01mNone\u001b[39;00m \u001b[38;5;129;01mand\u001b[39;00m \u001b[38;5;129;01mnot\u001b[39;00m kw):\n\u001b[1;32m--> 346\u001b[0m     \u001b[38;5;28;01mreturn\u001b[39;00m \u001b[43m_default_decoder\u001b[49m\u001b[38;5;241;43m.\u001b[39;49m\u001b[43mdecode\u001b[49m\u001b[43m(\u001b[49m\u001b[43ms\u001b[49m\u001b[43m)\u001b[49m\n\u001b[0;32m    347\u001b[0m \u001b[38;5;28;01mif\u001b[39;00m \u001b[38;5;28mcls\u001b[39m \u001b[38;5;129;01mis\u001b[39;00m \u001b[38;5;28;01mNone\u001b[39;00m:\n\u001b[0;32m    348\u001b[0m     \u001b[38;5;28mcls\u001b[39m \u001b[38;5;241m=\u001b[39m JSONDecoder\n",
      "File \u001b[1;32mC:\\Program Files\\WindowsApps\\PythonSoftwareFoundation.Python.3.10_3.10.3056.0_x64__qbz5n2kfra8p0\\lib\\json\\decoder.py:337\u001b[0m, in \u001b[0;36mJSONDecoder.decode\u001b[1;34m(self, s, _w)\u001b[0m\n\u001b[0;32m    332\u001b[0m \u001b[38;5;28;01mdef\u001b[39;00m \u001b[38;5;21mdecode\u001b[39m(\u001b[38;5;28mself\u001b[39m, s, _w\u001b[38;5;241m=\u001b[39mWHITESPACE\u001b[38;5;241m.\u001b[39mmatch):\n\u001b[0;32m    333\u001b[0m     \u001b[38;5;124;03m\"\"\"Return the Python representation of ``s`` (a ``str`` instance\u001b[39;00m\n\u001b[0;32m    334\u001b[0m \u001b[38;5;124;03m    containing a JSON document).\u001b[39;00m\n\u001b[0;32m    335\u001b[0m \n\u001b[0;32m    336\u001b[0m \u001b[38;5;124;03m    \"\"\"\u001b[39;00m\n\u001b[1;32m--> 337\u001b[0m     obj, end \u001b[38;5;241m=\u001b[39m \u001b[38;5;28;43mself\u001b[39;49m\u001b[38;5;241;43m.\u001b[39;49m\u001b[43mraw_decode\u001b[49m\u001b[43m(\u001b[49m\u001b[43ms\u001b[49m\u001b[43m,\u001b[49m\u001b[43m \u001b[49m\u001b[43midx\u001b[49m\u001b[38;5;241;43m=\u001b[39;49m\u001b[43m_w\u001b[49m\u001b[43m(\u001b[49m\u001b[43ms\u001b[49m\u001b[43m,\u001b[49m\u001b[43m \u001b[49m\u001b[38;5;241;43m0\u001b[39;49m\u001b[43m)\u001b[49m\u001b[38;5;241;43m.\u001b[39;49m\u001b[43mend\u001b[49m\u001b[43m(\u001b[49m\u001b[43m)\u001b[49m\u001b[43m)\u001b[49m\n\u001b[0;32m    338\u001b[0m     end \u001b[38;5;241m=\u001b[39m _w(s, end)\u001b[38;5;241m.\u001b[39mend()\n\u001b[0;32m    339\u001b[0m     \u001b[38;5;28;01mif\u001b[39;00m end \u001b[38;5;241m!=\u001b[39m \u001b[38;5;28mlen\u001b[39m(s):\n",
      "File \u001b[1;32mC:\\Program Files\\WindowsApps\\PythonSoftwareFoundation.Python.3.10_3.10.3056.0_x64__qbz5n2kfra8p0\\lib\\json\\decoder.py:355\u001b[0m, in \u001b[0;36mJSONDecoder.raw_decode\u001b[1;34m(self, s, idx)\u001b[0m\n\u001b[0;32m    353\u001b[0m     obj, end \u001b[38;5;241m=\u001b[39m \u001b[38;5;28mself\u001b[39m\u001b[38;5;241m.\u001b[39mscan_once(s, idx)\n\u001b[0;32m    354\u001b[0m \u001b[38;5;28;01mexcept\u001b[39;00m \u001b[38;5;167;01mStopIteration\u001b[39;00m \u001b[38;5;28;01mas\u001b[39;00m err:\n\u001b[1;32m--> 355\u001b[0m     \u001b[38;5;28;01mraise\u001b[39;00m JSONDecodeError(\u001b[38;5;124m\"\u001b[39m\u001b[38;5;124mExpecting value\u001b[39m\u001b[38;5;124m\"\u001b[39m, s, err\u001b[38;5;241m.\u001b[39mvalue) \u001b[38;5;28;01mfrom\u001b[39;00m \u001b[38;5;28mNone\u001b[39m\n\u001b[0;32m    356\u001b[0m \u001b[38;5;28;01mreturn\u001b[39;00m obj, end\n",
      "\u001b[1;31mJSONDecodeError\u001b[0m: Expecting value: line 1 column 1 (char 0)"
     ]
    }
   ],
   "source": [
    "game_season_dict = game_by_game_df[['SEASON','GAME_ID']].set_index('GAME_ID').to_dict()['SEASON']\n",
    "game_season_dict\n",
    "# games = sorted(list(set(game_by_game_df['GAME_ID'])))\n",
    "main_df = []\n",
    "num_so_far = 12552\n",
    "shuffle = 1500\n",
    "count = 0\n",
    "pbp_df = pd.read_csv('pbp_df.csv', converters={'GAME_ID':str})\n",
    "for game in list(set(game_by_game_df['GAME_ID']) - set(pbp_df['GAME_ID'])):\n",
    "    df = pd.DataFrame()\n",
    "    temp_df = playbyplay.PlayByPlay(game).get_data_frames()[0]\n",
    "    count += 1\n",
    "    if count % 100  == 0:\n",
    "        print(count)\n",
    "    temp_df = temp_df[(temp_df['SCOREMARGIN'].notnull())]\n",
    "    temp_df['SCOREMARGIN'] = temp_df['SCOREMARGIN'].replace(\"TIE\",\"0\").apply(lambda x: int(x))\n",
    "    main_df.append(temp_df)\n",
    "\n",
    "\n",
    "# First 12552"
   ]
  },
  {
   "cell_type": "code",
   "execution_count": 42,
   "metadata": {},
   "outputs": [
    {
     "data": {
      "text/plain": [
       "0          0021300001\n",
       "1          0021300001\n",
       "2          0021300001\n",
       "3          0021300001\n",
       "4          0021300001\n",
       "              ...    \n",
       "1739710    0022301194\n",
       "1739711    0022301194\n",
       "1739712    0022301194\n",
       "1739713    0022301194\n",
       "1739714    0022301194\n",
       "Name: GAME_ID, Length: 1739715, dtype: object"
      ]
     },
     "execution_count": 42,
     "metadata": {},
     "output_type": "execute_result"
    }
   ],
   "source": [
    "pbp_df = pd.read_csv('pbp_df.csv', converters={'GAME_ID':str})"
   ]
  },
  {
   "cell_type": "code",
   "execution_count": 84,
   "metadata": {},
   "outputs": [],
   "source": [
    "# First runthrough\n",
    "#pbp_df = pd.concat(main_df)\n",
    "pbp_df = pd.read_csv('pbp_df.csv', converters={'GAME_ID':str})\n",
    "pbp_df = pd.concat([pbp_df,pd.concat(main_df)])#[['Season','Blown Leads']].groupby('Season').agg({'Blown Leads':['sum','count']})\n",
    "pbp_df.to_csv('pbp_df.csv', index=False)"
   ]
  },
  {
   "cell_type": "code",
   "execution_count": 67,
   "metadata": {},
   "outputs": [],
   "source": [
    "pbp_df = pbp_df.drop_duplicates()\n",
    "pbp_df.to_csv('pbp_df.csv', index=False)"
   ]
  },
  {
   "cell_type": "code",
   "execution_count": 85,
   "metadata": {},
   "outputs": [
    {
     "data": {
      "text/plain": [
       "14142"
      ]
     },
     "execution_count": 85,
     "metadata": {},
     "output_type": "execute_result"
    }
   ],
   "source": [
    "len(set(pbp_df['GAME_ID']))"
   ]
  },
  {
   "cell_type": "markdown",
   "metadata": {},
   "source": [
    "### Analyze"
   ]
  },
  {
   "cell_type": "code",
   "execution_count": 54,
   "metadata": {},
   "outputs": [],
   "source": [
    "pbp_df = pd.read_csv('pbp_df.csv', converters={'GAME_ID':str})"
   ]
  },
  {
   "cell_type": "markdown",
   "metadata": {},
   "source": [
    "#### Lead Volatility"
   ]
  },
  {
   "cell_type": "code",
   "execution_count": 79,
   "metadata": {},
   "outputs": [],
   "source": [
    "big_lead = 10\n",
    "small_deficit = 0\n",
    "#pbp_df = pbp_df.sort_values(by=['GAME_ID','EVENTNUM']).reset_index(drop=True)\n",
    "pbp_filtered = pbp_df.loc[(np.abs(pbp_df.SCOREMARGIN) <= small_deficit) |\n",
    "                      (np.abs(pbp_df.SCOREMARGIN) >= big_lead)].copy()\n",
    "\n",
    "pbp_filtered['new_game'] = pbp_filtered['GAME_ID'] != pbp_filtered.shift(1)['GAME_ID']\n",
    "\n",
    "pbp_filtered['state'] = pbp_filtered.apply(lambda x: 'bl' if np.abs(x.SCOREMARGIN) >= big_lead else \\\n",
    "                                           ('ng' if x.new_game else \\\n",
    "                           ('sl' if np.abs(x.SCOREMARGIN) <= small_deficit else None)),axis=1)"
   ]
  },
  {
   "cell_type": "code",
   "execution_count": 80,
   "metadata": {},
   "outputs": [],
   "source": [
    "blown_leads_df = pbp_filtered[['SCOREMARGIN','state','GAME_ID','new_game']].dropna().reset_index(drop=True)\n",
    "blown_leads_df['check'] = blown_leads_df['state'] + blown_leads_df.shift(1)['state'] "
   ]
  },
  {
   "cell_type": "code",
   "execution_count": 81,
   "metadata": {},
   "outputs": [],
   "source": [
    "blown_leads_df['Season'] = blown_leads_df['GAME_ID'].apply(lambda x: '20' + str(x[3:5]) + '-' + str(int(x[3:5])+1))\n",
    "blown_leads_df['Season Type'] = blown_leads_df['GAME_ID'].apply(lambda x: 'Regular Season' if x[2] == '2' else 'Playoffs')\n",
    "all_leads_df = blown_leads_df[blown_leads_df['check'].isin(['blbl','blsl'])]\n",
    "blown_leads_df = blown_leads_df[blown_leads_df['check']=='slbl']\n",
    "blown_leads_agg = blown_leads_df[['Season','Season Type','GAME_ID']].groupby(['Season','Season Type']).count()\n",
    "all_leads_agg = all_leads_df[['Season','Season Type','GAME_ID']].drop_duplicates().groupby(['Season','Season Type']).count()"
   ]
  },
  {
   "cell_type": "code",
   "execution_count": 82,
   "metadata": {},
   "outputs": [
    {
     "data": {
      "text/plain": [
       "<AxesSubplot: xlabel='Season', ylabel='Blown Lead Pct'>"
      ]
     },
     "execution_count": 82,
     "metadata": {},
     "output_type": "execute_result"
    },
    {
     "data": {
      "image/png": "[encoded data removed]",
      "text/plain": [
       "<Figure size 432x288 with 1 Axes>"
      ]
     },
     "metadata": {
      "needs_background": "light"
     },
     "output_type": "display_data"
    }
   ],
   "source": [
    "lead_comb_df = all_leads_agg.merge(blown_leads_agg,on=['Season','Season Type'])\n",
    "lead_comb_df = lead_comb_df.rename(columns={'GAME_ID_x':f'# {big_lead} Pt Leads',\n",
    "                                            'GAME_ID_y':f'# {big_lead} Pt Blown Leads'})\n",
    "lead_comb_df['Blown Lead Pct'] = round(100*lead_comb_df[f'# {big_lead} Pt Blown Leads'] / lead_comb_df[f'# {big_lead} Pt Leads'],2)\n",
    "lead_comb_df\n",
    "sns.lineplot(lead_comb_df,x='Season',y='Blown Lead Pct',hue='Season Type')"
   ]
  },
  {
   "cell_type": "markdown",
   "metadata": {},
   "source": [
    "#### End of Games"
   ]
  },
  {
   "cell_type": "code",
   "execution_count": 87,
   "metadata": {},
   "outputs": [
    {
     "data": {
      "text/plain": [
       "GAME_ID\n",
       "0021300001      9 - 17\n",
       "0021300002    95 - 107\n",
       "0021300003    99 - 114\n",
       "0021300004     94 - 98\n",
       "0021300005     98 - 95\n",
       "                ...   \n",
       "0052300121     99 - 99\n",
       "0052300131    94 - 118\n",
       "0052300201    91 - 112\n",
       "0052300211    98 - 105\n",
       "0062300001    99 - 115\n",
       "Name: SCORE, Length: 14142, dtype: object"
      ]
     },
     "execution_count": 87,
     "metadata": {},
     "output_type": "execute_result"
    }
   ],
   "source": [
    "pbp_df.groupby('GAME_ID')['SCORE'].max()"
   ]
  },
  {
   "cell_type": "code",
   "execution_count": 88,
   "metadata": {},
   "outputs": [
    {
     "data": {
      "text/html": [
       "<div>\n",
       "<style scoped>\n",
       "    .dataframe tbody tr th:only-of-type {\n",
       "        vertical-align: middle;\n",
       "    }\n",
       "\n",
       "    .dataframe tbody tr th {\n",
       "        vertical-align: top;\n",
       "    }\n",
       "\n",
       "    .dataframe thead th {\n",
       "        text-align: right;\n",
       "    }\n",
       "</style>\n",
       "<table border=\"1\" class=\"dataframe\">\n",
       "  <thead>\n",
       "    <tr style=\"text-align: right;\">\n",
       "      <th></th>\n",
       "      <th>SEASON_ID</th>\n",
       "      <th>TEAM_ABBREVIATION</th>\n",
       "      <th>GAME_ID</th>\n",
       "      <th>GAME_DATE</th>\n",
       "      <th>MATCHUP</th>\n",
       "      <th>PTS</th>\n",
       "      <th>FGM</th>\n",
       "      <th>FGA</th>\n",
       "      <th>FG_PCT</th>\n",
       "      <th>FG3M</th>\n",
       "      <th>...</th>\n",
       "      <th>Opponent FTA</th>\n",
       "      <th>Opponent FT_PCT</th>\n",
       "      <th>Opponent OREB</th>\n",
       "      <th>Opponent DREB</th>\n",
       "      <th>Opponent AST</th>\n",
       "      <th>Opponent STL</th>\n",
       "      <th>Opponent BLK</th>\n",
       "      <th>Opponent TOV</th>\n",
       "      <th>Opponent PF</th>\n",
       "      <th>Opponent Win</th>\n",
       "    </tr>\n",
       "  </thead>\n",
       "  <tbody>\n",
       "    <tr>\n",
       "      <th>30294</th>\n",
       "      <td>62023</td>\n",
       "      <td>LAL</td>\n",
       "      <td>0062300001</td>\n",
       "      <td>2023-12-09</td>\n",
       "      <td>LAL vs. IND</td>\n",
       "      <td>123</td>\n",
       "      <td>47</td>\n",
       "      <td>88</td>\n",
       "      <td>0.534</td>\n",
       "      <td>2</td>\n",
       "      <td>...</td>\n",
       "      <td>33</td>\n",
       "      <td>0.879</td>\n",
       "      <td>9</td>\n",
       "      <td>23</td>\n",
       "      <td>27</td>\n",
       "      <td>10</td>\n",
       "      <td>7</td>\n",
       "      <td>9</td>\n",
       "      <td>33</td>\n",
       "      <td>0</td>\n",
       "    </tr>\n",
       "    <tr>\n",
       "      <th>30295</th>\n",
       "      <td>62023</td>\n",
       "      <td>IND</td>\n",
       "      <td>0062300001</td>\n",
       "      <td>2023-12-09</td>\n",
       "      <td>IND @ LAL</td>\n",
       "      <td>109</td>\n",
       "      <td>35</td>\n",
       "      <td>95</td>\n",
       "      <td>0.368</td>\n",
       "      <td>10</td>\n",
       "      <td>...</td>\n",
       "      <td>35</td>\n",
       "      <td>0.771</td>\n",
       "      <td>12</td>\n",
       "      <td>43</td>\n",
       "      <td>25</td>\n",
       "      <td>5</td>\n",
       "      <td>10</td>\n",
       "      <td>18</td>\n",
       "      <td>25</td>\n",
       "      <td>1</td>\n",
       "    </tr>\n",
       "  </tbody>\n",
       "</table>\n",
       "<p>2 rows × 46 columns</p>\n",
       "</div>"
      ],
      "text/plain": [
       "       SEASON_ID TEAM_ABBREVIATION     GAME_ID   GAME_DATE      MATCHUP  PTS  \\\n",
       "30294      62023               LAL  0062300001  2023-12-09  LAL vs. IND  123   \n",
       "30295      62023               IND  0062300001  2023-12-09    IND @ LAL  109   \n",
       "\n",
       "       FGM  FGA  FG_PCT  FG3M  ...  Opponent FTA  Opponent FT_PCT  \\\n",
       "30294   47   88   0.534     2  ...            33            0.879   \n",
       "30295   35   95   0.368    10  ...            35            0.771   \n",
       "\n",
       "       Opponent OREB  Opponent DREB  Opponent AST  Opponent STL  Opponent BLK  \\\n",
       "30294              9             23            27            10             7   \n",
       "30295             12             43            25             5            10   \n",
       "\n",
       "       Opponent TOV  Opponent PF  Opponent Win  \n",
       "30294             9           33             0  \n",
       "30295            18           25             1  \n",
       "\n",
       "[2 rows x 46 columns]"
      ]
     },
     "execution_count": 88,
     "metadata": {},
     "output_type": "execute_result"
    }
   ],
   "source": [
    "game_by_game_df[game_by_game_df['GAME_ID']=='0062300001']"
   ]
  },
  {
   "cell_type": "markdown",
   "metadata": {},
   "source": [
    "## Data Visualization Ideas"
   ]
  },
  {
   "cell_type": "code",
   "execution_count": null,
   "metadata": {
    "id": "KphewOZRN_fR"
   },
   "outputs": [],
   "source": [
    "image_df = pd.read_csv(\"NBAIMAGES.csv\")\n",
    "image_df[\"Team\"] = image_df['Team'].apply(lambda x: full_name_dict[x])\n",
    "#image_df"
   ]
  },
  {
   "cell_type": "code",
   "execution_count": null,
   "metadata": {
    "colab": {
     "base_uri": "https://localhost:8080/",
     "height": 983
    },
    "executionInfo": {
     "elapsed": 5498,
     "status": "ok",
     "timestamp": 1690931800812,
     "user": {
      "displayName": "Yash -Nakadi",
      "userId": "07877057732487521410"
     },
     "user_tz": 240
    },
    "id": "TLDa3LjXO7iC",
    "outputId": "2b912b68-3433-49a6-ef4e-68eddbdcd959"
   },
   "outputs": [
    {
     "data": {
      "application/vnd.plotly.v1+json": {
       "config": {
        "plotlyServerURL": "https://plot.ly"
       },
       "data": [],
       "layout": {
        "legend": {
         "tracegroupgap": 0
        },
        "margin": {
         "t": 60
        },
        "template": {
         "data": {
          "bar": [
           {
            "error_x": {
             "color": "#2a3f5f"
            },
            "error_y": {
             "color": "#2a3f5f"
            },
            "marker": {
             "line": {
              "color": "#E5ECF6",
              "width": 0.5
             },
             "pattern": {
              "fillmode": "overlay",
              "size": 10,
              "solidity": 0.2
             }
            },
            "type": "bar"
           }
          ],
          "barpolar": [
           {
            "marker": {
             "line": {
              "color": "#E5ECF6",
              "width": 0.5
             },
             "pattern": {
              "fillmode": "overlay",
              "size": 10,
              "solidity": 0.2
             }
            },
            "type": "barpolar"
           }
          ],
          "carpet": [
           {
            "aaxis": {
             "endlinecolor": "#2a3f5f",
             "gridcolor": "white",
             "linecolor": "white",
             "minorgridcolor": "white",
             "startlinecolor": "#2a3f5f"
            },
            "baxis": {
             "endlinecolor": "#2a3f5f",
             "gridcolor": "white",
             "linecolor": "white",
             "minorgridcolor": "white",
             "startlinecolor": "#2a3f5f"
            },
            "type": "carpet"
           }
          ],
          "choropleth": [
           {
            "colorbar": {
             "outlinewidth": 0,
             "ticks": ""
            },
            "type": "choropleth"
           }
          ],
          "contour": [
           {
            "colorbar": {
             "outlinewidth": 0,
             "ticks": ""
            },
            "colorscale": [
             [
              0,
              "#0d0887"
             ],
             [
              0.1111111111111111,
              "#46039f"
             ],
             [
              0.2222222222222222,
              "#7201a8"
             ],
             [
              0.3333333333333333,
              "#9c179e"
             ],
             [
              0.4444444444444444,
              "#bd3786"
             ],
             [
              0.5555555555555556,
              "#d8576b"
             ],
             [
              0.6666666666666666,
              "#ed7953"
             ],
             [
              0.7777777777777778,
              "#fb9f3a"
             ],
             [
              0.8888888888888888,
              "#fdca26"
             ],
             [
              1,
              "#f0f921"
             ]
            ],
            "type": "contour"
           }
          ],
          "contourcarpet": [
           {
            "colorbar": {
             "outlinewidth": 0,
             "ticks": ""
            },
            "type": "contourcarpet"
           }
          ],
          "heatmap": [
           {
            "colorbar": {
             "outlinewidth": 0,
             "ticks": ""
            },
            "colorscale": [
             [
              0,
              "#0d0887"
             ],
             [
              0.1111111111111111,
              "#46039f"
             ],
             [
              0.2222222222222222,
              "#7201a8"
             ],
             [
              0.3333333333333333,
              "#9c179e"
             ],
             [
              0.4444444444444444,
              "#bd3786"
             ],
             [
              0.5555555555555556,
              "#d8576b"
             ],
             [
              0.6666666666666666,
              "#ed7953"
             ],
             [
              0.7777777777777778,
              "#fb9f3a"
             ],
             [
              0.8888888888888888,
              "#fdca26"
             ],
             [
              1,
              "#f0f921"
             ]
            ],
            "type": "heatmap"
           }
          ],
          "heatmapgl": [
           {
            "colorbar": {
             "outlinewidth": 0,
             "ticks": ""
            },
            "colorscale": [
             [
              0,
              "#0d0887"
             ],
             [
              0.1111111111111111,
              "#46039f"
             ],
             [
              0.2222222222222222,
              "#7201a8"
             ],
             [
              0.3333333333333333,
              "#9c179e"
             ],
             [
              0.4444444444444444,
              "#bd3786"
             ],
             [
              0.5555555555555556,
              "#d8576b"
             ],
             [
              0.6666666666666666,
              "#ed7953"
             ],
             [
              0.7777777777777778,
              "#fb9f3a"
             ],
             [
              0.8888888888888888,
              "#fdca26"
             ],
             [
              1,
              "#f0f921"
             ]
            ],
            "type": "heatmapgl"
           }
          ],
          "histogram": [
           {
            "marker": {
             "pattern": {
              "fillmode": "overlay",
              "size": 10,
              "solidity": 0.2
             }
            },
            "type": "histogram"
           }
          ],
          "histogram2d": [
           {
            "colorbar": {
             "outlinewidth": 0,
             "ticks": ""
            },
            "colorscale": [
             [
              0,
              "#0d0887"
             ],
             [
              0.1111111111111111,
              "#46039f"
             ],
             [
              0.2222222222222222,
              "#7201a8"
             ],
             [
              0.3333333333333333,
              "#9c179e"
             ],
             [
              0.4444444444444444,
              "#bd3786"
             ],
             [
              0.5555555555555556,
              "#d8576b"
             ],
             [
              0.6666666666666666,
              "#ed7953"
             ],
             [
              0.7777777777777778,
              "#fb9f3a"
             ],
             [
              0.8888888888888888,
              "#fdca26"
             ],
             [
              1,
              "#f0f921"
             ]
            ],
            "type": "histogram2d"
           }
          ],
          "histogram2dcontour": [
           {
            "colorbar": {
             "outlinewidth": 0,
             "ticks": ""
            },
            "colorscale": [
             [
              0,
              "#0d0887"
             ],
             [
              0.1111111111111111,
              "#46039f"
             ],
             [
              0.2222222222222222,
              "#7201a8"
             ],
             [
              0.3333333333333333,
              "#9c179e"
             ],
             [
              0.4444444444444444,
              "#bd3786"
             ],
             [
              0.5555555555555556,
              "#d8576b"
             ],
             [
              0.6666666666666666,
              "#ed7953"
             ],
             [
              0.7777777777777778,
              "#fb9f3a"
             ],
             [
              0.8888888888888888,
              "#fdca26"
             ],
             [
              1,
              "#f0f921"
             ]
            ],
            "type": "histogram2dcontour"
           }
          ],
          "mesh3d": [
           {
            "colorbar": {
             "outlinewidth": 0,
             "ticks": ""
            },
            "type": "mesh3d"
           }
          ],
          "parcoords": [
           {
            "line": {
             "colorbar": {
              "outlinewidth": 0,
              "ticks": ""
             }
            },
            "type": "parcoords"
           }
          ],
          "pie": [
           {
            "automargin": true,
            "type": "pie"
           }
          ],
          "scatter": [
           {
            "fillpattern": {
             "fillmode": "overlay",
             "size": 10,
             "solidity": 0.2
            },
            "type": "scatter"
           }
          ],
          "scatter3d": [
           {
            "line": {
             "colorbar": {
              "outlinewidth": 0,
              "ticks": ""
             }
            },
            "marker": {
             "colorbar": {
              "outlinewidth": 0,
              "ticks": ""
             }
            },
            "type": "scatter3d"
           }
          ],
          "scattercarpet": [
           {
            "marker": {
             "colorbar": {
              "outlinewidth": 0,
              "ticks": ""
             }
            },
            "type": "scattercarpet"
           }
          ],
          "scattergeo": [
           {
            "marker": {
             "colorbar": {
              "outlinewidth": 0,
              "ticks": ""
             }
            },
            "type": "scattergeo"
           }
          ],
          "scattergl": [
           {
            "marker": {
             "colorbar": {
              "outlinewidth": 0,
              "ticks": ""
             }
            },
            "type": "scattergl"
           }
          ],
          "scattermapbox": [
           {
            "marker": {
             "colorbar": {
              "outlinewidth": 0,
              "ticks": ""
             }
            },
            "type": "scattermapbox"
           }
          ],
          "scatterpolar": [
           {
            "marker": {
             "colorbar": {
              "outlinewidth": 0,
              "ticks": ""
             }
            },
            "type": "scatterpolar"
           }
          ],
          "scatterpolargl": [
           {
            "marker": {
             "colorbar": {
              "outlinewidth": 0,
              "ticks": ""
             }
            },
            "type": "scatterpolargl"
           }
          ],
          "scatterternary": [
           {
            "marker": {
             "colorbar": {
              "outlinewidth": 0,
              "ticks": ""
             }
            },
            "type": "scatterternary"
           }
          ],
          "surface": [
           {
            "colorbar": {
             "outlinewidth": 0,
             "ticks": ""
            },
            "colorscale": [
             [
              0,
              "#0d0887"
             ],
             [
              0.1111111111111111,
              "#46039f"
             ],
             [
              0.2222222222222222,
              "#7201a8"
             ],
             [
              0.3333333333333333,
              "#9c179e"
             ],
             [
              0.4444444444444444,
              "#bd3786"
             ],
             [
              0.5555555555555556,
              "#d8576b"
             ],
             [
              0.6666666666666666,
              "#ed7953"
             ],
             [
              0.7777777777777778,
              "#fb9f3a"
             ],
             [
              0.8888888888888888,
              "#fdca26"
             ],
             [
              1,
              "#f0f921"
             ]
            ],
            "type": "surface"
           }
          ],
          "table": [
           {
            "cells": {
             "fill": {
              "color": "#EBF0F8"
             },
             "line": {
              "color": "white"
             }
            },
            "header": {
             "fill": {
              "color": "#C8D4E3"
             },
             "line": {
              "color": "white"
             }
            },
            "type": "table"
           }
          ]
         },
         "layout": {
          "annotationdefaults": {
           "arrowcolor": "#2a3f5f",
           "arrowhead": 0,
           "arrowwidth": 1
          },
          "autotypenumbers": "strict",
          "coloraxis": {
           "colorbar": {
            "outlinewidth": 0,
            "ticks": ""
           }
          },
          "colorscale": {
           "diverging": [
            [
             0,
             "#8e0152"
            ],
            [
             0.1,
             "#c51b7d"
            ],
            [
             0.2,
             "#de77ae"
            ],
            [
             0.3,
             "#f1b6da"
            ],
            [
             0.4,
             "#fde0ef"
            ],
            [
             0.5,
             "#f7f7f7"
            ],
            [
             0.6,
             "#e6f5d0"
            ],
            [
             0.7,
             "#b8e186"
            ],
            [
             0.8,
             "#7fbc41"
            ],
            [
             0.9,
             "#4d9221"
            ],
            [
             1,
             "#276419"
            ]
           ],
           "sequential": [
            [
             0,
             "#0d0887"
            ],
            [
             0.1111111111111111,
             "#46039f"
            ],
            [
             0.2222222222222222,
             "#7201a8"
            ],
            [
             0.3333333333333333,
             "#9c179e"
            ],
            [
             0.4444444444444444,
             "#bd3786"
            ],
            [
             0.5555555555555556,
             "#d8576b"
            ],
            [
             0.6666666666666666,
             "#ed7953"
            ],
            [
             0.7777777777777778,
             "#fb9f3a"
            ],
            [
             0.8888888888888888,
             "#fdca26"
            ],
            [
             1,
             "#f0f921"
            ]
           ],
           "sequentialminus": [
            [
             0,
             "#0d0887"
            ],
            [
             0.1111111111111111,
             "#46039f"
            ],
            [
             0.2222222222222222,
             "#7201a8"
            ],
            [
             0.3333333333333333,
             "#9c179e"
            ],
            [
             0.4444444444444444,
             "#bd3786"
            ],
            [
             0.5555555555555556,
             "#d8576b"
            ],
            [
             0.6666666666666666,
             "#ed7953"
            ],
            [
             0.7777777777777778,
             "#fb9f3a"
            ],
            [
             0.8888888888888888,
             "#fdca26"
            ],
            [
             1,
             "#f0f921"
            ]
           ]
          },
          "colorway": [
           "#636efa",
           "#EF553B",
           "#00cc96",
           "#ab63fa",
           "#FFA15A",
           "#19d3f3",
           "#FF6692",
           "#B6E880",
           "#FF97FF",
           "#FECB52"
          ],
          "font": {
           "color": "#2a3f5f"
          },
          "geo": {
           "bgcolor": "white",
           "lakecolor": "white",
           "landcolor": "#E5ECF6",
           "showlakes": true,
           "showland": true,
           "subunitcolor": "white"
          },
          "hoverlabel": {
           "align": "left"
          },
          "hovermode": "closest",
          "mapbox": {
           "style": "light"
          },
          "paper_bgcolor": "white",
          "plot_bgcolor": "#E5ECF6",
          "polar": {
           "angularaxis": {
            "gridcolor": "white",
            "linecolor": "white",
            "ticks": ""
           },
           "bgcolor": "#E5ECF6",
           "radialaxis": {
            "gridcolor": "white",
            "linecolor": "white",
            "ticks": ""
           }
          },
          "scene": {
           "xaxis": {
            "backgroundcolor": "#E5ECF6",
            "gridcolor": "white",
            "gridwidth": 2,
            "linecolor": "white",
            "showbackground": true,
            "ticks": "",
            "zerolinecolor": "white"
           },
           "yaxis": {
            "backgroundcolor": "#E5ECF6",
            "gridcolor": "white",
            "gridwidth": 2,
            "linecolor": "white",
            "showbackground": true,
            "ticks": "",
            "zerolinecolor": "white"
           },
           "zaxis": {
            "backgroundcolor": "#E5ECF6",
            "gridcolor": "white",
            "gridwidth": 2,
            "linecolor": "white",
            "showbackground": true,
            "ticks": "",
            "zerolinecolor": "white"
           }
          },
          "shapedefaults": {
           "line": {
            "color": "#2a3f5f"
           }
          },
          "ternary": {
           "aaxis": {
            "gridcolor": "white",
            "linecolor": "white",
            "ticks": ""
           },
           "baxis": {
            "gridcolor": "white",
            "linecolor": "white",
            "ticks": ""
           },
           "bgcolor": "#E5ECF6",
           "caxis": {
            "gridcolor": "white",
            "linecolor": "white",
            "ticks": ""
           }
          },
          "title": {
           "x": 0.05
          },
          "xaxis": {
           "automargin": true,
           "gridcolor": "white",
           "linecolor": "white",
           "ticks": "",
           "title": {
            "standoff": 15
           },
           "zerolinecolor": "white",
           "zerolinewidth": 2
          },
          "yaxis": {
           "automargin": true,
           "gridcolor": "white",
           "linecolor": "white",
           "ticks": "",
           "title": {
            "standoff": 15
           },
           "zerolinecolor": "white",
           "zerolinewidth": 2
          }
         }
        },
        "xaxis": {
         "anchor": "y",
         "domain": [
          0,
          1
         ],
         "title": {
          "text": "Wins"
         }
        },
        "yaxis": {
         "anchor": "x",
         "domain": [
          0,
          1
         ],
         "title": {
          "text": "Plus_Minus"
         }
        }
       }
      },
      "text/html": [
       "<div>                            <div id=\"2f1c6251-00b0-4cbe-9429-21a26de5634a\" class=\"plotly-graph-div\" style=\"height:525px; width:100%;\"></div>            <script type=\"text/javascript\">                require([\"plotly\"], function(Plotly) {                    window.PLOTLYENV=window.PLOTLYENV || {};                                    if (document.getElementById(\"2f1c6251-00b0-4cbe-9429-21a26de5634a\")) {                    Plotly.newPlot(                        \"2f1c6251-00b0-4cbe-9429-21a26de5634a\",                        [],                        {\"template\":{\"data\":{\"histogram2dcontour\":[{\"type\":\"histogram2dcontour\",\"colorbar\":{\"outlinewidth\":0,\"ticks\":\"\"},\"colorscale\":[[0.0,\"#0d0887\"],[0.1111111111111111,\"#46039f\"],[0.2222222222222222,\"#7201a8\"],[0.3333333333333333,\"#9c179e\"],[0.4444444444444444,\"#bd3786\"],[0.5555555555555556,\"#d8576b\"],[0.6666666666666666,\"#ed7953\"],[0.7777777777777778,\"#fb9f3a\"],[0.8888888888888888,\"#fdca26\"],[1.0,\"#f0f921\"]]}],\"choropleth\":[{\"type\":\"choropleth\",\"colorbar\":{\"outlinewidth\":0,\"ticks\":\"\"}}],\"histogram2d\":[{\"type\":\"histogram2d\",\"colorbar\":{\"outlinewidth\":0,\"ticks\":\"\"},\"colorscale\":[[0.0,\"#0d0887\"],[0.1111111111111111,\"#46039f\"],[0.2222222222222222,\"#7201a8\"],[0.3333333333333333,\"#9c179e\"],[0.4444444444444444,\"#bd3786\"],[0.5555555555555556,\"#d8576b\"],[0.6666666666666666,\"#ed7953\"],[0.7777777777777778,\"#fb9f3a\"],[0.8888888888888888,\"#fdca26\"],[1.0,\"#f0f921\"]]}],\"heatmap\":[{\"type\":\"heatmap\",\"colorbar\":{\"outlinewidth\":0,\"ticks\":\"\"},\"colorscale\":[[0.0,\"#0d0887\"],[0.1111111111111111,\"#46039f\"],[0.2222222222222222,\"#7201a8\"],[0.3333333333333333,\"#9c179e\"],[0.4444444444444444,\"#bd3786\"],[0.5555555555555556,\"#d8576b\"],[0.6666666666666666,\"#ed7953\"],[0.7777777777777778,\"#fb9f3a\"],[0.8888888888888888,\"#fdca26\"],[1.0,\"#f0f921\"]]}],\"heatmapgl\":[{\"type\":\"heatmapgl\",\"colorbar\":{\"outlinewidth\":0,\"ticks\":\"\"},\"colorscale\":[[0.0,\"#0d0887\"],[0.1111111111111111,\"#46039f\"],[0.2222222222222222,\"#7201a8\"],[0.3333333333333333,\"#9c179e\"],[0.4444444444444444,\"#bd3786\"],[0.5555555555555556,\"#d8576b\"],[0.6666666666666666,\"#ed7953\"],[0.7777777777777778,\"#fb9f3a\"],[0.8888888888888888,\"#fdca26\"],[1.0,\"#f0f921\"]]}],\"contourcarpet\":[{\"type\":\"contourcarpet\",\"colorbar\":{\"outlinewidth\":0,\"ticks\":\"\"}}],\"contour\":[{\"type\":\"contour\",\"colorbar\":{\"outlinewidth\":0,\"ticks\":\"\"},\"colorscale\":[[0.0,\"#0d0887\"],[0.1111111111111111,\"#46039f\"],[0.2222222222222222,\"#7201a8\"],[0.3333333333333333,\"#9c179e\"],[0.4444444444444444,\"#bd3786\"],[0.5555555555555556,\"#d8576b\"],[0.6666666666666666,\"#ed7953\"],[0.7777777777777778,\"#fb9f3a\"],[0.8888888888888888,\"#fdca26\"],[1.0,\"#f0f921\"]]}],\"surface\":[{\"type\":\"surface\",\"colorbar\":{\"outlinewidth\":0,\"ticks\":\"\"},\"colorscale\":[[0.0,\"#0d0887\"],[0.1111111111111111,\"#46039f\"],[0.2222222222222222,\"#7201a8\"],[0.3333333333333333,\"#9c179e\"],[0.4444444444444444,\"#bd3786\"],[0.5555555555555556,\"#d8576b\"],[0.6666666666666666,\"#ed7953\"],[0.7777777777777778,\"#fb9f3a\"],[0.8888888888888888,\"#fdca26\"],[1.0,\"#f0f921\"]]}],\"mesh3d\":[{\"type\":\"mesh3d\",\"colorbar\":{\"outlinewidth\":0,\"ticks\":\"\"}}],\"scatter\":[{\"fillpattern\":{\"fillmode\":\"overlay\",\"size\":10,\"solidity\":0.2},\"type\":\"scatter\"}],\"parcoords\":[{\"type\":\"parcoords\",\"line\":{\"colorbar\":{\"outlinewidth\":0,\"ticks\":\"\"}}}],\"scatterpolargl\":[{\"type\":\"scatterpolargl\",\"marker\":{\"colorbar\":{\"outlinewidth\":0,\"ticks\":\"\"}}}],\"bar\":[{\"error_x\":{\"color\":\"#2a3f5f\"},\"error_y\":{\"color\":\"#2a3f5f\"},\"marker\":{\"line\":{\"color\":\"#E5ECF6\",\"width\":0.5},\"pattern\":{\"fillmode\":\"overlay\",\"size\":10,\"solidity\":0.2}},\"type\":\"bar\"}],\"scattergeo\":[{\"type\":\"scattergeo\",\"marker\":{\"colorbar\":{\"outlinewidth\":0,\"ticks\":\"\"}}}],\"scatterpolar\":[{\"type\":\"scatterpolar\",\"marker\":{\"colorbar\":{\"outlinewidth\":0,\"ticks\":\"\"}}}],\"histogram\":[{\"marker\":{\"pattern\":{\"fillmode\":\"overlay\",\"size\":10,\"solidity\":0.2}},\"type\":\"histogram\"}],\"scattergl\":[{\"type\":\"scattergl\",\"marker\":{\"colorbar\":{\"outlinewidth\":0,\"ticks\":\"\"}}}],\"scatter3d\":[{\"type\":\"scatter3d\",\"line\":{\"colorbar\":{\"outlinewidth\":0,\"ticks\":\"\"}},\"marker\":{\"colorbar\":{\"outlinewidth\":0,\"ticks\":\"\"}}}],\"scattermapbox\":[{\"type\":\"scattermapbox\",\"marker\":{\"colorbar\":{\"outlinewidth\":0,\"ticks\":\"\"}}}],\"scatterternary\":[{\"type\":\"scatterternary\",\"marker\":{\"colorbar\":{\"outlinewidth\":0,\"ticks\":\"\"}}}],\"scattercarpet\":[{\"type\":\"scattercarpet\",\"marker\":{\"colorbar\":{\"outlinewidth\":0,\"ticks\":\"\"}}}],\"carpet\":[{\"aaxis\":{\"endlinecolor\":\"#2a3f5f\",\"gridcolor\":\"white\",\"linecolor\":\"white\",\"minorgridcolor\":\"white\",\"startlinecolor\":\"#2a3f5f\"},\"baxis\":{\"endlinecolor\":\"#2a3f5f\",\"gridcolor\":\"white\",\"linecolor\":\"white\",\"minorgridcolor\":\"white\",\"startlinecolor\":\"#2a3f5f\"},\"type\":\"carpet\"}],\"table\":[{\"cells\":{\"fill\":{\"color\":\"#EBF0F8\"},\"line\":{\"color\":\"white\"}},\"header\":{\"fill\":{\"color\":\"#C8D4E3\"},\"line\":{\"color\":\"white\"}},\"type\":\"table\"}],\"barpolar\":[{\"marker\":{\"line\":{\"color\":\"#E5ECF6\",\"width\":0.5},\"pattern\":{\"fillmode\":\"overlay\",\"size\":10,\"solidity\":0.2}},\"type\":\"barpolar\"}],\"pie\":[{\"automargin\":true,\"type\":\"pie\"}]},\"layout\":{\"autotypenumbers\":\"strict\",\"colorway\":[\"#636efa\",\"#EF553B\",\"#00cc96\",\"#ab63fa\",\"#FFA15A\",\"#19d3f3\",\"#FF6692\",\"#B6E880\",\"#FF97FF\",\"#FECB52\"],\"font\":{\"color\":\"#2a3f5f\"},\"hovermode\":\"closest\",\"hoverlabel\":{\"align\":\"left\"},\"paper_bgcolor\":\"white\",\"plot_bgcolor\":\"#E5ECF6\",\"polar\":{\"bgcolor\":\"#E5ECF6\",\"angularaxis\":{\"gridcolor\":\"white\",\"linecolor\":\"white\",\"ticks\":\"\"},\"radialaxis\":{\"gridcolor\":\"white\",\"linecolor\":\"white\",\"ticks\":\"\"}},\"ternary\":{\"bgcolor\":\"#E5ECF6\",\"aaxis\":{\"gridcolor\":\"white\",\"linecolor\":\"white\",\"ticks\":\"\"},\"baxis\":{\"gridcolor\":\"white\",\"linecolor\":\"white\",\"ticks\":\"\"},\"caxis\":{\"gridcolor\":\"white\",\"linecolor\":\"white\",\"ticks\":\"\"}},\"coloraxis\":{\"colorbar\":{\"outlinewidth\":0,\"ticks\":\"\"}},\"colorscale\":{\"sequential\":[[0.0,\"#0d0887\"],[0.1111111111111111,\"#46039f\"],[0.2222222222222222,\"#7201a8\"],[0.3333333333333333,\"#9c179e\"],[0.4444444444444444,\"#bd3786\"],[0.5555555555555556,\"#d8576b\"],[0.6666666666666666,\"#ed7953\"],[0.7777777777777778,\"#fb9f3a\"],[0.8888888888888888,\"#fdca26\"],[1.0,\"#f0f921\"]],\"sequentialminus\":[[0.0,\"#0d0887\"],[0.1111111111111111,\"#46039f\"],[0.2222222222222222,\"#7201a8\"],[0.3333333333333333,\"#9c179e\"],[0.4444444444444444,\"#bd3786\"],[0.5555555555555556,\"#d8576b\"],[0.6666666666666666,\"#ed7953\"],[0.7777777777777778,\"#fb9f3a\"],[0.8888888888888888,\"#fdca26\"],[1.0,\"#f0f921\"]],\"diverging\":[[0,\"#8e0152\"],[0.1,\"#c51b7d\"],[0.2,\"#de77ae\"],[0.3,\"#f1b6da\"],[0.4,\"#fde0ef\"],[0.5,\"#f7f7f7\"],[0.6,\"#e6f5d0\"],[0.7,\"#b8e186\"],[0.8,\"#7fbc41\"],[0.9,\"#4d9221\"],[1,\"#276419\"]]},\"xaxis\":{\"gridcolor\":\"white\",\"linecolor\":\"white\",\"ticks\":\"\",\"title\":{\"standoff\":15},\"zerolinecolor\":\"white\",\"automargin\":true,\"zerolinewidth\":2},\"yaxis\":{\"gridcolor\":\"white\",\"linecolor\":\"white\",\"ticks\":\"\",\"title\":{\"standoff\":15},\"zerolinecolor\":\"white\",\"automargin\":true,\"zerolinewidth\":2},\"scene\":{\"xaxis\":{\"backgroundcolor\":\"#E5ECF6\",\"gridcolor\":\"white\",\"linecolor\":\"white\",\"showbackground\":true,\"ticks\":\"\",\"zerolinecolor\":\"white\",\"gridwidth\":2},\"yaxis\":{\"backgroundcolor\":\"#E5ECF6\",\"gridcolor\":\"white\",\"linecolor\":\"white\",\"showbackground\":true,\"ticks\":\"\",\"zerolinecolor\":\"white\",\"gridwidth\":2},\"zaxis\":{\"backgroundcolor\":\"#E5ECF6\",\"gridcolor\":\"white\",\"linecolor\":\"white\",\"showbackground\":true,\"ticks\":\"\",\"zerolinecolor\":\"white\",\"gridwidth\":2}},\"shapedefaults\":{\"line\":{\"color\":\"#2a3f5f\"}},\"annotationdefaults\":{\"arrowcolor\":\"#2a3f5f\",\"arrowhead\":0,\"arrowwidth\":1},\"geo\":{\"bgcolor\":\"white\",\"landcolor\":\"#E5ECF6\",\"subunitcolor\":\"white\",\"showland\":true,\"showlakes\":true,\"lakecolor\":\"white\"},\"title\":{\"x\":0.05},\"mapbox\":{\"style\":\"light\"}}},\"xaxis\":{\"anchor\":\"y\",\"domain\":[0.0,1.0],\"title\":{\"text\":\"Wins\"}},\"yaxis\":{\"anchor\":\"x\",\"domain\":[0.0,1.0],\"title\":{\"text\":\"Plus_Minus\"}},\"legend\":{\"tracegroupgap\":0},\"margin\":{\"t\":60}},                        {\"responsive\": true}                    ).then(function(){\n",
       "                            \n",
       "var gd = document.getElementById('2f1c6251-00b0-4cbe-9429-21a26de5634a');\n",
       "var x = new MutationObserver(function (mutations, observer) {{\n",
       "        var display = window.getComputedStyle(gd).display;\n",
       "        if (!display || display === 'none') {{\n",
       "            console.log([gd, 'removed!']);\n",
       "            Plotly.purge(gd);\n",
       "            observer.disconnect();\n",
       "        }}\n",
       "}});\n",
       "\n",
       "// Listen for the removal of the full notebook cells\n",
       "var notebookContainer = gd.closest('#notebook-container');\n",
       "if (notebookContainer) {{\n",
       "    x.observe(notebookContainer, {childList: true});\n",
       "}}\n",
       "\n",
       "// Listen for the clearing of the current output cell\n",
       "var outputEl = gd.closest('.output');\n",
       "if (outputEl) {{\n",
       "    x.observe(outputEl, {childList: true});\n",
       "}}\n",
       "\n",
       "                        })                };                });            </script>        </div>"
      ]
     },
     "metadata": {},
     "output_type": "display_data"
    },
    {
     "data": {
      "image/png": "[encoded data removed]",
      "text/plain": [
       "<Figure size 1728x662.4 with 1 Axes>"
      ]
     },
     "metadata": {
      "needs_background": "light"
     },
     "output_type": "display_data"
    }
   ],
   "source": [
    "scale = 0.8\n",
    "x_shift = -.7 * scale\n",
    "y_shift = -.8 * scale\n",
    "image_shift = 500.0\n",
    "zoom_shift = 0.06 * scale\n",
    "length = 30.00 * scale\n",
    "width = 11.50 * scale\n",
    "\n",
    "plt.rcParams[\"figure.figsize\"] = [length, width]\n",
    "plt.rcParams[\"figure.autolayout\"] = True\n",
    "\n",
    "def getImage(path,alpha):\n",
    "    img = io.imread(path)\n",
    "    img = resize(img, (img.shape[0] * image_shift / img.shape[0],img.shape[1] *  image_shift / img.shape[1], 4),\n",
    "                       anti_aliasing=True)\n",
    "    return OffsetImage(img, zoom=zoom_shift,alpha=alpha)\n",
    "\n",
    "\n",
    "graph2_df = graph_df.merge(image_df,  on= \"Team\").sample(frac=0.1)\n",
    "x = [i for i in list(graph2_df['Wins'])]\n",
    "y = [i for i in list(graph2_df['Plus_Minus'])]\n",
    "z = [i for i in list(graph2_df[\"SEASON\"])]\n",
    "paths = list(graph2_df['Image Link'])\n",
    "\n",
    "# Create Graph and Put Images in Place\n",
    "\n",
    "fig, ax = plt.subplots()\n",
    "for x0, y0, z0, path in zip(x, y, z, paths):\n",
    "    alpha_val = 0.9\n",
    "    ab = AnnotationBbox(getImage(path,alpha_val), (x0, y0), frameon=False)\n",
    "    ax.annotate(z0, xy=(x0+x_shift,y0+y_shift))\n",
    "    ax.add_artist(ab)\n",
    "\n",
    "# X and Y Ticks on graph\n",
    "plt.xticks(np.arange(0, 70, step=5))\n",
    "plt.yticks(np.arange(-15, 15, step=0.5))\n",
    "plt.xlim([15, 70])\n",
    "plt.ylim([-13, 11])\n",
    "fig = px.scatter(graph2_df, x = 'Wins', y = 'Plus_Minus', color = 'TEAM_ABBREVIATION', hover_name = \"Team\", text=\"SEASON\")\n",
    "fig.show()\n",
    "# plt.show()"
   ]
  },
  {
   "cell_type": "markdown",
   "metadata": {},
   "source": [
    "## Draft Stuff"
   ]
  },
  {
   "cell_type": "code",
   "execution_count": 2,
   "metadata": {},
   "outputs": [],
   "source": [
    "draft_dict = drafthistory.DraftHistory().get_dict()['resultSets'][0]\n",
    "draft_df_cols = draft_dict['headers']\n",
    "draft_df_cols\n",
    "draft_df = pd.DataFrame(draft_dict['rowSet'],columns=draft_df_cols)"
   ]
  },
  {
   "cell_type": "code",
   "execution_count": 3,
   "metadata": {},
   "outputs": [],
   "source": [
    "draft_df['SEASON'] = draft_df['SEASON'].astype(int)\n",
    "draft_df = draft_df[draft_df['SEASON'] >= 2000]\n",
    "# draft_df = draft_df.drop(columns=['DRAFT_TYPE'],axis=1)"
   ]
  },
  {
   "cell_type": "code",
   "execution_count": 4,
   "metadata": {},
   "outputs": [
    {
     "data": {
      "text/html": [
       "<div>\n",
       "<style scoped>\n",
       "    .dataframe tbody tr th:only-of-type {\n",
       "        vertical-align: middle;\n",
       "    }\n",
       "\n",
       "    .dataframe tbody tr th {\n",
       "        vertical-align: top;\n",
       "    }\n",
       "\n",
       "    .dataframe thead th {\n",
       "        text-align: right;\n",
       "    }\n",
       "</style>\n",
       "<table border=\"1\" class=\"dataframe\">\n",
       "  <thead>\n",
       "    <tr style=\"text-align: right;\">\n",
       "      <th></th>\n",
       "      <th></th>\n",
       "      <th>PERSON_ID</th>\n",
       "    </tr>\n",
       "    <tr>\n",
       "      <th>SEASON</th>\n",
       "      <th>ORGANIZATION_TYPE</th>\n",
       "      <th></th>\n",
       "    </tr>\n",
       "  </thead>\n",
       "  <tbody>\n",
       "    <tr>\n",
       "      <th rowspan=\"2\" valign=\"top\">2000</th>\n",
       "      <th>College/University</th>\n",
       "      <td>9</td>\n",
       "    </tr>\n",
       "    <tr>\n",
       "      <th>High School</th>\n",
       "      <td>1</td>\n",
       "    </tr>\n",
       "    <tr>\n",
       "      <th rowspan=\"3\" valign=\"top\">2001</th>\n",
       "      <th>College/University</th>\n",
       "      <td>5</td>\n",
       "    </tr>\n",
       "    <tr>\n",
       "      <th>High School</th>\n",
       "      <td>4</td>\n",
       "    </tr>\n",
       "    <tr>\n",
       "      <th>Other Team/Club</th>\n",
       "      <td>1</td>\n",
       "    </tr>\n",
       "    <tr>\n",
       "      <th rowspan=\"3\" valign=\"top\">2002</th>\n",
       "      <th>College/University</th>\n",
       "      <td>6</td>\n",
       "    </tr>\n",
       "    <tr>\n",
       "      <th>High School</th>\n",
       "      <td>1</td>\n",
       "    </tr>\n",
       "    <tr>\n",
       "      <th>Other Team/Club</th>\n",
       "      <td>3</td>\n",
       "    </tr>\n",
       "    <tr>\n",
       "      <th rowspan=\"3\" valign=\"top\">2003</th>\n",
       "      <th>College/University</th>\n",
       "      <td>8</td>\n",
       "    </tr>\n",
       "    <tr>\n",
       "      <th>High School</th>\n",
       "      <td>1</td>\n",
       "    </tr>\n",
       "    <tr>\n",
       "      <th>Other Team/Club</th>\n",
       "      <td>1</td>\n",
       "    </tr>\n",
       "    <tr>\n",
       "      <th rowspan=\"2\" valign=\"top\">2004</th>\n",
       "      <th>College/University</th>\n",
       "      <td>8</td>\n",
       "    </tr>\n",
       "    <tr>\n",
       "      <th>High School</th>\n",
       "      <td>2</td>\n",
       "    </tr>\n",
       "    <tr>\n",
       "      <th rowspan=\"2\" valign=\"top\">2005</th>\n",
       "      <th>College/University</th>\n",
       "      <td>8</td>\n",
       "    </tr>\n",
       "    <tr>\n",
       "      <th>High School</th>\n",
       "      <td>2</td>\n",
       "    </tr>\n",
       "    <tr>\n",
       "      <th rowspan=\"2\" valign=\"top\">2006</th>\n",
       "      <th>College/University</th>\n",
       "      <td>8</td>\n",
       "    </tr>\n",
       "    <tr>\n",
       "      <th>Other Team/Club</th>\n",
       "      <td>2</td>\n",
       "    </tr>\n",
       "    <tr>\n",
       "      <th rowspan=\"2\" valign=\"top\">2007</th>\n",
       "      <th>College/University</th>\n",
       "      <td>9</td>\n",
       "    </tr>\n",
       "    <tr>\n",
       "      <th>Other Team/Club</th>\n",
       "      <td>1</td>\n",
       "    </tr>\n",
       "    <tr>\n",
       "      <th rowspan=\"2\" valign=\"top\">2008</th>\n",
       "      <th>College/University</th>\n",
       "      <td>9</td>\n",
       "    </tr>\n",
       "    <tr>\n",
       "      <th>Other Team/Club</th>\n",
       "      <td>1</td>\n",
       "    </tr>\n",
       "    <tr>\n",
       "      <th rowspan=\"2\" valign=\"top\">2009</th>\n",
       "      <th>College/University</th>\n",
       "      <td>8</td>\n",
       "    </tr>\n",
       "    <tr>\n",
       "      <th>Other Team/Club</th>\n",
       "      <td>2</td>\n",
       "    </tr>\n",
       "    <tr>\n",
       "      <th>2010</th>\n",
       "      <th>College/University</th>\n",
       "      <td>10</td>\n",
       "    </tr>\n",
       "    <tr>\n",
       "      <th rowspan=\"2\" valign=\"top\">2011</th>\n",
       "      <th>College/University</th>\n",
       "      <td>7</td>\n",
       "    </tr>\n",
       "    <tr>\n",
       "      <th>Other Team/Club</th>\n",
       "      <td>3</td>\n",
       "    </tr>\n",
       "    <tr>\n",
       "      <th>2012</th>\n",
       "      <th>College/University</th>\n",
       "      <td>10</td>\n",
       "    </tr>\n",
       "    <tr>\n",
       "      <th>2013</th>\n",
       "      <th>College/University</th>\n",
       "      <td>10</td>\n",
       "    </tr>\n",
       "    <tr>\n",
       "      <th rowspan=\"2\" valign=\"top\">2014</th>\n",
       "      <th>College/University</th>\n",
       "      <td>9</td>\n",
       "    </tr>\n",
       "    <tr>\n",
       "      <th>Other Team/Club</th>\n",
       "      <td>1</td>\n",
       "    </tr>\n",
       "    <tr>\n",
       "      <th rowspan=\"2\" valign=\"top\">2015</th>\n",
       "      <th>College/University</th>\n",
       "      <td>7</td>\n",
       "    </tr>\n",
       "    <tr>\n",
       "      <th>Other Team/Club</th>\n",
       "      <td>3</td>\n",
       "    </tr>\n",
       "    <tr>\n",
       "      <th rowspan=\"3\" valign=\"top\">2016</th>\n",
       "      <th></th>\n",
       "      <td>1</td>\n",
       "    </tr>\n",
       "    <tr>\n",
       "      <th>College/University</th>\n",
       "      <td>8</td>\n",
       "    </tr>\n",
       "    <tr>\n",
       "      <th>Other Team/Club</th>\n",
       "      <td>1</td>\n",
       "    </tr>\n",
       "    <tr>\n",
       "      <th rowspan=\"2\" valign=\"top\">2017</th>\n",
       "      <th>College/University</th>\n",
       "      <td>9</td>\n",
       "    </tr>\n",
       "    <tr>\n",
       "      <th>Other Team/Club</th>\n",
       "      <td>1</td>\n",
       "    </tr>\n",
       "    <tr>\n",
       "      <th rowspan=\"2\" valign=\"top\">2018</th>\n",
       "      <th>College/University</th>\n",
       "      <td>9</td>\n",
       "    </tr>\n",
       "    <tr>\n",
       "      <th>Other Team/Club</th>\n",
       "      <td>1</td>\n",
       "    </tr>\n",
       "    <tr>\n",
       "      <th>2019</th>\n",
       "      <th>College/University</th>\n",
       "      <td>10</td>\n",
       "    </tr>\n",
       "    <tr>\n",
       "      <th rowspan=\"2\" valign=\"top\">2020</th>\n",
       "      <th>College/University</th>\n",
       "      <td>7</td>\n",
       "    </tr>\n",
       "    <tr>\n",
       "      <th>Other Team/Club</th>\n",
       "      <td>3</td>\n",
       "    </tr>\n",
       "    <tr>\n",
       "      <th rowspan=\"2\" valign=\"top\">2021</th>\n",
       "      <th>College/University</th>\n",
       "      <td>7</td>\n",
       "    </tr>\n",
       "    <tr>\n",
       "      <th>Other Team/Club</th>\n",
       "      <td>3</td>\n",
       "    </tr>\n",
       "    <tr>\n",
       "      <th rowspan=\"2\" valign=\"top\">2022</th>\n",
       "      <th>College/University</th>\n",
       "      <td>9</td>\n",
       "    </tr>\n",
       "    <tr>\n",
       "      <th>Other Team/Club</th>\n",
       "      <td>1</td>\n",
       "    </tr>\n",
       "    <tr>\n",
       "      <th rowspan=\"2\" valign=\"top\">2023</th>\n",
       "      <th>College/University</th>\n",
       "      <td>5</td>\n",
       "    </tr>\n",
       "    <tr>\n",
       "      <th>Other Team/Club</th>\n",
       "      <td>5</td>\n",
       "    </tr>\n",
       "    <tr>\n",
       "      <th rowspan=\"2\" valign=\"top\">2024</th>\n",
       "      <th>College/University</th>\n",
       "      <td>6</td>\n",
       "    </tr>\n",
       "    <tr>\n",
       "      <th>Other Team/Club</th>\n",
       "      <td>4</td>\n",
       "    </tr>\n",
       "  </tbody>\n",
       "</table>\n",
       "</div>"
      ],
      "text/plain": [
       "                           PERSON_ID\n",
       "SEASON ORGANIZATION_TYPE            \n",
       "2000   College/University          9\n",
       "       High School                 1\n",
       "2001   College/University          5\n",
       "       High School                 4\n",
       "       Other Team/Club             1\n",
       "2002   College/University          6\n",
       "       High School                 1\n",
       "       Other Team/Club             3\n",
       "2003   College/University          8\n",
       "       High School                 1\n",
       "       Other Team/Club             1\n",
       "2004   College/University          8\n",
       "       High School                 2\n",
       "2005   College/University          8\n",
       "       High School                 2\n",
       "2006   College/University          8\n",
       "       Other Team/Club             2\n",
       "2007   College/University          9\n",
       "       Other Team/Club             1\n",
       "2008   College/University          9\n",
       "       Other Team/Club             1\n",
       "2009   College/University          8\n",
       "       Other Team/Club             2\n",
       "2010   College/University         10\n",
       "2011   College/University          7\n",
       "       Other Team/Club             3\n",
       "2012   College/University         10\n",
       "2013   College/University         10\n",
       "2014   College/University          9\n",
       "       Other Team/Club             1\n",
       "2015   College/University          7\n",
       "       Other Team/Club             3\n",
       "2016                               1\n",
       "       College/University          8\n",
       "       Other Team/Club             1\n",
       "2017   College/University          9\n",
       "       Other Team/Club             1\n",
       "2018   College/University          9\n",
       "       Other Team/Club             1\n",
       "2019   College/University         10\n",
       "2020   College/University          7\n",
       "       Other Team/Club             3\n",
       "2021   College/University          7\n",
       "       Other Team/Club             3\n",
       "2022   College/University          9\n",
       "       Other Team/Club             1\n",
       "2023   College/University          5\n",
       "       Other Team/Club             5\n",
       "2024   College/University          6\n",
       "       Other Team/Club             4"
      ]
     },
     "execution_count": 4,
     "metadata": {},
     "output_type": "execute_result"
    }
   ],
   "source": [
    "draft_df[draft_df['OVERALL_PICK'] <= 10][['SEASON','ORGANIZATION_TYPE','PERSON_ID']].groupby(['SEASON','ORGANIZATION_TYPE']).count()"
   ]
  },
  {
   "cell_type": "code",
   "execution_count": 161,
   "metadata": {},
   "outputs": [
    {
     "name": "stdout",
     "output_type": "stream",
     "text": [
      "2013\n",
      "<Response [429]>\n",
      "['None']\n",
      "1\n"
     ]
    },
    {
     "ename": "KeyboardInterrupt",
     "evalue": "",
     "output_type": "error",
     "traceback": [
      "\u001b[1;31m---------------------------------------------------------------------------\u001b[0m",
      "\u001b[1;31mKeyboardInterrupt\u001b[0m                         Traceback (most recent call last)",
      "Input \u001b[1;32mIn [161]\u001b[0m, in \u001b[0;36m<module>\u001b[1;34m\u001b[0m\n\u001b[0;32m      2\u001b[0m \u001b[38;5;28;01mimport\u001b[39;00m \u001b[38;5;21;01mtime\u001b[39;00m\n\u001b[0;32m      3\u001b[0m \u001b[38;5;28;01mfor\u001b[39;00m i \u001b[38;5;129;01min\u001b[39;00m \u001b[38;5;28mrange\u001b[39m(\u001b[38;5;241m2013\u001b[39m,\u001b[38;5;241m2015\u001b[39m):\n\u001b[1;32m----> 4\u001b[0m     \u001b[43mtime\u001b[49m\u001b[38;5;241;43m.\u001b[39;49m\u001b[43msleep\u001b[49m\u001b[43m(\u001b[49m\u001b[38;5;241;43m10\u001b[39;49m\u001b[43m)\u001b[49m\n\u001b[0;32m      5\u001b[0m     \u001b[38;5;28mprint\u001b[39m(i)\n\u001b[0;32m      6\u001b[0m     url \u001b[38;5;241m=\u001b[39m \u001b[38;5;124mf\u001b[39m\u001b[38;5;124m\"\u001b[39m\u001b[38;5;124mhttps://www.basketball-reference.com/leagues/NBA_\u001b[39m\u001b[38;5;132;01m{\u001b[39;00mi\u001b[38;5;132;01m}\u001b[39;00m\u001b[38;5;124m_transactions.html\u001b[39m\u001b[38;5;124m\"\u001b[39m\n",
      "\u001b[1;31mKeyboardInterrupt\u001b[0m: "
     ]
    }
   ],
   "source": [
    "all_trades = []\n",
    "import time\n",
    "for i in range(2013,2015):\n",
    "    print(i)\n",
    "    url = f\"https://www.basketball-reference.com/leagues/NBA_{i}_transactions.html\"\n",
    "    html = requests.get(url, allow_redirects=False,timeout=5)\n",
    "    print(html)\n",
    "    soup = BeautifulSoup(html.content, \"lxml\")\n",
    "    x = str(soup.find(name='ul',attrs={'class':'page_index'})).split('</p>')\n",
    "    print(x)\n",
    "    trades = [re.sub(r'\\<.*?\\>', '', i) for i in x if 'traded' in i]\n",
    "    all_trades.append(trades)\n",
    "    print(len(all_trades))\n",
    "# all_trades = [x for xs in all_trades for x in xs]\n"
   ]
  },
  {
   "cell_type": "code",
   "execution_count": 158,
   "metadata": {},
   "outputs": [
    {
     "name": "stdout",
     "output_type": "stream",
     "text": [
      "<Response [200]>\n"
     ]
    }
   ],
   "source": [
    "x = requests.get('https://w3schools.com')\n",
    "\n",
    "print(x)"
   ]
  },
  {
   "cell_type": "code",
   "execution_count": 152,
   "metadata": {},
   "outputs": [
    {
     "data": {
      "text/plain": [
       "[[], [], [], [], [], [], [], [], [], [], [], [], []]"
      ]
     },
     "execution_count": 152,
     "metadata": {},
     "output_type": "execute_result"
    }
   ],
   "source": [
    "all_trades"
   ]
  },
  {
   "cell_type": "code",
   "execution_count": 149,
   "metadata": {},
   "outputs": [
    {
     "ename": "AttributeError",
     "evalue": "'list' object has no attribute 'replace'",
     "output_type": "error",
     "traceback": [
      "\u001b[1;31m---------------------------------------------------------------------------\u001b[0m",
      "\u001b[1;31mAttributeError\u001b[0m                            Traceback (most recent call last)",
      "Input \u001b[1;32mIn [149]\u001b[0m, in \u001b[0;36m<module>\u001b[1;34m\u001b[0m\n\u001b[0;32m     60\u001b[0m \u001b[38;5;28;01mfor\u001b[39;00m transaction \u001b[38;5;129;01min\u001b[39;00m all_trades:\n\u001b[0;32m     61\u001b[0m     x \u001b[38;5;241m=\u001b[39m \u001b[38;5;124m'\u001b[39m\u001b[38;5;124m'\u001b[39m\n\u001b[1;32m---> 62\u001b[0m     transaction \u001b[38;5;241m=\u001b[39m \u001b[43mtransaction\u001b[49m\u001b[38;5;241;43m.\u001b[39;49m\u001b[43mreplace\u001b[49m(\u001b[38;5;124m'\u001b[39m\u001b[38;5;124mJr.\u001b[39m\u001b[38;5;124m'\u001b[39m,\u001b[38;5;124m'\u001b[39m\u001b[38;5;124mJr\u001b[39m\u001b[38;5;124m'\u001b[39m)\u001b[38;5;241m.\u001b[39mreplace(\u001b[38;5;124m'\u001b[39m\u001b[38;5;124mSr.\u001b[39m\u001b[38;5;124m'\u001b[39m,\u001b[38;5;124m'\u001b[39m\u001b[38;5;124mSr\u001b[39m\u001b[38;5;124m'\u001b[39m)\n\u001b[0;32m     63\u001b[0m     transaction \u001b[38;5;241m=\u001b[39m re\u001b[38;5;241m.\u001b[39msub(JJ_pattern, \u001b[38;5;124mr\u001b[39m\u001b[38;5;124m'\u001b[39m\u001b[38;5;124m\\\u001b[39m\u001b[38;5;124m1\u001b[39m\u001b[38;5;124m\\\u001b[39m\u001b[38;5;124m2\u001b[39m\u001b[38;5;124m'\u001b[39m, transaction)\n\u001b[0;32m     65\u001b[0m     current_date \u001b[38;5;241m=\u001b[39m \u001b[38;5;28;01mNone\u001b[39;00m\n",
      "\u001b[1;31mAttributeError\u001b[0m: 'list' object has no attribute 'replace'"
     ]
    }
   ],
   "source": [
    "all_trades_cleaned = []\n",
    "date_pattern = r'(\\w+ \\d{1,2}, \\d{4})'\n",
    "JJ_pattern = r'\\b([A-Z])\\.([A-Z])\\.'\n",
    "\n",
    "def trade_info(trade):\n",
    "    x = trade[trade.find('The '):]\n",
    "    print(x)\n",
    "    team1, seq1 = x.split(\"traded\",maxsplit=1)\n",
    "    team1 = team1[4:]\n",
    "    print(team1)\n",
    "    assets1, seq2 = seq1.split(' to the ')\n",
    "    print(assets1.replace(' a ','').replace(' and',',').strip())\n",
    "    if ' for ' not in x:\n",
    "        extra_info = seq2.split('. ')\n",
    "        print(extra_info[0])\n",
    "        print('Salary Dump/3+ Teams')\n",
    "        if len(extra_info) > 1:\n",
    "            print(extra_info[1].strip())\n",
    "    else:\n",
    "        print(seq2.split(' for ')[0])\n",
    "        extra_info = seq2.split(' for ')[1].split('.')\n",
    "        print(extra_info[0])\n",
    "        if len(extra_info) > 1:\n",
    "            print(extra_info[1].strip())\n",
    "    print('\\n')\n",
    "\n",
    "def transform_trade_string(trade_str):\n",
    "    # Extract individual trade statements\n",
    "    trades = trade_str.split(\"; \")\n",
    "    # Extract team names and assets\n",
    "    team_trades = defaultdict(list)\n",
    "    for trade in trades:\n",
    "        match = re.match(r\"the (.*?) traded (.*?) to the (.*)\", trade)\n",
    "        if match:\n",
    "            from_team = match.group(1).replace('.','')\n",
    "            asset = match.group(2)\n",
    "            to_team = match.group(3).replace('.','')\n",
    "            team_trades[(from_team, to_team)].append(asset)\n",
    "    # Reconstruct the trade statements\n",
    "    result = []\n",
    "    finished_trades = []\n",
    "    for (from_team, to_team), assets in team_trades.items():\n",
    "        if (from_team, to_team) in finished_trades:\n",
    "            continue\n",
    "        else:\n",
    "            if (to_team, from_team) in team_trades:\n",
    "                # If there are reciprocal trades, form \"for\" statements\n",
    "                from_assets = \", \".join(assets)\n",
    "                to_assets = \", \".join(team_trades[(to_team, from_team)])\n",
    "                trade = f\"The {from_team} traded {from_assets} to the {to_team} for {to_assets}\"\n",
    "                finished_trades.append((to_team, from_team))  # Remove reciprocal trade to avoid duplication\n",
    "            else:\n",
    "                from_assets = \", \".join(assets)\n",
    "                trade = f\"The {from_team} traded {from_assets} to the {to_team}\"\n",
    "            result.append(trade)\n",
    "\n",
    "    return \"; \".join(result)\n",
    "\n",
    "\n",
    "for transaction in all_trades:\n",
    "    x = ''\n",
    "    transaction = transaction.replace('Jr.','Jr').replace('Sr.','Sr')\n",
    "    transaction = re.sub(JJ_pattern, r'\\1\\2', transaction)\n",
    "\n",
    "    current_date = None\n",
    "    date = re.search(date_pattern, transaction)\n",
    "    if date is not None:\n",
    "        print(\"Current Date: \")\n",
    "        print(date.group(1))\n",
    "        current_date = date.group(1)\n",
    "\n",
    "    # Two teams\n",
    "    if \"The \" in transaction:\n",
    "        continue\n",
    "        trade_info(transaction)\n",
    "\n",
    "    # 3 or more teams\n",
    "    elif \"In a \" in transaction:\n",
    "        all_info = transaction.split('. ')\n",
    "        extra_info = ''\n",
    "        if len(all_info) > 1:\n",
    "            extra_info = all_info[1]\n",
    "            transaction = all_info[0]\n",
    "        transaction = transaction[transaction.find('In a '):]\n",
    "        print(transaction)\n",
    "        transaction = transaction[19:].replace('; and ',';')\n",
    "        trades = transform_trade_string(transaction).split('; ')\n",
    "        print(trades)\n",
    "        print(extra_info)\n",
    "        for trade in trades:\n",
    "            trade_info(trade)\n",
    "\n",
    "\n",
    "    all_trades_cleaned.append(x)"
   ]
  },
  {
   "cell_type": "code",
   "execution_count": 62,
   "metadata": {},
   "outputs": [
    {
     "name": "stdout",
     "output_type": "stream",
     "text": [
      "The Golden State Warriors traded Dorell Wright to the Philadelphia 76ers.; The New Orleans Hornets traded Jarrett Jack to the Golden State Warriors.; The New Orleans Hornets traded Darryl Watkins to the Philadelphia 76ers.\n"
     ]
    }
   ],
   "source": [
    "\n",
    "# Input string\n",
    "trade_str = 'In a 3-team trade, the Golden State Warriors traded Dorell Wright to the Philadelphia 76ers; the New Orleans Hornets traded Jarrett Jack to the Golden State Warriors; the New Orleans Hornets traded Darryl Watkins to the Philadelphia 76ers; and  the Philadelphia 76ers traded Edin Bavčić to the New Orleans Hornets.'\n",
    "# Transform the trade string\n",
    "trade_str = trade_str[19:].replace('; and ','; ')\n",
    "transformed_trade_str = transform_trade_string(trade_str)\n",
    "print(transformed_trade_str)\n"
   ]
  },
  {
   "cell_type": "code",
   "execution_count": null,
   "metadata": {},
   "outputs": [],
   "source": []
  }
 ],
 "metadata": {
  "colab": {
   "authorship_tag": "ABX9TyNHzQhOd8zesHIW3HnSiEVk",
   "mount_file_id": "1ZVceD72NAxPK5qCghrBuT81uRFYYb1ie",
   "provenance": []
  },
  "kernelspec": {
   "display_name": "Python 3",
   "language": "python",
   "name": "python3"
  },
  "language_info": {
   "codemirror_mode": {
    "name": "ipython",
    "version": 3
   },
   "file_extension": ".py",
   "mimetype": "text/x-python",
   "name": "python",
   "nbconvert_exporter": "python",
   "pygments_lexer": "ipython3",
   "version": "3.11.9"
  }
 },
 "nbformat": 4,
 "nbformat_minor": 1
}
